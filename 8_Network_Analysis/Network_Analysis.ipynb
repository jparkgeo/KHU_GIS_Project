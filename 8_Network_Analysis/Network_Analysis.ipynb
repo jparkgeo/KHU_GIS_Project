{
 "cells": [
  {
   "cell_type": "code",
   "execution_count": null,
   "metadata": {},
   "outputs": [],
   "source": [
    "# !pip install tqdm\n",
    "# conda install -c conda-forge osmnx"
   ]
  },
  {
   "cell_type": "markdown",
   "metadata": {},
   "source": [
    "# Network Analysis\n",
    "\n",
    "Network Analysis refers to a set of analytical techniques used to model and analyze the movement of goods, services, people, or information through a network of interconnected features such as roads, railways, pipelines, or utility lines. It enables users to solve complex spatial problems involving connectivity, accessibility, and optimal routing. <br>\n",
    "\n",
    "Typically, the network consists of nodes (points) and edges (lines) that represent the connections between those points. Nodes can represent intersections, junctions, or any point of interest, while edges represent the paths or routes connecting those nodes. <br>\n",
    "\n",
    "<div style=\"text-align: center\">\n",
    "  <img src=\"https://upload.wikimedia.org/wikipedia/commons/2/2f/Small_Network.png\" width=\"400\">\n",
    "</div>\n",
    "\n",
    "Depends on the context, the network can be represented as various forms, such as graph, multigraph, or directed graph. <br>\n",
    "\n",
    "<div style=\"text-align: center\">\n",
    "  <img src=\"./data/GraphTypes.jpg\" width=\"1000\">\n",
    "</div>\n",
    "\n",
    "* **(Undiredted)Graph**: A graph is a collection of nodes and edges, where each edge connects two nodes. Here, edges does not have directions, meaning the relationship between nodes is bidirectional. This is the most basic form of a network representation and is often used to model simple relationships between entities. <br>\n",
    "* **Multigraph**: A multigraph is a type of graph that allows multiple edges between the same pair of nodes. This can be useful for representing complex relationships, such as different types of connections or interactions between nodes. <br>\n",
    "* **Directed Graph**: A directed graph, or digraph, is a graph where the edges have a direction, indicating a one-way relationship between nodes. This can be useful for representing relationships where the direction matters, such as in transportation networks or information flow. <br>"
   ]
  },
  {
   "cell_type": "markdown",
   "metadata": {},
   "source": [
    "This document uses the following two packages:\n",
    "\n",
    "* <a href=https://networkx.org/documentation/stable/index.html>`NetworkX`</a> is a Python package for the creation, manipulation, and study of the structure, dynamics, and functions of complex networks. <br>\n",
    "* <a href=https://osmnx.readthedocs.io/en/stable/index.html>`OSMnx`</a> is a Python package that allows you to download and analyze street networks and other geospatial data from OpenStreetMap.</a> <br>\n"
   ]
  },
  {
   "cell_type": "code",
   "execution_count": null,
   "metadata": {},
   "outputs": [],
   "source": [
    "# Import necessary libraries\n",
    "import networkx as nx\n",
    "import osmnx as ox\n",
    "\n",
    "import folium\n",
    "import geopandas as gpd\n",
    "import pandas as pd\n",
    "import matplotlib.pyplot as plt"
   ]
  },
  {
   "cell_type": "markdown",
   "metadata": {},
   "source": [
    "## 1. Data Preparation\n",
    "### 1.1. Load administrative boundaries"
   ]
  },
  {
   "cell_type": "code",
   "execution_count": null,
   "metadata": {},
   "outputs": [],
   "source": [
    "# Load administrative boundaries (읍면동) data\n",
    "emd_gdf = gpd.read_file('./data/emd_5179.geojson')\n",
    "emd_gdf"
   ]
  },
  {
   "cell_type": "code",
   "execution_count": null,
   "metadata": {},
   "outputs": [],
   "source": [
    "emd_gdf.explore()"
   ]
  },
  {
   "cell_type": "markdown",
   "metadata": {},
   "source": [
    "### 1.2. Load Road Network\n",
    "\n",
    "For the analysis, we will use a precomputed road network originally obtained from ViewT (https://viewt.ktdb.go.kr/) in the form of shapefiles.<br>\n",
    "To utilize it in NetworkX and OSMnx, the shapefiles must be converted into a graph format. Details of this conversion process will be covered in the final section of this document."
   ]
  },
  {
   "cell_type": "code",
   "execution_count": null,
   "metadata": {},
   "outputs": [],
   "source": [
    "# Load road network data\n",
    "# Original data is downloaded from View-T (https://viewt.ktdb.go.kr/)\n",
    "G = ox.load_graphml('./data/road_network_seoul.graphml')\n",
    "ox.plot_graph(G)"
   ]
  },
  {
   "cell_type": "code",
   "execution_count": null,
   "metadata": {},
   "outputs": [],
   "source": [
    "# You can extract the edges and nodes of the network (graph) into GeoDataFrame with ox.graph_to_gdfs()\n",
    "# It is not necessary for the network analysis, but it is useful for visualization and investigating the structure of the network\n",
    "nodes, edges = ox.graph_to_gdfs(G, nodes=True, edges=True)\n",
    "nodes.head(3)"
   ]
  },
  {
   "cell_type": "code",
   "execution_count": null,
   "metadata": {},
   "outputs": [],
   "source": [
    "edges.head(3)"
   ]
  },
  {
   "cell_type": "markdown",
   "metadata": {},
   "source": [
    "### 1.3. Find the nearest node to given locations\n",
    "\n",
    "Given that the network analysis is only available for the nodes and edges of the road network, we need to find the nearest node to a given location. <br>\n",
    "To do this, we can use the `nearest_nodes` function from OSMnx. This function takes a point (x and y coordinates) and returns the nearest node in the network. <br>\n",
    "\n",
    "Syntax: \n",
    "```python\n",
    "    nearest_node = ox.distance.nearest_nodes(`NETWORK`, `POINT X COORDINATES`, `POINT Y COORDINATES`)\n",
    "```\n",
    "\n",
    "Source: https://osmnx.readthedocs.io/en/stable/user-reference.html#osmnx.distance.nearest_nodes"
   ]
  },
  {
   "cell_type": "code",
   "execution_count": null,
   "metadata": {},
   "outputs": [],
   "source": [
    "# Find the nearest nodes from the centroid of each administrative boundary\n",
    "emd_gdf['nearest_nodes'] = ox.distance.nearest_nodes(G, emd_gdf.geometry.centroid.x, emd_gdf.geometry.centroid.y)\n",
    "emd_gdf"
   ]
  },
  {
   "cell_type": "markdown",
   "metadata": {},
   "source": [
    "## 2. Calculate the shortest path between two points\n",
    "\n",
    "In this section, we will calculate the shortest distance and travel time between two points on the road network. In addition, we will visualize the routes that meet the specified criteria (i.e., shortest distance or minimum travel time).<br>\n",
    "\n",
    "* Shortest distance (Manhattan distance): The shortest distance between two points on a road network, without considering travel speed. <br>\n",
    "* Minimum travel time: The shortest travel time between two points on a road network, considering travel speed. <br>"
   ]
  },
  {
   "cell_type": "markdown",
   "metadata": {},
   "source": [
    "### 2.1. Get the nearest nodes of the given locations"
   ]
  },
  {
   "cell_type": "code",
   "execution_count": null,
   "metadata": {},
   "outputs": [],
   "source": [
    "origin_node = emd_gdf.loc[emd_gdf['ADM_NM'] == '회기동', 'nearest_nodes'].values[0]\n",
    "\n",
    "dest_node = emd_gdf.loc[emd_gdf['ADM_NM'] == '여의동', 'nearest_nodes'].values[0]\n",
    "\n",
    "print(f\"Origin (회기동) Node ID: {origin_node}\")\n",
    "print(f\"Destination (여의동) Node ID: {dest_node}\")"
   ]
  },
  {
   "cell_type": "markdown",
   "metadata": {},
   "source": [
    "### 2.2. Calculate the shortest distance\n",
    "\n",
    "We can use the `shortest_path_length` function from NetworkX to calculate the shortest distance between two nodes in the road network. This function computes the shortest path length using Dijkstra’s algorithm by default.\n",
    "\n",
    "To perform the calculation, we need to specify the attribute that represents the distance for each edge. In this case, we can use the `length` attribute or `travel_time` attribute.\n",
    "\n",
    "Syntax: \n",
    "```python\n",
    "    nx.shortest_path_length(G=`NETWORK`, \n",
    "                            source=`NEAREST NODE OF ORIGIN`, \n",
    "                            target=`NEAREST NODE OF DESTINATION`, \n",
    "                            weight=`ATTRIBUTE NAME TO BE WEIGHTED`)\n",
    "```\n",
    "\n",
    "Source: https://networkx.org/documentation/stable/reference/algorithms/generated/networkx.algorithms.shortest_paths.generic.shortest_path_length.html"
   ]
  },
  {
   "cell_type": "code",
   "execution_count": null,
   "metadata": {},
   "outputs": [],
   "source": [
    "# Calculate the shortest path with length as the weight\n",
    "shortest_length = nx.shortest_path_length(G, origin_node, dest_node, weight='length')\n",
    "shortest_time = nx.shortest_path_length(G, origin_node, dest_node, weight='travel_time')\n",
    "\n",
    "print(f\"Shortest path (length) from {origin_node} to {dest_node}: {shortest_length} Meters\")\n",
    "print(f\"Shortest path (travel_time) from {origin_node} to {dest_node}: {shortest_time} Seconds = {shortest_time/60} Minutes\")"
   ]
  },
  {
   "cell_type": "markdown",
   "metadata": {},
   "source": [
    "### 2.3. Visualize the shortest path\n",
    "\n",
    "We can use the `shortest_path` function from NetworkX to retrieve the actual sequence of nodes that make up the shortest path between two points in the road network.  \n",
    "Like `shortest_path_length`, this function uses Dijkstra’s algorithm by default when a weighted graph is provided.\n",
    "\n",
    "To use this function, we need to specify the graph, the origin and destination nodes, and the edge attribute to be used as the weight (e.g., `length` or `travel_time`).\n",
    "\n",
    "Syntax: \n",
    "```python\n",
    "    nx.shortest_path(G=`NETWORK`,  \n",
    "                    source=`NEAREST NODE OF ORIGIN`,  \n",
    "                    target=`NEAREST NODE OF DESTINATION`,  \n",
    "                    weight=`ATTRIBUTE NAME TO BE WEIGHTED`)\n",
    "```\n",
    "\n",
    "Source: https://networkx.org/documentation/stable/reference/algorithms/generated/networkx.algorithms.shortest_paths.generic.shortest_path_length.html\n"
   ]
  },
  {
   "cell_type": "code",
   "execution_count": null,
   "metadata": {},
   "outputs": [],
   "source": [
    "# returns a list of nodes\n",
    "route_time = nx.shortest_path(G, origin_node, dest_node, weight='travel_time') \n",
    "route_time"
   ]
  },
  {
   "cell_type": "code",
   "execution_count": null,
   "metadata": {},
   "outputs": [],
   "source": [
    "# You can visualize the route using the OSMnx plot function\n",
    "ox.plot_graph_route(G, route_time, route_linewidth=4, node_size=0, bgcolor='white')"
   ]
  },
  {
   "cell_type": "markdown",
   "metadata": {},
   "source": [
    "But it might be better to visualize the route using Matplotlib or Folium. <br>\n",
    "To do this, we need to extract the nodes and edges from the original road network, select the necessary information, and then plot the route with either Matplotlib or Folium.\n"
   ]
  },
  {
   "cell_type": "code",
   "execution_count": null,
   "metadata": {},
   "outputs": [],
   "source": [
    "# Extract the edges and nodes of the network (graph) into GeoDataFrame with ox.graph_to_gdfs()\n",
    "nodes, edges = ox.graph_to_gdfs(G, nodes=True, edges=True)\n",
    "nodes.head(3)"
   ]
  },
  {
   "cell_type": "code",
   "execution_count": null,
   "metadata": {},
   "outputs": [],
   "source": [
    "# Get the edges based on the u and v node IDs in the route\n",
    "route_time = nx.shortest_path(G, origin_node, dest_node, weight='travel_time') # Get the route as a list of nodes\n",
    "od_list_time = [[route_time[i], route_time[i+1]] for i in range(len(route_time)-1)] # Make the nodes as a list of pairs\n",
    "route_time_gdf = edges.loc[[(u, v, 0) for u, v in od_list_time]] # Select the edges based on the u and v node IDs in the route\n",
    "\n",
    "route_time_gdf.head(3)"
   ]
  },
  {
   "cell_type": "code",
   "execution_count": null,
   "metadata": {},
   "outputs": [],
   "source": [
    "route_time"
   ]
  },
  {
   "cell_type": "code",
   "execution_count": null,
   "metadata": {},
   "outputs": [],
   "source": [
    "od_list_time"
   ]
  },
  {
   "cell_type": "code",
   "execution_count": null,
   "metadata": {},
   "outputs": [],
   "source": [
    "edges.loc[[(u, v, 0) for u, v in od_list_time]]"
   ]
  },
  {
   "cell_type": "code",
   "execution_count": null,
   "metadata": {},
   "outputs": [],
   "source": [
    "# Same procesure for the shortest distance\n",
    "route_dist = nx.shortest_path(G, origin_node, dest_node, weight='length') # returns a list of nodes\n",
    "od_list_dist = [[route_dist[i], route_dist[i+1]] for i in range(len(route_dist)-1)] # \n",
    "route_dist_gdf = edges.loc[[(u, v, 0) for u, v in od_list_dist]]"
   ]
  },
  {
   "cell_type": "code",
   "execution_count": null,
   "metadata": {},
   "outputs": [],
   "source": [
    "# Compare the results with Matplotlib\n",
    "fig, ax = plt.subplots(1, 1, figsize=(10, 10))\n",
    "edges.plot(ax=ax, color='lightgrey', linewidth=0.5, zorder=1)\n",
    "\n",
    "nodes.loc[[origin_node]].plot(ax=ax, color='red', markersize=50)\n",
    "nodes.loc[[dest_node]].plot(ax=ax, color='red', markersize=50)\n",
    "\n",
    "route_dist_gdf.plot(ax=ax, color='black', linewidth=2, zorder=2) # Shortest distance\n",
    "route_time_gdf.plot(ax=ax, color='blue', linewidth=2, zorder=2)  # Minimum travel time\n",
    "\n",
    "plt.show()"
   ]
  },
  {
   "cell_type": "code",
   "execution_count": null,
   "metadata": {},
   "outputs": [],
   "source": [
    "# Same information with Folium\n",
    "m = folium.Map(location=[37.551, 126.991], zoom_start=12)\n",
    "\n",
    "route_time_gdf.explore(style_kwds={\"color\": \"blue\", \"weight\": 5}, m=m, name=\"Shortest Path (Travel Time)\")\n",
    "route_dist_gdf.explore(style_kwds={\"color\": \"black\", \"weight\": 5}, m=m, name=\"Shortest Path (Distance)\")\n",
    "\n",
    "# Add layer control to the map\n",
    "folium.LayerControl().add_to(m)\n",
    "\n",
    "m"
   ]
  },
  {
   "cell_type": "markdown",
   "metadata": {},
   "source": [
    "## 3. Calculate the accessible area from a given point\n",
    "\n",
    "Since calculating the shortest path between two points is not scalable, we can use the `single_source_dijkstra_path_length` function from NetworkX to compute the accessible area from a given point all at once. This function computes the shortest path lengths from a source node to all other nodes in the graph using Dijkstra’s algorithm. It returns a dictionary with the target nodes as keys and their corresponding shortest path lengths as values.\n",
    "\n",
    "Syntax: \n",
    "```python\n",
    "    nx.single_source_dijkstra_path(G=`NETWORK`,  \n",
    "                                   source=`NEAREST NODE OF ORIGIN`,  \n",
    "                                   cutoff=`THRESHOLD TIME/DISTANCE`,  \n",
    "                                   weight=`ATTRIBUTE NAME TO BE WEIGHTED`\n",
    "                                   )\n",
    "```\n",
    "\n",
    "Source: https://networkx.org/documentation/stable/reference/algorithms/generated/networkx.algorithms.shortest_paths.weighted.single_source_dijkstra_path_length.html"
   ]
  },
  {
   "cell_type": "markdown",
   "metadata": {},
   "source": [
    "### 3.1. Calculate the accessible node"
   ]
  },
  {
   "cell_type": "code",
   "execution_count": null,
   "metadata": {},
   "outputs": [],
   "source": [
    "# Calculate the accessible nodes within 10 minutes from the origin node (회기동)\n",
    "# The return has the key as the node ID and the value as the travel time\n",
    "access_node_dic = nx.single_source_dijkstra_path_length(G, \n",
    "                                                        origin_node, \n",
    "                                                        cutoff=1800, # 30 * 60 seconds (30 minutes) \n",
    "                                                        weight='travel_time'\n",
    "                                                        )\n",
    "access_node_dic"
   ]
  },
  {
   "cell_type": "code",
   "execution_count": null,
   "metadata": {},
   "outputs": [],
   "source": [
    "# Get the keys of the dictionary from access_node_dic\n",
    "access_node_dic.keys()"
   ]
  },
  {
   "cell_type": "code",
   "execution_count": null,
   "metadata": {},
   "outputs": [],
   "source": [
    "# Check whether the nodes are in the keys of the dictionary\n",
    "nodes.index.isin(list(access_node_dic.keys()))"
   ]
  },
  {
   "cell_type": "code",
   "execution_count": null,
   "metadata": {},
   "outputs": [],
   "source": [
    "# Select the nodes that are within 600 seconds from the source node\n",
    "access_node_gdf = nodes.loc[nodes.index.isin(list(access_node_dic.keys()))]\n",
    "access_node_gdf"
   ]
  },
  {
   "cell_type": "code",
   "execution_count": null,
   "metadata": {},
   "outputs": [],
   "source": [
    "fig, ax = plt.subplots(figsize=(10,10))\n",
    "\n",
    "access_node_gdf.plot(ax=ax, color='#0F52BA', markersize=3, zorder=3, alpha=0.7)  # Nodes within 600 secons from the source node\n",
    "nodes.plot(ax=ax, color='grey', markersize=1, zorder=2)  # All nodes\n",
    "edges.plot(ax=ax, color='lightgrey', linewidth=1, zorder=1)  # All edges\n",
    "\n",
    "emd_gdf.loc[emd_gdf['nearest_nodes'] == origin_node].boundary.plot(ax=ax, color='red', linewidth=5, zorder=3)  # Origin node\n",
    "emd_gdf.boundary.plot(ax=ax, color='black', linewidth=0.5, zorder=1)  # Administrative boundaries\n",
    "\n",
    "xmin, ymin, xmax, ymax = access_node_gdf.unary_union.bounds\n",
    "\n",
    "ax.set_xlim(xmin, xmax)\n",
    "ax.set_ylim(ymin, ymax)\n",
    "\n",
    "ax.get_xaxis().set_visible(False)  # Remove ticks and labels\n",
    "ax.get_yaxis().set_visible(False)  # Remove ticks and labels\n",
    "\n",
    "plt.show()"
   ]
  },
  {
   "cell_type": "markdown",
   "metadata": {},
   "source": [
    "### 3.2. Calculate the accessible area\n",
    "\n",
    "To get the accessible area, you can simply select the administrative boundary that contains the accessible nodes. <br>\n",
    "Again, the return of `single_source_dijkstra_path_length` is a dictionary, so you can use the `keys()` method to get the list of accessible nodes. <br>"
   ]
  },
  {
   "cell_type": "code",
   "execution_count": null,
   "metadata": {},
   "outputs": [],
   "source": [
    "access_emd_gdf = emd_gdf.loc[emd_gdf['nearest_nodes'].isin(list(access_node_dic.keys()))]\n",
    "access_emd_gdf.head(3)"
   ]
  },
  {
   "cell_type": "code",
   "execution_count": null,
   "metadata": {},
   "outputs": [],
   "source": [
    "# Again, the return of `single_source_dijkstra_path_length` is a dictionary.\n",
    "access_node_dic"
   ]
  },
  {
   "cell_type": "code",
   "execution_count": null,
   "metadata": {},
   "outputs": [],
   "source": [
    "# Compute the travel time in minutes per emd\n",
    "access_emd_gdf['travel_time'] = access_emd_gdf.apply(lambda x: access_node_dic[x['nearest_nodes']] / 60, axis=1)\n",
    "access_emd_gdf"
   ]
  },
  {
   "cell_type": "code",
   "execution_count": null,
   "metadata": {},
   "outputs": [],
   "source": [
    "fig, ax = plt.subplots(figsize=(10, 10))\n",
    "\n",
    "access_emd_gdf.plot(column='travel_time', \n",
    "                    cmap='Blues_r', \n",
    "                    scheme='UserDefined',\n",
    "                    classification_kwds={'bins': [0, 5, 10, 15, 20, 25, 30]},\n",
    "                    legend=True, \n",
    "                    edgecolor='black',\n",
    "                    ax=ax)\n",
    "\n",
    "ax.get_xaxis().set_visible(False)  # Remove ticks and labels\n",
    "ax.get_yaxis().set_visible(False)  # Remove ticks and labels\n",
    "\n",
    "plt.show()"
   ]
  },
  {
   "cell_type": "markdown",
   "metadata": {},
   "source": [
    "### 3.3. Make the function to calculate the accessible area"
   ]
  },
  {
   "cell_type": "code",
   "execution_count": null,
   "metadata": {},
   "outputs": [],
   "source": [
    "def get_accessible_area_and_time(_network, _gdf, _source_node, _threshold, _weight='travel_time'):\n",
    "    \"\"\"\n",
    "    Get the accessible area from a given node within a specified cutoff distance or time.\n",
    "    \n",
    "    Parameters:\n",
    "    _network (networkx.Graph): The road network graph.\n",
    "    _gdf (GeoDataFrame): The GeoDataFrame containing the administrative boundaries and nearest nodes.\n",
    "    _source_node (int): The nearest node to the origin point.\n",
    "    _threshold (float): The threshold distance or time for accessibility.\n",
    "    _weight (str): The attribute name to be used as the weight (e.g., 'length' or 'travel_time').\n",
    "    \n",
    "    Returns:\n",
    "    list: A GeoDataFrame which contains the accessible areas within the cutoff distance along with the travel time.\n",
    "    \"\"\"\n",
    "    # Calculate the accessible nodes\n",
    "    _access_nodes = nx.single_source_dijkstra_path_length(_network, source=_source_node, cutoff=_threshold, weight=_weight)\n",
    "    \n",
    "    # Select the accessible area with the accessible nodes\n",
    "    _access_gdf = _gdf.loc[_gdf['nearest_nodes'].isin(list(_access_nodes.keys()))]\n",
    "\n",
    "    # Calculate the travel time in minutes per administrative boundary\n",
    "    _access_gdf['travel_time'] = _access_gdf.apply(lambda x: _access_nodes[x['nearest_nodes']] / 60, axis=1)\n",
    "\n",
    "    return _access_gdf"
   ]
  },
  {
   "cell_type": "code",
   "execution_count": null,
   "metadata": {},
   "outputs": [],
   "source": [
    "test_gdf = get_accessible_area_and_time(_network=G, \n",
    "                                        _gdf=emd_gdf, \n",
    "                                        _source_node=origin_node, \n",
    "                                        _threshold=1800, \n",
    "                                        _weight='travel_time')\n",
    "test_gdf.head(3)"
   ]
  },
  {
   "cell_type": "code",
   "execution_count": null,
   "metadata": {},
   "outputs": [],
   "source": [
    "fig, ax = plt.subplots(figsize=(10, 10))\n",
    "\n",
    "test_gdf.plot(column='travel_time', \n",
    "                    cmap='Blues_r', \n",
    "                    scheme='UserDefined',\n",
    "                    classification_kwds={'bins': [0, 5, 10, 15, 20, 25, 30]},\n",
    "                    legend=True, \n",
    "                    edgecolor='black',\n",
    "                    ax=ax)\n",
    "\n",
    "ax.get_xaxis().set_visible(False)  # Remove ticks and labels\n",
    "ax.get_yaxis().set_visible(False)  # Remove ticks and labels\n",
    "\n",
    "plt.show()"
   ]
  },
  {
   "cell_type": "markdown",
   "metadata": {},
   "source": [
    "# Done"
   ]
  }
 ],
 "metadata": {
  "kernelspec": {
   "display_name": "GIS_Project",
   "language": "python",
   "name": "python3"
  },
  "language_info": {
   "codemirror_mode": {
    "name": "ipython",
    "version": 3
   },
   "file_extension": ".py",
   "mimetype": "text/x-python",
   "name": "python",
   "nbconvert_exporter": "python",
   "pygments_lexer": "ipython3",
   "version": "3.13.1"
  }
 },
 "nbformat": 4,
 "nbformat_minor": 2
}
