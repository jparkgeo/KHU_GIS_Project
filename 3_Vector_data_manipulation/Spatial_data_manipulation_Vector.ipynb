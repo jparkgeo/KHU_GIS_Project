{
 "cells": [
  {
   "cell_type": "markdown",
   "id": "af1ef071",
   "metadata": {},
   "source": [
    "# Spatial Data Manipulation: Vector"
   ]
  },
  {
   "cell_type": "markdown",
   "id": "6b343870",
   "metadata": {},
   "source": [
    "## 1. Overview of Geopandas\n",
    "\n",
    "`Geopands` is one of the most important Python libraries for working with vector data. It is based on the `pandas` library and has dependencies on `Shapely`, `Fiona` and `pyproj`. \n",
    "* `Shapely` is a Python package for manipulation and analysis of planar features, using functions from the GEOS library (the engine of PostGIS) and a port of the JTS (Java Topology Suite). Shapely only deals with analyzing geometries and offers no capabilities for reading and writing geospatial files. \n",
    "* `pyproj` is a Python package that performs cartographic transformations and geodetic computations.\n"
   ]
  },
  {
   "cell_type": "code",
   "execution_count": 3,
   "id": "efba5705-7994-432d-9b4b-f64b14352cd6",
   "metadata": {},
   "outputs": [
    {
     "data": {
      "text/plain": [
       "'/opt/homebrew/anaconda3/envs/GIS_Project/bin/python'"
      ]
     },
     "execution_count": 3,
     "metadata": {},
     "output_type": "execute_result"
    }
   ],
   "source": [
    "import sys\n",
    "sys.executable"
   ]
  },
  {
   "cell_type": "code",
   "execution_count": 1,
   "id": "36844f74",
   "metadata": {},
   "outputs": [],
   "source": [
    "import geopandas as gpd  # import geopandas package and set alias as gpd\n",
    "import pandas as pd"
   ]
  },
  {
   "cell_type": "code",
   "execution_count": null,
   "id": "6fb4a752",
   "metadata": {},
   "outputs": [],
   "source": [
    "# Import the data with geopandas\n",
    "# You can read geospatial data with `gpd.read_file()`, such as ESRI shapefile, GeoJSON, GeoPackage. To export geospatial data, you can use `gpd.to_file()`. \n",
    "\n",
    "emd_gdf = gpd.read_file('./data/Seoul_EMD_simplified.geojson')\n",
    "emd_gdf.head(5)"
   ]
  },
  {
   "cell_type": "code",
   "execution_count": null,
   "id": "00708de7",
   "metadata": {},
   "outputs": [],
   "source": [
    "# Check the Coordinate Reference System (CRS) of the GeoDataFrame\n",
    "emd_gdf.crs"
   ]
  },
  {
   "cell_type": "code",
   "execution_count": null,
   "id": "269dd94c",
   "metadata": {},
   "outputs": [],
   "source": [
    "# The crs attribute is interited from the pyproj.CRS class\n",
    "type(emd_gdf.crs)"
   ]
  },
  {
   "cell_type": "code",
   "execution_count": null,
   "id": "f7f68f15",
   "metadata": {},
   "outputs": [],
   "source": [
    "# In case of GeoDataFrame, the .plot() method shows the map of the data if the geometry column exists\n",
    "emd_gdf.plot()"
   ]
  },
  {
   "cell_type": "code",
   "execution_count": null,
   "id": "23de3b20",
   "metadata": {},
   "outputs": [],
   "source": [
    "# Check the first record of the GeoDataFrame\n",
    "emd_gdf.loc[0]"
   ]
  },
  {
   "cell_type": "code",
   "execution_count": null,
   "id": "b687aea7",
   "metadata": {},
   "outputs": [],
   "source": [
    "# Get the geometry of the first record\n",
    "emd_gdf.loc[0, 'geometry']"
   ]
  },
  {
   "cell_type": "code",
   "execution_count": null,
   "id": "03d59ed1",
   "metadata": {},
   "outputs": [],
   "source": [
    "# The geometry is a shapely object\n",
    "type(emd_gdf.loc[0, 'geometry'])"
   ]
  },
  {
   "cell_type": "code",
   "execution_count": null,
   "id": "90250570",
   "metadata": {},
   "outputs": [],
   "source": [
    "# The geometry is a shapely object\n",
    "# wkt is a string representation of the geometry in the Well-Known Text (WKT) format\n",
    "emd_gdf.loc[0, 'geometry'].wkt"
   ]
  },
  {
   "cell_type": "markdown",
   "id": "97044fee",
   "metadata": {},
   "source": [
    "## 2. Data Creation\n",
    "### 2.1. Creating Vector data with `Shapely`\n",
    "\n",
    "`Shapely` has the following classes to represent geometry.\n",
    "\n",
    "| Geometry Type | Class |\n",
    "| :-: | :-: |\n",
    "| Point | shapely.geometry.Point() | \n",
    "| Line | shapely.geometry.LineString() <br> shapely.geometry.polygon.LinearRing() | \n",
    "| Polygon | shapely.geometry.Polygon() | \n",
    "| Collection of points | shapely.geometry.MultiPoint() | \n",
    "| Collection of lines | shapely.geometry.MultiLineString() | \n",
    "| Collection of polygons | shapely.geometry.MultiPolygon() | "
   ]
  },
  {
   "cell_type": "code",
   "execution_count": null,
   "id": "f30cd301",
   "metadata": {},
   "outputs": [],
   "source": [
    "# Import shapely objects\n",
    "from shapely.geometry import Point, LineString, Polygon, MultiPoint, MultiLineString, MultiPolygon"
   ]
  },
  {
   "cell_type": "code",
   "execution_count": null,
   "id": "e86c7834",
   "metadata": {
    "scrolled": true
   },
   "outputs": [],
   "source": [
    "# creating a point\n",
    "pnt = Point(2.0, 2.0)  # x, y coordinates of a point\n",
    "print(pnt.wkt)\n",
    "print(type(pnt))\n",
    "pnt"
   ]
  },
  {
   "cell_type": "code",
   "execution_count": null,
   "id": "d1864c54",
   "metadata": {},
   "outputs": [],
   "source": [
    "# creating a line\n",
    "line = LineString([(0, 0), (3,5), (8, 6), (10,10)])  # x, y coordinates of sequences of points\n",
    "print(line.wkt)\n",
    "print(type(line))\n",
    "line"
   ]
  },
  {
   "cell_type": "code",
   "execution_count": null,
   "id": "cde7df4b",
   "metadata": {},
   "outputs": [],
   "source": [
    "# creating a polygon\n",
    "pyg = Polygon(((0, 0), (5, 0), (5, 7), (0, 9))) # The order should be kept. \n",
    "print(pyg.wkt) # The first and last points should be the same to make a polygon\n",
    "print(type(pyg))\n",
    "pyg"
   ]
  },
  {
   "cell_type": "code",
   "execution_count": null,
   "id": "e038a753",
   "metadata": {},
   "outputs": [],
   "source": [
    "# The order of points matters. The example below shows a situation if the order of points is messed up. \n",
    "pyg2 = Polygon(((0, 0), (5, 7), (5, 0), (0, 9)))\n",
    "pyg2"
   ]
  },
  {
   "cell_type": "code",
   "execution_count": null,
   "id": "5ed0fc8c",
   "metadata": {},
   "outputs": [],
   "source": [
    "# a collection of points\n",
    "pnts = MultiPoint([(0.0, 0.0), (3.0, 3.0)])\n",
    "print(pnts.wkt)\n",
    "print(type(pnts))\n",
    "pnts"
   ]
  },
  {
   "cell_type": "markdown",
   "id": "857a3013",
   "metadata": {},
   "source": [
    "###  2.2. Converting DataFrame to GeoDataFrame"
   ]
  },
  {
   "cell_type": "code",
   "execution_count": null,
   "id": "bdb70a14",
   "metadata": {},
   "outputs": [],
   "source": [
    "import pandas as pd\n",
    "\n",
    "# Create a DataFrame with the capitals and its coordinates of some countries in South America. \n",
    "capitals = pd.DataFrame(\n",
    "    {'City': ['Buenos Aires', 'Brasilia', 'Santiago', 'Bogota', 'Caracas'],\n",
    "     'Country': ['Argentina', 'Brazil', 'Chile', 'Colombia', 'Venezuela'],\n",
    "     'Latitude': [-34.58, -15.78, -33.45, 4.60, 10.48],\n",
    "     'Longitude': [-58.66, -47.91, -70.66, -74.08, -66.86]})\n",
    "\n",
    "capitals"
   ]
  },
  {
   "cell_type": "code",
   "execution_count": null,
   "id": "900053cc",
   "metadata": {},
   "outputs": [],
   "source": [
    "# It is possible to create a geometry column with the given coordinates\n",
    "# gpd.points_from_xy is a function to create points based on given coordinates\n",
    "\n",
    "capitals_gdf = gpd.GeoDataFrame(capitals, \n",
    "                                # a function to create points based on given coordinates\n",
    "                                geometry=gpd.points_from_xy(capitals.Longitude, capitals.Latitude) \n",
    "                               )\n",
    "capitals_gdf"
   ]
  },
  {
   "cell_type": "markdown",
   "id": "bb1f07e2",
   "metadata": {},
   "source": [
    "`capitals_gdf` is just created from DataFrame so it does not have crs. However, it is still able to be plotted."
   ]
  },
  {
   "cell_type": "code",
   "execution_count": null,
   "id": "5bb2bf2b",
   "metadata": {},
   "outputs": [],
   "source": [
    "print(capitals_gdf.crs)\n",
    "capitals_gdf.plot()"
   ]
  },
  {
   "cell_type": "code",
   "execution_count": null,
   "id": "0eea2efc",
   "metadata": {},
   "outputs": [],
   "source": [
    "# .explore() method is a useful method to explore the data interactively\n",
    "# But, it doesn't work if the crs is missing\n",
    "capitals_gdf.explore()"
   ]
  },
  {
   "cell_type": "code",
   "execution_count": null,
   "id": "f2d8f192",
   "metadata": {},
   "outputs": [],
   "source": [
    "# .set_crs() method is used to set the CRS of the GeoDataFrame\n",
    "capitals_gdf = capitals_gdf.set_crs(epsg=4326)\n",
    "\n",
    "capitals_gdf.crs"
   ]
  },
  {
   "cell_type": "code",
   "execution_count": null,
   "id": "74ed7ecc",
   "metadata": {},
   "outputs": [],
   "source": [
    "# With the correct crs, the .explore() method works\n",
    "capitals_gdf.explore()"
   ]
  },
  {
   "cell_type": "markdown",
   "id": "c7d7b5e1",
   "metadata": {},
   "source": [
    "## 3. Mockup Analysis\n",
    "\n",
    "We want to calculate the maximum temperature of each dong. The following is the data employed and steps for our mockup analysis.\n",
    "\n",
    "* Data: \n",
    "    - Sensor locations of S-DoT: './data/S_DoT_locations.xlsx'\n",
    "    - Temperature data: './data/SDoT_Seoul_20240804.csv'\n",
    "    - Dong Geometry of Seoul: './data/Seoul_EMD_simplify.geojson'\n",
    "* Steps:\n",
    "    - Load sensor location data (`sensor_df`) using Pandas and convert it to GeoDataFrame (`sensor_gdf`).\n",
    "    - Load temperature data (`temp_df`) using Pandas and join with the `sensor_gdf`.\n",
    "    - Find the associatd dong for each sensor location and calculate the maximum temperature of each dong.\n",
    "\n",
    "### 3.1. Load sensor location data"
   ]
  },
  {
   "cell_type": "code",
   "execution_count": null,
   "id": "78306a58",
   "metadata": {},
   "outputs": [],
   "source": [
    "# Import sensor location information from an Excel file\n",
    "# pandas.read_excel() is used to read an Excel file while pandas.read_csv() is used to read a CSV file\n",
    "sensor_df = pd.read_excel('./data/S_DoT_locations.xlsx')\n",
    "sensor_df"
   ]
  },
  {
   "cell_type": "markdown",
   "id": "657aa877",
   "metadata": {},
   "source": [
    "---\n",
    "### *Exercise*\n",
    "1. Investigate the syntax below and create a GeoDataFrame from `sensor_df` with the following steps:\n",
    "* Create a GeoDataFrame from `sensor_df` with the geometry column named `geometry`.\n",
    "* Set the crs of the GeoDataFrame to WGS 84 (`EPSG:4326`).\n",
    "* Save the GeoDataFrame into `sensor_gdf`.\n",
    "\n",
    "```python\n",
    "    sensor_gdf = gpd.GeoDataFrame(`INPUT DATAFRAME`, \n",
    "                                  geometry=gpd.points_from_xy(`LONGITUDE COLUMN OF A DATAFRAME`,\n",
    "                                                              `LATITUDE COLUMN OF A DATAFRAME`), \n",
    "                                  crs=`EPSG:EPSG_CODE` # WGS 84\n",
    "                                  )\n",
    "```\n",
    "---\n",
    "\n"
   ]
  },
  {
   "cell_type": "code",
   "execution_count": null,
   "id": "69b6f85e",
   "metadata": {},
   "outputs": [],
   "source": [
    "# Your code here\n",
    "sensor_gdf = \n",
    "sensor_gdf"
   ]
  },
  {
   "cell_type": "code",
   "execution_count": null,
   "id": "3cad251f",
   "metadata": {},
   "outputs": [],
   "source": [
    "\"\"\" Test code for the previous function. This cell should NOT give any errors when it is run.\"\"\"\n",
    "\n",
    "# Check your result here. \n",
    "assert type(sensor_gdf) == gpd.GeoDataFrame\n",
    "assert sensor_gdf.crs == 'EPSG:4326'\n",
    "assert round(sensor_gdf.loc[0, 'geometry'].x, 4) == 127.0753\n",
    "\n",
    "print(\"Success!\")"
   ]
  },
  {
   "cell_type": "code",
   "execution_count": null,
   "id": "8d5e76cc",
   "metadata": {},
   "outputs": [],
   "source": [
    "# Plot the sensor locations\n",
    "sensor_gdf.plot()"
   ]
  },
  {
   "cell_type": "markdown",
   "id": "840f7a66",
   "metadata": {},
   "source": [
    "### 3.2. Join(Merge) DataFrame\n",
    "\n",
    "Merge DataFrame or named Series objects with a database-style join. The join is done on columns or indexes.\n",
    "\n",
    "```python\n",
    "joined_gdf = df_a.merge(right=`df_b`,\n",
    "                        how='inner', # {‘left’, ‘right’, ‘outer’, ‘inner’, ‘cross’}, default ‘inner’\n",
    "                        on=`column name` # Column or index level names to join on. If the columns have different names, specify `left_on` and `right_on`.\n",
    "                        )\n",
    "```\n",
    "\n",
    "\n",
    "Source: https://pandas.pydata.org/docs/reference/api/pandas.DataFrame.merge.html"
   ]
  },
  {
   "cell_type": "code",
   "execution_count": null,
   "id": "8ea0f981",
   "metadata": {},
   "outputs": [],
   "source": [
    "# Load temperature data\n",
    "# Source: https://data.seoul.go.kr/dataList/OA-15969/S/1/datasetView.do\n",
    "temp_df = pd.read_csv('./data/SDoT_Seoul_20240804.csv')\n",
    "temp_df"
   ]
  },
  {
   "cell_type": "code",
   "execution_count": null,
   "id": "ae01cbe1",
   "metadata": {},
   "outputs": [],
   "source": [
    "# Get the statistics of the 'TempMax' column\n",
    "temp_df['TempMax'].describe()"
   ]
  },
  {
   "cell_type": "code",
   "execution_count": null,
   "id": "e371dc2d",
   "metadata": {},
   "outputs": [],
   "source": [
    "# Merge the sensor location data with the temperature data\n",
    "sensor_data = sensor_gdf.merge(temp_df, on='Serial_Num', how='inner')\n",
    "sensor_data"
   ]
  },
  {
   "cell_type": "code",
   "execution_count": null,
   "id": "126b0b8d",
   "metadata": {},
   "outputs": [],
   "source": [
    "# Plot the temperature data\n",
    "sensor_data.plot('TempMax', legend=True, cmap='coolwarm', markersize=10, figsize=(10, 10))"
   ]
  },
  {
   "cell_type": "markdown",
   "id": "099877ae",
   "metadata": {},
   "source": [
    "---\n",
    "### *Exercise*\n",
    "1. Investigate the syntax below and change the CRS of both `sensor_gdf` and `emd_gdf` to `EPSG:5179`. Currently, the CRS of the two GeoDataFrame are different. \n",
    "\n",
    "```python\n",
    "    sensor_proj = sensor_data.to_crs(`EPSG:EPSG_CODE`)\n",
    "    emd_proj = emd_gdf.to_crs(`EPSG:EPSG_CODE`)\n",
    "``` \n",
    "\n",
    "---"
   ]
  },
  {
   "cell_type": "code",
   "execution_count": null,
   "id": "23dd11f6",
   "metadata": {},
   "outputs": [],
   "source": [
    "# Your code here\n",
    "sensor_proj = \n",
    "emd_proj = \n"
   ]
  },
  {
   "cell_type": "code",
   "execution_count": null,
   "id": "ad6c9e77",
   "metadata": {},
   "outputs": [],
   "source": [
    "\"\"\" Test code for the previous function. This cell should NOT give any errors when it is run.\"\"\"\n",
    "\n",
    "# Check your result here. \n",
    "assert sensor_proj.crs == 'EPSG:5179'\n",
    "assert emd_proj.crs == 'EPSG:5179'\n",
    "\n",
    "print(\"Success!\")"
   ]
  },
  {
   "cell_type": "markdown",
   "id": "c64f0c20",
   "metadata": {},
   "source": [
    "### 3.3. Find the associated dong for each sensor location\n",
    "\n",
    "We want to count the number of sensors in each dong and calculate the maximum temperature of each dong. "
   ]
  },
  {
   "cell_type": "code",
   "execution_count": null,
   "id": "d8c76ff1",
   "metadata": {},
   "outputs": [],
   "source": [
    "## The entire code\n",
    "\n",
    "# .iterrows is a generator that iterates over the rows of the DataFrame\n",
    "# It returns an index (idx) and a Series for each row (row)\n",
    "for idx, row in emd_proj.iterrows():\n",
    "\n",
    "    # Find the sensors that are located in the current dong\n",
    "    sensor_dong = sensor_proj.loc[sensor_proj['geometry'].intersects(row['geometry'])]\n",
    "    \n",
    "    # If there are sensors in the dong..\n",
    "    if sensor_dong.shape[0] > 0:\n",
    "\n",
    "        # Get the number of sensors in the dong\n",
    "        emd_proj.at[idx, 'Sensor_Count'] = sensor_dong.shape[0]\n",
    "\n",
    "        # Get the average of the 'TempMax' column in the dong\n",
    "        emd_proj.at[idx, 'TempMax_Avg'] = sensor_dong['TempMax'].mean()\n",
    "\n",
    "# Check the results\n",
    "emd_proj"
   ]
  },
  {
   "cell_type": "code",
   "execution_count": null,
   "id": "316b93a3",
   "metadata": {},
   "outputs": [],
   "source": [
    "for idx, row in emd_proj.head(3).iterrows():\n",
    "    print(f\"Index: {idx}\")\n",
    "    print(row)\n",
    "    print(\"--------------------\")"
   ]
  },
  {
   "cell_type": "code",
   "execution_count": null,
   "id": "d6725c77",
   "metadata": {},
   "outputs": [],
   "source": [
    "# The current geometry in the loop\n",
    "row['geometry']"
   ]
  },
  {
   "cell_type": "code",
   "execution_count": null,
   "id": "7e31d355",
   "metadata": {},
   "outputs": [],
   "source": [
    "# Check the type of the geometry -> shapely object\n",
    "type(row['geometry'])"
   ]
  },
  {
   "cell_type": "code",
   "execution_count": null,
   "id": "52aff755",
   "metadata": {},
   "outputs": [],
   "source": [
    "# Check the geometry of sensor if it intersects with the current geometry\n",
    "sensor_proj['geometry'].intersects(row['geometry'])"
   ]
  },
  {
   "cell_type": "code",
   "execution_count": null,
   "id": "87401eaf",
   "metadata": {},
   "outputs": [],
   "source": [
    "# When wrapped with .loc[], it returns a GeoDataFrame with the True values\n",
    "sensor_proj.loc[sensor_proj['geometry'].intersects(row['geometry'])]"
   ]
  },
  {
   "cell_type": "markdown",
   "id": "03f9fc21",
   "metadata": {},
   "source": [
    "Various options to check the spatial relationship between geometries\n",
    "* .contains() returns True if the geometry contains the other geometry\n",
    "* .within() returns True if the geometry is within the other geometry\n",
    "* .intersects() returns True if the geometry intersects the other geometry"
   ]
  },
  {
   "cell_type": "code",
   "execution_count": null,
   "id": "3885d813",
   "metadata": {},
   "outputs": [],
   "source": [
    "# This cell returns a value\n",
    "sensor_proj.loc[sensor_proj['geometry'].within(row['geometry'])]"
   ]
  },
  {
   "cell_type": "code",
   "execution_count": null,
   "id": "e7754b0f",
   "metadata": {},
   "outputs": [],
   "source": [
    "# This cell does not return a value\n",
    "sensor_proj.loc[sensor_proj['geometry'].contains(row['geometry'])]"
   ]
  },
  {
   "cell_type": "markdown",
   "id": "1e8c2108",
   "metadata": {},
   "source": [
    "Now revisit the original code"
   ]
  },
  {
   "cell_type": "code",
   "execution_count": null,
   "id": "8167a2f6",
   "metadata": {},
   "outputs": [],
   "source": [
    "## The entire code\n",
    "\n",
    "# .iterrows is a generator that iterates over the rows of the DataFrame\n",
    "# It returns an index (idx) and a Series for each row (row)\n",
    "for idx, row in emd_proj.iterrows():\n",
    "\n",
    "    # Find the sensors that are located in the current dong\n",
    "    sensor_dong = sensor_proj.loc[sensor_proj['geometry'].intersects(row['geometry'])]\n",
    "    \n",
    "    # If there are sensors in the dong..\n",
    "    if sensor_dong.shape[0] > 0:\n",
    "\n",
    "        # Get the number of sensors in the dong\n",
    "        emd_proj.at[idx, 'Sensor_Count'] = sensor_dong.shape[0]\n",
    "\n",
    "        # Get the average of the 'TempMax' column in the dong\n",
    "        emd_proj.at[idx, 'TempMax_Avg'] = sensor_dong['TempMax'].mean()\n",
    "\n",
    "# Check the results\n",
    "emd_proj"
   ]
  },
  {
   "cell_type": "code",
   "execution_count": null,
   "id": "047b228c",
   "metadata": {},
   "outputs": [],
   "source": [
    "# If there is no sensor in the dong, the 'TempMax_Avg' column is NaN\n",
    "emd_proj.loc[emd_proj['TempMax_Avg'].isna()]"
   ]
  },
  {
   "cell_type": "code",
   "execution_count": null,
   "id": "cc3c4847",
   "metadata": {},
   "outputs": [],
   "source": [
    "# Plot the result\n",
    "emd_proj.plot('TempMax_Avg', \n",
    "              legend=True, \n",
    "              scheme='NaturalBreaks',\n",
    "              cmap='Reds', \n",
    "              figsize=(10, 8), \n",
    "              missing_kwds={'color': 'grey'}\n",
    "              )"
   ]
  },
  {
   "cell_type": "markdown",
   "id": "d399f0ad",
   "metadata": {},
   "source": [
    "### 3.4. Alternative approahch (.sjoin())\n",
    "\n",
    "The `sjoin()` function in `geopandas` is a spatial join function that allows you to join two GeoDataFrames based on their spatial relationship. This could be more convenient than the previous approach.\n",
    "\n",
    "```python\n",
    "    gpd.sjoin(left_df, \n",
    "              right_df, \n",
    "              how='inner', # This can be 'left', 'right', or 'inner'\n",
    "              predicate='intersects' # This can be contains, within, etc. \n",
    "              )\n",
    "```\n",
    "Source: https://geopandas.org/en/stable/docs/reference/api/geopandas.sjoin.html"
   ]
  },
  {
   "cell_type": "code",
   "execution_count": null,
   "id": "f370d597",
   "metadata": {},
   "outputs": [],
   "source": [
    "# Get another file to conduct the spatial join\n",
    "emd_sjoin = emd_gdf.to_crs(epsg=5179) \n",
    "emd_sjoin"
   ]
  },
  {
   "cell_type": "code",
   "execution_count": null,
   "id": "80204aa3",
   "metadata": {},
   "outputs": [],
   "source": [
    "# Conduct the spatial join\n",
    "emd_sjoin_result = gpd.sjoin(emd_sjoin, sensor_proj, how='left', predicate='contains')  \n",
    "emd_sjoin_result"
   ]
  },
  {
   "cell_type": "code",
   "execution_count": null,
   "id": "1bd6d36d",
   "metadata": {},
   "outputs": [],
   "source": [
    "# Calculate the average of the 'TempMax' column and the count of sensors in each dong\n",
    "emd_sjoin_clean = emd_sjoin_result.groupby(['ADM_CD', 'ADM_NM']).agg({'TempMax': 'mean', \n",
    "                                                                      'Serial_Num': 'count'}\n",
    "                                                                      ).reset_index()\n",
    "emd_sjoin_clean"
   ]
  },
  {
   "cell_type": "code",
   "execution_count": null,
   "id": "c46b899a",
   "metadata": {},
   "outputs": [],
   "source": [
    "# Compare with the previous result\n",
    "emd_proj"
   ]
  },
  {
   "cell_type": "markdown",
   "id": "c34d0b20",
   "metadata": {},
   "source": [
    "# Done"
   ]
  }
 ],
 "metadata": {
  "kernelspec": {
   "display_name": "Python 3 (ipykernel)",
   "language": "python",
   "name": "python3"
  },
  "language_info": {
   "codemirror_mode": {
    "name": "ipython",
    "version": 3
   },
   "file_extension": ".py",
   "mimetype": "text/x-python",
   "name": "python",
   "nbconvert_exporter": "python",
   "pygments_lexer": "ipython3",
   "version": "3.13.1"
  }
 },
 "nbformat": 4,
 "nbformat_minor": 5
}
