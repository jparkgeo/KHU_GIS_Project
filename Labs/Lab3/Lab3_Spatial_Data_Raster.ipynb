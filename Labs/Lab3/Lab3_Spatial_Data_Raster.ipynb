{
 "cells": [
  {
   "cell_type": "markdown",
   "id": "0cd0bb89",
   "metadata": {},
   "source": [
    "# Lab 3: Spatial data manipulation: Raster\n",
    "\n",
    "In this lab, you will analyze the impact of hurricane Harvey, which was happened in August 2017 in Texas. You will find that most of the tasks were covered in the lecture, and it is a reproduction of the tasks. The differences are the study area (Houston instead of Champaign), the index (<a href=https://eos.com/make-an-analysis/ndwi/>NDWI [Normalized Difference Water Index]</a> instead of NDVI [Normalized Difference Vegetation Index]), and the data source (Sentinel 2 instead of Landsat 8). \n",
    "\n",
    "## Structure\n",
    "### 1. Import Data \n",
    "**1.1.** (2 points) Import and stack four bands collected on **August 15 2017** with the order of Blue, Green, Red and NIR. Save the result as a format of `xarray.DataArray` and name it as `before_harvey`. <br>\n",
    "**1.2.** (2 points) Import and stack four bands collected on **September 1 2017** with the order of Blue, Green, Red and NIR. Save the result as a format of `xarray.DataArray` and name it as `after_harvey`. <br>\n",
    "### 2. Display (True / False) Color Images after Harvey \n",
    "**2.1.** (2 points) Plot a true color image (R,G,B) after Harvey with `DataArray.plot.imshow()` method. <br>\n",
    "**2.2.** (2 points) Plot a false color image (NIR,R,G) after Harvey with `DataArray.plot.imshow()` method. <br>\n",
    "### 3. Calculate Normalized Difference Water Index (NDWI) \"Before\" and \"After\" Harvey \n",
    "**3.1.** (2 points) Calculate NDWI **before** harvey and save it as `ndwi_before`. <br>\n",
    "**3.2.** (2 points) Calculate NDWI **after** harvey and save it as `ndwi_after`. <br>\n",
    "### 4. Classify Raster Image based on the NDWI \n",
    "**4.1.** (2 points) Classify the values in `ndwi_before` array with `np.digitize()` method, and save the result as `ndwi_before_class`. <br>\n",
    "**4.2.** (2 points) Classify the values in `ndwi_after` array with `np.digitize()` method, and save the result as `ndwi_after_class`. <br>\n",
    "### 5. Calculate the area covered by water and its percentage over the entire area \n",
    "**5.1.** (3 points) Calculate the percentage of area covered by water, **before** Hurricane Harvey, save it as `percent_before_harvey`. <br>\n",
    "**5.2.** (3 points) Calculate the percentage of area covered by water, **after** Hurricane Harvey,  save it as `percent_after_harvey`. <br>\n",
    "**5.3.** (3 points) Calculate the size of area (in Square KM) which wasn't covered by water before Harvey but covered by water after Harvey. Save the result as `diff_area` with the numerical format. <br>\n",
    "\n",
    "## Notes:\n",
    "**Before you submit your lab, make sure everything runs as expected WITHOUT ANY ERROR.** <br>\n",
    "**Make sure you fill in any place that says `YOUR CODE HERE` or `YOUR ANSWER HERE`:**"
   ]
  },
  {
   "cell_type": "code",
   "execution_count": null,
   "id": "daaa19ed",
   "metadata": {},
   "outputs": [],
   "source": [
    "FULL_NAME = \"\""
   ]
  },
  {
   "cell_type": "code",
   "execution_count": null,
   "id": "06b08110",
   "metadata": {},
   "outputs": [],
   "source": [
    "# Import necessary packages\n",
    "import rioxarray as rioxr\n",
    "import xarray as xr\n",
    "import os\n",
    "import matplotlib.pyplot as plt\n",
    "from matplotlib.colors import ListedColormap\n",
    "from matplotlib.patches import Patch\n",
    "import numpy as np\n",
    "\n",
    "data_path = './data'"
   ]
  },
  {
   "cell_type": "markdown",
   "id": "fbcdef31",
   "metadata": {},
   "source": [
    "### 1. Import Data (4 points)\n",
    "\n",
    "In the data folder, you will find two sets of Senitinel2 satellite imagery. Each set has four JPEG2000 files, and each file represents the bands correspinding to each color/wavelength. Please refer to the table below and import the files to the appropriate band, accordingly. <br>\n",
    "\n",
    "**Name schema: \"Sentinel2_{YYYYMMDD}_B{Band Number}.jp2\"**\n",
    "\n",
    "| Band Number |\tDescription | Resolution |\n",
    "| :-: | :-: | :-: | \n",
    "| Band 2 | Visible blue | 10 meter |\n",
    "| Band 3 | Visible green | 10 meter |\n",
    "| Band 4 | Visible red | 10 meter |\n",
    "| Band 8 | Near Infrared | 15 meter |\n",
    "\n",
    "**1.1.** (2 points) Import and stack four bands collected on **August 15 2017** with the order of Blue, Green, Red and NIR. Save the result as a format of `xarray.DataArray` and name it as `before_harvey`. <br>\n",
    "**1.2.** (2 points) Import and stack four bands collected on **September 1 2017** with the order of Blue, Green, Red and NIR. Save the result as a format of `xarray.DataArray` and name it as `after_harvey`."
   ]
  },
  {
   "cell_type": "code",
   "execution_count": null,
   "id": "12f11ebd",
   "metadata": {},
   "outputs": [],
   "source": [
    "# Your code here (Task 1.1)\n",
    "\n"
   ]
  },
  {
   "cell_type": "code",
   "execution_count": null,
   "id": "95862fcf",
   "metadata": {},
   "outputs": [],
   "source": [
    "# Your code here (Task 1.2)\n",
    "\n"
   ]
  },
  {
   "cell_type": "code",
   "execution_count": null,
   "id": "04bde466",
   "metadata": {},
   "outputs": [],
   "source": [
    "\"\"\" Test code for the previous code. This cell should NOT give any errors when it is run.\"\"\"\n",
    "\n",
    "assert type(before_harvey) == xr.DataArray\n",
    "assert type(after_harvey) == xr.DataArray\n",
    "\n",
    "assert before_harvey.shape == (4, 1254, 2328) # (Bands, Rows, Columns)\n",
    "assert after_harvey.shape == (4, 1254, 2328) # (Bands, Rows, Columns)\n",
    "\n",
    "print('Success!')"
   ]
  },
  {
   "cell_type": "markdown",
   "id": "c2efe0d9",
   "metadata": {},
   "source": [
    "### 2. Display (True / False) Color Images after Harvey (4 points)\n",
    "\n",
    "**2.1.** (2 points) Plot a true color image (R,G,B) after Harvey with `DataArray.plot.imshow()` method. <br>\n",
    "**2.2.** (2 points) Plot a false color image (NIR,R,G) after Harvey with `DataArray.plot.imshow()` method. <br>\n",
    "\n",
    "**Notes**\n",
    "- You can use `robust=True` to improve the contrast of the image. Ignore the ratio of the image. \n",
    "- You are expected to see the two images below. But it doesn't have to be executed in one cell.\n",
    "<br><br>\n",
    "![True and False Color representation of Satellite image](./data/task2_example.png)\n"
   ]
  },
  {
   "cell_type": "code",
   "execution_count": null,
   "id": "8674d0aa",
   "metadata": {},
   "outputs": [],
   "source": [
    "# Your code here\n",
    "\n"
   ]
  },
  {
   "cell_type": "markdown",
   "id": "62af935d",
   "metadata": {},
   "source": [
    "### 3. Calculate Normalized Difference Water Index (NDWI) \"Before\" and \"After\" Harvey (4 points)\n",
    "\n",
    "Use the equation below with NumPy and calculate NDWI for each period. The index represents the water body level on the surface against soil and vegitation. \n",
    "\n",
    "\\begin{gather*}\n",
    "NDWI = \\frac{Green - NIR}{Green + NIR}\n",
    "\\end{gather*}\n",
    "\n",
    "**Note**: Use the `normalize_xarray` function below to normalize values in each band. \n",
    "\n",
    "**3.1.** (2 points) Calculate NDWI **before** harvey and save it as `ndwi_before`. <br>\n",
    "**3.2.** (2 points) Calculate NDWI **after** harvey and save it as `ndwi_after`. <br>"
   ]
  },
  {
   "cell_type": "code",
   "execution_count": null,
   "id": "7b89bca8",
   "metadata": {},
   "outputs": [],
   "source": [
    "def normalize_xarray(data_array):\n",
    "    \"\"\"\n",
    "    Normalize the values in an xarray DataArray to the range [0, 1].\n",
    "\n",
    "    Parameters:\n",
    "    - data_array: xarray.DataArray to be normalized.\n",
    "\n",
    "    Returns:\n",
    "    - xarray.DataArray with normalized values.\n",
    "    \"\"\"\n",
    "    min_val = data_array.min().item()\n",
    "    max_val = data_array.max().item()\n",
    "    \n",
    "    # Normalize the DataArray\n",
    "    normalized = (data_array - min_val) / (max_val - min_val)\n",
    "    \n",
    "    return normalized\n"
   ]
  },
  {
   "cell_type": "code",
   "execution_count": null,
   "id": "d5081bc6",
   "metadata": {},
   "outputs": [],
   "source": [
    "# Your code here (Before Harvey)\n",
    "\n"
   ]
  },
  {
   "cell_type": "code",
   "execution_count": null,
   "id": "692110e9",
   "metadata": {},
   "outputs": [],
   "source": [
    "# Your code here (After Harvey)\n",
    "\n"
   ]
  },
  {
   "cell_type": "markdown",
   "id": "f0a37eba",
   "metadata": {},
   "source": [
    "**Check Your Result Here** You should see the images below if you write the code properly. \n",
    "\n",
    "![](./data/task3_example.png)"
   ]
  },
  {
   "cell_type": "code",
   "execution_count": null,
   "id": "4124602e",
   "metadata": {},
   "outputs": [],
   "source": [
    "\"\"\" Test code for the previous code. This cell should NOT give any errors when it is run.\"\"\"\n",
    "fig, ax = plt.subplots(1,2, figsize=(15, 5))\n",
    "\n",
    "ndwi_before.plot.imshow(cmap='Greys_r', ax=ax[0], add_colorbar=False)\n",
    "ndwi_after.plot.imshow(cmap='Greys_r', ax=ax[1], add_colorbar=False)\n",
    "\n",
    "ax[0].set_title('Before Harvey')\n",
    "ax[0].set_aspect('equal')\n",
    "\n",
    "ax[1].set_title('After Harvey')\n",
    "ax[1].set_aspect('equal')\n",
    "plt.show()"
   ]
  },
  {
   "cell_type": "markdown",
   "id": "af757cbf",
   "metadata": {},
   "source": [
    "### 4. Classify Raster Image based on the NDWI (4 points)\n",
    "\n",
    "Now, you will classify the imagery of two periods (before and after Harvey) to examine the impact of flooding. Based on the table below, I provided `bounds`, `ndwi_colors`, `ndwi_cmap`, and `ndwi_names`. These values will help you to plot the classification result in the last cell of this section. \n",
    "\n",
    "| NDWI Range | Meaning |\n",
    "| :-: | :-: |\n",
    "| 0.2 ~ 1 | Water surface |\n",
    "| 0.0 ~ 0,2  | Flooding|\n",
    "| -0.3 ~ 0.0 | Moderate drought |\n",
    "| -1 ~ -0.3 | Drought |\n",
    "\n",
    "**4.1.** (2 points) Classify the values in `ndwi_before` array with `np.digitize()` method, and save the result as `ndwi_before_class`. <br>\n",
    "**4.2.** (2 points) Classify the values in `ndwi_after` array with `np.digitize()` method, and save the result as `ndwi_after_class`. <br>\n",
    "**Note**: Be aware that you need to remove `nan` value in each array with `fillna()` method. Convert `nan` to `-1` for our example here. "
   ]
  },
  {
   "cell_type": "code",
   "execution_count": null,
   "id": "2f9417d0",
   "metadata": {},
   "outputs": [],
   "source": [
    "# Run this cell before running your code.\n",
    "bounds = np.array([-2, -0.3, 0, 0.2, 2]) # Define boundary\n",
    "ndwi_colors = [\"grey\", \"lightblue\", \"blue\", \"darkblue\"]  # Define color map\n",
    "ndwi_cmap = ListedColormap(ndwi_colors)  # Define color map\n",
    "ndwi_names = [\"Drought\", \"Moderate drought\", \"Flooding\", \"Water Surface\"] # Define class names"
   ]
  },
  {
   "cell_type": "code",
   "execution_count": null,
   "id": "57efa9c2",
   "metadata": {},
   "outputs": [],
   "source": [
    "# Your code here\n",
    "\n"
   ]
  },
  {
   "cell_type": "markdown",
   "id": "fc0e3169",
   "metadata": {},
   "source": [
    "**Check Your Result Here** You should see the images below if you write the code properly. \n",
    "\n",
    "![](./data/task4_example.png)"
   ]
  },
  {
   "cell_type": "code",
   "execution_count": null,
   "id": "4b5954cc",
   "metadata": {},
   "outputs": [],
   "source": [
    "\"\"\" Test code for the previous code. This cell should NOT give any errors when it is run.\"\"\"\n",
    "\n",
    "fig, ax = plt.subplots(1, 2, figsize=(15, 5))\n",
    "ax[0].imshow(ndwi_before_class, cmap=ndwi_cmap)\n",
    "ax[1].imshow(ndwi_after_class, cmap=ndwi_cmap)\n",
    "ax[0].set_title('Before Harvey')\n",
    "ax[1].set_title('After Harvey')\n",
    "\n",
    "# Create custom legend\n",
    "legend_patches = [Patch(color=ndwi_colors[i], label=ndwi_names[i]) for i in range(len(ndwi_names))]\n",
    "fig.legend(\n",
    "    handles=legend_patches,\n",
    "    loc='upper left',\n",
    "    bbox_to_anchor=(1, 0.9),  \n",
    "    title='NDVI Classes'\n",
    ")\n",
    "\n",
    "plt.tight_layout()\n",
    "plt.show()"
   ]
  },
  {
   "cell_type": "markdown",
   "id": "8855fd9a",
   "metadata": {},
   "source": [
    "### 5. Calculate the area covered by water and its percentage over the entire area (9 points)\n",
    "\n",
    "**5.1.** (3 points) Calculate the percentage of area covered by water, **before** Hurricane Harvey, save it as `percent_before_harvey`. <br>\n",
    "**5.2.** (3 points) Calculate the percentage of area covered by water, **after** Hurricane Harvey,  save it as `percent_after_harvey`. <br>\n",
    "**5.3.** (3 points) Calculate the size of area (in Square KM) which wasn't covered by water before Harvey but covered by water after Harvey. Save the result as `diff_area` with the numerical format. <br>\n"
   ]
  },
  {
   "cell_type": "code",
   "execution_count": null,
   "id": "a1aaa80c",
   "metadata": {},
   "outputs": [],
   "source": [
    "# Your code here\n",
    "\n",
    "\n"
   ]
  },
  {
   "cell_type": "code",
   "execution_count": null,
   "id": "cd55eabe",
   "metadata": {},
   "outputs": [],
   "source": [
    "\"\"\" Test code for the previous code. This cell should NOT give any errors when it is run.\"\"\"\n",
    "\n",
    "assert round(float(percent_before_harvey.values), 2) == 0.03\n",
    "assert round(float(percent_after_harvey.values), 2) == 0.41\n",
    "assert round(float(diff_area)) == 114\n",
    "\n",
    "print('Success!')"
   ]
  },
  {
   "cell_type": "markdown",
   "id": "646472bf",
   "metadata": {},
   "source": [
    "### *You have finished Lab 3: Spatial data manipulation: Raster*\n",
    "Please name your jupyter notebook as `GEOG4038_Lab3_[YOUR_STUDENT_ID].ipynb`, and upload it to https://e-campus.khu.ac.kr/. "
   ]
  }
 ],
 "metadata": {
  "kernelspec": {
   "display_name": "GIS_Project",
   "language": "python",
   "name": "python3"
  },
  "language_info": {
   "codemirror_mode": {
    "name": "ipython",
    "version": 3
   },
   "file_extension": ".py",
   "mimetype": "text/x-python",
   "name": "python",
   "nbconvert_exporter": "python",
   "pygments_lexer": "ipython3",
   "version": "3.13.1"
  }
 },
 "nbformat": 4,
 "nbformat_minor": 5
}
