{
 "cells": [
  {
   "cell_type": "markdown",
   "id": "caf5281a",
   "metadata": {},
   "source": [
    "# Lab 1: Python basics\n",
    "\n",
    "## Structure/Objectives:\n",
    "### 1. Basic operations (4 points)\n",
    "**1.1.** (1 point) Create a variable called `var1` that equals the integer 10. Create another variable called `var2` that equals the float 2.5. Multiply `var1` by `var2` and call the result `var3`. <br>\n",
    "**1.2.** (1 point) Check the type of `var3` and describe why `var3` is this type of numerical value using a comment (i.e., `# comments`) or `print()` function. <br>\n",
    "**1.3.** (1 point) Define two strings: `string1` contains the word \"ink\" and `string2` contains the word \"jet\". Combine the two words together and call the resultant variable `printer`.<br>\n",
    "**1.4.** (1 point) Split the string `printer` by the letter \"k\" and save the resultant list in a variable named `reslist`.<br>\n",
    "### 2. Make a list and a dictionary (6 points)\n",
    "**2.1.** (2 points) Create a variable called `alist` that contains, in order, the string 'dog', the boolean True, and the number 34. Write your answer in the following cell.<br>\n",
    "**2.2.** (2 points) Change the last entry of the list to equal the list `[2,5,9]`.<br>\n",
    "**2.3.** (2 point) Make a dictionary that contains the capital cities of Korea, China, Japan, and United States a given country. <br>\n",
    "### 3. Test for vowels (5 points)\n",
    "**3.1.** (2 points) Write a function that takes a character (i.e. a string of length 1) and returns True if it is a vowel, False otherwise.<br>\n",
    "**3.2.** (3 points) Using a list comprehension, capitalize only the vowels and keep others (i.e., consonant and space) as lower case in the string `This is a random sentence`, then save the result as `capitalized_vowels`. <br>\n",
    "### 4. Check for palindromes (5 points)\n",
    "**4.1.** (2 points) Define a function reverse() that computes the reversal of a string. <br>\n",
    "**4.2.** (3 points) Define a function `is_palindrome()` that recognizes palindromes (i.e. words and phrases that look the same written forwards and backwards). <br>\n",
    "<br>\n",
    "## Notes:\n",
    "**Before you submit your lab, make sure everything runs as expected WITHOUT ANY ERROR.** <br>\n",
    "**Make sure you fill in any place that says `YOUR CODE HERE` or `YOUR ANSWER HERE`:** <br>\n",
    "**5 points will be granted if you submit a lab that runs without any error.** <br>"
   ]
  },
  {
   "cell_type": "code",
   "execution_count": null,
   "id": "1a32d003",
   "metadata": {},
   "outputs": [],
   "source": [
    "FULL_NAME = \"\""
   ]
  },
  {
   "cell_type": "markdown",
   "id": "4b682bc3",
   "metadata": {},
   "source": [
    "### 1. Basic operations (4 points)\n",
    "\n",
    "**1.1.** (1 point) Create a variable called `var1` that equals the integer 10. Create another variable called `var2` that equals the float 2.5. Multiply `var1` by `var2` and call the result `var3`. <br>\n",
    "\n",
    "**1.2.** (1 point) Check the type of `var3` and describe why `var3` is this type of numerical value using a comment (i.e., `# comments`) or `print()` function. <br>"
   ]
  },
  {
   "cell_type": "code",
   "execution_count": null,
   "id": "56bde23c",
   "metadata": {},
   "outputs": [],
   "source": [
    "# Your code here\n",
    "\n",
    "\n",
    "# Write up your answer of 1.2. here\n",
    "\n"
   ]
  },
  {
   "cell_type": "code",
   "execution_count": null,
   "id": "32653cb1",
   "metadata": {},
   "outputs": [],
   "source": [
    "# Test the value of each variable\n",
    "assert(var1 == 10)\n",
    "assert(var2 == 2.5)\n",
    "assert(var3 == 25)\n",
    "\n",
    "print('Success!')"
   ]
  },
  {
   "cell_type": "markdown",
   "id": "d5feb6f0",
   "metadata": {},
   "source": [
    "**1.3.** (1 point) Define two strings: `string1` contains the word \"ink\" and `string2` contains the word \"jet\". Combine the two words together and call the resultant variable `printer`.<br>\n",
    "\n",
    "**1.4.** (1 point) Split the string `printer` by the letter \"k\" and save the resultant list in a variable named `reslist`.<br>\n"
   ]
  },
  {
   "cell_type": "code",
   "execution_count": null,
   "id": "911ddaed",
   "metadata": {},
   "outputs": [],
   "source": [
    "# Your code here\n",
    "\n"
   ]
  },
  {
   "cell_type": "code",
   "execution_count": null,
   "id": "a3c09070",
   "metadata": {},
   "outputs": [],
   "source": [
    "# test type of variables\n",
    "assert(isinstance(string1, str))\n",
    "assert(isinstance(string2, str))\n",
    "assert(isinstance(printer, str))\n",
    "\n",
    "assert(printer == 'inkjet')\n",
    "\n",
    "assert(isinstance(reslist, list))\n",
    "assert(reslist[0] == 'in')\n",
    "assert(reslist[1] == 'jet')\n",
    "\n",
    "print('Success!')"
   ]
  },
  {
   "cell_type": "markdown",
   "id": "eaba8a38",
   "metadata": {},
   "source": [
    "### 2. Make a list and a dictionary (6 points)\n",
    "\n",
    "**2.1.** (2 points) Create a variable called `alist` that contains, in order, the string 'dog', the boolean True, and the number 34. Write your answer in the following cell.\n"
   ]
  },
  {
   "cell_type": "code",
   "execution_count": null,
   "id": "367c5ed9",
   "metadata": {},
   "outputs": [],
   "source": [
    "# Your code here\n",
    "\n"
   ]
  },
  {
   "cell_type": "code",
   "execution_count": null,
   "id": "9eb92cea",
   "metadata": {},
   "outputs": [],
   "source": [
    "# This line tests to see if the variable you created, called `alist`, is of type list, and contains the correct element types\n",
    "assert(isinstance(alist, list))\n",
    "assert(isinstance(alist[0], str))\n",
    "assert(isinstance(alist[1], bool))\n",
    "assert(isinstance(alist[2], int))\n",
    "\n",
    "# This line tests to make sure the correct elements are contained in the list\n",
    "assert(alist[0] == 'dog')\n",
    "assert(alist[1] == True)\n",
    "assert(alist[2] == 34)\n",
    "\n",
    "print('Success!')"
   ]
  },
  {
   "cell_type": "markdown",
   "id": "60f60b1b",
   "metadata": {},
   "source": [
    "**2.2.** (2 points) Change the last entry of the list to equal the list `[2,5,9]`.<br>"
   ]
  },
  {
   "cell_type": "code",
   "execution_count": null,
   "id": "f6be7ae6",
   "metadata": {},
   "outputs": [],
   "source": [
    "# Your code here\n",
    "\n"
   ]
  },
  {
   "cell_type": "code",
   "execution_count": null,
   "id": "3da5f916",
   "metadata": {},
   "outputs": [],
   "source": [
    "assert(isinstance(alist[2], list))\n",
    "assert(alist[2] == [2,5,9])\n",
    "\n",
    "print('Success!')"
   ]
  },
  {
   "cell_type": "markdown",
   "id": "01dae697",
   "metadata": {},
   "source": [
    "**2.3.** (2 point) Make a dictionary that contains the capital cities of Korea, China, Japan, and United States a given country. The dictionary must be called `capitals` and should be able to used as follows:\n",
    "```python\n",
    "    capitals['Korea'] = 'Seoul'\n",
    "```\n"
   ]
  },
  {
   "cell_type": "code",
   "execution_count": null,
   "id": "302d99f3",
   "metadata": {},
   "outputs": [],
   "source": [
    "# Your code here\n",
    "\n"
   ]
  },
  {
   "cell_type": "code",
   "execution_count": null,
   "id": "b7c66fd4",
   "metadata": {},
   "outputs": [],
   "source": [
    "\"\"\" Test code for the previous code. This cell should NOT give any errors when it is run.\"\"\"\n",
    "\n",
    "# makes sure your code returns a dictionary\n",
    "assert(isinstance(major_cities, dict))\n",
    "\n",
    "# checks that the capitals can be accessed correctly\n",
    "assert(capitals['Korea'] == 'Seoul')\n",
    "assert(capitals['Japan'] == 'Tokyo')\n",
    "assert(capitals['China'] == 'Beijing')\n",
    "assert(capitals['United States'] == 'Washington D.C.')\n",
    "\n",
    "# if nothing throws an assertion, good job!\n",
    "print(\"Success!\")"
   ]
  },
  {
   "cell_type": "markdown",
   "id": "d4ed6144",
   "metadata": {},
   "source": [
    "### 3. Test for vowels (5 points)\n",
    "\n",
    "**3.1.** (2 points) Write a function that takes a character (i.e. a string of length 1) and returns True if it is a vowel, False otherwise. For example,\n",
    "```python\n",
    "    >>> isVowel(\"a\")\n",
    "    True\n",
    "    >>> isVowel(\"C\")\n",
    "    False\n",
    "```\n",
    "You can compare the input character with a known list of vowels. Don't forget about case!"
   ]
  },
  {
   "cell_type": "code",
   "execution_count": null,
   "id": "8a92e8a9",
   "metadata": {},
   "outputs": [],
   "source": [
    "def isVowel(char):\n",
    "    \"\"\"Takes a character and returns True if it is a vowel, and False otherwise.\n",
    "    \n",
    "    Parameters\n",
    "    ----------\n",
    "    char : string\n",
    "        string of length 1\n",
    "        \n",
    "    Returns\n",
    "    -------\n",
    "    boolean telling whether char is a vowel or not\n",
    "    \n",
    "    \"\"\"\n",
    "    # Your code here\n",
    "\n",
    "    \n",
    "    "
   ]
  },
  {
   "cell_type": "code",
   "execution_count": null,
   "id": "02a8e82b",
   "metadata": {},
   "outputs": [],
   "source": [
    "# Test your code here\n",
    "\n"
   ]
  },
  {
   "cell_type": "code",
   "execution_count": 2,
   "id": "49e5f5a3",
   "metadata": {},
   "outputs": [
    {
     "name": "stdout",
     "output_type": "stream",
     "text": [
      "Success!\n"
     ]
    }
   ],
   "source": [
    "\"\"\"Test code for the previous code. This cell should NOT give any errors when it is run.\"\"\"\n",
    "assert isVowel('a')\n",
    "assert not isVowel('m')\n",
    "assert not isVowel(' ')\n",
    "\n",
    "print(\"Success!\")"
   ]
  },
  {
   "cell_type": "code",
   "execution_count": null,
   "id": "dddb8e3d",
   "metadata": {},
   "outputs": [],
   "source": [
    "\"\"\"Test code for the previous code. This cell should NOT give any errors when it is run.\"\"\"\n",
    "assert isVowel('U')\n",
    "assert not isVowel('T')\n",
    "\n",
    "print(\"Success!\")"
   ]
  },
  {
   "cell_type": "markdown",
   "id": "281f87f3",
   "metadata": {},
   "source": [
    "**3.2.** (3 points) Using a list comprehension, capitalize only the vowels and keep others (i.e., consonant and space) as lower case in the string `This is a random sentence`, then save the result as `capitalized_vowels`. The following is your expected output. \n",
    "```python\n",
    "   sentence = 'This is a random sentence' \n",
    "   capitalized_vowels = ## use list comrehension here\n",
    "   >>> capitalized_vowels\n",
    "   ['t', 'h', 'I', 's', ' ', 'I', 's', ' ', 'A', ' ', 'r',  'A', 'n', 'd', 'O', 'm', ' ', 's', 'E', 'n', \n",
    "    't', 'E', 'n', 'c', 'E']\n",
    "   \n",
    "```"
   ]
  },
  {
   "cell_type": "code",
   "execution_count": null,
   "id": "9cc3af88",
   "metadata": {},
   "outputs": [],
   "source": [
    "sentence = 'This is a random sentence'\n",
    "# Your code here\n"
   ]
  },
  {
   "cell_type": "code",
   "execution_count": null,
   "id": "eb5ce35b",
   "metadata": {},
   "outputs": [],
   "source": [
    "\"\"\"Test code for the previous code. This cell should NOT give any errors when it is run.\"\"\"\n",
    "assert capitalized_vowels == ['t', 'h', 'I', 's', ' ', 'I', 's', ' ', 'A', ' ', 'r',  'A', 'n', 'd', 'O', 'm', ' ', 's', 'E', 'n', 't', 'E', 'n', 'c', 'E']\n",
    "\n",
    "print('Success!')"
   ]
  },
  {
   "cell_type": "markdown",
   "id": "35710dfb",
   "metadata": {},
   "source": [
    "### 4. Check for palindromes (5 points)\n",
    "\n",
    "**4.1.** (2 points) Define a function reverse() that computes the reversal of a string. For example, \n",
    "```python\n",
    "    >>> reverse(\"I am testing\")\n",
    "    \"gnitset ma I\"\n",
    "    \n",
    "```"
   ]
  },
  {
   "cell_type": "code",
   "execution_count": null,
   "id": "28f657f6",
   "metadata": {},
   "outputs": [],
   "source": [
    "def reverse(string):\n",
    "    \"\"\"Reverse string and then return in.\n",
    "    \n",
    "    Parameters\n",
    "    ----------\n",
    "    string : str\n",
    "        \n",
    "        \n",
    "    Returns\n",
    "    -------\n",
    "    string that is reversed\n",
    "    \"\"\"\n",
    "    # Your code here\n",
    "    \n"
   ]
  },
  {
   "cell_type": "code",
   "execution_count": null,
   "id": "62618b55",
   "metadata": {},
   "outputs": [],
   "source": [
    "# Test your code here\n",
    "\n"
   ]
  },
  {
   "cell_type": "code",
   "execution_count": null,
   "id": "34516cf2",
   "metadata": {},
   "outputs": [],
   "source": [
    "\"\"\"Test code for the previous function. This cell should NOT give any errors when it is run.\"\"\"\n",
    "assert reverse('I am testing') == 'gnitset ma I'\n",
    "assert reverse('I am TesTinG') == 'GniTseT ma I'\n",
    "assert reverse('') == ''\n",
    "\n",
    "print(\"Success!\")"
   ]
  },
  {
   "cell_type": "markdown",
   "id": "a62768c5",
   "metadata": {},
   "source": [
    "**4.2.** (3 points) Define a function `is_palindrome()` that recognizes palindromes (i.e. words and phrases that look the same written forwards and backwards). Make sure that case and spaces are ignored in your function; for example,\n",
    "```python\n",
    "    >>> is_palindrome(\"Never odd or even\")\n",
    "    True\n",
    "    >>> is_palindrome(\"This is a random sentence\")\n",
    "    False\n",
    "```"
   ]
  },
  {
   "cell_type": "code",
   "execution_count": null,
   "id": "a0f9929d",
   "metadata": {},
   "outputs": [],
   "source": [
    "def is_palindrome(phrase):\n",
    "    \"\"\"Returns True for a palindrome and False otherwise.\n",
    "    \n",
    "    Parameters\n",
    "    ----------\n",
    "    phrase : string\n",
    "        \n",
    "        \n",
    "    Returns\n",
    "    -------\n",
    "    Boolean\n",
    "    \"\"\"\n",
    " \n",
    "    # Your code here\n",
    "\n",
    "    "
   ]
  },
  {
   "cell_type": "code",
   "execution_count": null,
   "id": "09f18d50",
   "metadata": {},
   "outputs": [],
   "source": [
    "# Test your code here\n",
    "\n"
   ]
  },
  {
   "cell_type": "code",
   "execution_count": null,
   "id": "7094c25f",
   "metadata": {},
   "outputs": [],
   "source": [
    "\"\"\"Test code for the previous function. This cell should NOT give any errors when it is run.\"\"\"\n",
    "\n",
    "assert is_palindrome(\"radar\")\n",
    "assert not is_palindrome(\"I am testing\")\n",
    "\n",
    "print(\"These tests pass, more in next cell.\")"
   ]
  },
  {
   "cell_type": "code",
   "execution_count": null,
   "id": "ef851119",
   "metadata": {},
   "outputs": [],
   "source": [
    "\"\"\"Test code for the previous function. This cell should NOT give any errors when it is run.\"\"\"\n",
    "\n",
    "assert is_palindrome(\"rad dar\")\n",
    "assert is_palindrome(\"Never odd or even\")\n",
    "\n",
    "print(\"Success!\")"
   ]
  },
  {
   "cell_type": "markdown",
   "id": "9bbcce2f",
   "metadata": {},
   "source": [
    "### *You have finished Lab 1: Python basics*\n",
    "Please name your jupyter notebook as `GEOG4038_Lab1_[YOUR_STUDENT_ID].ipynb`, and upload it to https://e-campus.khu.ac.kr/. "
   ]
  }
 ],
 "metadata": {
  "kernelspec": {
   "display_name": "GIS_Project",
   "language": "python",
   "name": "python3"
  },
  "language_info": {
   "codemirror_mode": {
    "name": "ipython",
    "version": 3
   },
   "file_extension": ".py",
   "mimetype": "text/x-python",
   "name": "python",
   "nbconvert_exporter": "python",
   "pygments_lexer": "ipython3",
   "version": "3.13.1"
  }
 },
 "nbformat": 4,
 "nbformat_minor": 5
}
