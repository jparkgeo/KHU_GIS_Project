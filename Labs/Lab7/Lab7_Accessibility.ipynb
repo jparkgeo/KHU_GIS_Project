{
 "cells": [
  {
   "cell_type": "markdown",
   "id": "c87dfba4",
   "metadata": {},
   "source": [
    "# Lab7: Accessibility (Cumulative Opportunity) \n",
    "\n",
    "In this lab, we will measure accessibility using the **Cumulative Opportunity** method. This method evaluates accessibility by counting the number of opportunities (e.g., jobs, services) available within a specified distance or travel time from a given location. Additionally, it can incorporate the effect of distance—known as *distance decay*—by applying various decay functions.  \n",
    "The method is defined as follows:\n",
    "\n",
    "$$\\LARGE O_i = {\\sum_{j\\in {\\left\\{{t_{ij}} \\le {t_0} \\right\\}}}^{}{S_j}{f(t_{ij})}}$$\n",
    "\n",
    "where:<br>\n",
    "$O_i$: is the cumulative opportunity of location $i$ (e.g., the number of hospital accessible at location $i$). <br>\n",
    "$S_j$: the degree of supply (e.g., number of doctors) at location $j$. <br>\n",
    "$t_{ij}$: the travel time between locations $i$ and $j$. <br>\n",
    "$t_0$: the threshold travel time of the analysis. <br>\n",
    "$f(t_{ij})$: a distance decay function that decreases the weight of opportunities as the distance increases. <br>\n",
    "\n",
    "In addition, this lab will implement the Gaussian distribution as a distance decay function. The Gaussian distribution is defined as:\n",
    "$$\\LARGE\n",
    "G(t_{ij}, t_0) =\n",
    "\\begin{cases}\n",
    "\\frac{e^{-\\frac{1}{2} \\left(\\frac{t_{ij}}{t_0}\\right)^2} - e^{-\\frac{1}{2}}}{1 - e^{-\\frac{1}{2}}} & \\text{if } t_{ij} \\leq t_0 \\\\\\\\\n",
    "0 & \\text{if } t_{ij} > t_0\n",
    "\\end{cases}\n",
    "$$\n",
    "\n",
    "where: <br>\n",
    "$G(t_{ij}, t_0)$: the Gaussian distribution value at distance $t_{ij}$ with a threshold $t_0$. <br>\n",
    "$e$: the base of the natural logarithm (approximately 2.71828). <br>\n",
    "\n",
    "## Notes:\n",
    "**Before you submit your lab, make sure everything runs as expected WITHOUT ANY ERROR.** <br>\n",
    "**Make sure you fill in any place that says `YOUR CODE HERE` or `YOUR ANSWER HERE`:**"
   ]
  },
  {
   "cell_type": "code",
   "execution_count": null,
   "id": "23cc95b2",
   "metadata": {},
   "outputs": [],
   "source": [
    "FULL_NAME = \"\""
   ]
  },
  {
   "cell_type": "code",
   "execution_count": null,
   "id": "5403354f",
   "metadata": {},
   "outputs": [],
   "source": [
    "# Import necessary packages\n",
    "import geopandas as gpd\n",
    "import pandas as pd\n",
    "import networkx as nx\n",
    "import osmnx as ox\n",
    "import math\n",
    "import matplotlib.pyplot as plt"
   ]
  },
  {
   "cell_type": "markdown",
   "id": "8e37beeb",
   "metadata": {},
   "source": [
    "## 1. Data Preparation\n",
    "\n",
    "**1.1.** (0 point) Load `emd_5179.geojson` in the data folder as the name of `emd_gdf` with GeoPandas.<br>\n",
    "**1.2.** (0 point) Load `hospitals_seoul.geojson` in the data folder as the name of `hospital_gdf` with GeoPandas. <br>"
   ]
  },
  {
   "cell_type": "code",
   "execution_count": null,
   "id": "bf43aced",
   "metadata": {},
   "outputs": [],
   "source": [
    "# Your code here\n"
   ]
  },
  {
   "cell_type": "code",
   "execution_count": null,
   "id": "fc3c0303",
   "metadata": {},
   "outputs": [],
   "source": [
    "\"\"\" Test code for the previous code. This cell should NOT give any errors when it is run.\"\"\"\n",
    "assert type(emd_gdf) == gpd.GeoDataFrame\n",
    "assert emd_gdf.shape == (426, 4)\n",
    "assert emd_gdf.crs == 'EPSG:5179'\n",
    "assert hospital_gdf.shape == (14, 7)\n",
    "assert hospital_gdf.crs == 'EPSG:5179'\n",
    "\n",
    "print('Success!')"
   ]
  },
  {
   "cell_type": "markdown",
   "id": "b94bd17b",
   "metadata": {},
   "source": [
    "**1.3.** (2 point) Load `road_network_seoul.graphml` in the data folder as the name of `G` with OSMnx. <br>"
   ]
  },
  {
   "cell_type": "code",
   "execution_count": null,
   "id": "20b12007",
   "metadata": {},
   "outputs": [],
   "source": [
    "# Your code here\n"
   ]
  },
  {
   "cell_type": "code",
   "execution_count": null,
   "id": "d710a49c",
   "metadata": {},
   "outputs": [],
   "source": [
    "\"\"\" Test code for the previous code. This cell should NOT give any errors when it is run.\"\"\"\n",
    "assert type(G) == nx.classes.multidigraph.MultiDiGraph\n",
    "assert len(G.nodes) == 31253\n",
    "assert len(G.edges) == 64513\n",
    "\n",
    "print('Success!')"
   ]
  },
  {
   "cell_type": "markdown",
   "id": "92ef5e86",
   "metadata": {},
   "source": [
    "**1.4.** (2 points) For each hospital in `hospital_gdf`, find the nearest node in the network `G` and store the result in a new column named `nearest_nodes` in the `hospital_gdf` GeoDataFrame.\n",
    "\n",
    "**1.5.** (2 points) For each centroid of an administrative region (읍면동) in `emd_gdf`, find the nearest node in the network `G` and store the result in a new column named `nearest_nodes` in the `emd_gdf` GeoDataFrame.\n"
   ]
  },
  {
   "cell_type": "code",
   "execution_count": null,
   "id": "e2fdb62d",
   "metadata": {},
   "outputs": [],
   "source": [
    "# Your code here\n"
   ]
  },
  {
   "cell_type": "code",
   "execution_count": null,
   "id": "f61fea21",
   "metadata": {},
   "outputs": [],
   "source": [
    "\"\"\" Test code for the previous code. This cell should NOT give any errors when it is run.\"\"\"\n",
    "assert hospital_gdf.loc[hospital_gdf['사업장명'] == '연세대학교의과대학세브란스병원', 'nearest_nodes'].values[0] == 637022\n",
    "assert hospital_gdf.loc[hospital_gdf['사업장명'] == '삼성서울병원', 'nearest_nodes'].values[0] == 847578\n",
    "assert emd_gdf.loc[emd_gdf['ADM_NM'] == '회기동', 'nearest_nodes'].values[0] == 347649\n",
    "assert emd_gdf.loc[emd_gdf['ADM_NM'] == '여의동', 'nearest_nodes'].values[0] == 224341\n",
    "\n",
    "print('Success!')"
   ]
  },
  {
   "cell_type": "markdown",
   "id": "2dccf1e8",
   "metadata": {},
   "source": [
    "## 2. Get the accessible area of a hospital\n",
    "\n",
    "In this section, we will calculate the accessible area of a hospital using the Cumulative Opportunity method.  \n",
    "As illustrated in the image below, you will compute the opportunity for a hospital (e.g., `경희대학교병원`) within a specified travel time threshold (e.g., 10 minutes).  \n",
    "Here, opportunity is defined as the number of hospitals that can be reached within the given travel time threshold.\n",
    "\n",
    "\n",
    "<div style=\"text-align: center\">\n",
    "  <img src=\"./data/q2.png\" width=\"500\">\n",
    "</div>\n",
    "\n",
    "**2.1.** (2 points) Select the nearest node of `경희대학교병원` from `hospital_gdf` and store it in a variable named `hospital_node`. Be sure to select the ID as an integer."
   ]
  },
  {
   "cell_type": "code",
   "execution_count": null,
   "id": "5ea873a8",
   "metadata": {},
   "outputs": [],
   "source": [
    "# Your code here\n"
   ]
  },
  {
   "cell_type": "code",
   "execution_count": null,
   "id": "dc8dd279",
   "metadata": {},
   "outputs": [],
   "source": [
    "\"\"\" Test code for the previous code. This cell should NOT give any errors when it is run.\"\"\"\n",
    "assert hospital_node == 647525\n",
    "\n",
    "print('Success!')"
   ]
  },
  {
   "cell_type": "markdown",
   "id": "1b7641b8",
   "metadata": {},
   "source": [
    "**2.2.** (2 points) Search the accessible nodes from `hospital_node` within 10 minutes (600 seconds) and store the result (dictionary) in a variable named `access_nodes_dic`. <br> You can use <a href=https://networkx.org/documentation/stable/reference/algorithms/generated/networkx.algorithms.shortest_paths.weighted.single_source_dijkstra_path_length.html>`nx.single_source_dijkstra_path_length()`</a> function.<br>\n"
   ]
  },
  {
   "cell_type": "code",
   "execution_count": null,
   "id": "5eb55ccd",
   "metadata": {},
   "outputs": [],
   "source": [
    "# Your code here\n"
   ]
  },
  {
   "cell_type": "code",
   "execution_count": null,
   "id": "893c97d2",
   "metadata": {},
   "outputs": [],
   "source": [
    "\"\"\" Test code for the previous code. This cell should NOT give any errors when it is run.\"\"\"\n",
    "assert type(access_nodes_dic) == dict\n",
    "assert len(access_nodes_dic) == 626\n",
    "assert round(access_nodes_dic[348067]) == 600\n",
    "assert round(access_nodes_dic[346684]) == 160\n",
    "\n",
    "print('Success!')"
   ]
  },
  {
   "cell_type": "markdown",
   "id": "72a41f37",
   "metadata": {},
   "source": [
    "**2.3.** (2 points) Select the administrative region (읍면동) in `emd_gdf` that contains the `hospital_node` and store it in a variable named `hospital_emd`.  \n",
    "You may use the `.isin()` method from GeoPandas and the `.keys()` method from a dictionary.\n",
    "\n",
    "<div style=\"text-align: center\">\n",
    "  <img src=\"./data/q2_3.jpg\" width=\"700\">\n",
    "</div>\n"
   ]
  },
  {
   "cell_type": "code",
   "execution_count": null,
   "id": "cc1e7b41",
   "metadata": {},
   "outputs": [],
   "source": [
    "# Your code here\n"
   ]
  },
  {
   "cell_type": "code",
   "execution_count": null,
   "id": "0cc0ada5",
   "metadata": {},
   "outputs": [],
   "source": [
    "\"\"\" Test code for the previous code. This cell should NOT give any errors when it is run.\"\"\"\n",
    "assert type(hospital_emd) == gpd.GeoDataFrame\n",
    "assert hospital_emd.shape == (12, 5)\n",
    "\n",
    "print('Success!')"
   ]
  },
  {
   "cell_type": "markdown",
   "id": "7e564a0c",
   "metadata": {},
   "source": [
    "**2.4.** (2 points) Retrieve the travel time from `hospital_node` to each administrative region (읍면동) in `hospital_emd`, and store it in a new column named `time` in the `hospital_emd` GeoDataFrame.  \n",
    "You can use the `.apply()` function with a lambda function to extract the travel time from the `access_nodes_dic` and apply it to the `hospital_emd` GeoDataFrame.\n",
    "\n",
    "<div style=\"text-align: center\">\n",
    "  <img src=\"./data/q2_4.jpg\" width=\"700\">\n",
    "</div>"
   ]
  },
  {
   "cell_type": "code",
   "execution_count": null,
   "id": "3adc0787",
   "metadata": {},
   "outputs": [],
   "source": [
    "# Your code here\n"
   ]
  },
  {
   "cell_type": "code",
   "execution_count": null,
   "id": "ddcfe00b",
   "metadata": {},
   "outputs": [],
   "source": [
    "\"\"\" Test code for the previous code. This cell should NOT give any errors when it is run.\"\"\"\n",
    "assert 'time' in hospital_emd.columns\n",
    "assert hospital_emd.shape == (12, 6)\n",
    "assert round(hospital_emd.loc[hospital_emd['ADM_NM'] == '회기동', 'time'].values[0]) == 141\n",
    "assert round(hospital_emd.loc[hospital_emd['ADM_NM'] == '중화2동', 'time'].values[0]) == 597\n",
    "\n",
    "print('Success!')"
   ]
  },
  {
   "cell_type": "markdown",
   "id": "f011d84e",
   "metadata": {},
   "source": [
    "**2.5.** (2 points) Now, you will implement the Gaussian distribution as a distance decay function. <br> Run the following `gaussian` function and then calculate the weight of the hospital for each administrative region (읍면동) in `hospital_emd` using the Gaussian distribution with a threshold of 600 seconds. <br> <br>For example, the distance decay function means that the weight of the travel time is 1 when the travel time is 0 seconds, and the weight decreases as the travel time increases. <br> Store the result in a new column named `access` in the `hospital_emd` GeoDataFrame.\n",
    "\n",
    "<div style=\"text-align: center\">\n",
    "  <img src=\"./data/q2_5.jpg\" width=\"700\">\n",
    "</div>\n",
    "\n",
    "```python\n",
    "    # Run this cell to implement the gaussian function\n",
    "\n",
    "    def gaussian(dij, d0):  # Gaussian probability distribution\n",
    "        # dij: travel distance/time between i and j\n",
    "        # d0: travel distance/time threshold\n",
    "        # val: value of the Gaussian function\n",
    "        \n",
    "        if d0 >= dij:\n",
    "            val = (math.exp(-1 / 2 * ((dij / d0) ** 2)) - math.exp(-1 / 2)) / (1 - math.exp(-1 / 2))\n",
    "            return val\n",
    "        else:\n",
    "            return 0\n",
    "```\n",
    "\n",
    "For your information, the Gaussian distribution is defined as:\n",
    "\n",
    "$$\\LARGE\n",
    "G(t_{ij}, t_0) =\n",
    "\\begin{cases}\n",
    "\\frac{e^{-\\frac{1}{2} \\left(\\frac{t_{ij}}{t_0}\\right)^2} - e^{-\\frac{1}{2}}}{1 - e^{-\\frac{1}{2}}} & \\text{if } t_{ij} \\leq t_0 \\\\\\\\\n",
    "0 & \\text{if } t_{ij} > t_0\n",
    "\\end{cases}\n",
    "$$\n",
    "\n",
    "where: <br>\n",
    "$G(t_{ij}, t_0)$: the Gaussian distribution value at distance $t_{ij}$ with a threshold $t_0$. <br>\n",
    "$e$: the base of the natural logarithm (approximately 2.71828). <br>"
   ]
  },
  {
   "cell_type": "code",
   "execution_count": null,
   "id": "39727136",
   "metadata": {},
   "outputs": [],
   "source": [
    "# Run this cell to implement the gaussian function\n",
    "\n",
    "def gaussian(dij, d0):  # Gaussian probability distribution\n",
    "    # dij: travel distance/time between i and j\n",
    "    # d0: travel distance/time threshold\n",
    "    # val: value of the Gaussian function\n",
    "    \n",
    "    if d0 >= dij:\n",
    "        val = (math.exp(-1 / 2 * ((dij / d0) ** 2)) - math.exp(-1 / 2)) / (1 - math.exp(-1 / 2))\n",
    "        return val\n",
    "    else:\n",
    "        return 0"
   ]
  },
  {
   "cell_type": "code",
   "execution_count": null,
   "id": "43c414d5",
   "metadata": {},
   "outputs": [],
   "source": [
    "# Your code here\n"
   ]
  },
  {
   "cell_type": "code",
   "execution_count": null,
   "id": "487b3775",
   "metadata": {},
   "outputs": [],
   "source": [
    "\"\"\" Test code for the previous code. This cell should NOT give any errors when it is run.\"\"\"\n",
    "assert 'access' in hospital_emd.columns\n",
    "assert hospital_emd.shape == (12, 7)\n",
    "assert round(hospital_emd.loc[hospital_emd['ADM_NM'] == '회기동', 'access'].values[0], 3) == 0.931\n",
    "assert round(hospital_emd.loc[hospital_emd['ADM_NM'] == '중화2동', 'access'].values[0], 3) == 0.008\n",
    "\n",
    "print('Success!')"
   ]
  },
  {
   "cell_type": "markdown",
   "id": "7d34303d",
   "metadata": {},
   "source": [
    "## 3. Measure accessibility of hospital for the entire city\n",
    "\n",
    "(9 points) With the parameters below, calculate the accessibility of hospitals for the entire city. Save the result in a new column named `access` in the `emd_gdf` GeoDataFrame. <br>\n",
    "The expected result is shown in the image below. <br> \n",
    "- **Travel time threshold**: 30 minutes (1800 seconds) <br>\n",
    "- **Distance decay function**: Gaussian distribution <br>\n",
    "- **Supply**: Equal weight for all hospitals (1) <br>\n",
    "\n",
    "<br>\n",
    "\n",
    "<div style=\"text-align: center\">\n",
    "  <img src=\"./data/q3.png\" width=\"600\">\n",
    "</div>\n",
    "\n",
    "\n"
   ]
  },
  {
   "cell_type": "code",
   "execution_count": null,
   "id": "2f0b3994",
   "metadata": {},
   "outputs": [],
   "source": [
    "# Your code here\n",
    "\n"
   ]
  },
  {
   "cell_type": "code",
   "execution_count": null,
   "id": "4e1aa43e",
   "metadata": {},
   "outputs": [],
   "source": [
    "\"\"\" Test code for the previous code. This cell should NOT give any errors when it is run.\"\"\"\n",
    "assert emd_gdf.shape == (426, 6)\n",
    "assert round(emd_gdf.loc[emd_gdf['ADM_NM'] == '회기동', 'access'].values[0], 3) == 2.65\n",
    "assert emd_gdf.loc[emd_gdf['access'] == 0].shape[0] == 5\n",
    "\n",
    "print('Success!')"
   ]
  },
  {
   "cell_type": "markdown",
   "id": "afa62013",
   "metadata": {},
   "source": [
    "You can also check the results with the following code:\n",
    "```python\n",
    "    # Windows\n",
    "    # plt.rcParams['font.family'] = 'Malgun Gothic'\n",
    "\n",
    "    # Mac\n",
    "    # plt.rcParams['font.family'] = 'AppleGothic'\n",
    "\n",
    "    import matplotlib.patheffects as pe\n",
    "    gu_gdf = gpd.read_file('./data/gu_gdf.geojson')\n",
    "\n",
    "    fig, ax = plt.subplots(figsize=(10, 10))\n",
    "    emd_gdf.plot(column='access', cmap='Blues', legend=True, scheme='UserDefined', ax=ax,\n",
    "                    classification_kwds={'bins': [1, 2, 3, 4, 5]},\n",
    "                    )\n",
    "\n",
    "    gu_gdf.boundary.plot(ax=ax, color='black', linewidth=0.5)\n",
    "\n",
    "    # Annotation\n",
    "    for idx, row in gu_gdf.iterrows(): # Iterate everyrow in `tsa` GeoDataFrame\n",
    "        ax.text(s=row['ADM_NM'], # String to be displayed; TSA name\n",
    "                x=row['geometry'].centroid.coords[:][0][0], # X coordinate of label\n",
    "                y=row['geometry'].centroid.coords[:][0][1], # Y coordinate of label\n",
    "                fontsize=15, \n",
    "                color='black',\n",
    "                ha='center', # Horizontal align\n",
    "                va='center', # Vertical align\n",
    "                path_effects=[pe.withStroke(linewidth=2, foreground=\"white\")] # This will create boundary of text\n",
    "            )\n",
    "\n",
    "    ax.get_xaxis().set_visible(False)  # Remove ticks and labels\n",
    "    ax.get_yaxis().set_visible(False)  # Remove ticks and labels\n",
    "\n",
    "    plt.show()\n",
    "```"
   ]
  },
  {
   "cell_type": "code",
   "execution_count": null,
   "id": "2a6cf978",
   "metadata": {},
   "outputs": [],
   "source": [
    "# Windows\n",
    "# plt.rcParams['font.family'] = 'Malgun Gothic'\n",
    "\n",
    "# Mac\n",
    "plt.rcParams['font.family'] = 'AppleGothic'\n",
    "\n",
    "import matplotlib.patheffects as pe\n",
    "gu_gdf = gpd.read_file('./data/gu_gdf.geojson')\n",
    "\n",
    "fig, ax = plt.subplots(figsize=(10, 10))\n",
    "emd_gdf.plot(column='access', cmap='Blues', legend=True, scheme='UserDefined', ax=ax,\n",
    "                classification_kwds={'bins': [1, 2, 3, 4, 5]},\n",
    "                )\n",
    "\n",
    "gu_gdf.boundary.plot(ax=ax, color='black', linewidth=0.5)\n",
    "\n",
    "# Annotation\n",
    "for idx, row in gu_gdf.iterrows(): # Iterate everyrow in `tsa` GeoDataFrame\n",
    "    ax.text(s=row['ADM_NM'], # String to be displayed; TSA name\n",
    "            x=row['geometry'].centroid.coords[:][0][0], # X coordinate of label\n",
    "            y=row['geometry'].centroid.coords[:][0][1], # Y coordinate of label\n",
    "            fontsize=15, \n",
    "            color='black',\n",
    "            ha='center', # Horizontal align\n",
    "            va='center', # Vertical align\n",
    "            path_effects=[pe.withStroke(linewidth=2, foreground=\"white\")] # This will create boundary of text\n",
    "           )\n",
    "\n",
    "ax.get_xaxis().set_visible(False)  # Remove ticks and labels\n",
    "ax.get_yaxis().set_visible(False)  # Remove ticks and labels\n",
    "\n",
    "plt.show()"
   ]
  },
  {
   "cell_type": "markdown",
   "id": "0f85f733",
   "metadata": {},
   "source": [
    "### *You have finished Lab 7: Accessibility*\n",
    "Please name your jupyter notebook as `GEOG4038_Lab7_[YOUR_STUDENT_ID].ipynb`, and upload it to https://e-campus.khu.ac.kr/. "
   ]
  }
 ],
 "metadata": {
  "kernelspec": {
   "display_name": "GIS_Project",
   "language": "python",
   "name": "python3"
  },
  "language_info": {
   "codemirror_mode": {
    "name": "ipython",
    "version": 3
   },
   "file_extension": ".py",
   "mimetype": "text/x-python",
   "name": "python",
   "nbconvert_exporter": "python",
   "pygments_lexer": "ipython3",
   "version": "3.13.1"
  }
 },
 "nbformat": 4,
 "nbformat_minor": 5
}
