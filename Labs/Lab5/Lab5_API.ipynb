{
 "cells": [
  {
   "cell_type": "markdown",
   "id": "f0f9a45a",
   "metadata": {},
   "source": [
    "# Lab 5: API\n",
    "\n",
    "In this lab, you will retrieve hospital data (상급종합병원) and administrative distrct (시도) geometry from VWorld API. Then calculate the number of hospitals in each administrative district (시도) and create a choropleth map to examine the distribution of hospitals in South Korea. \n",
    "\n",
    "\n",
    "The data of this lab was obtained from the following resources. \n",
    "* Hospital data (상급종합병원): VWorld 검색 API 2.0 레퍼런스 (https://www.vworld.kr/dev/v4dv_search2_s001.do)\n",
    "* 시도 geometry: VWorld WMS/WFS API 2.0 레퍼런스 (https://www.vworld.kr/dev/v4dv_wmsguide2_s001.do)\n",
    "\n",
    "## Notes:\n",
    "**Before you submit your lab, make sure everything runs as expected WITHOUT ANY ERROR.** <br>\n",
    "**Make sure you fill in any place that says `YOUR CODE HERE` or `YOUR ANSWER HERE`:**"
   ]
  },
  {
   "cell_type": "code",
   "execution_count": null,
   "id": "f4ad6aa2",
   "metadata": {},
   "outputs": [],
   "source": [
    "FULL_NAME = \"\""
   ]
  },
  {
   "cell_type": "code",
   "execution_count": null,
   "id": "0720f0af",
   "metadata": {},
   "outputs": [],
   "source": [
    "# Import necessary packages\n",
    "import requests\n",
    "import geopandas as gpd\n",
    "import pandas as pd\n",
    "from urllib.parse import urlencode"
   ]
  },
  {
   "cell_type": "markdown",
   "id": "99ec16ea",
   "metadata": {},
   "source": [
    "## 1. Hospital Data Collection\n",
    "\n",
    "**1.1.** Visit the API documentation page (https://www.vworld.kr/dev/v4dv_search2_s001.do) and review the information on how to retrieve hospital data for tertiary general hospitals (상급종합병원). You will need to use the `TYPE` and `CATEGORY` parameters.\n",
    "\n",
    "**1.2.** (2 points) From the URL below, locate the code corresponding to tertiary general hospitals (상급종합병원), and store it in the variable `hospital_code`.\n",
    "Make sure to save it as a string, as the code begins with '0'. <br>\n",
    "장소분류코드: https://www.vworld.kr/contents/%EB%B8%8C%EC%9D%B4%EC%9B%94%EB%93%9C_%EC%9E%A5%EC%86%8C%EB%B6%84%EB%A5%98%EC%BD%94%EB%93%9C_20240712.xlsx\n",
    "\n",
    "**1.3.** (1 point) Use the `requests` library to call the API and store the response in the variable `response_poi`.\n",
    "Note that there are 45 such hospitals in South Korea, so set the size parameter to a value greater than 45, even though this parameter is optional."
   ]
  },
  {
   "cell_type": "code",
   "execution_count": null,
   "id": "32454da4",
   "metadata": {},
   "outputs": [],
   "source": [
    "# Your code here\n",
    "YOUR_API_KEY = ''\n",
    "\n",
    "\n",
    "response_poi = requests.get()\n"
   ]
  },
  {
   "cell_type": "code",
   "execution_count": null,
   "id": "401cd16d",
   "metadata": {},
   "outputs": [],
   "source": [
    "\"\"\" Test code for the previous code. This cell should NOT give any errors when it is run.\"\"\"\n",
    "import re\n",
    "\n",
    "assert type(hospital_code) == str\n",
    "assert hospital_code == '020315601010'\n",
    "_size = re.search(r'size=(\\d+)', response_poi.url)\n",
    "assert int(_size.group(1)) >= 45\n",
    "_category = re.search(r'category=(\\d+)', response_poi.url)\n",
    "assert _category.group(1) == hospital_code\n",
    "assert response_poi.status_code == 200\n",
    "\n",
    "print('Success!')"
   ]
  },
  {
   "cell_type": "markdown",
   "id": "d2c30f75",
   "metadata": {},
   "source": [
    "**1.4.** (4 points) Convert the response to a DataFrame and store it in the variable `hospital_df`. Note that you need to examine the structure of the response to extract the relevant data. "
   ]
  },
  {
   "cell_type": "code",
   "execution_count": null,
   "id": "fec7b319",
   "metadata": {},
   "outputs": [],
   "source": [
    "# Your code here\n",
    "\n",
    "hospital_df = \n",
    "\n"
   ]
  },
  {
   "cell_type": "code",
   "execution_count": null,
   "id": "f6eb52aa",
   "metadata": {},
   "outputs": [],
   "source": [
    "\"\"\" Test code for the previous code. This cell should NOT give any errors when it is run.\"\"\"\n",
    "\n",
    "assert hospital_df.shape[0] == 45\n",
    "assert '강릉아산병원' in hospital_df['title'].values\n",
    "\n",
    "print('Success!')"
   ]
  },
  {
   "cell_type": "markdown",
   "id": "5636587b",
   "metadata": {},
   "source": [
    "You might have noticed that the point column stores both x and y coordinates together in the form of a dictionary.\n",
    "<br>\n",
    "\n",
    "**1.5.** (4 points) Split the `point` column into two separate columns: `long` and `lat`. The `long` column should store the value of `x`, and the `lat` column should store the value of `y`, respectively.\n",
    "<br>\n",
    "\n",
    "**1.6.** (1 point) Change the data type of the `long` and `lat` columns to float. This is important for later calculations.\n",
    "\n",
    "**1.7.** (1 point) Drop the columns other than `id`, `title`, `long`, and `lat` columns from the DataFrame.\n"
   ]
  },
  {
   "cell_type": "code",
   "execution_count": null,
   "id": "a72a29d4",
   "metadata": {},
   "outputs": [],
   "source": [
    "# Your code here\n",
    "\n",
    "hospital_df.head(3)"
   ]
  },
  {
   "cell_type": "code",
   "execution_count": null,
   "id": "35822b09",
   "metadata": {},
   "outputs": [],
   "source": [
    "\"\"\" Test code for the previous code. This cell should NOT give any errors when it is run.\"\"\"\n",
    "\n",
    "assert hospital_df.shape == (45, 4)\n",
    "isinstance(hospital_df['long'][0], float)\n",
    "assert isinstance(hospital_df['lat'][0], float)\n",
    "assert 'address' not in hospital_df.columns and 'point' not in hospital_df.columns\n",
    "\n",
    "print('Success!')"
   ]
  },
  {
   "cell_type": "markdown",
   "id": "c8a4a034",
   "metadata": {},
   "source": [
    "**1.9.** (2 points) Convert the DataFrame to a GeoDataFrame using the `long` and `lat` columns as the geometry. Then save the GeoDataFrame as `hospital_gdf`."
   ]
  },
  {
   "cell_type": "code",
   "execution_count": null,
   "id": "868d6525",
   "metadata": {},
   "outputs": [],
   "source": [
    "hospital_gdf = \n",
    "hospital_gdf"
   ]
  },
  {
   "cell_type": "code",
   "execution_count": null,
   "id": "628e83e1",
   "metadata": {},
   "outputs": [],
   "source": [
    "\"\"\" Test code for the previous code. This cell should NOT give any errors when it is run.\"\"\"\n",
    "\n",
    "assert hospital_gdf.shape == (45, 5)\n",
    "assert hospital_gdf.crs == 'EPSG:4326'\n",
    "assert 'geometry' in hospital_gdf.columns\n",
    "assert hospital_gdf['geometry'][0].geom_type == 'Point'\n",
    "\n",
    "print('Success!')"
   ]
  },
  {
   "cell_type": "markdown",
   "id": "80bd856a",
   "metadata": {},
   "source": [
    "## 2. Administrative Distrct (시도) Geometry Collection\n",
    "\n",
    "**2.1.** Visit the API documentation page (https://www.vworld.kr/dev/v4dv_wmsguide2_s001.do) and review the information on how to retrieve administrative district (시도) geometry data. In this case, you will need to use the `typename` parameter.\n",
    "\n",
    "**2.2.** (2 points) From the URL below, locate the code corresponding to *시도* and store it in the variable `layer`. Additionally, it is recommended to set the `output` parameter to `json` for faster data retrieval.  \n",
    "WFS 칼럼정보 파일:\n",
    "https://www.vworld.kr/contents/%EB%B8%8C%EC%9D%B4%EC%9B%94%EB%93%9C_WFS_%EC%BB%AC%EB%9F%BC%EC%A0%95%EB%B3%B4.xlsx\n",
    "\n",
    "**2.3.** (3 points) Use the `urlencode` function to encode the parameters for the API request, and save the resulting URL in the variable `url_sido`.\n"
   ]
  },
  {
   "cell_type": "code",
   "execution_count": null,
   "id": "764dab19",
   "metadata": {},
   "outputs": [],
   "source": [
    "# Your code here\n",
    "\n",
    "url_sido = \n",
    "\n",
    "print(url_sido)"
   ]
  },
  {
   "cell_type": "code",
   "execution_count": null,
   "id": "d064cb15",
   "metadata": {},
   "outputs": [],
   "source": [
    "\"\"\" Test code for the previous code. This cell should NOT give any errors when it is run.\"\"\"\n",
    "import re\n",
    "\n",
    "assert url_sido.split('?')[0] == 'https://api.vworld.kr/req/wfs'\n",
    "assert 'REQUEST'.lower() in url_sido.lower()\n",
    "_request = re.search(r'REQUEST=([^&]+)', url_sido)\n",
    "assert _request.group(1) == 'GetFeature'\n",
    "_layer = re.search(r'typename=([^&]+)', url_sido)\n",
    "assert _layer.group(1) == layer\n",
    "\n",
    "print('Success!')"
   ]
  },
  {
   "cell_type": "markdown",
   "id": "671c2d10",
   "metadata": {},
   "source": [
    "**2.4.** (2 points) Load the geometry data by passing the `url_sido` to `gpd.read_file()`. Store the result in the variable `sido_gdf`.\n",
    "\n",
    "**2.5.** (1 point) If the CRS of `sido_gdf` is not `EPSG:4326`, convert it using the `to_crs()` method.\n",
    "\n",
    "**2.6.** (2 points) Calculate the number of hospitals in each administrative district (*시도*), and store the result in the `hospital` column of the `sido_gdf` GeoDataFrame.\n"
   ]
  },
  {
   "cell_type": "code",
   "execution_count": null,
   "id": "dbbdd138",
   "metadata": {},
   "outputs": [],
   "source": [
    "# Your code here\n",
    "\n",
    "\n",
    "sido_gdf\n",
    "    "
   ]
  },
  {
   "cell_type": "code",
   "execution_count": null,
   "id": "03da2c59",
   "metadata": {},
   "outputs": [],
   "source": [
    "\"\"\" Test code for the previous code. This cell should NOT give any errors when it is run.\"\"\"\n",
    "import re\n",
    "\n",
    "assert sido_gdf.shape == (17, 8)\n",
    "assert sido_gdf.crs == 'EPSG:4326'\n",
    "assert sido_gdf['hospital'].sum() == 45\n",
    "\n",
    "print('Success!')"
   ]
  },
  {
   "cell_type": "markdown",
   "id": "9cf0ccfe",
   "metadata": {},
   "source": [
    "# Done"
   ]
  }
 ],
 "metadata": {
  "kernelspec": {
   "display_name": "GIS_Project",
   "language": "python",
   "name": "python3"
  },
  "language_info": {
   "codemirror_mode": {
    "name": "ipython",
    "version": 3
   },
   "file_extension": ".py",
   "mimetype": "text/x-python",
   "name": "python",
   "nbconvert_exporter": "python",
   "pygments_lexer": "ipython3",
   "version": "3.13.1"
  }
 },
 "nbformat": 4,
 "nbformat_minor": 5
}
