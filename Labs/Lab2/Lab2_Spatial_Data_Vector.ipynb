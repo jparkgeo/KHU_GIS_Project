{
 "cells": [
  {
   "cell_type": "markdown",
   "id": "91de9c8f",
   "metadata": {},
   "source": [
    "# Lab 2: Spatial data manipulation: Vector\n",
    "\n",
    "## Structure\n",
    "### 1. Pandas DataFrame operation (Calculate the Extinction Risk Index (소멸위험지수)) \n",
    "**1.1.** (1 point) Load Excel File <br>\n",
    "**1.2.** (5 points) List Comprehension <br>\n",
    "**1.3.** (2 points) Create columns in DataFrame and update their values <br>\n",
    "**1.4.** (2 points) Manipulate DataFrame contents (the risk of extinction ratio) <br>\n",
    "**1.5.** (5 points) Iterate through the DataFrame and assign values to a new column <br>\n",
    "\n",
    "\n",
    "### 2. GeoPandas GeoDataFrame Operation (calculate the hospital counts per Sigungu (시군구)).  \n",
    "**2.1.** (1 point) Load the data <br>\n",
    "**2.2.** (2 points) Convert DataFrame into GeoDataFrame <br>\n",
    "**2.3.** (5 points) Spatial operations with GeoPandas <br>\n",
    "**2.4.** (1 point) Merge (Join) DataFrame <br>\n",
    "**2.5.** (1 point) Calculate vulnerable Sigungu <br>\n",
    "\n",
    "## Notes:\n",
    "**Before you submit your lab, make sure everything runs as expected WITHOUT ANY ERROR.** <br>\n",
    "**Make sure you fill in any place that says `YOUR CODE HERE` or `YOUR ANSWER HERE`:**"
   ]
  },
  {
   "cell_type": "code",
   "execution_count": null,
   "id": "c789d49e",
   "metadata": {},
   "outputs": [],
   "source": [
    "FULL_NAME = \"\""
   ]
  },
  {
   "cell_type": "code",
   "execution_count": null,
   "id": "273d749e",
   "metadata": {},
   "outputs": [],
   "source": [
    "# import necessary packages\n",
    "import geopandas as gpd\n",
    "import pandas as pd"
   ]
  },
  {
   "cell_type": "markdown",
   "id": "116691a4",
   "metadata": {},
   "source": [
    "### 1. Pandas DataFrame operation (Calculate the Extinction Risk Index) \n",
    "\n",
    "The extinction risk index is a demographic measure used to assess the sustainability of a population, which is calculated by the following formula: <br>\n",
    "\n",
    "$$\n",
    "\\text{Extinction Risk Index} = \\frac{\\text{Population of women aged 20-39}}{\\text{Population aged 65 and over}}\n",
    "$$\n",
    "\n",
    "**1.1.** Load Excel File\n",
    "- Load `2023_연앙인구_시군구별.xlsx` in the `data` folder using an appropriate function in Pandas (`pd`) and assign the csv file to `pop_df` variable. <br>"
   ]
  },
  {
   "cell_type": "code",
   "execution_count": null,
   "id": "fa443208",
   "metadata": {},
   "outputs": [],
   "source": [
    "# Your code here\n",
    "## 1.1. Answer\n",
    "pop_df = \n",
    "pop_df"
   ]
  },
  {
   "cell_type": "code",
   "execution_count": null,
   "id": "24bfafd8",
   "metadata": {},
   "outputs": [],
   "source": [
    "\"\"\" Test code for the previous code. This cell should NOT give any errors when it is run.\"\"\"\n",
    "\n",
    "assert type(pop_df) == pd.DataFrame\n",
    "\n",
    "print('Success!')"
   ]
  },
  {
   "cell_type": "markdown",
   "id": "559ae825",
   "metadata": {},
   "source": [
    "**1.2.** List Comprehension\n",
    "\n",
    "- **Using a list comprehension or a for loop**, create a list of columns for young women populations which will be identical to the list below and name the list as `young_women_cols`. \n",
    "\n",
    "```python\n",
    "    young_women_cols = ['여_20~24세', '여_25~29세', '여_30~34세', '여_35~39세']\n",
    "```\n",
    "\n",
    "***NOTE:*** YOU MUST NOT WRITE THE LIST MANUALLY.   "
   ]
  },
  {
   "cell_type": "code",
   "execution_count": null,
   "id": "0f62b9a1",
   "metadata": {},
   "outputs": [],
   "source": [
    "# Your code here\n",
    "young_women_cols = []\n",
    "young_women_cols"
   ]
  },
  {
   "cell_type": "code",
   "execution_count": null,
   "id": "16875fa8",
   "metadata": {},
   "outputs": [],
   "source": [
    "\"\"\" Test code for the previous code. This cell should NOT give any errors when it is run.\"\"\"\n",
    "\n",
    "assert type(young_women_cols) == list\n",
    "assert len(young_women_cols) == 4\n",
    "assert '여_20~24세' in young_women_cols\n",
    "assert '여_25~29세' in young_women_cols\n",
    "assert '여_30~34세' in young_women_cols\n",
    "assert '여_35~39세' in young_women_cols\n",
    "\n",
    "print('Success!')"
   ]
  },
  {
   "cell_type": "markdown",
   "id": "d9ed1c56",
   "metadata": {},
   "source": [
    "- **Using a list comprehension or a for loop**, create a list of columns for old populations which will be identical to the list below and name the list as `old_cols`.\n",
    "\n",
    "```python\n",
    "    old_cols = ['남_65~69세', '여_65~69세',  '남_70~74세', '여_70~74세', '남_75~79세', '여_75~79세', '남_80~84세', '여_80~84세', \n",
    "                    '남_85~89세', '여_85~89세', '남_90~94세', '여_90~94세', '남_95~99세', '여_95~99세']\n",
    "\n",
    "```\n",
    "\n",
    "***NOTE:*** YOU MUST NOT WRITE THE LIST MANUALLY.   "
   ]
  },
  {
   "cell_type": "code",
   "execution_count": null,
   "id": "9db9d43e",
   "metadata": {},
   "outputs": [],
   "source": [
    "### Your code here\n",
    "old_cols = []\n",
    "old_cols"
   ]
  },
  {
   "cell_type": "code",
   "execution_count": null,
   "id": "ce96a698",
   "metadata": {},
   "outputs": [],
   "source": [
    "\"\"\" Test code for the previous code. This cell should NOT give any errors when it is run.\"\"\"\n",
    "\n",
    "assert type(old_cols) == list\n",
    "assert len(old_cols) == 14\n",
    "assert '남_65~69세' in old_cols\n",
    "assert '남_80~84세' in old_cols\n",
    "assert '여_80~84세' in old_cols\n",
    "assert '여_90~94세' in old_cols\n",
    "\n",
    "print('Success!')"
   ]
  },
  {
   "cell_type": "markdown",
   "id": "5af8870c",
   "metadata": {},
   "source": [
    "**1.3.** Create columns in DataFrame and update their values\n",
    "\n",
    "- Create two columns (`young_women_pop` and `old_pop`) in the `pop_df` DataFrame. <br>\n",
    "The `young_women` column should be the sum of the columns in `young_women_cols` and the `old_pop` column should be the sum of the columns in `old_cols`."
   ]
  },
  {
   "cell_type": "code",
   "execution_count": null,
   "id": "cb4e09a7",
   "metadata": {},
   "outputs": [],
   "source": [
    "## Your code here\n",
    "\n",
    "\n",
    "pop_df"
   ]
  },
  {
   "cell_type": "code",
   "execution_count": null,
   "id": "110e57fe",
   "metadata": {},
   "outputs": [],
   "source": [
    "\"\"\" Test code for the previous code. This cell should NOT give any errors when it is run.\"\"\"\n",
    "\n",
    "assert 'young_women_pop' in pop_df.columns\n",
    "assert 'old_pop' in pop_df.columns\n",
    "assert pop_df['young_women_pop'].sum() == 6115205\n",
    "assert pop_df['old_pop'].sum() == 9721874.0\n",
    "assert pop_df.loc[pop_df['ADM_CD'] == 27290, 'young_women_pop'].values[0] == 59632\n",
    "\n",
    "print('Success!')"
   ]
  },
  {
   "cell_type": "markdown",
   "id": "ba1b0a54",
   "metadata": {},
   "source": [
    "**1.4.** Manipulate DataFrame contents (the risk of extinction ratio)\n",
    "- Create a new column (`ex_ratio`) in the `pop_df` DataFrame by dividing `young_women_pop` by `old_pop`. <br>\n",
    "Note that Extinction Risk Index is calculated by dividing the female population aged 20-39 by the population aged 65 and over. "
   ]
  },
  {
   "cell_type": "code",
   "execution_count": null,
   "id": "64b6e5e8",
   "metadata": {},
   "outputs": [],
   "source": [
    "# Your code here\n",
    "\n",
    "\n",
    "pop_df"
   ]
  },
  {
   "cell_type": "code",
   "execution_count": null,
   "id": "40f9ed51",
   "metadata": {},
   "outputs": [],
   "source": [
    "\"\"\" Test code for the previous code. This cell should NOT give any errors when it is run.\"\"\"\n",
    "\n",
    "assert 'ex_ratio' in pop_df.columns\n",
    "assert round(pop_df.loc[pop_df['ADM_CD'] == 27290, 'ex_ratio'].values[0], 3) == 0.636\n",
    "\n",
    "print('Success!')"
   ]
  },
  {
   "cell_type": "markdown",
   "id": "f96eddc3",
   "metadata": {},
   "source": [
    "**1.5.** Iterate through the DataFrame and assign values to a new column\n",
    "\n",
    "- Create a new column (`ex_index`) in the `pop_df` DataFrame and fill the cells based on the following criteria: <br>\n",
    "For example, if the value of `ex_ratio` is less than 0.2, the value of `ex_index` should be `High_Risk`.\n",
    "\n",
    "| Extinction Ratio (`ex_ratio`) | Extinction Index (`ex_index`) |\n",
    "|:--------:|:--------:|\n",
    "| x < 0.2    | High_Risk   |\n",
    "| 0.2 <= x < 0.5    | Moderate Risk   |\n",
    "| 0.5 <= x < 1.0    | Need Attention   |\n",
    "| 1.0 <= x < 1.5    | Normal   |\n",
    "| x >= 1.5    | Safe   |\n",
    "\n",
    "\n",
    "**Hint:** You can take advantge of for-loop and if-elif-else statement to fill the cells in the `ex_index` column."
   ]
  },
  {
   "cell_type": "code",
   "execution_count": null,
   "id": "d06b5f76",
   "metadata": {},
   "outputs": [],
   "source": [
    "# Your code here\n",
    "for idx, row in pop_df.iterrows():\n",
    "\n",
    "\n",
    "pop_df\n"
   ]
  },
  {
   "cell_type": "code",
   "execution_count": null,
   "id": "444b2892",
   "metadata": {},
   "outputs": [],
   "source": [
    "\"\"\" Test code for the previous code. This cell should NOT give any errors when it is run.\"\"\"\n",
    "\n",
    "assert 'ex_index' in pop_df.columns\n",
    "assert pop_df.loc[pop_df['ADM_CD'] == 27290, 'ex_index'].values[0] == 'Need_Attention'\n",
    "assert pop_df.loc[pop_df['ADM_KOR_NM'] == '고령군', 'ex_index'].values[0] == 'High_Risk'\n",
    "\n",
    "print('Success!')"
   ]
  },
  {
   "cell_type": "markdown",
   "id": "c606a072",
   "metadata": {},
   "source": [
    "### 2. GeoPandas GeoDataFrame Operation (calculate the hospital counts per Sigungu (시군구)).  \n",
    "\n",
    "**2.1.** Load the data \n",
    "- Load `sgg_geom.geojson` in the `data` folder with an appropriate function in GeoPandas (`gpd`) and name it to `sgg_gdf`. <br>\n",
    "- Load `hospitals.csv` in the `data` folder with an appropriate function in Pandas (`pd`) and name it to `hospital_df`. <br>"
   ]
  },
  {
   "cell_type": "code",
   "execution_count": null,
   "id": "87c08b44",
   "metadata": {},
   "outputs": [],
   "source": [
    "# Your code here\n",
    "\n",
    "## 2.1. Answer\n",
    "sgg_gdf = \n",
    "hospital_df = "
   ]
  },
  {
   "cell_type": "code",
   "execution_count": null,
   "id": "0f5795c4",
   "metadata": {},
   "outputs": [],
   "source": [
    "\"\"\" Test code for the previous code. This cell should NOT give any errors when it is run.\"\"\"\n",
    "\n",
    "assert type(sgg_gdf) == gpd.GeoDataFrame\n",
    "assert type(hospital_df) == pd.DataFrame\n",
    "\n",
    "print('Success!')"
   ]
  },
  {
   "cell_type": "markdown",
   "id": "234293f2",
   "metadata": {},
   "source": [
    "**2.2.** Convert DataFrame into GeoDataFrame\n",
    "- Convert the `hospital_df` DataFrame into a `GeoDataFrame` and name it as `hospital_gdf`. Use `points_from_xy()` function to place hospitals on the geographical surface based on their `x` and `y` columns.  \n",
    "- Set the CRS (Coordinates Rereference System) of `hospital_gdf` as WGS84 (epsg: 4326). <br>"
   ]
  },
  {
   "cell_type": "code",
   "execution_count": null,
   "id": "a30b3dd3",
   "metadata": {},
   "outputs": [],
   "source": [
    "# Your code here\n",
    "\n",
    "## 2.2. Answer\n",
    "hospital_gdf = \n",
    "\n"
   ]
  },
  {
   "cell_type": "code",
   "execution_count": null,
   "id": "5ff024b3",
   "metadata": {},
   "outputs": [],
   "source": [
    "\"\"\" Test code for the previous code. This cell should NOT give any errors when it is run.\"\"\"\n",
    "from shapely.geometry import Point\n",
    "\n",
    "assert type(hospital_gdf) == gpd.GeoDataFrame\n",
    "assert type(hospital_gdf.geometry[0]) == Point\n",
    "assert hospital_gdf.crs.name == 'WGS 84'\n",
    "\n",
    "print('Success!')"
   ]
  },
  {
   "cell_type": "markdown",
   "id": "01abdcb3",
   "metadata": {},
   "source": [
    "Currently, the `sgg_gdf` and `hospital_gdf` have different crs. We need to match them into an identical crs using `to_crs()` function. "
   ]
  },
  {
   "cell_type": "code",
   "execution_count": null,
   "id": "13c519b6",
   "metadata": {},
   "outputs": [],
   "source": [
    "print(sgg_gdf.crs)"
   ]
  },
  {
   "cell_type": "code",
   "execution_count": null,
   "id": "cd2608bf",
   "metadata": {},
   "outputs": [],
   "source": [
    "print(hospital_gdf.crs)"
   ]
  },
  {
   "cell_type": "markdown",
   "id": "4f8bd373",
   "metadata": {},
   "source": [
    "**2.3.** Spatial operations with GeoPandas\n",
    "\n",
    "- Before conducting spatial operations, you need to match the crs of `sgg_gdf` and `hospital_gdf` to the same crs. <br>\n",
    "Change the crs of `hospital_gdf` to the crs of `sgg_gdf` (`epsg:5179`).\n",
    "\n",
    "- Create a new column (column name: `hospital_counts`) in the `sgg_gdf` GeoDataFrame and fill the column with the hospital counts per Sigungu (시군구). You can use either the appraoch of `sjoin()` function or `iterrows()` function. <br>\n",
    "\n",
    "**Note**: If you use the approach of `sjoin()`, be aware that `merge()` function conducts an inner join by default. To keep the geometries of every Sigungu, what we want to do here is an outer join with `how` attribute (i.e., `how=left`). For more detailed information, take a look at <a herf=https://pandas.pydata.org/pandas-docs/stable/reference/api/pandas.DataFrame.merge.html#pandas.DataFrame.merge > here </a>."
   ]
  },
  {
   "cell_type": "code",
   "execution_count": null,
   "id": "0c124479",
   "metadata": {},
   "outputs": [],
   "source": [
    "# Your code here\n",
    "\n",
    "# Change crs\n",
    "\n",
    "\n",
    "# Calculate the number of hospitals in each SGG\n",
    "\n",
    "\n",
    "sgg_gdf"
   ]
  },
  {
   "cell_type": "code",
   "execution_count": null,
   "id": "800c406a",
   "metadata": {},
   "outputs": [],
   "source": [
    "\"\"\" Test code for the previous code. This cell should NOT give any errors when it is run.\"\"\"\n",
    "\n",
    "assert hospital_gdf.crs == \"EPSG:5179\"\n",
    "assert 'hospital_counts' in sgg_gdf.columns\n",
    "assert sgg_gdf.loc[sgg_gdf['hospital_counts'].isna()].shape[0] == 0\n",
    "assert sgg_gdf.loc[sgg_gdf['SIG_CD'] == '27290', 'hospital_counts'].values[0] == 6\n",
    "assert sgg_gdf.loc[sgg_gdf['SIG_KOR_NM'] == '고령군', 'hospital_counts'].values[0] == 0\n",
    "\n",
    "print('Success!')"
   ]
  },
  {
   "cell_type": "markdown",
   "id": "c64d1a15",
   "metadata": {},
   "source": [
    "**2.4.** Merge (Join) DataFrame <br>\n",
    "\n",
    "- Change the data type of `ADM_CD` column in `pop_df` to string. <br>\n",
    "- Merge the `sgg_gdf` GeoDataFrame with the `pop_df` DataFrame based on the `SIG_CD`/`ADM_CD` column, respectively. Name the merged result as `result_gdf` <br>"
   ]
  },
  {
   "cell_type": "code",
   "execution_count": null,
   "id": "a9708566",
   "metadata": {},
   "outputs": [],
   "source": [
    "# Your code here\n",
    "\n",
    "# Change data type\n",
    "\n",
    "# Merge two dataframes\n",
    "result_gdf = \n"
   ]
  },
  {
   "cell_type": "code",
   "execution_count": null,
   "id": "6ae331ef",
   "metadata": {},
   "outputs": [],
   "source": [
    "\"\"\" Test code for the previous code. This cell should NOT give any errors when it is run.\"\"\"\n",
    "\n",
    "assert pop_df['ADM_CD'].dtype == \"O\"\n",
    "assert 'hospital_counts' in result_gdf.columns\n",
    "assert 'ex_index' in result_gdf.columns\n",
    "\n",
    "print('Success!')"
   ]
  },
  {
   "cell_type": "markdown",
   "id": "a3353bd9",
   "metadata": {},
   "source": [
    "**2.5.** Calculate vulnerable Sigungu\n",
    "- Calculate the number of Sigungu which are in the high risk of extinction (`High_Risk`) and DO NOT have hospital. Save the number as `problem_sgg`. <br>"
   ]
  },
  {
   "cell_type": "code",
   "execution_count": null,
   "id": "a6b0979d",
   "metadata": {},
   "outputs": [],
   "source": [
    "# Your code here\n",
    "problem_sgg = \n"
   ]
  },
  {
   "cell_type": "code",
   "execution_count": null,
   "id": "eaf6a09d",
   "metadata": {},
   "outputs": [],
   "source": [
    "\"\"\" Test code for the previous code. This cell should NOT give any errors when it is run.\"\"\"\n",
    "\n",
    "assert problem_sgg == 44\n",
    "\n",
    "print('Success!')"
   ]
  },
  {
   "cell_type": "markdown",
   "id": "30457082",
   "metadata": {},
   "source": [
    "# Done"
   ]
  }
 ],
 "metadata": {
  "kernelspec": {
   "display_name": "GIS_Project",
   "language": "python",
   "name": "python3"
  },
  "language_info": {
   "codemirror_mode": {
    "name": "ipython",
    "version": 3
   },
   "file_extension": ".py",
   "mimetype": "text/x-python",
   "name": "python",
   "nbconvert_exporter": "python",
   "pygments_lexer": "ipython3",
   "version": "3.13.1"
  }
 },
 "nbformat": 4,
 "nbformat_minor": 5
}
