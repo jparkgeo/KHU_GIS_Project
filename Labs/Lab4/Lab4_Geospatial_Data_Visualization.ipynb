{
 "cells": [
  {
   "cell_type": "markdown",
   "id": "ea089773",
   "metadata": {},
   "source": [
    "# Lab 4: Geospatial Data Visualization\n",
    "\n",
    "In this lab, you will analyze the temporal changes in the extinction ratio of the population (지역소멸지수) in Seoul, South Korea, from 2000 to 2020, every five years. Prior to the geospatial data visualization, you are required to preprocess the data to make it suitable for visualization. Then, you will calculate the extinction ratio of the population using the following formula:\n",
    "\n",
    "$$\n",
    "\\text{Extinction Risk Index} = \\frac{\\text{Population of women aged 20-39}}{\\text{Population aged 65 and over}}\n",
    "$$\n",
    "\n",
    "\n",
    "The data of this lab was obtained from the following resources. \n",
    "* Population data (연앙인구): https://kosis.kr/statHtml/statHtml.do?orgId=101&tblId=DT_1B040M5&conn_path=I3 (시군구/성/연령(5세)별 주민등록연앙인구)\n",
    "* SGG (시군구) geometry: https://data.seoul.go.kr/dataVisual/seoul/seoulLivingPopulation.do (집계구 데이터를 재가공)\n",
    "\n",
    "## Structure\n",
    "### 1. Data Preprocessing \n",
    "**1.1.** Create an empty DataFrame (2 points) <br>\n",
    "**1.2.** Import the population data (1 point) <br>\n",
    "**1.3.** Calculate extinction ratio for a SGG (종로구) over the years (4 points) <br>\n",
    "**1.4.** Repeat the above steps for all SGGs (시군구) (4 points) <br>\n",
    "**1.5.** Join the `ratio_df` DataFrame with the SGG (시군구) geometry data (2 point) <br>\n",
    "\n",
    "### 2. A Single Choropleth Map (4 points)\n",
    "### 3. Create a customized color map (4 points)\n",
    "### 4. Creating a Figure with Multiple Axes (4 points)\n",
    "\n",
    "## Notes:\n",
    "**Before you submit your lab, make sure everything runs as expected WITHOUT ANY ERROR.** <br>\n",
    "**Make sure you fill in any place that says `YOUR CODE HERE` or `YOUR ANSWER HERE`:**"
   ]
  },
  {
   "cell_type": "code",
   "execution_count": null,
   "id": "5437b775",
   "metadata": {},
   "outputs": [],
   "source": [
    "FULL_NAME = \"\""
   ]
  },
  {
   "cell_type": "code",
   "execution_count": null,
   "id": "2642389b",
   "metadata": {},
   "outputs": [],
   "source": [
    "# Import necessary packages\n",
    "import pandas as pd\n",
    "import geopandas as gpd\n",
    "import matplotlib.pyplot as plt\n",
    "from matplotlib.colors import ListedColormap"
   ]
  },
  {
   "cell_type": "markdown",
   "id": "166a25b2",
   "metadata": {},
   "source": [
    "## 1. Data Preprocessing \n",
    "\n",
    "The structure of the ***raw population data*** is as shwon below. The population data is divided based on the age, gender, and years. <br>\n",
    "\n",
    "<div style=\"text-align: center\">\n",
    "  <img src=\"./data/population_raw_data.jpg\" width=\"500\">\n",
    "</div>\n",
    "\n",
    "To effectively visualize the data, you need to preprocess the data to meet ***the format as shown below***. Simply speaking, you need to calculate the extinction ratio of the population (지역소멸지수) for each SGG (시군구) and year. <br>\n",
    "\n",
    "<div style=\"text-align: center\">\n",
    "  <img src=\"./data/population_completed_data.jpg\" width=\"500\">\n",
    "</div>\n"
   ]
  },
  {
   "cell_type": "markdown",
   "id": "fde27bb3",
   "metadata": {},
   "source": [
    "### 1.1. Create an empty DataFrame (2 points)\n",
    "\n",
    "<div style=\"text-align: center\">\n",
    "  <img src=\"./data/empty_ratio_df.jpg\" width=\"300\">\n",
    "</div>\n",
    "\n",
    "With the two lists provided below, create an empty DataFrame (named `ratio_df`) with the columns as shown in the above image. In other words, `ratio_df` DataFrame has the `행정구역`, `Y2000`, `Y2005`, `Y2010`, `Y2015`, and `Y2020` columns. The `행정구역` column should contain the SGG (시군구) names, while the other columns should be empty. <br>\n",
    "\n",
    "```python\n",
    "    sgg_list = ['종로구', '중구', '용산구', '성동구', '광진구', '동대문구', '중랑구', '성북구', '강북구', \n",
    "                '도봉구', '노원구', '은평구', '서대문구', '마포구', '양천구', '강서구', '구로구', '금천구', \n",
    "                '영등포구', '동작구', '관악구', '서초구', '강남구', '송파구', '강동구']\n",
    "\n",
    "    year_list = ['Y2000', 'Y2005', 'Y2010', 'Y2015', 'Y2020']\n",
    "```\n",
    "\n"
   ]
  },
  {
   "cell_type": "code",
   "execution_count": null,
   "id": "d150da08",
   "metadata": {},
   "outputs": [],
   "source": [
    "# Information needed\n",
    "sgg_list = ['종로구', '중구', '용산구', '성동구', '광진구', '동대문구', '중랑구', '성북구', '강북구', \n",
    "            '도봉구', '노원구', '은평구', '서대문구', '마포구', '양천구', '강서구', '구로구', '금천구', \n",
    "            '영등포구', '동작구', '관악구', '서초구', '강남구', '송파구', '강동구']\n",
    "\n",
    "year_list = ['Y2000', 'Y2005', 'Y2010', 'Y2015', 'Y2020']\n",
    "\n",
    "# Your code here\n",
    "ratio_df = \n",
    "\n",
    "ratio_df"
   ]
  },
  {
   "cell_type": "code",
   "execution_count": null,
   "id": "b674246c",
   "metadata": {},
   "outputs": [],
   "source": [
    "\"\"\" Test code for the previous code. This cell should NOT give any errors when it is run.\"\"\"\n",
    "\n",
    "assert type(ratio_df) == pd.DataFrame\n",
    "assert ratio_df.shape == (25, 6) \n",
    "\n",
    "print('Success!')"
   ]
  },
  {
   "cell_type": "markdown",
   "id": "3d51e660",
   "metadata": {},
   "source": [
    "### 1.2. Import the population data (1 point)\n",
    "\n",
    "The population data named `seoul_pop.xlsx` is provided in the `data` folder. Import the data using Pandas."
   ]
  },
  {
   "cell_type": "code",
   "execution_count": null,
   "id": "5d3c7860",
   "metadata": {},
   "outputs": [],
   "source": [
    "# Your code here\n",
    "pop_df = \n",
    "pop_df"
   ]
  },
  {
   "cell_type": "code",
   "execution_count": null,
   "id": "955e31ea",
   "metadata": {},
   "outputs": [],
   "source": [
    "\"\"\" Test code for the previous code. This cell should NOT give any errors when it is run.\"\"\"\n",
    "\n",
    "assert type(pop_df) == pd.DataFrame\n",
    "assert pop_df.shape == (675, 8)\n",
    "\n",
    "print('Success!')"
   ]
  },
  {
   "cell_type": "markdown",
   "id": "f3cfd83e",
   "metadata": {},
   "source": [
    "### 1.3. Calculate extinction ratio for a SGG (종로구) over the years (4 points)\n",
    "\n",
    "Now we need to select young women (20-39 years old) and elderly people (65 years and older) for each SGG from the population data. <br>\n",
    "\n",
    "#### 1.3.1 Select young women (20-39 years old) for 종로구\n",
    "Before calculating the information for every SGG, let's select the young women population for 종로구 for every year ('Y2000', 'Y2005', 'Y2010', 'Y2015', 'Y2020'). <br> \n",
    "Expected return is a form of DataFrame and looks like below. Name the DataFrame as `jn_women_pop`. <br>\n",
    "\n",
    "<div style=\"text-align: center\">\n",
    "  <img src=\"./data/jn_women_pop.jpg\" width=\"300\">\n",
    "</div>\n",
    "\n",
    "\n",
    "**Hint**: You can take advantage of `.loc[]` method to select the relevant information. For the condition within the `.loc[]` method, you can use `==` comparision and/or `.isin()` method. <br>\n",
    "\n",
    "```python\n",
    "    return_df = df.loc[(df[`Column1`] == `Value1`) & \n",
    "                       (df[`Column2`].isin([`list_of_values`])) & \n",
    "                       (df[`Column3`] == `Value3`),\n",
    "                       [`Year1`, `Year2`, `Year3`...]]\n",
    "                       ]\n",
    "```"
   ]
  },
  {
   "cell_type": "code",
   "execution_count": null,
   "id": "0a13b652",
   "metadata": {},
   "outputs": [],
   "source": [
    "# Your code here\n",
    "jn_women_pop = pop_df.loc[]\n",
    "\n",
    "jn_women_pop"
   ]
  },
  {
   "cell_type": "code",
   "execution_count": null,
   "id": "19849cea",
   "metadata": {},
   "outputs": [],
   "source": [
    "\"\"\" Test code for the previous code. This cell should NOT give any errors when it is run.\"\"\"\n",
    "\n",
    "import numpy as np\n",
    "\n",
    "assert type(jn_women_pop) == pd.DataFrame\n",
    "assert jn_women_pop.shape == (4, 5)\n",
    "assert np.all(jn_women_pop.values[0] == [7818.5, 6844., 5678.5, 5648.5, 5626.5])\n",
    "\n",
    "print('Success!')"
   ]
  },
  {
   "cell_type": "markdown",
   "id": "fb7b9ad0",
   "metadata": {},
   "source": [
    "#### 1.3.2 Select old population (65 years and older) for 종로구\n",
    "\n",
    "Now we need to select the elderly population (65 years and older) for 종로구 for every year ('Y2000', 'Y2005', 'Y2010', 'Y2015', 'Y2020'). <br>\n",
    "Expected return is a form of DataFrame and looks like below. Name the DataFrame as `jn_old_pop`. <br>\n",
    "\n",
    "\n",
    "<div style=\"text-align: center\">\n",
    "  <img src=\"./data/jn_old_pop.jpg\" width=\"300\">\n",
    "</div>\n"
   ]
  },
  {
   "cell_type": "code",
   "execution_count": null,
   "id": "a77f673f",
   "metadata": {},
   "outputs": [],
   "source": [
    "# Your code here\n",
    "jn_old_pop = pop_df.loc[]\n",
    "\n",
    "jn_old_pop"
   ]
  },
  {
   "cell_type": "code",
   "execution_count": null,
   "id": "286e1e9b",
   "metadata": {},
   "outputs": [],
   "source": [
    "\"\"\" Test code for the previous code. This cell should NOT give any errors when it is run.\"\"\"\n",
    "\n",
    "import numpy as np\n",
    "\n",
    "assert type(jn_old_pop) == pd.DataFrame\n",
    "assert jn_old_pop.shape == (4, 5)\n",
    "assert np.all(jn_old_pop.values[0] == [5599.5, 6962.5, 7810.5, 7174.5, 7636.5])\n",
    "\n",
    "print('Success!')"
   ]
  },
  {
   "cell_type": "markdown",
   "id": "151f933b",
   "metadata": {},
   "source": [
    "#### 1.3.3. Calculate the extinction ratio of the population (지역소멸지수) for 종로구\n",
    "\n",
    "Sum the `jn_women_pop` and `jn_old_pop` DataFrames per year, respectively. <br>\n",
    "Then, divide the summed `jn_women_pop` by the summed `jn_old_pop` to get the extinction ratio of the population (지역소멸지수) for 종로구. <br> \n",
    "Expected return is a form of Series and looks like below. Name the Series as `jn_ratio`. <br>\n",
    "\n",
    "<div style=\"text-align: center\">\n",
    "  <img src=\"./data/jn_ratio.jpg\" width=\"200\">\n",
    "</div>\n"
   ]
  },
  {
   "cell_type": "code",
   "execution_count": null,
   "id": "14368554",
   "metadata": {},
   "outputs": [],
   "source": [
    "# Your code here\n",
    "jn_ratio = \n",
    "jn_ratio"
   ]
  },
  {
   "cell_type": "code",
   "execution_count": null,
   "id": "e0d1b344",
   "metadata": {},
   "outputs": [],
   "source": [
    "\"\"\" Test code for the previous code. This cell should NOT give any errors when it is run.\"\"\"\n",
    "\n",
    "assert type(jn_ratio) == pd.Series\n",
    "assert round(jn_ratio['Y2000'], 2) == 2.35\n",
    "assert round(jn_ratio['Y2010'], 2) == 1.27\n",
    "assert round(jn_ratio['Y2020'], 2) == 0.85\n",
    "\n",
    "print('Success!')"
   ]
  },
  {
   "cell_type": "markdown",
   "id": "c0df69d2",
   "metadata": {},
   "source": [
    "#### 1.3.4. Enter the extinction ratio of the population (지역소멸지수) for 종로구 back to the `ratio_df` DataFrame\n",
    "\n",
    "Search on the web for how to enter the values of a Series into a DataFrame. Enter the extinction ratio information for 종로구 (`jn_ratio`) into `ratio_df`. The `ratio_df` should look like below. <br>\n",
    "\n",
    "<div style=\"text-align: center\">\n",
    "  <img src=\"./data/jn_ratio_df.jpg\" width=\"400\">\n",
    "</div>"
   ]
  },
  {
   "cell_type": "code",
   "execution_count": null,
   "id": "fdf2e292",
   "metadata": {},
   "outputs": [],
   "source": [
    "# Your code here\n",
    "\n"
   ]
  },
  {
   "cell_type": "code",
   "execution_count": null,
   "id": "eec12b6f",
   "metadata": {},
   "outputs": [],
   "source": [
    "\"\"\" Test code for the previous code. This cell should NOT give any errors when it is run.\"\"\"\n",
    "\n",
    "assert type(ratio_df) == pd.DataFrame\n",
    "assert ratio_df.shape == (25, 6)\n",
    "assert round(ratio_df.loc[0, 'Y2000'], 2) == 2.35\n",
    "assert round(ratio_df.loc[0, 'Y2010'], 2) == 1.27\n",
    "assert round(ratio_df.loc[0, 'Y2020'], 2) == 0.85\n",
    "\n",
    "print('Success!')"
   ]
  },
  {
   "cell_type": "markdown",
   "id": "017f37e9",
   "metadata": {},
   "source": [
    "### 1.4. Repeat the above steps for all SGGs (시군구) (4 points)\n",
    "\n",
    "It is your freedom to choose any method/approach, while I recommend that you create a function (`def`) and reuse the approach above. <br>\n",
    "The goal of this step is to fill in the extinction ratio of the population (지역소멸지수) for all SGGs (시군구) in the `ratio_df` DataFrame. <br>\n",
    "The final `ratio_df` DataFrame should look like below. <br>\n",
    "\n",
    "<div style=\"text-align: center\">\n",
    "  <img src=\"./data/completed_ratio_df.jpg\" width=\"400\">\n",
    "</div>"
   ]
  },
  {
   "cell_type": "code",
   "execution_count": null,
   "id": "f2b127b8",
   "metadata": {},
   "outputs": [],
   "source": [
    "# Your code here\n",
    "\n"
   ]
  },
  {
   "cell_type": "code",
   "execution_count": null,
   "id": "f3802a3e",
   "metadata": {},
   "outputs": [],
   "source": [
    "\"\"\" Test code for the previous code. This cell should NOT give any errors when it is run.\"\"\"\n",
    "\n",
    "assert type(ratio_df) == pd.DataFrame\n",
    "assert ratio_df.shape == (25, 6)\n",
    "assert round(ratio_df.loc[ratio_df['행정구역'] == '관악구', 'Y2000'].values[0], 2) == 4.31\n",
    "assert round(ratio_df.loc[ratio_df['행정구역'] == '관악구', 'Y2010'].values[0], 2) == 2.12\n",
    "assert round(ratio_df.loc[ratio_df['행정구역'] == '관악구', 'Y2020'].values[0], 2) == 1.27\n",
    "assert round(ratio_df.loc[ratio_df['행정구역'] == '강서구', 'Y2000'].values[0], 2) == 3.74\n",
    "assert round(ratio_df.loc[ratio_df['행정구역'] == '강서구', 'Y2010'].values[0], 2) == 2.01\n",
    "assert round(ratio_df.loc[ratio_df['행정구역'] == '강서구', 'Y2020'].values[0], 2) == 1.13\n",
    "\n",
    "print('Success!')"
   ]
  },
  {
   "cell_type": "markdown",
   "id": "466e7cc9",
   "metadata": {},
   "source": [
    "### 1.5. Join the `ratio_df` DataFrame with the SGG (시군구) geometry data (2 point)\n",
    "\n",
    "Import the SGG (시군구) geometry data named `sgg_seoul.geojson` from the `data` folder and name it `sgg_gdf`. <br>\n",
    "Then, join the `ratio_df` DataFrame with the `sgg_gdf` GeoDataFrame and name the result as `sgg_ratio_gdf`. <br>\n",
    "\n",
    "***IMPORTANT***: IF you failed to complete the tasks above, you can import `seoul_extinction_ratio.xlsx` file from the data folder and restart from here. <br>"
   ]
  },
  {
   "cell_type": "code",
   "execution_count": null,
   "id": "195e0887",
   "metadata": {},
   "outputs": [],
   "source": [
    "# Your code here\n",
    "\n"
   ]
  },
  {
   "cell_type": "code",
   "execution_count": null,
   "id": "ca3f5d7b",
   "metadata": {},
   "outputs": [],
   "source": [
    "\"\"\" Test code for the previous code. This cell should NOT give any errors when it is run.\"\"\"\n",
    "\n",
    "assert type(sgg_ratio_gdf) == gpd.GeoDataFrame\n",
    "assert sgg_ratio_gdf.shape == (25, 9)\n",
    "\n",
    "print('Success!')"
   ]
  },
  {
   "cell_type": "markdown",
   "id": "15feb932",
   "metadata": {},
   "source": [
    "## 2. A Single Choropleth Map (4 points)\n",
    "\n",
    "Here, you will create a single Choropleth map with the merged `sgg_ratio_gdf` GeoDataFrame from the previous task. The result should look to the map below. <br>\n",
    "\n",
    "<div style=\"text-align: center\">\n",
    "  <img src=\"./data/single_map.jpg\" width=\"500\">\n",
    "</div>\n",
    "\n",
    "### 2.1. Initiate a plot\n",
    "Initiate a plot with `plt.subplots()`. Specify the figure size as 10 by 10 but making a single map. <br>\n",
    "\n",
    "### 2.2. Create Choropleth Map\n",
    "Create a Choropleth map based on the ratio in 2020. Use the following attributes for a specific style.\n",
    "* Colormap (`cmap`): 'Reds' ***STRONGER RED COLOR should indicate LOWER EXTINCTION RATIO (more risky area)***\n",
    "* Classification scheme (`scheme`): 'NaturalBreaks'\n",
    "* Number of classes (`k`): 7\n",
    "\n",
    "\n",
    "### 2.3. Create annotation\n",
    "Fill in the missing information (i.e., `NAME OF YOUR DATAFRAME` and `NAME OF A COLUMN`) from the code below for annotating each SGG. <br>\n",
    "\n",
    "\n",
    "```python\n",
    "    for idx, row in [`NAME OF YOUR DATAFRAME`].iterrows(): # Iterate everyrow in a GeoDataFrame\n",
    "        ax.text(s=row[`NAME OF A COLUMN`], # String to be displayed\n",
    "                x=row['geometry'].centroid.coords[:][0][0], # X coordinate of label\n",
    "                y=row['geometry'].centroid.coords[:][0][1], # Y coordinate of label\n",
    "                fontsize=10, \n",
    "                color='black',\n",
    "                ha='center', # Horizontal align\n",
    "                va='center', # Vertical align\n",
    "               )\n",
    "```\n",
    "\n",
    "### 2.4. Change the font style if you face Korean characters issue. <br>\n"
   ]
  },
  {
   "cell_type": "code",
   "execution_count": null,
   "id": "7d6e0860",
   "metadata": {},
   "outputs": [],
   "source": [
    "# Your code here\n"
   ]
  },
  {
   "cell_type": "markdown",
   "id": "35a35809",
   "metadata": {},
   "source": [
    "## 3. Create a customized color map (4 points)\n",
    "\n",
    "Given the fact that the extinction ratio has its own meaning, it is better to use a customized color map. The customized color map should look like below. <br>\n",
    "\n",
    "### 3.1. Define a customized color map\n",
    "Create a customized color map using the `matplotlib.colors.ListedColormap` method. <br>\n",
    "For the extiontion ratio associated with the color, please refer to the table below. <br>\n",
    "\n",
    "| Color | Extinction Ratio | Meaning |\n",
    "|:---:|:---:|:---:|\n",
    "| Green | r >= 1.5 | Safe |\n",
    "| Lightgreen | 1.5 > r >= 1.0 | Normal |\n",
    "| Yellow | 1.0 > r >= 0.5 | Need Attention |\n",
    "| Orange | 0.5 > r >= 0.2 | Risky |\n",
    "| Red | 0.2 > r | Very Risky |\n",
    "\n",
    "The resulted color map (`cm`) should look like below. <br>\n",
    "\n",
    "<div style=\"text-align: center\">\n",
    "  <img src=\"./data/custom_colors.jpg\" width=\"500\">\n",
    "</div>\n",
    "\n",
    "\n",
    "<br><br>\n",
    "\n",
    "### 3.2. Apply the customized color map to the Choropleth map\n",
    "Update the code for task 2 and make a choropleth map with the customized color map. <br>\n",
    "\n",
    "<div style=\"text-align: center\">\n",
    "  <img src=\"./data/custom_color_map.jpg\" width=\"500\">\n",
    "</div>"
   ]
  },
  {
   "cell_type": "code",
   "execution_count": null,
   "id": "c06f1608",
   "metadata": {},
   "outputs": [],
   "source": [
    "# Your code here\n"
   ]
  },
  {
   "cell_type": "markdown",
   "id": "a200edef",
   "metadata": {},
   "source": [
    "## 4. Creating a Figure with Multiple Axes (4 points)\n",
    "\n",
    "### 4.1. Initiate a Figure\n",
    "Create `fig` and `axes` with `plt.subplots(nrows=[number needed], ncols=[number needed], figsize=(15, 10))`. As we have four columns (`Y2000`, `Y2005`, `Y2010`, `Y2015`, `Y2020`) to be displayed, we want to have **1** row and **5** columns. <br>\n",
    "\n",
    "### 4.2. Repeat the same style with different years\n",
    "Populate each of the axes with the extiction ratio of every 5 year. You want to use the same color maps (`cm`) and classification scheme (`user_defined`) as the previous task. <br>\n",
    "\n",
    "\n",
    "### 4.3. Decorate the axes\n",
    "- Hide the axes ticks and labels\n",
    "- Set the title of each axes with the year of the extinction ratio\n",
    "- Annocate each SGG with the extiction ratio of each year. \n",
    "\n",
    "The filal product should look like below. <br>\n",
    "\n",
    "<div style=\"text-align: center\">\n",
    "  <img src=\"./data/multiple_axes.jpg\" width=\"1200\">\n",
    "</div>"
   ]
  },
  {
   "cell_type": "code",
   "execution_count": null,
   "id": "072f2883",
   "metadata": {},
   "outputs": [],
   "source": [
    "# Your code here\n"
   ]
  },
  {
   "cell_type": "markdown",
   "id": "0c98865d",
   "metadata": {},
   "source": [
    "# Done"
   ]
  }
 ],
 "metadata": {
  "kernelspec": {
   "display_name": "GIS_Project",
   "language": "python",
   "name": "python3"
  },
  "language_info": {
   "codemirror_mode": {
    "name": "ipython",
    "version": 3
   },
   "file_extension": ".py",
   "mimetype": "text/x-python",
   "name": "python",
   "nbconvert_exporter": "python",
   "pygments_lexer": "ipython3",
   "version": "3.13.1"
  }
 },
 "nbformat": 4,
 "nbformat_minor": 5
}
