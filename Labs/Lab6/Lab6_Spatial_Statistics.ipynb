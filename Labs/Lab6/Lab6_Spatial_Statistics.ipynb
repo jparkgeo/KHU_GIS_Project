{
 "cells": [
  {
   "cell_type": "markdown",
   "id": "1974fb14",
   "metadata": {},
   "source": [
    "# Lab 6: Spatial Statistics\n",
    "\n",
    "In this lab, you will examine the spatial autocorrelation of the foreign resident ratio across neighborhoods (읍면동) in Seoul, South Korea. Using the `pysal` library, you will define two spatial weights matrices based on different distance decay functions: a power-law function and a Gaussian function. Each weights matrix will calculate the influence of distances for neighborhoods within a 3,000-meter radius. Based on these matrices, you will compute both Global and Local Moran's I statistics. Additionally, you will implement a customized distance decay function to explore alternative spatial weighting schemes.\n",
    "\n",
    "## Structure\n",
    "#### 1. Data Preparation\n",
    "#### 2. Calculate Moran's I and LISA with Power-Law Weights Matrix\n",
    "#### 3. Calculate Moran's I and LISA with Gaussian Weights Matrix\n",
    "#### 4. Visualize the Results\n",
    "\n",
    "## Notes:\n",
    "**Before you submit your lab, make sure everything runs as expected WITHOUT ANY ERROR.** <br>\n",
    "**Make sure you fill in any place that says `YOUR CODE HERE` or `YOUR ANSWER HERE`:**"
   ]
  },
  {
   "cell_type": "code",
   "execution_count": null,
   "id": "8c36a453",
   "metadata": {},
   "outputs": [],
   "source": [
    "FULL_NAME = \"\""
   ]
  },
  {
   "cell_type": "code",
   "execution_count": null,
   "id": "a8c3741f",
   "metadata": {},
   "outputs": [],
   "source": [
    "# Import necessary packages\n",
    "import esda\n",
    "import libpysal\n",
    "import pandas as pd\n",
    "import geopandas as gpd\n",
    "import matplotlib.pyplot as plt\n",
    "import math"
   ]
  },
  {
   "cell_type": "markdown",
   "id": "be9968d5",
   "metadata": {},
   "source": [
    "## 0. Various Distance Decay Functions\n",
    "\n",
    "There are various distributions, such as the Gaussian distribution or the Power-law distribution, to better explain the influence of distances under the various circumstances (i.e., distance decay functions). In this lab, you will implement two distance decay functions: Gaussian and Power-law. <br> \n",
    "\n",
    "<div style=\"text-align: center\">\n",
    "  <img src=\"./data/distance_decay.png\" width=\"500\">\n",
    "</div>\n",
    "\n",
    "The Gaussian function is defined as:\n",
    "\n",
    "<br><br>\n",
    "$$\\large  G(d_{ij}, d_0) = \\frac{e^{-\\frac{1}{2}*(\\frac{d_{ij}}{d_0})^2}-e^{-\\frac{1}{2}}}{1-e^{-\\frac{1}{2}}}$$\n",
    "\n",
    "Whereas the Power-law function is defined as:\n",
    "\n",
    "<br><br>\n",
    "$$\\large P(d_{ij}) = d_{ij} ^{\\alpha}$$"
   ]
  },
  {
   "cell_type": "markdown",
   "id": "9bad7d91",
   "metadata": {},
   "source": [
    "## 1. Data Preparation\n",
    "\n",
    "In this lab, you will be using the `EMD_Foreign_Ratio.geojson` in the data folder. This dataset contains the foreigner ratio in each community area (읍면동) in Seoul, South Korea. \n",
    "\n",
    "**1.1.** (0 point) Load `EMD_Foreign_Ratio.geojson` in the data folder as the name of `emd_gdf` with GeoPandas.<br>\n",
    "**1.2.** (0 point) Change the coordinate system of `emd_gdf` to UTM-K (EPSG:5179).<br>"
   ]
  },
  {
   "cell_type": "code",
   "execution_count": null,
   "id": "975c311a",
   "metadata": {},
   "outputs": [],
   "source": [
    "# Your code here\n",
    "emd_gdf = \n"
   ]
  },
  {
   "cell_type": "code",
   "execution_count": null,
   "id": "05b7692e",
   "metadata": {},
   "outputs": [],
   "source": [
    "\"\"\" Test code for the previous code. This cell should NOT give any errors when it is run.\"\"\"\n",
    "assert type(emd_gdf) == gpd.GeoDataFrame\n",
    "assert emd_gdf.shape == (424, 10)\n",
    "assert emd_gdf.crs == 'EPSG:5179'\n",
    "\n",
    "print('Success!')"
   ]
  },
  {
   "cell_type": "markdown",
   "id": "b12b1621",
   "metadata": {},
   "source": [
    "**1.3.** (2 points) Extract the centroid coordinates from `emd_gdf` and store them as `points`. An example structure is shown below.\n",
    "\n",
    "```python\n",
    "    points=[(10, 10), (20, 10), (40, 10), (15, 20), (30, 20), (30, 30)...]\n",
    "```\n"
   ]
  },
  {
   "cell_type": "code",
   "execution_count": null,
   "id": "c10250d5",
   "metadata": {},
   "outputs": [],
   "source": [
    "# Your code here\n",
    "points = \n",
    "points"
   ]
  },
  {
   "cell_type": "code",
   "execution_count": null,
   "id": "bb11bd90",
   "metadata": {},
   "outputs": [],
   "source": [
    "\"\"\" Test code for the previous code. This cell should NOT give any errors when it is run.\"\"\"\n",
    "assert type(points) == list\n",
    "assert points[80] == (960407.5662211042, 1955018.1470921177)\n",
    "assert len(points) == 424\n",
    "\n",
    "print('Success!')"
   ]
  },
  {
   "cell_type": "markdown",
   "id": "2793359f",
   "metadata": {},
   "source": [
    "## 2. Calculate Moran's I and LISA with Power-law Weights Matrix"
   ]
  },
  {
   "cell_type": "markdown",
   "id": "22dad32c",
   "metadata": {},
   "source": [
    "**2.1.** (2 points) Calculate the weights matrix, named `w_power` using <a href=https://pysal.org/libpysal/generated/libpysal.weights.DistanceBand.html>`libpysal.weights.DistanceBand()`</a> function with the following parameters:\n",
    "- data: a list of centroid coordinates of the `emd_gdf`. See the data structure below. You can use the `points` variable you created in the previous step.\n",
    "```python\n",
    "    points=[(10, 10), (20, 10), (40, 10), (15, 20), (30, 20), (30, 30)...]\n",
    "```\n",
    " - threshold: 3km\n",
    "- binary: False\n",
    "- alpha: -0.1"
   ]
  },
  {
   "cell_type": "code",
   "execution_count": null,
   "id": "c7392c54",
   "metadata": {},
   "outputs": [],
   "source": [
    "# Your code here\n",
    "\n",
    "w_power = libpysal.weights.DistanceBand()"
   ]
  },
  {
   "cell_type": "code",
   "execution_count": null,
   "id": "4b97c425",
   "metadata": {},
   "outputs": [],
   "source": [
    "\"\"\" Test code for the previous code. This cell should NOT give any errors when it is run.\"\"\"\n",
    "assert type(w_power) == libpysal.weights.distance.DistanceBand\n",
    "assert type(w_power.weights) == dict\n",
    "assert type(w_power.neighbors) == dict\n",
    "assert len(w_power.neighbors) == 424\n",
    "assert len(w_power.weights[80]) == 29\n",
    "assert round(sum(w_power.weights[80]), 2) == 13.57\n",
    "\n",
    "print('Success!')"
   ]
  },
  {
   "cell_type": "markdown",
   "id": "0f2f5dea",
   "metadata": {},
   "source": [
    "**2.2.** (2 points) Calculate Moran's I using the <a href=https://pysal.org/esda/generated/esda.Moran.html>`esda.Moran()`</a>  function with the parameters below, and store the result in a variable named `mi_power`.\n",
    "- y: `외국인비율`\n",
    "- w: `w_power`\n",
    "- transformation: `O`\n",
    "\n",
    "**2.3.** (1 point) Retrieve the attribute that contains the Moran's I value from the `mi_power` object, and store it in a new variable named `mi_power_value`.\n"
   ]
  },
  {
   "cell_type": "code",
   "execution_count": null,
   "id": "861bc0e6",
   "metadata": {},
   "outputs": [],
   "source": [
    "# Your code here\n",
    "mi_power = esda.Moran(\n",
    "                      transformation='O'\n",
    "                      )\n",
    "\n",
    "\n"
   ]
  },
  {
   "cell_type": "code",
   "execution_count": null,
   "id": "7275dd68",
   "metadata": {},
   "outputs": [],
   "source": [
    "\"\"\" Test code for the previous code. This cell should NOT give any errors when it is run.\"\"\"\n",
    "assert type(mi_power) == esda.moran.Moran\n",
    "assert round(sum(w_power.weights[80]), 2) == 13.57\n",
    "assert round(mi_power_value, 4) == 0.3269\n",
    "\n",
    "print('Success!')"
   ]
  },
  {
   "cell_type": "markdown",
   "id": "58ce2d2c",
   "metadata": {},
   "source": [
    "**2.4.** (2 points) Calculate the Local Moran's I using the <a href=https://pysal.org/esda/generated/esda.Moran_Local.html>`esda.Moran_Local()`</a> function with the parameters below, and store the result in a variable named `lisa_power`.\n",
    "- y: `외국인비율`\n",
    "- w: `w_power`\n",
    "- transformation: `O`\n",
    "- seed: 17"
   ]
  },
  {
   "cell_type": "code",
   "execution_count": null,
   "id": "07a8eee9",
   "metadata": {},
   "outputs": [],
   "source": [
    "# Your code here\n",
    "lisa_power = esda.moran.Moran_Local(\n",
    "                                    seed=17\n",
    "                                  )\n",
    "\n"
   ]
  },
  {
   "cell_type": "code",
   "execution_count": null,
   "id": "f0c41ca4",
   "metadata": {},
   "outputs": [],
   "source": [
    "\"\"\" Test code for the previous code. This cell should NOT give any errors when it is run.\"\"\"\n",
    "assert type(lisa_power) == esda.moran.Moran_Local\n",
    "assert lisa_power.q[80] == 1\n",
    "assert lisa_power.p_sim[80] == 0.199\n",
    "\n",
    "print('Success!')"
   ]
  },
  {
   "cell_type": "markdown",
   "id": "f4c31d3b",
   "metadata": {},
   "source": [
    "**2.5.** (2 points) Create a new column in `emd_gdf` named `lisa_power`. For each observation, assign the appropriate quadrant label (`HH`, `LH`, `LL`, or `HL`) if the result is statistically significant based on the `p_sim` attribute of the lisa_power object. If the result is not significant, assign `NS`.\n",
    "\n",
    "**Note** You can take advantage of the dictionary below. \n",
    "```python\n",
    "    lisa_dict = {1: 'HH', 2: 'LH', 3: 'LL', 4: 'HL'}\n",
    "```"
   ]
  },
  {
   "cell_type": "code",
   "execution_count": null,
   "id": "506a6d0f",
   "metadata": {},
   "outputs": [],
   "source": [
    "# Your code here\n",
    "lisa_dict = {1: 'HH', 2: 'LH', 3: 'LL', 4: 'HL'}\n",
    "\n"
   ]
  },
  {
   "cell_type": "code",
   "execution_count": null,
   "id": "68a97e61",
   "metadata": {},
   "outputs": [],
   "source": [
    "\"\"\" Test code for the previous code. This cell should NOT give any errors when it is run.\"\"\"\n",
    "assert emd_gdf.shape == (424, 11)\n",
    "assert 'lisa_power' in emd_gdf.columns\n",
    "assert emd_gdf.at[80, 'lisa_power'] == 'NS'\n",
    "assert emd_gdf.at[4, 'lisa_power'] == 'LH'\n",
    "\n",
    "print('Success!')"
   ]
  },
  {
   "cell_type": "markdown",
   "id": "6257feb9",
   "metadata": {},
   "source": [
    "## 3. Calculate Moran's I and LISA with Gaussian Weights Matrix\n",
    "\n",
    "The `libpysal` library does not provide a built-in Gaussian function. Therefore, you need to implement the Gaussian distance decay function manually. The Gaussian function is defined as:\n",
    "\n",
    "$$\\large  G(d_{ij}, d_0) = \\frac{e^{-\\frac{1}{2}*(\\frac{d_{ij}}{d_0})^2}-e^{-\\frac{1}{2}}}{1-e^{-\\frac{1}{2}}}$$\n",
    "\n",
    "In python, the Gaussian function can be implemented as follows:\n",
    "\n",
    "```python\n",
    "def gaussian(dij, d0):  # Gaussian probability distribution\n",
    "    # dij: distance between i and j\n",
    "    # d0: distance threshold\n",
    "    # val: value of the Gaussian function\n",
    "    if d0 >= dij:\n",
    "        val = (math.exp(-1 / 2 * ((dij / d0) ** 2)) - math.exp(-1 / 2)) / (1 - math.exp(-1 / 2))\n",
    "        return val\n",
    "    else:\n",
    "        return 0\n",
    "```\n",
    "\n",
    "Fortunately, the `libpysal` library allows users to define their own distance decay functions. The <a href=https://pysal.org/libpysal/generated/libpysal.weights.W.html>libpysal.weights.W()</a> function takes two arguments: neighbors and weights.\n",
    "\n",
    "`neighbors` is a dictionary that specifies the neighboring observations for each spatial unit.\n",
    "\n",
    "`weights` is a dictionary that assigns a weight value to each neighbor.\n",
    "\n",
    "The expected format for the `neighbors` dictionary is:\n",
    "\n",
    "```python\n",
    "    neighbors = {\n",
    "                 'a': ['b'],\n",
    "                 'b': ['a', 'c'],\n",
    "                 'c': ['b']\n",
    "                } \n",
    "```\n",
    "The corresponding `weights` dictionary should be in the following format:\n",
    "\n",
    "```python\n",
    "    weights ={\n",
    "              'a':[0.5],\n",
    "              'b':[0.5,1.5],\n",
    "              'c':[1.5]\n",
    "             }\n",
    "            \n",
    "```"
   ]
  },
  {
   "cell_type": "code",
   "execution_count": null,
   "id": "d2642cac",
   "metadata": {},
   "outputs": [],
   "source": [
    "# Run this cell to implement the gaussian function\n",
    "\n",
    "def gaussian(dij, d0):  # Gaussian probability distribution\n",
    "    # dij: distance between i and j\n",
    "    # d0: distance threshold\n",
    "    # val: value of the Gaussian function\n",
    "    \n",
    "    if d0 >= dij:\n",
    "        val = (math.exp(-1 / 2 * ((dij / d0) ** 2)) - math.exp(-1 / 2)) / (1 - math.exp(-1 / 2))\n",
    "        return val\n",
    "    else:\n",
    "        return 0"
   ]
  },
  {
   "cell_type": "markdown",
   "id": "b33627af",
   "metadata": {},
   "source": [
    "**3.1.** (5 points) Populate the `neighbors` and `weights` dictionaries using the `emd_gdf` GeoDataFrame. Brief sketch of the logic is as shown below. \n",
    "- Create two for-loop for iterate through each index of `emd_gdf` for `i` and `j`, respectively.\n",
    "- For each pair of `i` and `j`, calculate the distance between the two points.\n",
    "```python\n",
    "    dij = emd_gdf.at[i, 'geometry'].centroid.distance(emd_gdf.at[j, 'geometry'].centroid)\n",
    "```\n",
    "- If the distance is less than or equal to the threshold (3km), add `j` to the list of neighbors for `i` in the `neighbors` dictionary. In addition, calculate the weight using the Gaussian function and add the calculated weight to the `weights` dictionary.\n",
    "\n",
    "**NOTE**: Again, \n",
    "The expected format for the `neighbors` dictionary is:\n",
    "\n",
    "```python\n",
    "    neighbors = {\n",
    "                 0: [1], # Take the numbers as the index of the `emd_gdf`\n",
    "                 1: [0, 2],\n",
    "                 2: [1]\n",
    "                } \n",
    "```\n",
    "The corresponding `weights` dictionary should be in the following format:\n",
    "\n",
    "```python\n",
    "    weights ={\n",
    "              0:[0.5], # Take the numbers as the gausssian function value\n",
    "              1:[0.5,1.5],\n",
    "              2:[1.5]\n",
    "             }\n",
    "            \n",
    "```"
   ]
  },
  {
   "cell_type": "code",
   "execution_count": null,
   "id": "c15456fc",
   "metadata": {},
   "outputs": [],
   "source": [
    "neighbors = {}\n",
    "weights = {}\n",
    "\n",
    "for i in range(emd_gdf.shape[0]):\n",
    "    neighbors[i] = []\n",
    "    weights[i] = []\n",
    "\n",
    "# neighbors"
   ]
  },
  {
   "cell_type": "code",
   "execution_count": null,
   "id": "22cba283",
   "metadata": {},
   "outputs": [],
   "source": [
    "\"\"\" Test code for the previous code. This cell should NOT give any errors when it is run.\"\"\"\n",
    "assert type(neighbors) == dict\n",
    "assert len(neighbors) == 424\n",
    "assert type(weights) == dict\n",
    "assert len(weights) == 424\n",
    "assert type(neighbors[0]) == list\n",
    "assert len(neighbors[0]) == 26\n",
    "assert len(weights[0]) == 26\n",
    "assert type(weights[0]) == list\n",
    "assert neighbors[0] == [1, 2, 4, 5, 6, 7, 9, 15, 16, 17, 18, 19, 20, 23, 26, 32, 44, 192, 193, 194, 195, 202, 203, 204, 220, 221]\n",
    "assert round(sum(weights[0]),2) == 10.78\n",
    "\n",
    "print('Success!')"
   ]
  },
  {
   "cell_type": "markdown",
   "id": "6f74cbe6",
   "metadata": {},
   "source": [
    "**3.2.** (2 points) Investigate <a href=https://pysal.org/libpysal/generated/libpysal.weights.W.html>`libpysal.weights.W()`</a> function and create a customized weights matrix named `w_gaussian` using the `neighbors` and `weights` dictionaries you created in the previous step. <br>"
   ]
  },
  {
   "cell_type": "code",
   "execution_count": null,
   "id": "b86bfae9",
   "metadata": {},
   "outputs": [],
   "source": [
    "# Your code here\n",
    "w_gaussian = "
   ]
  },
  {
   "cell_type": "code",
   "execution_count": null,
   "id": "5274b55c",
   "metadata": {},
   "outputs": [],
   "source": [
    "\"\"\" Test code for the previous code. This cell should NOT give any errors when it is run.\"\"\"\n",
    "\n",
    "assert type(w_gaussian.weights) == dict\n",
    "assert type(w_gaussian.neighbors) == dict\n",
    "assert len(w_gaussian.weights[80]) == 29\n",
    "assert round(sum(w_gaussian.weights[80]), 2) == 11.98\n",
    "\n",
    "print('Success!')"
   ]
  },
  {
   "cell_type": "markdown",
   "id": "61be4acf",
   "metadata": {},
   "source": [
    "**3.3.** (1 point) Calculate Moran's I using the <a href=https://pysal.org/esda/generated/esda.Moran.html>`esda.Moran()`</a>  function with the parameters below, and store the result in a variable named `mi_gaussian`.\n",
    "- y: `외국인비율`\n",
    "- w: `w_gaussian`\n",
    "- transformation: `O`\n",
    "\n",
    "**3.4.** (1 point) Retrieve the attribute that contains the Moran's I value from the `mi_gaussian` object, and store it in a new variable named `mi_gaussian_value`.\n"
   ]
  },
  {
   "cell_type": "code",
   "execution_count": null,
   "id": "13f73959",
   "metadata": {},
   "outputs": [],
   "source": [
    "# Your code here\n",
    "mi_gaussian = esda.Moran()\n",
    "\n"
   ]
  },
  {
   "cell_type": "code",
   "execution_count": null,
   "id": "3ee3c508",
   "metadata": {},
   "outputs": [],
   "source": [
    "\"\"\" Test code for the previous code. This cell should NOT give any errors when it is run.\"\"\"\n",
    "assert type(mi_gaussian) == esda.moran.Moran\n",
    "assert round(sum(w_gaussian.weights[80]), 2) == 11.98\n",
    "assert round(mi_gaussian_value,4) == 0.3994\n",
    "\n",
    "print('Success!')"
   ]
  },
  {
   "cell_type": "markdown",
   "id": "39cf88bc",
   "metadata": {},
   "source": [
    "**3.5.** (1 point) Calculate the Local Moran's I using the <a href=https://pysal.org/esda/generated/esda.Moran_Local.html>`esda.Moran_Local()`</a> function with the parameters below, and store the result in a variable named `lisa_gaussian`.\n",
    "- y: `외국인비율`\n",
    "- w: `w_gaussian`\n",
    "- transformation: `O`\n",
    "- seed: 17"
   ]
  },
  {
   "cell_type": "code",
   "execution_count": null,
   "id": "701ec95d",
   "metadata": {},
   "outputs": [],
   "source": [
    "# Your code here\n",
    "lisa_gaussian = "
   ]
  },
  {
   "cell_type": "code",
   "execution_count": null,
   "id": "1d33946d",
   "metadata": {},
   "outputs": [],
   "source": [
    "\"\"\" Test code for the previous code. This cell should NOT give any errors when it is run.\"\"\"\n",
    "assert type(lisa_gaussian) == esda.moran.Moran_Local\n",
    "assert lisa_gaussian.q[80] == 1\n",
    "assert lisa_gaussian.p_sim[80] == 0.048\n",
    "\n",
    "print('Success!')"
   ]
  },
  {
   "cell_type": "markdown",
   "id": "831f32e3",
   "metadata": {},
   "source": [
    "**3.6.** (1 point) Create a new column in `emd_gdf` named `lisa_gaussian`. For each observation, assign the appropriate quadrant label (`HH`, `LH`, `LL`, or `HL`) if the result is statistically significant based on the `p_sim` attribute of the lisa_power object. If the result is not significant, assign `NS`.\n",
    "\n",
    "**Note** You can take advantage of the dictionary below. \n",
    "```python\n",
    "    lisa_dict = {1: 'HH', 2: 'LH', 3: 'LL', 4: 'HL'}\n",
    "```"
   ]
  },
  {
   "cell_type": "code",
   "execution_count": null,
   "id": "1c190a9e",
   "metadata": {},
   "outputs": [],
   "source": [
    "lisa_dict = {1: 'HH', 2: 'LH', 3: 'LL', 4: 'HL'}\n",
    "\n",
    "# Your code here"
   ]
  },
  {
   "cell_type": "markdown",
   "id": "0136a484",
   "metadata": {},
   "source": [
    "## 4. Visualize the Results\n",
    "\n",
    "**4.1.** (0 point) Create a figure with 2 subplots, and set the figure size to (15, 10).<br>\n",
    "**4.2.** (1 point) In the first subplot, plot the `lisa_power` results in the `emd_gdf` GeoDataFrame with the color provided in the `lisa_color` dictionary below. <br>\n",
    "**4.3.** (1 point) In the second subplot, plot the `lisa_gaussian` results in the `emd_gdf` GeoDataFrame with the color provided in the `lisa_color` dictionary below. <br>\n",
    "**4.4.** (1 point) Add a title to each subplot: `LISA Map (Power): Moran's I Value` and `LISA Map (Gaussian): Moran's I Value`.<br>\n",
    "\n",
    "```python\n",
    "lisa_color = {'HH': 'red', 'LL': 'blue', 'HL': 'orange', 'LH': 'skyblue', 'NS': 'lightgrey'}\n",
    "```\n",
    "\n",
    "The expected output should look like the following figure.\n",
    "<div style=\"text-align: center\">\n",
    "  <img src=\"./data/lisa_map.png\" width=\"1000\">\n",
    "</div>"
   ]
  },
  {
   "cell_type": "code",
   "execution_count": null,
   "id": "9cc41990",
   "metadata": {},
   "outputs": [],
   "source": [
    "# Your code here\n",
    "lisa_color = {'HH': 'red', 'LL': 'blue', 'HL': 'orange', 'LH': 'skyblue', 'NS': 'lightgrey'}\n"
   ]
  },
  {
   "cell_type": "markdown",
   "id": "8d8a7ce5",
   "metadata": {},
   "source": [
    "# Done"
   ]
  }
 ],
 "metadata": {
  "kernelspec": {
   "display_name": "GIS_Project",
   "language": "python",
   "name": "python3"
  },
  "language_info": {
   "codemirror_mode": {
    "name": "ipython",
    "version": 3
   },
   "file_extension": ".py",
   "mimetype": "text/x-python",
   "name": "python",
   "nbconvert_exporter": "python",
   "pygments_lexer": "ipython3",
   "version": "3.13.1"
  }
 },
 "nbformat": 4,
 "nbformat_minor": 5
}
