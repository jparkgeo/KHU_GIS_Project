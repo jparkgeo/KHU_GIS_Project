{
 "cells": [
  {
   "cell_type": "markdown",
   "id": "23f739c2",
   "metadata": {},
   "source": [
    "# Get data from API"
   ]
  },
  {
   "cell_type": "markdown",
   "metadata": {},
   "source": [
    "An API (Application Programming Interface) Key is a code used for interaction between software systems. API keys are typically issued by service providers to identify and authenticate users or applications, enforce usage limits, and enhance security. By using an API key, service providers can track who is using the API and prevent inappropriate usage.\n",
    "\n",
    "In API calls, the symbols ‘?’ and ‘&’ are used to format query parameters within the URL, which lets you send data to the server alongside your request.\n",
    "* ? (Question Mark): It is placed right after the API endpoint URL to indicate the beginning of the query parameters. \n",
    "* & (Ampersand): This separates multiple query parameters in a URL. If you need to send more than one parameter, you use & between each one. \n",
    "\n",
    "Example: https://api.example.com/data?key1=value1&key2=value2"
   ]
  },
  {
   "cell_type": "markdown",
   "id": "28b7b08d",
   "metadata": {},
   "source": [
    "## 1. Issue an API Key\n",
    "\n",
    "To issue an API key from VWorld, follow these steps:\n",
    "\n",
    "\n",
    "1. Access the VWorld website (https://www.vworld.kr/). Log in or create a new account if you don't have one.\n",
    "2. Click the four lines icon in the upper right corner of the page.\n",
    "<div style=\"text-align: center\">\n",
    "  <img src=\"./data/vworld_1.jpg\" width=\"1000\">\n",
    "</div>\n",
    "\n",
    "3. Click Open API -> 인증키 발급 as shown below.\n",
    "<div style=\"text-align: center\">\n",
    "  <img src=\"./data/vworld_2.jpg\" width=\"1000\">\n",
    "</div>\n",
    "\n",
    "4. Enter the necessary information as shown below. \n",
    "<div style=\"text-align: center\">\n",
    "  <img src=\"./data/vworld_3.jpg\" width=\"1000\">\n",
    "</div>\n",
    "\n",
    "5. Once the API key is issued, you can find it from Open API -> 인증키 관리.\n",
    "\n",
    "***IMPORTANT***: Do not share your API key with others."
   ]
  },
  {
   "cell_type": "markdown",
   "id": "db507b73",
   "metadata": {},
   "source": [
    "This document uses the following four packages:\n",
    "\n",
    "`requests` is a Python package for sending HTTP requests using Python. You can send HTTP requests and receive responses from the web. <br>\n",
    "`urllib` defines a standard interface to break URL strings up in components (addressing scheme, network location, path etc.), to combine the components back into a URL string, and to convert a “relative URL” to an absolute URL given a “base URL.”\n"
   ]
  },
  {
   "cell_type": "code",
   "execution_count": null,
   "metadata": {},
   "outputs": [],
   "source": [
    "import requests\n",
    "from urllib.parse import urlencode\n",
    "import geopandas as gpd\n",
    "import pandas as pd"
   ]
  },
  {
   "cell_type": "markdown",
   "id": "0026158b",
   "metadata": {},
   "source": [
    "## 2. Geocoding KHU address \n",
    "\n",
    "Geocoding refers to the process of converting text-based location data, such as addresses, place names, and postal codes, into geographic coordinates, such as latitude and longitude.\n",
    "\n",
    "You can check the geocoding API documentation at the following link: https://www.vworld.kr/dev/v4dv_geocoderguide2_s001.do\n"
   ]
  },
  {
   "cell_type": "code",
   "execution_count": null,
   "metadata": {},
   "outputs": [],
   "source": [
    "# Example: Geocoding the address of KHU\n",
    "# Query Address: 서울특별시 동대문구 경희대로 26 \n",
    "# Output: (127.049943538, 37.594371252)\n",
    "\n",
    "# Define necessary variables\n",
    "YOUR_API_KEY = 'EE211CB3-AC16-3324-8D41-BD4DE68CC606' # Replace with your actual API key\n",
    "query_addr = '서울특별시 동대문구 경희대로 26' \n",
    "query_type = 'ROAD' # 'ROAD' (도로명주소) or 'PARCEL' (지번주소)\n",
    "\n",
    "# The destination URL for the geocoding API\n",
    "base_url = 'https://api.vworld.kr/req/address?'\n",
    "\n",
    "# The parameters for the API request\n",
    "request_url = f'{base_url}service=address&request=GetCoord&key={YOUR_API_KEY}&type={query_type}&address={query_addr}'\n",
    "print(request_url)\n",
    "\n",
    "# The requests.get function uses Python's requests library to send an HTTP GET request to the server.\n",
    "response = requests.get(request_url)\n",
    "\n",
    "# response.status_code returns the current status of the call (200 means success).\n",
    "if response.status_code == 200:\n",
    "    data = response.json()\n",
    "    print(f'''\n",
    "          \n",
    "          Refined address: {data['response']['refined']['text']}\n",
    "          Longitude: {data['response']['result']['point']['x']}, \n",
    "          Latitude: {data['response']['result']['point']['y']}''')"
   ]
  },
  {
   "cell_type": "code",
   "execution_count": null,
   "metadata": {},
   "outputs": [],
   "source": []
  },
  {
   "cell_type": "code",
   "execution_count": null,
   "metadata": {},
   "outputs": [],
   "source": [
    "pd.DataFrame(data['response']['result'])"
   ]
  },
  {
   "cell_type": "markdown",
   "metadata": {},
   "source": [
    "### 2.1. Activate the REST API search engine"
   ]
  },
  {
   "cell_type": "code",
   "execution_count": null,
   "metadata": {},
   "outputs": [],
   "source": [
    "# Create a fundamental URL for the geocoding API\n",
    "base_url = 'https://api.vworld.kr/req/address?'\n",
    "\n",
    "print(base_url)"
   ]
  },
  {
   "cell_type": "markdown",
   "metadata": {},
   "source": [
    "### 2.2. Provide the necessary parameters"
   ]
  },
  {
   "cell_type": "code",
   "execution_count": null,
   "metadata": {},
   "outputs": [],
   "source": [
    "# You need to provide REQUEST, KEY, TYPE, and ADDRESS parameters.\n",
    "\n",
    "# YOUR_API_KEY = 'YOUR_API_KEY' # Replace with your actual API key\n",
    "query_addr = '서울특별시 동대문구 경희대로 26' \n",
    "query_type = 'ROAD' # 'ROAD' (도로명주소) or 'PARCEL' (지번주소)\n",
    "\n",
    "# Finalize the URL with the parameters\n",
    "request_url = f'{base_url}service=address&request=GetCoord&key={YOUR_API_KEY}&type={query_type}&address={query_addr}'\n",
    "print(request_url)"
   ]
  },
  {
   "cell_type": "markdown",
   "metadata": {},
   "source": [
    "### 2.3. Send the request"
   ]
  },
  {
   "cell_type": "code",
   "execution_count": null,
   "metadata": {},
   "outputs": [],
   "source": [
    "# The requests.get function uses Python's requests library to send an HTTP GET request to the server.\n",
    "response = requests.get(request_url)\n",
    "response"
   ]
  },
  {
   "cell_type": "code",
   "execution_count": null,
   "metadata": {},
   "outputs": [],
   "source": [
    "# response.status_code returns the current status of the call (200 means success).\n",
    "response.status_code"
   ]
  },
  {
   "cell_type": "code",
   "execution_count": null,
   "metadata": {},
   "outputs": [],
   "source": [
    "# response.text returns the content of the response in text format.\n",
    "response.text"
   ]
  },
  {
   "cell_type": "markdown",
   "metadata": {},
   "source": [
    "### 2.4. Extract information from the response"
   ]
  },
  {
   "cell_type": "code",
   "execution_count": null,
   "metadata": {},
   "outputs": [],
   "source": [
    "# response.json() returns the content of the response in JSON format.\n",
    "data = response.json()\n",
    "data"
   ]
  },
  {
   "cell_type": "code",
   "execution_count": null,
   "metadata": {},
   "outputs": [],
   "source": [
    "# You can beautify the JSON output using the json.dumps function (Optional). \n",
    "import json\n",
    "print(json.dumps(data, indent=2, ensure_ascii=False))"
   ]
  },
  {
   "cell_type": "code",
   "execution_count": null,
   "metadata": {},
   "outputs": [],
   "source": [
    "# you can slice the data to get specific information.\n",
    "data['response']"
   ]
  },
  {
   "cell_type": "code",
   "execution_count": null,
   "metadata": {},
   "outputs": [],
   "source": [
    "data['response']['refined']"
   ]
  },
  {
   "cell_type": "code",
   "execution_count": null,
   "metadata": {},
   "outputs": [],
   "source": [
    "data['response']['result']"
   ]
  },
  {
   "cell_type": "code",
   "execution_count": null,
   "metadata": {},
   "outputs": [],
   "source": [
    "data['response']['result']['point']"
   ]
  },
  {
   "cell_type": "code",
   "execution_count": null,
   "metadata": {},
   "outputs": [],
   "source": [
    "data['response']['result']['point']['x']"
   ]
  },
  {
   "cell_type": "code",
   "execution_count": null,
   "metadata": {},
   "outputs": [],
   "source": [
    "data['response']['result']['point']['y']"
   ]
  },
  {
   "cell_type": "markdown",
   "metadata": {},
   "source": [
    "### 2.5. Alternative appraoch with `params` argument"
   ]
  },
  {
   "cell_type": "code",
   "execution_count": null,
   "metadata": {},
   "outputs": [],
   "source": [
    "# f-string appraoch\n",
    "\n",
    "# YOUR_API_KEY = 'YOUR_API_KEY' # Replace with your actual API key\n",
    "query_addr = '서울특별시 동대문구 경희대로 26' \n",
    "query_type = 'ROAD' # 'ROAD' (도로명주소) or 'PARCEL' (지번주소)\n",
    "\n",
    "# Finalize the URL with the parameters\n",
    "request_url = f'{base_url}service=address&request=GetCoord&key={YOUR_API_KEY}&type={query_type}&address={query_addr}'\n",
    "print(request_url)"
   ]
  },
  {
   "cell_type": "code",
   "execution_count": null,
   "metadata": {},
   "outputs": [],
   "source": [
    "# params approach\n",
    "\n",
    "params_dic = {\n",
    "    'service': 'address',\n",
    "    'request': 'GetCoord',\n",
    "    'key' : YOUR_API_KEY,\n",
    "    'type': query_type,\n",
    "    'address': query_addr,\n",
    "}\n",
    "\n",
    "base_url = 'https://api.vworld.kr/req/address?'\n",
    "\n",
    "response_dic = requests.get(base_url, params=params_dic)\n",
    "print(response_dic.url)"
   ]
  },
  {
   "cell_type": "code",
   "execution_count": null,
   "metadata": {},
   "outputs": [],
   "source": [
    "# The rest are the same as above\n",
    "data_dic = response_dic.json()\n",
    "data_dic"
   ]
  },
  {
   "cell_type": "markdown",
   "metadata": {},
   "source": [
    "---\n",
    "### *Exercise*\n",
    "1. Investigate the reverse geocoding API documentation at the following link: https://www.vworld.kr/dev/v4dv_geocoderguide2_s002.do\n",
    "2. Find the ROAD address (도로명주소) of the following coordinates: `37.240655`, `127.079849` and save the result in a variable called `address`. <br> You can take advantage of the code below. \n",
    "\n",
    "```python\n",
    "    # The destination URL for the reverse geocoding API\n",
    "    base_url_r = 'https://api.vworld.kr/req/address?'\n",
    "\n",
    "    # The parameters for the API request\n",
    "    params_dic_r = {\n",
    "        'service': 'address',\n",
    "        `DO SOMETHING HERE`,\n",
    "        'type': 'ROAD'\n",
    "    }\n",
    "\n",
    "    # The requests.get function uses Python's requests library to send an HTTP GET request to the server.\n",
    "    data = requests.get(`DO SOMETHING HERE`)\n",
    "\n",
    "    # Slice the data to get specific information.\n",
    "    address = `DO SOMETHING HERE`\n",
    "    address\n",
    "```\n",
    "\n",
    "---"
   ]
  },
  {
   "cell_type": "code",
   "execution_count": null,
   "metadata": {},
   "outputs": [],
   "source": [
    "# # Your code here\n",
    "\n",
    "# The destination URL for the reverse geocoding API\n",
    "base_url_r = 'https://api.vworld.kr/req/address?'\n",
    "\n",
    "# The parameters for the API request\n",
    "params_dic_r = {\n",
    "    'service': 'address',\n",
    "    `DO SOMETHING HERE`,\n",
    "    'type': 'ROAD'\n",
    "}\n",
    "\n",
    "# The requests.get function uses Python's requests library to send an HTTP GET request to the server.\n",
    "data = requests.get()\n",
    "\n",
    "# Slice the data to get specific information.\n",
    "address = \n",
    "address"
   ]
  },
  {
   "cell_type": "code",
   "execution_count": null,
   "metadata": {},
   "outputs": [],
   "source": [
    "\"\"\" Test code for the previous function. This cell should NOT give any errors when it is run.\"\"\"\n",
    "\n",
    "# Check your result here. \n",
    "assert type(address) == str\n",
    "assert address == '경기도 용인시 기흥구 덕영대로 1732 (서천동,경희대학교)'\n",
    "\n",
    "print(\"Success!\")"
   ]
  },
  {
   "cell_type": "markdown",
   "metadata": {},
   "source": [
    "## 3. Retrieve WFS (Web Feature Service) format data\n",
    "\n",
    "WFS (Web Feature Service) is a standard protocol for serving geospatial features over the web. It allows users to access and manipulate geographic features in a standardized way, enabling interoperability between different GIS (Geographic Information System) applications and platforms."
   ]
  },
  {
   "cell_type": "markdown",
   "metadata": {},
   "source": [
    "In this section, we will retrieve WFS data from VWorld (https://www.vworld.kr/dev/v4dv_wmsguide2_s001.do). There are numerous datasets available, but we will focus on the following two datasets:\n",
    "- 시군구 경계 (Administrative boundary): lt_c_adsigg_info \n",
    "- 건축물정보 (Building information): lt_c_bldginfo\n",
    "\n",
    "For more list, you can refer to 레이어리스트 상세보기 in this website (https://www.vworld.kr/dev/v4dv_wmsguide2_s001.do)."
   ]
  },
  {
   "cell_type": "markdown",
   "metadata": {},
   "source": [
    "### 3.1. Retrieve 시군구 경계 (Administrative boundary) data"
   ]
  },
  {
   "cell_type": "code",
   "execution_count": null,
   "metadata": {},
   "outputs": [],
   "source": [
    "# The destination URL for the WFS API\n",
    "url_wfs = 'https://api.vworld.kr/req/wfs?'\n",
    "\n",
    "# The parameters for the WFS API request\n",
    "sgg_params = {\n",
    "    'SERVICE':'WFS',\n",
    "    'version': '2.0.0',\n",
    "    'REQUEST':'GetFeature',\n",
    "    'key': YOUR_API_KEY,\n",
    "    'output': 'application/json',\n",
    "    'TYPENAME': 'lt_c_adsigg_info',\n",
    "    'srsname': 'EPSG:4326',\n",
    "}\n",
    "\n",
    "# gpd.read_file can only read a URL with the parameters in the query string. Parameters should be encoded.\n",
    "emd_query = urlencode(sgg_params)\n",
    "print(\"String Encoded Parameters:\")\n",
    "print(emd_query)\n",
    "\n",
    "url_emd = url_wfs + emd_query\n",
    "print(\"Final URL:\")\n",
    "print(url_emd)\n",
    "\n",
    "# Read the data directly from the URL\n",
    "emd_gdf = gpd.read_file(url_emd)\n",
    "emd_gdf"
   ]
  },
  {
   "cell_type": "code",
   "execution_count": null,
   "metadata": {},
   "outputs": [],
   "source": [
    "# Check the data \n",
    "emd_gdf.explore()"
   ]
  },
  {
   "cell_type": "markdown",
   "metadata": {},
   "source": [
    "Let's check the code per section."
   ]
  },
  {
   "cell_type": "code",
   "execution_count": null,
   "metadata": {},
   "outputs": [],
   "source": [
    "# The destination URL for the WFS API\n",
    "url_wfs = 'https://api.vworld.kr/req/wfs?'\n",
    "\n",
    "# The parameters for the WFS API request\n",
    "sgg_params = {\n",
    "    'SERVICE':'WFS',\n",
    "    'version': '2.0.0',\n",
    "    'REQUEST':'GetFeature',\n",
    "    'key': YOUR_API_KEY,\n",
    "    'output': 'application/json',\n",
    "    'TYPENAME': 'lt_c_adsigg_info' # 시군구 바운더리\n",
    "}\n",
    "\n",
    "# gpd.read_file can only read a URL with the parameters in the query string. Parameters should be encoded.\n",
    "emd_query = urlencode(sgg_params)\n",
    "print(\"String Encoded Parameters:\")\n",
    "print(emd_query)"
   ]
  },
  {
   "cell_type": "code",
   "execution_count": null,
   "metadata": {},
   "outputs": [],
   "source": [
    "url_emd = url_wfs + emd_query\n",
    "print(\"Final URL:\")\n",
    "print(url_emd)"
   ]
  },
  {
   "cell_type": "code",
   "execution_count": null,
   "metadata": {},
   "outputs": [],
   "source": [
    "# Read the data directly from the URL\n",
    "emd_gdf = gpd.read_file(url_emd)\n",
    "emd_gdf"
   ]
  },
  {
   "cell_type": "code",
   "execution_count": null,
   "metadata": {},
   "outputs": [],
   "source": [
    "emd_gdf.crs"
   ]
  },
  {
   "cell_type": "markdown",
   "metadata": {},
   "source": [
    "### 3.2. Retrieve 건축물정보 (Building information) data"
   ]
  },
  {
   "cell_type": "code",
   "execution_count": null,
   "metadata": {},
   "outputs": [],
   "source": [
    "# Get the grid for searching building information (Yeoyido area)\n",
    "grid = gpd.read_file('./data/reference_grids_1km.geojson')\n",
    "grid = grid.loc[grid['Name'].isin(['다사_49_47', '다사_48_47'])].reset_index()\n",
    "grid = grid.to_crs('EPSG:4326')\n",
    "grid.explore()"
   ]
  },
  {
   "cell_type": "code",
   "execution_count": null,
   "metadata": {},
   "outputs": [],
   "source": [
    "# You need to get the bounding box of the grid\n",
    "# The bounding box is the minimum and maximum coordinates of the grid\n",
    "# The union_all() function combines all geometries in the GeoDataFrame into a single geometry\n",
    "minx, miny, maxx, maxy = grid.union_all().bounds\n",
    "print(minx, miny, maxx, maxy)"
   ]
  },
  {
   "cell_type": "code",
   "execution_count": null,
   "metadata": {},
   "outputs": [],
   "source": [
    "grid.union_all().bounds"
   ]
  },
  {
   "cell_type": "code",
   "execution_count": null,
   "metadata": {},
   "outputs": [],
   "source": [
    "# You need to dissolve the grid to get the bounding box\n",
    "# if not, you will get the bounding box of each grid\n",
    "grid.bounds"
   ]
  },
  {
   "cell_type": "code",
   "execution_count": null,
   "metadata": {},
   "outputs": [],
   "source": [
    "url_wfs = 'https://api.vworld.kr/req/wfs?'\n",
    "\n",
    "bldg_params = {\n",
    "    'SERVICE':'WFS',\n",
    "    'version': '2.0.0',\n",
    "    'REQUEST':'GetFeature',\n",
    "    'key': YOUR_API_KEY,\n",
    "    'output': 'application/json',\n",
    "    'TYPENAME': 'lt_c_bldginfo', # Building information\n",
    "    'srsname': 'EPSG:4326', # When you provide the bounding box, you need to specify the coordinate system\n",
    "    'bbox': f'{minx},{miny},{maxx},{maxy}',\n",
    "}\n",
    "\n",
    "bldg_query = urlencode(bldg_params)\n",
    "print(\"String Encoded Parameters:\")\n",
    "print(bldg_query)\n",
    "\n",
    "url_bldg = url_wfs + bldg_query\n",
    "print(\"Final URL:\")\n",
    "print(url_bldg)\n",
    "\n",
    "bldg_gdf = gpd.read_file(url_bldg)\n",
    "bldg_gdf"
   ]
  },
  {
   "cell_type": "code",
   "execution_count": null,
   "metadata": {},
   "outputs": [],
   "source": [
    "bldg_gdf.explore(column='grnd_flr', scheme='NaturalBreaks', k=5, cmap='Blues', legend=True, tooltip=['grnd_flr'], name='건물 연면적(㎡)', style_kwds={'fillOpacity': 0.7})"
   ]
  },
  {
   "cell_type": "markdown",
   "id": "241be8f5",
   "metadata": {},
   "source": [
    "# Done"
   ]
  }
 ],
 "metadata": {
  "kernelspec": {
   "display_name": "GIS_Project",
   "language": "python",
   "name": "python3"
  },
  "language_info": {
   "codemirror_mode": {
    "name": "ipython",
    "version": 3
   },
   "file_extension": ".py",
   "mimetype": "text/x-python",
   "name": "python",
   "nbconvert_exporter": "python",
   "pygments_lexer": "ipython3",
   "version": "3.13.1"
  }
 },
 "nbformat": 4,
 "nbformat_minor": 4
}
