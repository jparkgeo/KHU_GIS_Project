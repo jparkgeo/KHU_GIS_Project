{
 "cells": [
  {
   "cell_type": "code",
   "execution_count": null,
   "id": "b4410011",
   "metadata": {},
   "outputs": [],
   "source": [
    "# INSTALL THE FOLLOWING PACKAGES IN YOUR CONDA ENVIRONMENT\n",
    "\n",
    "# conda install contextily\n",
    "# conda install -c conda-forge plotly"
   ]
  },
  {
   "cell_type": "markdown",
   "id": "b797d4c3",
   "metadata": {},
   "source": [
    "# Geospatial Data Visualization\n",
    "\n",
    "### Main Packages \n",
    "* <a href=https://matplotlib.org/>`matplotlib`</a> provides a collection of functions that make matplotlib work like MATLAB. Each pyplot function makes some change to a figure: e.g., creates a figure, creates a plotting area in a figure, plots some lines in a plotting area, decorates the plot with labels, etc.\n",
    "* <a href=https://python-visualization.github.io/folium/>`folium`</a> builds on the data wrangling strengths of the Python ecosystem and the mapping strengths of the `leaflet.js` library. The practice here is to manipulate your data in Python, then visualize it in on a Leaflet map via folium.\n",
    "* <a href=https://plotly.com/python/>`plotly`</a> is graphing library makes interactive, publication-quality graphs. Examples of how to make line plots, scatter plots, area charts, bar charts, error bars, box plots, histograms, heatmaps, subplots, multiple-axes, polar charts, and bubble charts.\n",
    "\n",
    "### Supplementary packages\n",
    "* <a href=https://geopandas.org/en/stable/>`geopandas`</a> is an open source project to make working with geospatial data in python easier. GeoPandas extends the datatypes used by pandas to allow spatial operations on geometric types. \n",
    "* <a href=https://github.com/pysal/mapclassify>`mapclassify`</a> implements a family of classification schemes for choropleth maps. Its focus is on the determination of the number of classes, and the assignment of observations to those classes. It is intended for use with upstream mapping and geovisualization packages (see geopandas and geoplot) that handle the rendering of the maps.\n",
    "\n",
    "\n",
    "## 1. Introduction to Matplotlib\n",
    "\n",
    "`matplotlib.pyplot` is a state-based interface to matplotlib. It provides an implicit, MATLAB-like, way of plotting. It also opens figures on your screen, and acts as the figure GUI manager."
   ]
  },
  {
   "cell_type": "code",
   "execution_count": null,
   "id": "9d087099",
   "metadata": {},
   "outputs": [],
   "source": [
    "import matplotlib.pyplot as plt\n",
    "import numpy as np"
   ]
  },
  {
   "cell_type": "markdown",
   "id": "8458f6ec",
   "metadata": {},
   "source": [
    "The image below describes the parts of a figure. You can refer to this to find a proper variable to be called. \n",
    "\n",
    "* **Figure** is the whole figure. The Figure keeps track of all the child Axes. <br>\n",
    "* **Axes** is an Artist attached to a Figure that contains a region for plotting data, and usually includes two Axis objects (for 2D) and three Axis objects (for 3D). <br>\n",
    "* **Axis** set the scale and limits and generate ticks (the marks on the Axis) and ticklabels (strings labeling the ticks). <br>\n",
    "* **Artist** is basically everything visible on the Figure. This includes Text objects, Line2D objects, collections objects, Patch objects, etc. <br>\n",
    "\n",
    "<div style=\"text-align: center\">\n",
    "  <img src=\"https://matplotlib.org/stable/_images/anatomy.png\" width=\"700\">\n",
    "</div>\n",
    "\n",
    "Source: https://matplotlib.org/stable/users/explain/quick_start.html"
   ]
  },
  {
   "cell_type": "markdown",
   "id": "4de40da0",
   "metadata": {},
   "source": [
    "### 1.1. Basic Plotting\n",
    "\n",
    "Matplotlib graphs your data on **Figures**, each of which can contain one or more **Axes**, an area where points can be specified in terms of x-y coordinates. The simplest way of creating a Figure with an Axes is using `matplotlib.pyplot.subplots`. We can then use `Axes.plot` to draw some data on the Axes:\n",
    "\n",
    "Source: https://matplotlib.org/stable/tutorials/introductory/usage.html#sphx-glr-tutorials-introductory-usage-py\n",
    "\n",
    "Here we are making a simple line graph of the equation below. \n",
    "\\begin{gather*}\n",
    "y = x^{2}\n",
    "\\end{gather*}"
   ]
  },
  {
   "cell_type": "code",
   "execution_count": null,
   "id": "3fc56972",
   "metadata": {},
   "outputs": [],
   "source": [
    "# Creating variables\n",
    "x = list(range(10))  # Sample data.\n",
    "y = [i**2 for i in x]  # y = x^2\n",
    "\n",
    "plt.plot(x, y)"
   ]
  },
  {
   "cell_type": "code",
   "execution_count": null,
   "id": "560c38f8",
   "metadata": {},
   "outputs": [],
   "source": [
    "# Creating an empty figure\n",
    "fig, ax = plt.subplots(figsize=(5,3)) # if subplots() has no arguments, it creates a figure with one subplot\n",
    "\n",
    "plt.show()"
   ]
  },
  {
   "cell_type": "code",
   "execution_count": null,
   "id": "f5a12afb",
   "metadata": {},
   "outputs": [],
   "source": [
    "# Creating variables\n",
    "x = list(range(10))  # Sample data.\n",
    "y = [i**2 for i in x]  # y = x^2\n",
    "\n",
    "print(f\"Values in list x: {x}\")\n",
    "print(f\"Values in list y: {y}\")\n",
    "\n",
    "# Plot a line graph\n",
    "fig, ax = plt.subplots(figsize=(5,3))  # Create a figure containing a single axes.\n",
    "ax.plot(x, y)\n",
    "plt.show()"
   ]
  },
  {
   "cell_type": "code",
   "execution_count": null,
   "id": "0fd535e1",
   "metadata": {
    "scrolled": true
   },
   "outputs": [],
   "source": [
    "# Plot a scatter plot\n",
    "fig, ax = plt.subplots(figsize=(5,3))  # Create a figure containing a single axes.\n",
    "ax.scatter(x, y)\n",
    "plt.show()"
   ]
  },
  {
   "cell_type": "markdown",
   "id": "08b190bb",
   "metadata": {},
   "source": [
    "### 1.2. Change color, line style, marker style\n",
    "\n",
    "There is a variety of selections that you can change styles of plots (e.g., color, line style, marker size.. etc). It is literally not able to cover everything in class given its enormous variety. Let me give you a few examples of changing line style, color, marker style. For your reference, please visit <a href=https://matplotlib.org/stable/api/_as_gen/matplotlib.pyplot.plot.html>this website</a>. "
   ]
  },
  {
   "cell_type": "markdown",
   "id": "0c9fba97",
   "metadata": {},
   "source": [
    "**<a href=https://matplotlib.org/stable/gallery/color/named_colors.html>Color example</a>**: You can specify the color with `c` or `color` variables and enter a value with a name, if it is predefined, or hex value. "
   ]
  },
  {
   "cell_type": "code",
   "execution_count": null,
   "id": "dfc2fd86",
   "metadata": {},
   "outputs": [],
   "source": [
    "x = np.linspace(0, 2, 50)  # Sample data.\n",
    "print(f\"Values in list x: {x}\")\n",
    "\n",
    "# Change the COLOR of line graphs\n",
    "fig, ax = plt.subplots(figsize=(5,3))  # Create a figure containing a single axes.\n",
    "\n",
    "ax.plot(x, x, c='red') # example of using 'c' attribute \n",
    "ax.plot(x, x**2, c='#0000FF') # example of hex value \n",
    "ax.plot(x, x**3, color='black') # exampel of using 'color' attribute\n",
    "\n",
    "plt.show()"
   ]
  },
  {
   "cell_type": "markdown",
   "id": "303e8c60",
   "metadata": {},
   "source": [
    "**<a href=https://matplotlib.org/stable/gallery/lines_bars_and_markers/linestyles.html>Linestyles</a> and Linewidth example**: You can specify line style with `linestyle` or `ls` attribute and enter a value with their predefined name. Linewidth can be changed with `lw` or `linewidth` attribute. "
   ]
  },
  {
   "cell_type": "code",
   "execution_count": null,
   "id": "3cbac68c",
   "metadata": {},
   "outputs": [],
   "source": [
    "x = np.linspace(0, 2, 100)  # Sample data.\n",
    "\n",
    "# Change the color of line graph\n",
    "fig, ax = plt.subplots(figsize=(5,3))  # Create a figure containing a single axes.\n",
    "\n",
    "ax.plot(x, x, linestyle='--') # example of using 'linestyle' attribute \n",
    "ax.plot(x, x**2, ls='dotted', lw=5) # example of using 'ls' attribute \n",
    "ax.plot(x, x**3, '-.', linewidth=10) # example of without attribute name\n",
    "plt.show()"
   ]
  },
  {
   "cell_type": "markdown",
   "id": "b03bdb9b",
   "metadata": {},
   "source": [
    "**<a href=https://matplotlib.org/stable/api/markers_api.html#module-matplotlib.markers>Marker</a> and Markersize example**: you can easily change the style of marker and its size as shwon in the example below. "
   ]
  },
  {
   "cell_type": "code",
   "execution_count": null,
   "id": "0983e5f4",
   "metadata": {},
   "outputs": [],
   "source": [
    "x = list(range(5))  # Sample data.\n",
    "y1 = [i for i in x] # power of 1\n",
    "y2 = [i**2 for i in x] # power of 2\n",
    "y3 = [i**3 for i in x] # power of 3\n",
    "\n",
    "# Change the color of line graph\n",
    "fig, ax = plt.subplots(figsize=(5,3))  # Create a figure containing a single axes.\n",
    "ax.scatter(x, y1, marker='o') # change marker style\n",
    "ax.scatter(x, y2, marker='s', s=100) # marker style and size can be changed \n",
    "ax.scatter(x, y3, marker='^', s=[v*5 for v in y3]) # size can vary based on a given list \n",
    "plt.show()"
   ]
  },
  {
   "cell_type": "markdown",
   "id": "3f571a71",
   "metadata": {},
   "source": [
    "### 1.3. Supplementary elements: title, xlabel, ylabel, xticks, and yticks"
   ]
  },
  {
   "cell_type": "code",
   "execution_count": null,
   "id": "5ff1adf9",
   "metadata": {},
   "outputs": [],
   "source": [
    "x = np.linspace(0, 2, 100)  # Sample data.\n",
    "\n",
    "# Change the color of line graph\n",
    "fig, ax = plt.subplots(figsize=(5,3))  # Create a figure containing a single axes.\n",
    "ax.plot(x, x, linestyle='--', label='Dashed line') # example of using 'linestyle' attribute \n",
    "ax.plot(x, x**2, ls='dotted', lw=5, label='Width 5 dotted line') # example of using 'ls' attribute \n",
    "ax.plot(x, x**3, '-.', linewidth=10, label='Width 10 dashed-dotted line') # example of without attribute name\n",
    "\n",
    "# Figure decoration\n",
    "# ax.legend(fontsize=15) # You can also change the location of the legend\n",
    "\n",
    "# You can specify the title of this Axes\n",
    "# ax.set_title('Here is the title', size=20) \n",
    "\n",
    "# The labels of x-axis and y-axis\n",
    "# ax.set_xlabel('Here is X axis label') \n",
    "# ax.set_ylabel('Here is Y axis label') \n",
    "\n",
    "# ax.set_xticks([0, 1, 2]) # The locations that ticks will be displayed. \n",
    "# ax.set_yticks([0, 1, 2, 3])  # The locations that ticks will be displayed. \n",
    "\n",
    "plt.show()"
   ]
  },
  {
   "cell_type": "markdown",
   "id": "d1438391",
   "metadata": {},
   "source": [
    "### 1.4. Multiple subplots\n",
    "\n",
    "For more information on subplots, please visit <a href=https://matplotlib.org/stable/api/_as_gen/matplotlib.pyplot.subplots.html>this website</a>. \n",
    "\n"
   ]
  },
  {
   "cell_type": "code",
   "execution_count": null,
   "id": "505a3559",
   "metadata": {},
   "outputs": [],
   "source": [
    "fig, axes = plt.subplots(nrows=2, ncols=4, figsize=(8, 4))  # Create a figure with 2 rows and 4 columns of subplots\n",
    "axes = axes.flatten()  # Flatten the 2D array of axes to 1D for easier iteration\n",
    "\n",
    "for idx, ax in enumerate(axes):\n",
    "    ax.text(0.5, 0.5, f\"Index: {idx} \\n\\n Row {idx // 4 + 1}, Col {idx % 4 + 1}\", \n",
    "            fontsize=12, ha='center', va='center')  # Add location information\n",
    "    \n",
    "    ax.set_xticks([])  # Remove x-axis ticks\n",
    "    ax.set_yticks([])  # Remove y-axis ticks\n",
    "\n",
    "    # ax.axis('off') # Hide the entire axes\n",
    "\n",
    "plt.tight_layout()  # Adjust spacing between subplots\n",
    "plt.show()"
   ]
  },
  {
   "cell_type": "code",
   "execution_count": null,
   "id": "d8b59a1c",
   "metadata": {},
   "outputs": [],
   "source": [
    "# Some example data to display\n",
    "x = list(range(10))  # Sample data.\n",
    "y = [i*i for i in x]\n",
    "\n",
    "# You can create multiple plot with `plt.subplots` and return a tuple (ax1, ax2).\n",
    "fig, (ax1, ax2) = plt.subplots(1, 2, figsize=(10, 4))\n",
    "\n",
    "ax1.plot(x, y) \n",
    "ax1.set_title('Left axes title')\n",
    "ax2.scatter(x, y)\n",
    "ax2.set_title('Right axes title')\n",
    "plt.show()"
   ]
  },
  {
   "cell_type": "code",
   "execution_count": null,
   "id": "8e9e2a9a",
   "metadata": {
    "scrolled": true
   },
   "outputs": [],
   "source": [
    "# Or, you can create multiple plot with `plt.subplots` and return axes. Then, call the sub axes with an index.\n",
    "fig, axes = plt.subplots(nrows=1, ncols=2, figsize=(10, 4))\n",
    "axes[0].plot(x, y)\n",
    "axes[0].set_title('Left axes title')\n",
    "axes[1].scatter(x, y)\n",
    "axes[1].set_title('Right axes title')\n",
    "plt.show()"
   ]
  },
  {
   "cell_type": "markdown",
   "id": "170e8a74",
   "metadata": {},
   "source": [
    "### 1.5. Annotation\n",
    "\n",
    "There are many ways to annotate a plot. You can use `text` or `annotate` functions.\n",
    "\n",
    "**Difference between `ax.text()` and `ax.annotate()` in `matplotlib`**\n",
    "\n",
    "| Feature         | `ax.text()`                                         | `ax.annotate()`                                                      |\n",
    "|----------------|-----------------------------------------------------|----------------------------------------------------------------------|\n",
    "| **Purpose**     | Adds simple text at a specified location            | Adds annotated text with optional arrows pointing to a specific point |\n",
    "| **Arrow Support** | ❌ Not supported                                    | ✅ Supported via `arrowprops`                                         |\n",
    "| **Coordinates** | Only text position is given                         | Requires both annotation point (`xy`) and text position (`xytext`)   |\n",
    "| **Typical Use** | Labels, titles, or captions on plots                | Highlighting or explaining specific data points                      |\n",
    "| **Customization** | Basic text styling (font, size, color, etc.)       | More advanced options including arrows, text boxes, coordinate systems, etc. |\n"
   ]
  },
  {
   "cell_type": "code",
   "execution_count": null,
   "id": "ff7a89c3",
   "metadata": {},
   "outputs": [],
   "source": [
    "fig, ax = plt.subplots(figsize=(5,5))\n",
    "\n",
    "ax.scatter([1, 2, 3], [1, 2, 3])\n",
    "\n",
    "ax.annotate('Point 1', # text\n",
    "            xy=(1, 1), # point to annotate\n",
    "            xytext=(1, 2), # point to place the text\n",
    "            fontsize=12, # font size\n",
    "            arrowprops=dict(facecolor='black') # arrow properties\n",
    "            )\n",
    "\n",
    "# 텍스트를 축 비율에 관계없이 (0.5, 0.9) 위치에 표시\n",
    "ax.text(0.5,  # x position in axes coordinates\n",
    "        0.9,  # y position in axes coordinates\n",
    "        'This is text', # text\n",
    "        fontsize=12,\n",
    "        transform=ax.transAxes, # consider the ax coordiates as relative locations\n",
    "        ha='left', # horizontal alignment\n",
    "        va='bottom', # vertical alignment\n",
    "        )\n",
    "\n",
    "plt.show()"
   ]
  },
  {
   "cell_type": "markdown",
   "id": "15225b0b",
   "metadata": {},
   "source": [
    "## 2. Visualizing Geospatial Data with GeoPandas and Matplotlib\n",
    "\n",
    "With the functionalities of GeoPandas and Matplitlib, we will examine the COVID-19 confirmed cases in the State of Texas in three different ways. \n",
    "\n",
    "1. Basic plots with GeoPandas: Sigle map of accumulated COVID-19 cases per county and TSA. \n",
    "2. Multiple Axes in a Figure: Monthly changes of COVID-19 cases per TSA.\n",
    "3. Multiple Axes with different sizes in a Figure: Daily fluctuation of COVID-19 focusing on four major TSA."
   ]
  },
  {
   "cell_type": "code",
   "execution_count": null,
   "id": "9b758193",
   "metadata": {},
   "outputs": [],
   "source": [
    "# Import packages\n",
    "import geopandas as gpd\n",
    "import pandas as pd\n",
    "import matplotlib.patheffects as pe\n",
    "from matplotlib.colors import LinearSegmentedColormap"
   ]
  },
  {
   "cell_type": "code",
   "execution_count": null,
   "id": "a89069d4",
   "metadata": {},
   "outputs": [],
   "source": [
    "# Import data to be plotted\n",
    "emd_gdf = gpd.read_file('./data/EMD_SEOUL.shp') # 읍면동\n",
    "emd_gdf = emd_gdf.set_crs(epsg=5179) # UTM-K (EPSG:5179)\n",
    "\n",
    "pop_df = pd.read_csv('./data/floating_pop_emd_20240906.csv') \n",
    "pop_df['ADM_CD'] = pop_df['ADM_CD'].astype(str)\n",
    "\n",
    "emd_pop_gdf = emd_gdf.merge(pop_df, on='ADM_CD')\n",
    "emd_pop_gdf.head(5)"
   ]
  },
  {
   "cell_type": "markdown",
   "id": "fef313b6",
   "metadata": {},
   "source": [
    "### 2.1. Basic choropleth maps with GeoPandas\n",
    "\n",
    "The colormap is a very critical element for Choropleth maps. You can choose from various options that <a href=https://matplotlib.org/2.0.2/users/colormaps.html>matplotlib provides</a>. Or, you can create your own color map with <a href=https://colorbrewer2.org/>ColorBrewer</a>. The website is a well-known resource for color recommendations, especially geographical purposes. "
   ]
  },
  {
   "cell_type": "code",
   "execution_count": null,
   "id": "4764675b",
   "metadata": {},
   "outputs": [],
   "source": [
    "fig, ax = plt.subplots(figsize=(10,8))  # Initialize two main vairalbes, fig and ax\n",
    "emd_pop_gdf.plot(column='H00', # Create a Choropleth map based on `H00` column (floating population at midnight)\n",
    "                 cmap='Reds', # Color maps. https://matplotlib.org/2.0.2/users/colormaps.html\n",
    "                 legend=True, # Include legend in the plot. \n",
    "                 ax=ax  # the location where the map is drawn\n",
    "                ) \n",
    "plt.show()"
   ]
  },
  {
   "cell_type": "markdown",
   "id": "172bc92e",
   "metadata": {},
   "source": [
    "Various classification methods are available for choropleth maps. You can use <a href='https://pysal.org/mapclassify/api.html'>`mapclassify`</a> package to classify your data. The package provides a variety of classification methods, including `Equal Interval`, `Quantile`, `Fisher-Jenks`, and `Natural Breaks`."
   ]
  },
  {
   "cell_type": "code",
   "execution_count": null,
   "id": "04dc999c",
   "metadata": {},
   "outputs": [],
   "source": [
    "fig, ax = plt.subplots(figsize=(10,8))  # Initialize two main vairalbes, fig and ax\n",
    "\n",
    "emd_pop_gdf.plot('H00', # Create a Choropleth map based on `H00` column (floating population at midnight),\n",
    "                scheme='NaturalBreaks', # Classification method. https://pysal.org/mapclassify/classifiers.html\n",
    "                cmap='Reds', # Color maps. https://matplotlib.org/2.0.2/users/colormaps.html\n",
    "                legend=True, # Include legend in the plot. \n",
    "                ax=ax  # the location where the map is drawn\n",
    "                ) \n",
    "\n",
    "ax.set_title('Population at midnight (Natural Breaks)', size=15) # Set the title of the map\n",
    "\n",
    "ax.get_xaxis().set_visible(False)  # Remove ticks and labels\n",
    "ax.get_yaxis().set_visible(False)  # Remove ticks and labels\n",
    "\n",
    "# ax.axis('off') # Hide the entire axes\n",
    "\n",
    "plt.show()"
   ]
  },
  {
   "cell_type": "code",
   "execution_count": null,
   "id": "aa379916",
   "metadata": {},
   "outputs": [],
   "source": [
    "fig, axes = plt.subplots(1, 4, figsize=(20, 5))\n",
    "axes = axes.flatten() # Flatten the 2D array of axes to 1D for easier indexing\n",
    "\n",
    "# Natural Breaks\n",
    "emd_pop_gdf.plot('H00', # Create a Choropleth map based on `H00` column (floating population at midnight)\n",
    "                scheme='NaturalBreaks', # Classification method. https://pysal.org/mapclassify/api.html#\n",
    "                cmap='Reds', # Color maps. https://matplotlib|.org/2.0.2/users/colormaps.html\n",
    "                legend=True, # Include legend in the plot. \n",
    "                ax=axes[0]  # the location where the map is drawn\n",
    "                ) \n",
    "axes[0].set_title('Natural Breaks', size=20) # Set title for the first subplot\n",
    "axes[0].axis('off') # Hide the entire axes\n",
    "\n",
    "# Equal Interval\n",
    "emd_pop_gdf.plot('H00', # Create a Choropleth map based on `H00` column (floating population at midnight)\n",
    "                scheme='EqualInterval', # Classification method. https://pysal.org/mapclassify/api.html#\n",
    "                cmap='Reds', # Color maps. https://matplotlib.org/2.0.2/users/colormaps.html\n",
    "                legend=True, # Include legend in the plot. \n",
    "                ax=axes[1]  # the location where the map is drawn\n",
    "                ) \n",
    "axes[1].set_title('Equal Interval', size=20) # Set title for the second subplot\n",
    "axes[1].axis('off') # Hide the entire axes\n",
    "\n",
    "# Quantiles\n",
    "emd_pop_gdf.plot('H00', # Create a Choropleth map based on `H00` column (floating population at midnight)\n",
    "                scheme='Quantiles', # Classification method. https://pysal.org/mapclassify/api.html#\n",
    "                cmap='Reds', # Color maps. https://matplotlib.org/2.0.2/users/colormaps.html\n",
    "                legend=True, # Include legend in the plot. \n",
    "                ax=axes[2]  # the location where the map is drawn\n",
    "                ) \n",
    "axes[2].set_title('Quantiles', size=20) # Set title for the third subplot\n",
    "axes[2].axis('off') # Hide the entire axes\n",
    "\n",
    "# User Defined\n",
    "emd_pop_gdf.plot('H00', # Create a Choropleth map based on `H00` column (floating population at midnight)\n",
    "                scheme='user_defined', # Classification method. https://pysal.org/mapclassify/api.html#\n",
    "                cmap='Reds', # Color maps. https://matplotlib.org/2.0.2/users/colormaps.html\n",
    "                legend=True, # Include legend in the plot. \n",
    "                ax=axes[3],  # the location where the map is drawn\n",
    "                classification_kwds={'bins': [5000, 10000, 20000, 40000, 100000]}, # You can define the bins for UserDefined\n",
    "                ) \n",
    "axes[3].set_title('User Defined', size=20) # Set title for the fourth subplot\n",
    "axes[3].axis('off') # Hide the entire axes\n",
    "\n",
    "plt.tight_layout() # Adjust the padding between and around subplots.\n",
    "plt.show()"
   ]
  },
  {
   "cell_type": "markdown",
   "id": "9a21af91",
   "metadata": {},
   "source": [
    "### 2.2. Use your own color map with ColorBrewer\n",
    "Now, let's go to <a href=https://colorbrewer2.org/>ColorBrewer</a> and grab hex color codes. <br>\n",
    "You can define your own color map with <a href='https://matplotlib.org/stable/api/_as_gen/matplotlib.colors.LinearSegmentedColormap.html#matplotlib.colors.LinearSegmentedColormap.from_list'>`matplotlib.colors.LinearSegmentedColormap.from_list()`</a> function. \n",
    "\n",
    "\n",
    "\n"
   ]
  },
  {
   "cell_type": "code",
   "execution_count": null,
   "id": "3294b579",
   "metadata": {},
   "outputs": [],
   "source": [
    "# https://colorbrewer2.org/#type=sequential&scheme=Blues&n=5\n",
    "color_brewer = ['#eff3ff','#bdd7e7','#6baed6','#3182bd','#08519c']  # Hex color codes were grabbed from ColorBrewer\n",
    "cm = LinearSegmentedColormap.from_list('cb_', color_brewer, N=5)  # Create a colormap instance with the hex codes\n",
    "cm"
   ]
  },
  {
   "cell_type": "code",
   "execution_count": null,
   "id": "d76fdb2d",
   "metadata": {},
   "outputs": [],
   "source": [
    "fig, ax = plt.subplots(figsize=(10,8))  # Initialize two main vairalbes, fig and ax\n",
    "\n",
    "emd_pop_gdf.plot('H00', # Create a Choropleth map based on `H00` column (floating population at midnight)\n",
    "                cmap=cm, # Color maps from ColorBrewer\n",
    "                legend=True, # Include legend in the plot. \n",
    "                ax=ax  # the location where the map is drawn\n",
    "           )  \n",
    "\n",
    "ax.set_title('Population at midnight (ColorBrewer)', size=15) # Set the title of the map\n",
    "\n",
    "ax.axis('off') # Hide the entire axes\n",
    "\n",
    "plt.show()"
   ]
  },
  {
   "cell_type": "markdown",
   "id": "b4db59a7",
   "metadata": {},
   "source": [
    "### 2.3. Multiple layers\n",
    "\n",
    "Now, let's add some more layers to the map. You can add multiple layers to the map by plotting them on the same axes. \n",
    "\n",
    "<div style=\"text-align: center\">\n",
    "  <img src=\"./data/multi_layers.png\" width=\"500\">\n",
    "</div>\n",
    "\n",
    "\n",
    "**Tip**: Two minor functions of GeoPandas. <br>\n",
    "* <a href=https://geopandas.org/en/stable/docs/reference/api/geopandas.GeoDataFrame.dissolve.html>gdf.dissolve()</a>: this function helps you to dissolve County to TSA and aggregate their associate information.\n",
    "* <a href=https://geopandas.org/en/stable/docs/reference/api/geopandas.GeoSeries.boundary.html>gdf.boundary()</a>: this function helps you to obtain the boundary of polygon, stored in the GeoDataFrame. "
   ]
  },
  {
   "cell_type": "code",
   "execution_count": null,
   "id": "4b6cdc5b",
   "metadata": {},
   "outputs": [],
   "source": [
    "# Dissolve the data by `SIGUNGU_CD` (시군구코드)\n",
    "gu_gdf = emd_gdf.copy(deep=True)\n",
    "gu_gdf = gu_gdf.dissolve(by='SIGUNGU_CD')\n",
    "gu_gdf = gu_gdf.reset_index()\n",
    "gu_gdf.head(3)"
   ]
  },
  {
   "cell_type": "code",
   "execution_count": null,
   "id": "cb1d50f7",
   "metadata": {},
   "outputs": [],
   "source": [
    "# Create a map with the dissolved data (SGG)\n",
    "gu_gdf.plot()"
   ]
  },
  {
   "cell_type": "code",
   "execution_count": null,
   "id": "743a7aba",
   "metadata": {},
   "outputs": [],
   "source": [
    "# Sometimes there are some geometries that are not closed.\n",
    "gu_gdf.loc[gu_gdf['SIGUNGU_NM'] == '동대문구', 'geometry'].values[0]"
   ]
  },
  {
   "cell_type": "code",
   "execution_count": null,
   "id": "ac663227",
   "metadata": {},
   "outputs": [],
   "source": [
    "# You can fix this with `buffer()` and assign it back to the geometry column.\n",
    "gu_gdf[\"geometry\"] = gu_gdf.buffer(0.001)\n",
    "gu_gdf.head(3) # It is hard to notice the change in the table."
   ]
  },
  {
   "cell_type": "code",
   "execution_count": null,
   "id": "a5048ad9",
   "metadata": {},
   "outputs": [],
   "source": [
    "# Check the geometry which is now fixed. \n",
    "gu_gdf.loc[gu_gdf['SIGUNGU_NM'] == '동대문구', 'geometry'].values[0]"
   ]
  },
  {
   "cell_type": "markdown",
   "id": "29733607",
   "metadata": {},
   "source": [
    "Load supplimentary layers (road network and rivers) and plot them on the map."
   ]
  },
  {
   "cell_type": "code",
   "execution_count": null,
   "id": "ed4ce5c6",
   "metadata": {},
   "outputs": [],
   "source": [
    "road_network = gpd.read_file('./data/road_network.geojson') \n",
    "road_network = road_network.to_crs(epsg=5179) # UTM-K (EPSG:5179)\n",
    "road_network.head(3)"
   ]
  },
  {
   "cell_type": "code",
   "execution_count": null,
   "id": "353fa5fc",
   "metadata": {},
   "outputs": [],
   "source": [
    "river = gpd.read_file('./data/river_seoul.shp')\n",
    "river = river.to_crs(epsg=5179) # UTM-K (EPSG:5179)\n",
    "river.head(3)"
   ]
  },
  {
   "cell_type": "markdown",
   "id": "78718206",
   "metadata": {},
   "source": [
    "To change the order of layers, you can use `zorder` attribute. The higher the value, the upper the layer."
   ]
  },
  {
   "cell_type": "code",
   "execution_count": null,
   "id": "af18adb6",
   "metadata": {},
   "outputs": [],
   "source": [
    "# Now lets plot multiple layers on the map. \n",
    "\n",
    "fig, ax = plt.subplots(figsize=(10,8))  # Initialize two main vairalbes, fig and ax\n",
    "\n",
    "road_network.plot(color='black', # color.\n",
    "                  linewidth=0.5, # Line width\n",
    "                  zorder=2,\n",
    "                  ax=ax  # the location where the map is drawn\n",
    "                  )\n",
    "\n",
    "\n",
    "river.plot(color='blue', # color\n",
    "           zorder=3, # z-order of the layer\n",
    "           ax=ax  # the location where the map is drawn\n",
    "           )\n",
    "\n",
    "emd_pop_gdf.plot('H00', # Create a Choropleth map based on `H00` column (floating population at midnight)\n",
    "                cmap=cm, # Color maps from ColorBrewer\n",
    "                legend=True, # Include legend in the plot. \n",
    "                zorder=1,\n",
    "                ax=ax  # the location where the map is drawn\n",
    "                )  \n",
    "\n",
    "gu_gdf.boundary.plot(color='black', # color. \n",
    "                     linewidth=0.5, # Line width, given it draws the boundary of polygon\n",
    "                     linestyle=':', # Line style of the boundary; https://matplotlib.org/stable/gallery/lines_bars_and_markers/linestyles.html\n",
    "                     ax=ax  # the location where the map is drawn\n",
    "                    )\n",
    "\n",
    "\n",
    "ax.set_title('Population at midnight (ColorBrewer) with SGG boundary', size=15) # Set the title of the map\n",
    "ax.axis('off') # Hide the entire axes\n",
    "plt.show()"
   ]
  },
  {
   "cell_type": "markdown",
   "id": "92cdb288",
   "metadata": {},
   "source": [
    "### 2.4. Add annotation on the map\n",
    "\n",
    "If you are facing issues with Korean fonts, you can set the font family to a Korean font.\n",
    "\n",
    "<div style=\"text-align: center\">\n",
    "  <img src=\"./data/annotation.png\" width=\"500\">\n",
    "</div>"
   ]
  },
  {
   "cell_type": "code",
   "execution_count": null,
   "id": "7f977ff4",
   "metadata": {},
   "outputs": [],
   "source": [
    "## Easy version\n",
    "\n",
    "# Windows\n",
    "# plt.rcParams['font.family'] = 'Malgun Gothic'\n",
    "\n",
    "# Mac\n",
    "# plt.rcParams['font.family'] = 'AppleGothic'"
   ]
  },
  {
   "cell_type": "code",
   "execution_count": null,
   "id": "ed1e5852",
   "metadata": {},
   "outputs": [],
   "source": [
    "## Advanced version\n",
    "\n",
    "# from matplotlib import font_manager\n",
    "\n",
    "# # You can import your own font with the code below\n",
    "# font_path = '/Library/Fonts/NanumGothic-Regular.ttf'\n",
    "# font_prop = font_manager.FontProperties(fname=font_path)\n",
    "\n",
    "# # Check the name of the font\n",
    "# print(font_prop.get_name())\n",
    "\n",
    "# # Set the font family to the imported font\n",
    "# plt.rcParams['font.family'] = font_prop.get_name()"
   ]
  },
  {
   "cell_type": "code",
   "execution_count": null,
   "id": "5698cfd6",
   "metadata": {},
   "outputs": [],
   "source": [
    "# Now lets plot multiple layers on the map. \n",
    "\n",
    "fig, ax = plt.subplots(figsize=(10,8))  # Initialize two main vairalbes, fig and ax\n",
    "emd_pop_gdf.plot('H00', # Create a Choropleth map based on `H00` column (floating population at midnight)\n",
    "                cmap=cm, # Color maps from ColorBrewer\n",
    "                legend=True, # Include legend in the plot. \n",
    "                ax=ax  # the location where the map is drawn\n",
    "           )  \n",
    "\n",
    "gu_gdf.boundary.plot(color='black', # color. \n",
    "                     linewidth=0.5, # Line width, given it draws the boundary of polygon\n",
    "                     linestyle=':', # Line style of the boundary; https://matplotlib.org/stable/gallery/lines_bars_and_markers/linestyles.html\n",
    "                     ax=ax  # the location where the map is drawn\n",
    "                    )\n",
    "\n",
    "# Annotation\n",
    "for idx, row in gu_gdf.iterrows(): # Iterate everyrow in `tsa` GeoDataFrame\n",
    "    ax.text(s=row['SIGUNGU_NM'], # String to be displayed; TSA name\n",
    "            x=row['geometry'].centroid.coords[:][0][0], # X coordinate of label\n",
    "            y=row['geometry'].centroid.coords[:][0][1], # Y coordinate of label\n",
    "            fontsize=15, \n",
    "            color='white',\n",
    "            ha='center', # Horizontal align\n",
    "            va='center', # Vertical align\n",
    "            path_effects=[pe.withStroke(linewidth=1, foreground=\"black\")] # This will create boundary of text\n",
    "           )\n",
    "\n",
    "# Decoration\n",
    "ax.set_title('Population at midnight (ColorBrewer) with SGG annnotation', size=15) # Set the title of the map\n",
    "ax.axis('off') # Hide the entire axes\n",
    "\n",
    "plt.show()"
   ]
  },
  {
   "cell_type": "markdown",
   "id": "1abe5373",
   "metadata": {},
   "source": [
    "### 2.5 Multiple axes in a Figure\n",
    "\n",
    "In this section, we will create a figure with multiple axes. \n",
    "\n",
    "<div style=\"text-align: center\">\n",
    "  <img src=\"./data/multi_axes.png\" width=\"1000\">\n",
    "</div>"
   ]
  },
  {
   "cell_type": "code",
   "execution_count": null,
   "id": "74ddb0d5",
   "metadata": {},
   "outputs": [],
   "source": [
    "emd_pop_gdf.head(3)"
   ]
  },
  {
   "cell_type": "code",
   "execution_count": null,
   "id": "6f3a13a8",
   "metadata": {},
   "outputs": [],
   "source": [
    "fig, ax = plt.subplots(3, 8, figsize=(12, 5))  \n",
    "\n",
    "ax = ax.flatten() # Flatten the 2D array of axes to 1D for easier indexing\n",
    "\n",
    "plt.tight_layout() # Adjust the padding between and around subplots.\n",
    "\n",
    "plt.show()"
   ]
  },
  {
   "cell_type": "code",
   "execution_count": null,
   "id": "510143d7",
   "metadata": {},
   "outputs": [],
   "source": [
    "fig, ax = plt.subplots(3, 8, figsize=(12, 5))  \n",
    "\n",
    "ax = ax.flatten() # Flatten the 2D array of axes to 1D for easier indexing\n",
    "\n",
    "for i in range(24):\n",
    "    emd_pop_gdf.plot(f'H{str(i).zfill(2)}', \n",
    "                     cmap=cm,\n",
    "                     scheme='NaturalBreaks', \n",
    "                     ax=ax[i])\n",
    "    \n",
    "    ax[i].text(1, 1, f'H{str(i).zfill(2)}', fontsize=10, ha='right', va='top', transform=ax[i].transAxes)\n",
    "    ax[i].axis('off') # Hide the entire axes\n",
    "\n",
    "plt.tight_layout() # Adjust the padding between and around subplots.\n",
    "\n",
    "plt.show()"
   ]
  },
  {
   "cell_type": "markdown",
   "id": "56e16861",
   "metadata": {},
   "source": [
    "### 2.6 Multiple axes with different sizes in a Figure\n",
    "In this section, we will create a figure with multiple axes with different sizes.\n",
    "\n",
    "<div style=\"text-align: center\">\n",
    "  <img src=\"./data/multi_axes_diff.png\" width=\"1000\">\n",
    "</div>"
   ]
  },
  {
   "cell_type": "code",
   "execution_count": null,
   "id": "89cafa99",
   "metadata": {},
   "outputs": [],
   "source": [
    "# Calculate the ratio of the people between midnight and noon\n",
    "# Ratio > 1 -> More people at noon\n",
    "# Ratio < 1 -> More people at midnight\n",
    "\n",
    "emd_pop_gdf['ratio_12_to_00'] = emd_pop_gdf['H12'] / emd_pop_gdf['H00']\n",
    "emd_pop_gdf['ratio_12_to_00']\n",
    "# emd_pop_gdf['ratio_12_to_00'].hist(bins=20, edgecolor='black')"
   ]
  },
  {
   "cell_type": "code",
   "execution_count": null,
   "id": "8698a681",
   "metadata": {},
   "outputs": [],
   "source": [
    "# EMD of the highest ratio\n",
    "top_ratio = emd_pop_gdf.nlargest(1, 'ratio_12_to_00')\n",
    "top_ratio = top_ratio.set_index('ADM_NM')\n",
    "\n",
    "# EMD of the lowest ratio\n",
    "bottom_ratio = emd_pop_gdf.nsmallest(1, 'ratio_12_to_00')\n",
    "bottom_ratio = bottom_ratio.set_index('ADM_NM')\n",
    "\n",
    "top_ratio"
   ]
  },
  {
   "cell_type": "code",
   "execution_count": null,
   "id": "ef107817",
   "metadata": {},
   "outputs": [],
   "source": [
    "# Plot the temporal changes of floating population\n",
    "top_ratio[[f'H{str(hour).zfill(2)}' for hour in range(0, 24)]].T.plot()"
   ]
  },
  {
   "cell_type": "code",
   "execution_count": null,
   "id": "d04af2f6",
   "metadata": {},
   "outputs": [],
   "source": [
    "# Create empty figure with various-sized subplots\n",
    "\n",
    "gs_kw = dict(width_ratios=[1, 1], height_ratios=[1, 1, 1])\n",
    "fig, axd = plt.subplot_mosaic([['left', 'right_1'], \n",
    "                               ['left', 'right_2'], \n",
    "                               ['left', 'right_3'], \n",
    "                               \n",
    "                              ],\n",
    "                              gridspec_kw=gs_kw, \n",
    "                              figsize=(12, 6),\n",
    "                              constrained_layout=True\n",
    "                             )\n",
    "\n",
    "for idx, ax in axd.items():\n",
    "    ax.text(s=idx, x=0.5, y=0.5, fontsize=10)\n",
    "\n",
    "plt.show()"
   ]
  },
  {
   "cell_type": "code",
   "execution_count": null,
   "id": "eae4f2b7",
   "metadata": {},
   "outputs": [],
   "source": [
    "gs_kw = dict(width_ratios=[1, 1], height_ratios=[1, 1, 1])\n",
    "fig, axd = plt.subplot_mosaic([['left', 'right_1'], \n",
    "                               ['left', 'right_2'], \n",
    "                               ['left', 'right_3'], \n",
    "                              ],\n",
    "                              gridspec_kw=gs_kw, \n",
    "                              figsize=(12, 6),\n",
    "                              constrained_layout=True\n",
    "                             )\n",
    "\n",
    "\n",
    "emd_pop_gdf.plot('H00', # Create a Choropleth map based on `H00` column (floating population at midnight)\n",
    "                cmap=cm, # Color maps from ColorBrewer\n",
    "                # legend=True, # Include legend in the plot. \n",
    "                ax=axd['left']  # the location where the map is drawn\n",
    "           )  \n",
    "\n",
    "gu_gdf.boundary.plot(color='black', # color. \n",
    "                     linewidth=0.5, # Line width, given it draws the boundary of polygon\n",
    "                     linestyle=':', # Line style of the boundary; https://matplotlib.org/stable/gallery/lines_bars_and_markers/linestyles.html\n",
    "                     ax=axd['left']  # the location where the map is drawn\n",
    "                    )\n",
    "\n",
    "axd['left'].axis('off') # Hide the entire axes\n",
    "\n",
    "# Create subplots\n",
    "top_ratio[[f'H{str(hour).zfill(2)}' for hour in range(0, 24)]].T.plot(ax=axd['right_1'], color='black', linewidth=0.5)\n",
    "bottom_ratio[[f'H{str(hour).zfill(2)}' for hour in range(0, 24)]].T.plot(ax=axd['right_2'], color='black', linewidth=0.5)\n",
    "emd_pop_gdf.loc[emd_pop_gdf['ADM_NM'] == '회기동', [f'H{str(hour).zfill(2)}' for hour in range(0, 24)]].T.plot(ax=axd['right_3'], legend=False, color='black', linewidth=0.5)\n",
    "\n",
    "# # Enter the label for the subplots\n",
    "# axd['right_1'].text(0.99, 0.85, 'More People in the Daytime', fontsize=10, ha='right', va='bottom', transform=axd['right_1'].transAxes)\n",
    "# axd['right_2'].text(0.99, 0.85, 'More People at Night', fontsize=10, ha='right', va='bottom', transform=axd['right_2'].transAxes)\n",
    "# axd['right_3'].text(0.99, 0.85, 'Example of 회기동', fontsize=10, ha='right', va='bottom', transform=axd['right_3'].transAxes)\n",
    "\n",
    "# # Define the x limits\n",
    "# axd['right_1'].set_xlim(0, 23)\n",
    "# axd['right_2'].set_xlim(0, 23)\n",
    "# axd['right_3'].set_xlim(0, 23)\n",
    "\n",
    "# # Define the y limits\n",
    "# axd['right_1'].set_ylim(0, 80000)\n",
    "# axd['right_2'].set_ylim(0, 30000)\n",
    "# axd['right_3'].set_ylim(0, 30000)\n",
    "\n",
    "# # Add grid to subplots\n",
    "# axd['right_1'].grid(True, linestyle='--', linewidth=0.5)\n",
    "# axd['right_2'].grid(True, linestyle='--', linewidth=0.5)\n",
    "# axd['right_3'].grid(True, linestyle='--', linewidth=0.5)\n",
    "\n",
    "# # Hide ticks for the x-axis\n",
    "# axd['right_1'].tick_params(axis='x', which='both', bottom=False, labelbottom=False)\n",
    "# axd['right_2'].tick_params(axis='x', which='both', bottom=False, labelbottom=False)\n",
    "\n",
    "# # Define the x-ticks for the right_3 subplot\n",
    "# axd['right_1'].set_xticks(ticks=range(0, 24, 3), labels=[f\"H{str(i).zfill(2)}\" for i in range(0, 24, 3)])\n",
    "# axd['right_2'].set_xticks(ticks=range(0, 24, 3), labels=[f\"H{str(i).zfill(2)}\" for i in range(0, 24, 3)])\n",
    "# axd['right_3'].set_xticks(ticks=range(0, 24, 3), labels=[f\"H{str(i).zfill(2)}\" for i in range(0, 24, 3)])\n",
    "\n",
    "plt.tight_layout() # Adjust the padding between and around subplots.\n",
    "\n",
    "plt.show()"
   ]
  },
  {
   "cell_type": "markdown",
   "id": "106addf7",
   "metadata": {},
   "source": [
    "### 2.7 Contextily: background map\n",
    "\n",
    "<a href='https://contextily.readthedocs.io/en/latest/'>Contextily</a> is a Python package that makes it easy to add basemaps to your plots. It provides a simple interface for adding OpenStreetMap tiles to your matplotlib plots, allowing you to create visually appealing maps with minimal effort."
   ]
  },
  {
   "cell_type": "code",
   "execution_count": null,
   "id": "1e45c666",
   "metadata": {},
   "outputs": [],
   "source": [
    "import contextily as cx"
   ]
  },
  {
   "cell_type": "code",
   "execution_count": null,
   "id": "d77d9071",
   "metadata": {},
   "outputs": [],
   "source": [
    "fig, ax = plt.subplots(figsize=(10,8))  # Initialize two main vairalbes, fig and ax\n",
    "\n",
    "gu_gdf.boundary.plot(color='black', # color. \n",
    "                     linewidth=1, # Line width, given it draws the boundary of polygon\n",
    "                     ax=ax  # the location where the map is drawn\n",
    "                    )\n",
    "\n",
    "cx.add_basemap(ax,\n",
    "               source=cx.providers.OpenStreetMap.Mapnik, # Basemap source\n",
    "               zoom='auto', # Zoom level\n",
    "               alpha=1, # Transparency of the basemap\n",
    "               crs=gu_gdf.crs\n",
    "               )\n",
    "\n",
    "ax.axis('off') # Hide the entire axes\n",
    "\n",
    "plt.show()"
   ]
  },
  {
   "cell_type": "code",
   "execution_count": null,
   "id": "95c730a5",
   "metadata": {
    "scrolled": true
   },
   "outputs": [],
   "source": [
    "# List of maps available in contextily\n",
    "# https://contextily.readthedocs.io/en/latest/providers_deepdive.html#What-is-this-%22provider%22-object-?\n",
    "cx.providers"
   ]
  },
  {
   "cell_type": "markdown",
   "id": "503eaa55",
   "metadata": {},
   "source": [
    "Combination of everything we have learned so far."
   ]
  },
  {
   "cell_type": "code",
   "execution_count": null,
   "id": "9d827b34",
   "metadata": {},
   "outputs": [],
   "source": [
    "\n",
    "\n",
    "gs_kw = dict(width_ratios=[1, 1], height_ratios=[1, 1, 1])\n",
    "fig, axd = plt.subplot_mosaic([['left', 'right_1'], \n",
    "                               ['left', 'right_2'], \n",
    "                               ['left', 'right_3'], \n",
    "                              ],\n",
    "                              gridspec_kw=gs_kw, \n",
    "                              figsize=(12, 6),\n",
    "                              constrained_layout=True\n",
    "                             )\n",
    "\n",
    "\n",
    "emd_pop_gdf.plot('H00', # Create a Choropleth map based on `H00` column (floating population at midnight)\n",
    "                cmap=cm, # Color maps from ColorBrewer\n",
    "               #  legend=True, # Include legend in the plot. \n",
    "                ax=axd['left']  # the location where the map is drawn\n",
    "           )  \n",
    "\n",
    "gu_gdf.boundary.plot(color='black', # color. \n",
    "                     linewidth=0.5, # Line width, given it draws the boundary of polygon\n",
    "                     linestyle=':', # Line style of the boundary; https://matplotlib.org/stable/gallery/lines_bars_and_markers/linestyles.html\n",
    "                     ax=axd['left']  # the location where the map is drawn\n",
    "                    )\n",
    "\n",
    "\n",
    "river.plot(color='blue', # color\n",
    "           zorder=3, # z-order of the layer\n",
    "           ax=axd['left']  # the location where the map is drawn\n",
    "           )\n",
    "\n",
    "# Annotation\n",
    "for idx, row in gu_gdf.iterrows(): # Iterate everyrow in `tsa` GeoDataFrame\n",
    "    axd['left'].text(s=row['SIGUNGU_NM'], # String to be displayed; TSA name\n",
    "            x=row['geometry'].centroid.coords[:][0][0], # X coordinate of label\n",
    "            y=row['geometry'].centroid.coords[:][0][1], # Y coordinate of label\n",
    "            fontsize=11, \n",
    "            color='black',\n",
    "            ha='center', # Horizontal align\n",
    "            va='center', # Vertical align\n",
    "            path_effects=[pe.withStroke(linewidth=1, foreground=\"white\")] # This will create boundary of text\n",
    "           )\n",
    "\n",
    "\n",
    "cx.add_basemap(axd['left'],\n",
    "               source=cx.providers.OpenStreetMap.Mapnik, # Basemap source\n",
    "               zoom='auto', # Zoom level\n",
    "               alpha=1, # Transparency of the basemap\n",
    "               crs=gu_gdf.crs\n",
    "               )\n",
    "\n",
    "axd['left'].set_title('Population at midnight', size=15) # Set the title of the map\n",
    "axd['left'].axis('off') # Hide the entire axes\n",
    "\n",
    "# Create subplots\n",
    "\n",
    "# Three line plots on the right side\n",
    "top_ratio[[f'H{str(hour).zfill(2)}' for hour in range(0, 24)]].T.plot(ax=axd['right_1'], color='black', linewidth=0.5)\n",
    "bottom_ratio[[f'H{str(hour).zfill(2)}' for hour in range(0, 24)]].T.plot(ax=axd['right_2'], color='black', linewidth=0.5)\n",
    "emd_pop_gdf.loc[emd_pop_gdf['ADM_NM'] == '회기동', [f'H{str(hour).zfill(2)}' for hour in range(0, 24)]].T.plot(ax=axd['right_3'], legend=False, color='black', linewidth=0.5)\n",
    "\n",
    "# Enter the label for the subplots\n",
    "axd['right_1'].text(0.99, 0.85, 'More People in the Daytime', fontsize=10, ha='right', va='bottom', transform=axd['right_1'].transAxes)\n",
    "axd['right_2'].text(0.99, 0.85, 'More People at Night', fontsize=10, ha='right', va='bottom', transform=axd['right_2'].transAxes)\n",
    "axd['right_3'].text(0.99, 0.85, 'Example of 회기동', fontsize=10, ha='right', va='bottom', transform=axd['right_3'].transAxes)\n",
    "\n",
    "# Define the x limits\n",
    "axd['right_1'].set_xlim(0, 23)\n",
    "axd['right_2'].set_xlim(0, 23)\n",
    "axd['right_3'].set_xlim(0, 23)\n",
    "\n",
    "# Define the y limits\n",
    "axd['right_1'].set_ylim(0, 80000)\n",
    "axd['right_2'].set_ylim(0, 30000)\n",
    "axd['right_3'].set_ylim(0, 30000)\n",
    "\n",
    "# Add grid to subplots\n",
    "axd['right_1'].grid(True, linestyle='--', linewidth=0.5)\n",
    "axd['right_2'].grid(True, linestyle='--', linewidth=0.5)\n",
    "axd['right_3'].grid(True, linestyle='--', linewidth=0.5)\n",
    "\n",
    "# Hide ticks for the x-axis\n",
    "axd['right_1'].tick_params(axis='x', which='both', bottom=False, labelbottom=False)\n",
    "axd['right_2'].tick_params(axis='x', which='both', bottom=False, labelbottom=False)\n",
    "\n",
    "# Define the x-ticks for the right_3 subplot\n",
    "axd['right_1'].set_xticks(ticks=range(0, 24, 3), labels=[f\"H{str(i).zfill(2)}\" for i in range(0, 24, 3)])\n",
    "axd['right_2'].set_xticks(ticks=range(0, 24, 3), labels=[f\"H{str(i).zfill(2)}\" for i in range(0, 24, 3)])\n",
    "axd['right_3'].set_xticks(ticks=range(0, 24, 3), labels=[f\"H{str(i).zfill(2)}\" for i in range(0, 24, 3)])\n",
    "\n",
    "plt.tight_layout() # Adjust the padding between and around subplots.\n",
    "\n",
    "plt.show()"
   ]
  },
  {
   "cell_type": "markdown",
   "id": "815b2744",
   "metadata": {},
   "source": [
    "## 3. Visualizing Geospatial Data with Interactive Web Map\n",
    "\n",
    "Besides the static maps, you can make a dynamic map with GeoPandas and Folium by using <a href=https://geopandas.org/en/stable/docs/reference/api/geopandas.GeoDataFrame.explore.html>`gpf.explore()`</a> method. <br>\n",
    "You can also take advantage of another package, called <a href=https://plotly.com/python/>`plotly`</a> to make more intriguing web maps. "
   ]
  },
  {
   "cell_type": "markdown",
   "id": "5ca7e603",
   "metadata": {},
   "source": [
    "The example of using gdf.explore(). It will take the data in a GeoDataFrame and display it on <a href=https://python-visualization.github.io/folium/>Folium</a> map. "
   ]
  },
  {
   "cell_type": "code",
   "execution_count": null,
   "id": "6c700f3e",
   "metadata": {},
   "outputs": [],
   "source": [
    "m = emd_pop_gdf.explore(column='H00', # the name of column in GeoDataFrame to be displayed on the webmap\n",
    "                      cmap='Blues', # Color map \n",
    "                      scheme='FisherJenks', # Classification scheme\n",
    "                      k=5, # Number of bins\n",
    "                      legend=True, # show legends\n",
    "                      popup=[f'H{str(hour).zfill(2)}' for hour in range(0, 24, 3)], # Information displayed upon clicking. \n",
    "                      tooltip=['SIGUNGU_NM', 'ADM_NM'] # Information displayed upon hovering. \n",
    "                     )\n",
    "\n",
    "# You can save this webmap and share it with your friends. \n",
    "m.save('./data/floating_population.html')\n",
    "m"
   ]
  },
  {
   "cell_type": "markdown",
   "id": "ebf574a1",
   "metadata": {},
   "source": [
    "Plotly is another package for displaying webmaps. "
   ]
  },
  {
   "cell_type": "code",
   "execution_count": null,
   "id": "4c2d8b5b",
   "metadata": {},
   "outputs": [],
   "source": [
    "import plotly.express as px"
   ]
  },
  {
   "cell_type": "code",
   "execution_count": null,
   "id": "af165955",
   "metadata": {},
   "outputs": [],
   "source": [
    "# Plotly only supports WGS84 (EPSG:4326) so we need to convert the coordinate system of the GeoDataFrame.\n",
    "\n",
    "emd_pop_gdf_wgs = emd_pop_gdf.to_crs(epsg=4326) # WGS84 (EPSG:4326)\n",
    "emd_pop_gdf_wgs.union_all().centroid.wkt"
   ]
  },
  {
   "cell_type": "code",
   "execution_count": null,
   "id": "2b4b843b",
   "metadata": {},
   "outputs": [],
   "source": [
    "# https://plotly.github.io/plotly.py-docs/generated/plotly.express.choropleth_mapbox.html\n",
    "fig = px.choropleth_map(data_frame=emd_pop_gdf_wgs, # Dataframe to be plotted. \n",
    "                           geojson=emd_pop_gdf_wgs.geometry, # Geometry to be utilized\n",
    "                           locations=emd_pop_gdf_wgs.index, # A column of the dataframe above. Should be matched with the index of geometry\n",
    "                           color=\"H00\", # A column of the dataframe above to assign color\n",
    "                           color_continuous_scale = 'reds', # https://plotly.com/python/builtin-colorscales/\n",
    "                           center={\"lat\": 37.551916728279764, \"lon\": 126.99182059910214},\n",
    "                           map_style=\"open-street-map\", # 'white-bg', 'carto-positron', 'carto-darkmatter' etc. \n",
    "                           zoom=9)\n",
    "\n",
    "fig.write_html(\"./data/floating_population_plotly.html\")\n",
    "fig.show()"
   ]
  },
  {
   "cell_type": "markdown",
   "id": "6020da04",
   "metadata": {},
   "source": [
    "# Done"
   ]
  }
 ],
 "metadata": {
  "kernelspec": {
   "display_name": "GIS_Project",
   "language": "python",
   "name": "python3"
  },
  "language_info": {
   "codemirror_mode": {
    "name": "ipython",
    "version": 3
   },
   "file_extension": ".py",
   "mimetype": "text/x-python",
   "name": "python",
   "nbconvert_exporter": "python",
   "pygments_lexer": "ipython3",
   "version": "3.13.1"
  }
 },
 "nbformat": 4,
 "nbformat_minor": 5
}
