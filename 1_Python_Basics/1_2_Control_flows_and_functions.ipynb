{
 "cells": [
  {
   "cell_type": "markdown",
   "id": "2c24b945",
   "metadata": {},
   "source": [
    "# Python Basics: Control Flows, Functions, and Classes\n",
    "\n",
    "This Jupyter notebook covers the basics of Python, particularly, control flows (i.e., for loop, while loop, and if statement), functions, and classes."
   ]
  },
  {
   "cell_type": "markdown",
   "id": "ff5d1947",
   "metadata": {},
   "source": [
    "## Recall our memory\n",
    "\n",
    "- Data types\n",
    "    - String: str()\n",
    "        - 'Hello world'\n",
    "    - Integer: int()\n",
    "        - 1, 2, 3...\n",
    "    - Floating-point number: float()\n",
    "        - 3.141592...\n",
    "    - Boolean: bool() \n",
    "        - True or False\n",
    "    <br><br>\n",
    "- Data container\n",
    "    - List: list()\n",
    "        - [variable1, variable2, variable3...]\n",
    "    - Tuple: tuple()\n",
    "        - (variable1, variable2, variable3...)\n",
    "    - Dictionary: dict()\n",
    "        - {key1: value1, key2: value2, key3: value3 ...}"
   ]
  },
  {
   "cell_type": "markdown",
   "id": "a15e120a",
   "metadata": {},
   "source": [
    "## 1. Control Flows\n",
    "\n",
    "- Loops\n",
    "    - For loop (or for statement)\n",
    "    - While loop (or while statement)\n",
    "\n",
    "- Conditional (i.e., if statement)"
   ]
  },
  {
   "cell_type": "markdown",
   "id": "61c0eb77",
   "metadata": {},
   "source": [
    "### 1.1. For loop\n",
    "\n",
    "Loops are one of the fundamental structures in programming. Loops allow you to iterate over each element in a sequence, one at a time, and do something with those elements.\n",
    "\n",
    "*Loop syntax*: Loops have a very particular syntax in Python; this syntax is one of the most notable features to Python newcomers. The format looks like\n",
    "\n",
    "```python\n",
    "    for *element* in *sequence*:                # NOTE the colon at the end\n",
    "        <some code that uses the *element*>     # the block of code that is looped over for each element\n",
    "        <more code that uses the *element*>     # is indented four spaces (yes four! yes spaces!)\n",
    "    \n",
    "    <the code after the loop continues>         # the end of the loop is marked simply by unindented code\n",
    "```\n",
    "Thus, INDENTATION IS SIGNIFICNAT TO THE CODE. This was done because good coding practice (in almost all languages, C, FORTRAN, MATLAB) typically indents loops, functions, etc. Having indentation be significant saves the end of loop syntax for more compact code.\n",
    "\n",
    "*Some important notes on indentation*  Indentation in python is typically *4 spaces*. Most programming text editors will be smart about indentation, and will also convert TABs to four spaces. Jupyter notebooks are smart about indentation, and will do the right thing, i.e., autoindent a line below a line with a trailing colon, and convert TABs to spaces. If you are in another editor remember: ___TABS AND SPACES DO NOT MIX___. See [PEP-8](https://www.python.org/dev/peps/pep-0008/) for more information on the correct formatting of Python code.\n"
   ]
  },
  {
   "cell_type": "code",
   "execution_count": null,
   "id": "1045a228",
   "metadata": {},
   "outputs": [],
   "source": [
    "# A simple example is to find the sum of the sequence 0 through 10,\n",
    "sum_result = 0\n",
    "\n",
    "for n in range(11):\n",
    "    sum_result += n\n",
    "    print(f'sum result from 0 to {n}: {sum_result}')\n",
    "    \n",
    "print(sum_result)"
   ]
  },
  {
   "cell_type": "code",
   "execution_count": null,
   "id": "6e7b1d63",
   "metadata": {},
   "outputs": [],
   "source": [
    "names = ['Patrick', 'Chris', 'Daniel']\n",
    "for name in names:\n",
    "    print(f'Welcome to the programming class, {name}!')"
   ]
  },
  {
   "cell_type": "code",
   "execution_count": null,
   "id": "365c1324",
   "metadata": {},
   "outputs": [],
   "source": [
    "# This for loop will spit out every alphabet in the string. \n",
    "for s in 'Patrick':\n",
    "    print(s)"
   ]
  },
  {
   "cell_type": "markdown",
   "id": "6220de5f",
   "metadata": {},
   "source": [
    "Sometimes you want to iterate over a sequence but you *also* want the indices of those elements. One way to do that is the `enumerate` function:\n",
    "```python\n",
    "    enumerate(<sequence>)\n",
    "```\n",
    "This returns a sequence of two element tuples, the first element in each tuple is the index, the second the element. It is commonly used in `for` loops, like"
   ]
  },
  {
   "cell_type": "code",
   "execution_count": null,
   "id": "cdb71641",
   "metadata": {},
   "outputs": [],
   "source": [
    "# If you want to get index and value over a for loop\n",
    "for idx, name in enumerate(names):\n",
    "    print(f'Welcome {name}, your seat is {idx}')"
   ]
  },
  {
   "cell_type": "markdown",
   "id": "3d8ee6b3",
   "metadata": {},
   "source": [
    "---\n",
    "### *Exercise*\n",
    "\n",
    "1. Create a for loop to add every EVEN number from 1 to 100. \n",
    "2. In the meantime, calculate how many loops has interated (Note, try `enumerate()`).\n",
    "\n",
    "---"
   ]
  },
  {
   "cell_type": "code",
   "execution_count": null,
   "id": "02243d84",
   "metadata": {},
   "outputs": [],
   "source": [
    "# Your code here\n"
   ]
  },
  {
   "cell_type": "markdown",
   "id": "21d6ca29",
   "metadata": {},
   "source": [
    "### 1.2. While loops\n",
    "\n",
    "The majority of loops that you will write will be `for` loops. These are loops that have a defined number of iterations, over a specified sequence. However, there may be times when it is not clear when the loop should terminate. In this case, you use a `while` loop. This has the syntax\n",
    "\n",
    "```python\n",
    "    while <condition> is True:\n",
    "        <code>\n",
    "```\n",
    "`condition` should be something that can be evaluated when the loop is started, and the variables that determine the conditional should be modified in the loop.\n",
    "\n",
    "This kind of loop should be use carefully — it is relatively easy to accidentally create an infinite loop, where the condition never is triggered to stop so the loop continues forever. This is especially important to avoid given that we are using shared resources in our class and a `while` loop that never ends can cause the computer the crash."
   ]
  },
  {
   "cell_type": "code",
   "execution_count": null,
   "id": "4f0924c5",
   "metadata": {},
   "outputs": [],
   "source": [
    "n = 5         # starting value\n",
    "while n > 0:\n",
    "    n -= 1    # subtract 1 each loop\n",
    "    print(n)  # look at value of n"
   ]
  },
  {
   "cell_type": "markdown",
   "id": "7db70b86",
   "metadata": {},
   "source": [
    "---\n",
    "### *Exercise*\n",
    "\n",
    "1. Calculate how many sequential integers should be added to exceed 100 (i.e., from 1 to ?). \n",
    "\n",
    "---"
   ]
  },
  {
   "cell_type": "code",
   "execution_count": null,
   "id": "fb0fba60",
   "metadata": {},
   "outputs": [],
   "source": [
    "# Your code here\n",
    "\n"
   ]
  },
  {
   "cell_type": "markdown",
   "id": "9c4d2973",
   "metadata": {},
   "source": [
    "### 1.3. If statement\n",
    "Conditionals have a similar syntax to `for` statements. Generally, conditionals look like\n",
    "```python\n",
    "    if <test>:\n",
    "        <Code run if...>\n",
    "        <...test is valid>\n",
    "```\n",
    "or\n",
    "```python\n",
    "    if <first test>:\n",
    "        <Code run if...>\n",
    "        <...the first test is valid>\n",
    "    elif <second test>:\n",
    "        <Code run if...>\n",
    "        <...the second test is valid>\n",
    "    else:\n",
    "        <Code run if...>\n",
    "        <...neither test is valid>\n",
    "```\n",
    "\n",
    "In both cases the test statements are code segments that return a boolean value, often a test for equality or inequality. The `elif` and `else` statements are always optional; both, either, or none can be included."
   ]
  },
  {
   "cell_type": "code",
   "execution_count": null,
   "id": "6b459b9e",
   "metadata": {},
   "outputs": [],
   "source": [
    "x = 25\n",
    "    \n",
    "if x < 20: \n",
    "    print('x is less than 20')\n",
    "elif x == 20:\n",
    "    print('x is equal to 20')\n",
    "else:\n",
    "    print('x is more than 20')\n"
   ]
  },
  {
   "cell_type": "code",
   "execution_count": null,
   "id": "2353e704",
   "metadata": {
    "scrolled": true
   },
   "outputs": [],
   "source": [
    "# Example of nested if statements\n",
    "# 'string'.isalpha() will determine whether the string is alphabet.\n",
    "sentence = 'I would like to sort this sentence into vowels, consonants, and special characters!@#$'\n",
    "\n",
    "consonants = []  # list for consonants\n",
    "vowels = []      # list for vowels\n",
    "extra = []       # list for special characters \n",
    "\n",
    "for char in sentence:\n",
    "    print(f'Character in the loop is {char}')\n",
    "    if char.isalpha():\n",
    "        if char.lower() in ['a', 'e', 'i', 'o', 'u']:\n",
    "            consonants.append(char.lower())\n",
    "        else:\n",
    "            vowels.append(char.lower())\n",
    "            \n",
    "    else:\n",
    "        if char == ' ':\n",
    "            pass\n",
    "        else:\n",
    "            extra.append(char.lower())\n",
    "\n",
    "print(set(consonants))\n",
    "print(set(vowels))\n",
    "print(set(extra))"
   ]
  },
  {
   "cell_type": "markdown",
   "id": "1d2639a8",
   "metadata": {},
   "source": [
    "---\n",
    "### *Exercise*\n",
    "\n",
    "1. Find the lowest number that can be divided into 2, 3, 5, and 7 without any remainder (Not 0). <br>\n",
    "Hint: three digits\n",
    "2. Create three lists (`list_2`, `list_3`, `list_extra`). Within the range from 1 to 10, two lists (`list_2` and `list_3`) contain the numbers can be divided by 2 and 3 without remainder, respectively. The other list (`list_extra`) has the numbers that CANNOT be divided by 2 and 3 without remainder. \n",
    "\n",
    "---"
   ]
  },
  {
   "cell_type": "code",
   "execution_count": null,
   "id": "8d2a40e5",
   "metadata": {},
   "outputs": [],
   "source": [
    "# Your code here\n"
   ]
  },
  {
   "cell_type": "code",
   "execution_count": null,
   "id": "b0e204c8",
   "metadata": {},
   "outputs": [],
   "source": [
    "# Your code here\n",
    "\n"
   ]
  },
  {
   "cell_type": "code",
   "execution_count": null,
   "id": "db788682",
   "metadata": {},
   "outputs": [],
   "source": [
    "\"\"\" Test code for the previous function. \n",
    "This cell should NOT give any errors when it is run.\"\"\"\n",
    "\n",
    "# Check your result here. \n",
    "assert list_2 == [2, 4, 6, 8]\n",
    "assert list_3 == [3, 6, 9]\n",
    "assert list_extra == [1, 5, 7]\n",
    "\n",
    "print(\"Success!\")"
   ]
  },
  {
   "cell_type": "markdown",
   "id": "70665d0f",
   "metadata": {},
   "source": [
    "### 1.4. Other control flows: Break, Pass, Continue"
   ]
  },
  {
   "cell_type": "code",
   "execution_count": null,
   "id": "09259a6d",
   "metadata": {},
   "outputs": [],
   "source": [
    "# Example of break\n",
    "number = 0\n",
    "\n",
    "for number in range(10):\n",
    "#     if number > 5:\n",
    "#         break    # break here\n",
    "\n",
    "    print('Number is ' + str(number))\n",
    "\n",
    "print('Out of loop')"
   ]
  },
  {
   "cell_type": "code",
   "execution_count": null,
   "id": "5cb76cd7",
   "metadata": {},
   "outputs": [],
   "source": [
    "# Example of continue\n",
    "number = 0\n",
    "\n",
    "for number in range(10):\n",
    "    if number == 5:\n",
    "        continue    # continue here\n",
    "\n",
    "    print('Number is ' + str(number))\n",
    "\n",
    "print('Out of loop')"
   ]
  },
  {
   "cell_type": "code",
   "execution_count": null,
   "id": "413b5682",
   "metadata": {},
   "outputs": [],
   "source": [
    "# Example of pass\n",
    "number = 0\n",
    "\n",
    "for number in range(10):\n",
    "    if number == 5:\n",
    "        pass    # pass here\n",
    "\n",
    "    print('Number is ' + str(number))\n",
    "\n",
    "print('Out of loop')"
   ]
  },
  {
   "cell_type": "markdown",
   "id": "e49db9e0-4e86-41c6-a00d-a8059731201c",
   "metadata": {},
   "source": [
    "---\n",
    "### *Exercise*\n",
    "\n",
    "1. Find the lowest number that can be divided into 2, 3, 5, and 7 without any remainder (Not 0). <br>\n",
    "Hint: three digits\n",
    "\n",
    "---"
   ]
  },
  {
   "cell_type": "code",
   "execution_count": null,
   "id": "45b058af-83df-480e-9149-a7464e5c6dca",
   "metadata": {},
   "outputs": [],
   "source": [
    "# Your code here\n",
    "\n"
   ]
  },
  {
   "cell_type": "markdown",
   "id": "c0a88d00",
   "metadata": {},
   "source": [
    "### 1.5. List comprehension\n",
    "\n",
    "There is a short way to make a list from a simple rule by using list comprehensions. The syntax is like\n",
    "```python\n",
    "    [<element(item)> for item in sequence]\n",
    "    [<element(item)> for item in sequence if <condition>]\n",
    "    [<element(item)> if <condition> else <action> for item in sequence]\n",
    "    \n",
    "```"
   ]
  },
  {
   "cell_type": "code",
   "execution_count": null,
   "id": "11744e9d",
   "metadata": {},
   "outputs": [],
   "source": [
    "list_a = list(range(1, 21))\n",
    "print(list_a)"
   ]
  },
  {
   "cell_type": "code",
   "execution_count": null,
   "id": "2a423d76",
   "metadata": {},
   "outputs": [],
   "source": [
    "# This for loop can be simplifed as a one line as follows. \n",
    "list_b = [] # Verbose version\n",
    "for x in list_a:\n",
    "    \n",
    "    if x < 10:\n",
    "        list_b.append(x**2)\n",
    "print(list_b)\n",
    "\n",
    "print([x**2 for x in list_a if x < 10]) # Simple vesion"
   ]
  },
  {
   "cell_type": "code",
   "execution_count": null,
   "id": "6df9ddb3",
   "metadata": {},
   "outputs": [],
   "source": [
    "# This for loop can be simplifed as a one line as follows. \n",
    "list_c = [] # Verbose version\n",
    "for x in list_a:\n",
    "    \n",
    "    if x < 10:\n",
    "        list_c.append(x**2)\n",
    "    else:\n",
    "        list_c.append(x)\n",
    "        \n",
    "print(list_c)\n",
    "\n",
    "[x**2 if x < 10 else x for x in list_a] # Simple version"
   ]
  },
  {
   "cell_type": "markdown",
   "id": "f68949c4",
   "metadata": {},
   "source": [
    "---\n",
    "### *Exercise*\n",
    "From a random list\n",
    "```python\n",
    "    random_list = [1, 2, 'three', 4.0, ['five',]]\n",
    "```\n",
    "\n",
    "1. Modify the previous list comprehension to test if the elements are integers. <br>\n",
    "   Save the result as `result1`.\n",
    "```python\n",
    "    # Verbose version\n",
    "    return_list = []\n",
    "    for x in random_list:\n",
    "        if type(x) is int:\n",
    "            return_list.append(True)\n",
    "        else:\n",
    "            return_list.append(False)\n",
    "        \n",
    "    print(return_list)\n",
    "```\n",
    "2. Create a list that only returns integer. <br>\n",
    "   Save the result as `result2`.\n",
    "```python\n",
    "    # Verbose version\n",
    "    return_list = []\n",
    "    for x in random_list:\n",
    "        if type(x) is int:\n",
    "            return_list.append(x)\n",
    "        else:\n",
    "            continue # or pass\n",
    "\n",
    "    print(return_list)\n",
    "```\n",
    "---"
   ]
  },
  {
   "cell_type": "code",
   "execution_count": null,
   "id": "def0288e",
   "metadata": {},
   "outputs": [],
   "source": [
    "# Your code here\n",
    "\n"
   ]
  },
  {
   "cell_type": "code",
   "execution_count": null,
   "id": "fda622c1",
   "metadata": {},
   "outputs": [],
   "source": [
    "\"\"\" Test code for the previous function. \n",
    "This cell should NOT give any errors when it is run.\"\"\"\n",
    "\n",
    "# Check your result here. \n",
    "assert result1 == [True, True, False, False, False]\n",
    "assert result2 == [1, 2]\n",
    "\n",
    "print(\"Success!\")"
   ]
  },
  {
   "cell_type": "markdown",
   "id": "fab2ac8e",
   "metadata": {},
   "source": [
    "## 2. Functions\n",
    "\n",
    "Functions are ways to create reusable blocks of code that can be run with different variable values – the input variables to the function. Functions are defined using the syntax\n",
    "\n",
    "```python\n",
    "    def <function name> (var1, var2, ...):\n",
    "        <block of code...>\n",
    "        <...defining the function>\n",
    "        return <return variable(s)>\n",
    "```\n",
    "Functions can be defined at any point in the code, and called at any subsequent point."
   ]
  },
  {
   "cell_type": "code",
   "execution_count": null,
   "id": "a0c7443c",
   "metadata": {},
   "outputs": [],
   "source": [
    "def addfive(x):\n",
    "    '''Return the argument plus five\n",
    "    \n",
    "    Input : x\n",
    "            A number\n",
    "    \n",
    "    Output: foo\n",
    "            The number x plus five\n",
    "    \n",
    "    '''\n",
    "    return x+5\n",
    "\n",
    "addfive(3)"
   ]
  },
  {
   "cell_type": "code",
   "execution_count": null,
   "id": "8124ef4c",
   "metadata": {},
   "outputs": [],
   "source": [
    "def calculate_circle(r):\n",
    "    '''Return the perimeter and area of a circle with the argument\n",
    "    \n",
    "    Input : r\n",
    "            A number\n",
    "    \n",
    "    Output: (C, A)\n",
    "            C: perimeter of a circle with radius r\n",
    "            A: area of a circle with radius r\n",
    "    \n",
    "    '''\n",
    "    pi = 3.141592\n",
    "    C = 2 * pi * r\n",
    "    A = pi * r ** 2\n",
    "    \n",
    "    return C, A\n",
    "\n",
    "calculate_circle(5)"
   ]
  },
  {
   "cell_type": "code",
   "execution_count": null,
   "id": "72a3fa5d",
   "metadata": {},
   "outputs": [],
   "source": [
    "def factorial(n, print_it=False):\n",
    "    answer = 1\n",
    "    for i in range(1, n +1):\n",
    "        answer = answer * i\n",
    "        \n",
    "    if print_it:\n",
    "        print(f'{n}! = {answer}')\n",
    "        \n",
    "    return answer\n",
    "\n",
    "print(factorial(5))\n",
    "print('------')\n",
    "factorial(5, True)\n",
    "print('------')\n",
    "factorial(5, print_it=True)"
   ]
  },
  {
   "cell_type": "markdown",
   "id": "a2402c43",
   "metadata": {},
   "source": [
    "<b>Docstrings</b>\n",
    "\n",
    "You can add 'help' text to functions (and classes) by adding a 'docstring', which is just a regular string, right below the definition of the function. This should be considered a mandatory step in your code writing."
   ]
  },
  {
   "cell_type": "code",
   "execution_count": null,
   "id": "d637e5ec",
   "metadata": {},
   "outputs": [],
   "source": [
    "addfive?"
   ]
  },
  {
   "cell_type": "code",
   "execution_count": null,
   "id": "78b9ef9c",
   "metadata": {},
   "outputs": [],
   "source": [
    "calculate_circle?"
   ]
  },
  {
   "cell_type": "code",
   "execution_count": null,
   "id": "fc88a249",
   "metadata": {},
   "outputs": [],
   "source": [
    "factorial?"
   ]
  },
  {
   "cell_type": "markdown",
   "id": "e06f31a0",
   "metadata": {},
   "source": [
    "---\n",
    "### *Exercise*\n",
    "\n",
    "1. Write a function that takes in a list of numbers and returns two lists of numbers: the odd numbers in the list and the even numbers in the list. That is, if your function is called `odds_evens()`, it should work as follows: <br>\n",
    "\n",
    "```python\n",
    "    odds, evens = odds_evens([1,5,2,8,3,4])\n",
    "    print(odds, evens)\n",
    "    ([1, 5, 3], [2, 8, 4])\n",
    "```\n",
    "    \n",
    "Note that `x % y` gives the remainder of `x/y`.\n",
    "\n",
    "2. Modify the function that it can filter strings. <b>If the input has strings, the results should not include them, but the function should NOT have any error.</b>\n",
    "---"
   ]
  },
  {
   "cell_type": "code",
   "execution_count": null,
   "id": "a28993d7",
   "metadata": {},
   "outputs": [],
   "source": [
    "# Your code here\n",
    "\n"
   ]
  },
  {
   "cell_type": "code",
   "execution_count": null,
   "id": "65d54102",
   "metadata": {},
   "outputs": [],
   "source": [
    "# Your code here\n",
    "\n"
   ]
  },
  {
   "cell_type": "markdown",
   "id": "66e72e94",
   "metadata": {},
   "source": [
    "## 3. Classes\n",
    "\n",
    "*We won't cover classes in this class, but these notes are here for your reference in case you are interested.*\n",
    "\n",
    "Classes are used to define generic objects. The 'instances' of the class are supplied with specific data. Classes define a data structure, 'methods' to work with this data, and 'attributes' that define the data.\n",
    "\n",
    "###### The computer science way to think of classes\n",
    "\n",
    "Think of the class as a sentence. The nouns would be the classes, the associated verbs class methods, and associated adjectives class attributes. For example take the sentence\n",
    "\n",
    "> The white car signals and makes a left turn.\n",
    "\n",
    "In this case the object is a `car`, a generic kind of vehicle. We see in the sentence that we have a particular instance of a `car`, a *white* `car`. Obviously, there can be many instances of the class `car`. White is a defining or distinguishing 'attribute' of the car. There are two 'methods' noted: signaling and turning. We might write the code for a `car` object like this:\n",
    "\n",
    "```python\n",
    "    class Car(object):\n",
    "        \n",
    "        def __init__(self, color):\n",
    "            self.color = color\n",
    "\n",
    "        def signal(self, direction):\n",
    "            <signalling code>\n",
    "\n",
    "        def turn(self, direction):\n",
    "            <turning code>\n",
    "```\n",
    " \n"
   ]
  },
  {
   "cell_type": "code",
   "execution_count": null,
   "id": "deae955b",
   "metadata": {},
   "outputs": [],
   "source": [
    "class Car(object):\n",
    "\n",
    "    def __init__(self, color, maker, model):\n",
    "        self.color = color\n",
    "        self.maker = maker\n",
    "        self.model = model\n",
    "\n",
    "    def signal(self, direction):\n",
    "        print(f'My {self.model} is blinking {direction} turn signal.')\n",
    "\n",
    "    def turn(self, direction):\n",
    "        print(f'My {self.model} is turing {direction}.')\n"
   ]
  },
  {
   "cell_type": "code",
   "execution_count": null,
   "id": "dd257a07",
   "metadata": {},
   "outputs": [],
   "source": [
    "mycar = Car('Grey', 'Hyundai', 'Santa Fe')\n",
    "print(mycar.color)\n",
    "print(mycar.maker)\n",
    "print(mycar.model)\n",
    "mycar.signal('left')\n",
    "mycar.turn('left')"
   ]
  },
  {
   "cell_type": "code",
   "execution_count": null,
   "id": "0b3da67f",
   "metadata": {},
   "outputs": [],
   "source": [
    "mycar2 = Car('Black', 'Chevrolet', 'Colorado')\n",
    "print(mycar2.color)\n",
    "print(mycar2.maker)\n",
    "print(mycar2.model)\n",
    "mycar2.signal('right')\n",
    "mycar2.turn('right')"
   ]
  },
  {
   "cell_type": "markdown",
   "id": "761d0442",
   "metadata": {},
   "source": [
    "---\n",
    "### *Exercise*\n",
    "\n",
    "1. Create an instance of the Car class with the attributes of your vehicle. \n",
    "2. Add attribute `year` to the Car class and update your car instance.\n",
    "\n",
    "---"
   ]
  },
  {
   "cell_type": "code",
   "execution_count": null,
   "id": "46c3d6bc",
   "metadata": {},
   "outputs": [],
   "source": [
    "# Your code here\n",
    "\n"
   ]
  }
 ],
 "metadata": {
  "kernelspec": {
   "display_name": "GIS_Project",
   "language": "python",
   "name": "python3"
  },
  "language_info": {
   "codemirror_mode": {
    "name": "ipython",
    "version": 3
   },
   "file_extension": ".py",
   "mimetype": "text/x-python",
   "name": "python",
   "nbconvert_exporter": "python",
   "pygments_lexer": "ipython3",
   "version": "3.13.1"
  }
 },
 "nbformat": 4,
 "nbformat_minor": 5
}
