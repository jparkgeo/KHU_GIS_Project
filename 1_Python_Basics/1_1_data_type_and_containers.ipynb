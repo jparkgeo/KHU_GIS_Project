{
 "cells": [
  {
   "cell_type": "markdown",
   "id": "df56526e",
   "metadata": {},
   "source": [
    "# Python Basics: Data Type and Containers\n",
    "\n",
    "This Jupyter notebook covers the basics of Python, particularly, data type and data containers. "
   ]
  },
  {
   "cell_type": "markdown",
   "id": "9a411a38",
   "metadata": {},
   "source": [
    "## 1. Python Data Type\n",
    "\n",
    "Python has a handful of data types to store data effectively and efficiently. The followings are the data type we will cover in this course. \n",
    "\n",
    "- String: str()\n",
    "    - 'Hello world'\n",
    "- Integer: int()\n",
    "    - 1, 2, 3...\n",
    "- Floating-point number: float()\n",
    "    - 3.141592...\n",
    "- Boolean: bool() \n",
    "    - True or False\n"
   ]
  },
  {
   "cell_type": "markdown",
   "id": "ed2e0b7a",
   "metadata": {},
   "source": [
    "The following is a quick example of how you assign variables in Python. <br> \n",
    "Note that we did not need to declare variable types. We could just assign anything to a variable and it works. This is the power of an interpreted (as opposed to compiled) language. "
   ]
  },
  {
   "cell_type": "code",
   "execution_count": 1,
   "id": "16bbb386",
   "metadata": {},
   "outputs": [
    {
     "name": "stdout",
     "output_type": "stream",
     "text": [
      "Hello world 1 3.141592 True\n",
      "<class 'str'> <class 'int'> <class 'float'> <class 'bool'>\n"
     ]
    }
   ],
   "source": [
    "s = 'Hello world' # String\n",
    "i = 1 # Integer\n",
    "f = 3.141592 # Floating point number (float)\n",
    "b = True\n",
    "\n",
    "print(s, i, f, b)\n",
    "print(type(s), type(i), type(f), type(b))"
   ]
  },
  {
   "cell_type": "markdown",
   "id": "ef31adfe",
   "metadata": {},
   "source": [
    "### 1.1. String\n",
    "\n",
    "Strings are made using various kinds of (matching) quotes. Examples:"
   ]
  },
  {
   "cell_type": "code",
   "execution_count": 2,
   "id": "8a4cceb4",
   "metadata": {},
   "outputs": [
    {
     "name": "stdout",
     "output_type": "stream",
     "text": [
      "hello\n",
      "world\n",
      "strings can \n",
      "also go 'over'\n",
      "multiple \"lines\".\n"
     ]
    }
   ],
   "source": [
    "s1 = 'hello'\n",
    "s2 = \"world\"\n",
    "s3 = '''strings can \n",
    "also go 'over'\n",
    "multiple \"lines\".'''\n",
    "\n",
    "print(s1)\n",
    "print(s2)\n",
    "print(s3)"
   ]
  },
  {
   "cell_type": "markdown",
   "id": "d175e260",
   "metadata": {},
   "source": [
    "You can also 'add' strings using 'operator overloading', meaning that the plus sign can take on different meanings depending on the data types of the variables you are using it on."
   ]
  },
  {
   "cell_type": "code",
   "execution_count": 3,
   "id": "e94b6649",
   "metadata": {},
   "outputs": [
    {
     "name": "stdout",
     "output_type": "stream",
     "text": [
      "hello world\n"
     ]
    }
   ],
   "source": [
    "print(s1 + ' ' + s2)  # note, we need the space otherwise we would get 'helloworld'"
   ]
  },
  {
   "cell_type": "markdown",
   "id": "ef9b02cd",
   "metadata": {},
   "source": [
    "Another methods of putting strings together is called 'formatted string literals' (also called f-strings for short). "
   ]
  },
  {
   "cell_type": "code",
   "execution_count": 4,
   "id": "fe80994b",
   "metadata": {},
   "outputs": [
    {
     "name": "stdout",
     "output_type": "stream",
     "text": [
      "hello world\n",
      "hello world\n"
     ]
    }
   ],
   "source": [
    "# Here, we assign the string directly inside of the parenthesis.\n",
    "print(f'{s1} {s2}') \n",
    "# The other method is to have numeric placeholders and assign text with .format() method. \n",
    "print('{0} {1}'.format(s1, s2))"
   ]
  },
  {
   "cell_type": "markdown",
   "id": "57c957db",
   "metadata": {},
   "source": [
    "---\n",
    "### *Exercise*\n",
    "\n",
    "1. Create two variables (or three if you have middle name), called `first` and `last`, and assign your first and last name, respectively. \n",
    "2. Comebine those two variables into a new variable and make a new variable called `name`. It should have a space between your first and last name.\n",
    "\n",
    "---"
   ]
  },
  {
   "cell_type": "code",
   "execution_count": null,
   "id": "82b3f642",
   "metadata": {},
   "outputs": [],
   "source": [
    "# Your code here\n"
   ]
  },
  {
   "cell_type": "code",
   "execution_count": null,
   "id": "3c5a2b61",
   "metadata": {},
   "outputs": [],
   "source": [
    "\"\"\" Test code for the previous function. \n",
    "This cell should NOT give any errors when it is run.\"\"\"\n",
    "\n",
    "# Check your result here. \n",
    "print(f'{first} {last}')\n",
    "print(name)\n",
    "\n",
    "assert f'{first} {last}' == name\n",
    "print(\"Success!\")"
   ]
  },
  {
   "cell_type": "markdown",
   "id": "c3610093",
   "metadata": {},
   "source": [
    "Strings are 'objects' in that they have 'methods'. Methods are functions that act on the particular instance of a string object. You can access the methods by putting a dot after the variable name and then the method name with parentheses (and any arguments to the method within the parentheses). Methods always have to have parentheses, even if they are empty."
   ]
  },
  {
   "cell_type": "code",
   "execution_count": null,
   "id": "2bfa1dff",
   "metadata": {},
   "outputs": [],
   "source": [
    "s3.upper()"
   ]
  },
  {
   "cell_type": "markdown",
   "id": "4519fded",
   "metadata": {},
   "source": [
    "You may be curious about why we see the result like `'STRINGS CAN \\nALSO GO \\'OVER\\'\\nMULTIPLE \"LINES\".'`. A word with a backslash `\\`, (e.g., `\\n` or `\\t`) is called escape characters, and is being used to include nonprintable characters in a string. For example, `\\n` means a new line and `\\t` means a tab. <br> <br>\n",
    "We can remove the escape characters from displaying by using the `print()` function. "
   ]
  },
  {
   "cell_type": "code",
   "execution_count": null,
   "id": "307c0af7",
   "metadata": {
    "scrolled": true
   },
   "outputs": [],
   "source": [
    "print(s3.upper())"
   ]
  },
  {
   "cell_type": "code",
   "execution_count": null,
   "id": "b5e750cb",
   "metadata": {},
   "outputs": [],
   "source": [
    "print(s3.capitalize())"
   ]
  },
  {
   "cell_type": "markdown",
   "id": "6838c99d",
   "metadata": {},
   "source": [
    "One of the most useful string methods is 'split' that returns a list of the words in a string, with all of the whitespace (actual spaces, newlines, and tabs) removed. More on lists next."
   ]
  },
  {
   "cell_type": "code",
   "execution_count": null,
   "id": "3828d70a",
   "metadata": {},
   "outputs": [],
   "source": [
    "s3.split('s')"
   ]
  },
  {
   "cell_type": "code",
   "execution_count": null,
   "id": "7b1ed4a2",
   "metadata": {
    "scrolled": true
   },
   "outputs": [],
   "source": [
    "s3.split()"
   ]
  },
  {
   "cell_type": "markdown",
   "id": "2ea1a975",
   "metadata": {},
   "source": [
    "Another common thing that is done with strings is the join method. It can be used to join a sequence of strings given a common conjunction"
   ]
  },
  {
   "cell_type": "code",
   "execution_count": null,
   "id": "05b7fa94",
   "metadata": {},
   "outputs": [],
   "source": [
    "words = s3.split()\n",
    "'_'.join(words)        # Here, we are using a method directly on the string '_' itself."
   ]
  },
  {
   "cell_type": "markdown",
   "id": "01eaafe5",
   "metadata": {},
   "source": [
    "---\n",
    "### *Exercise*\n",
    "\n",
    "1. Create two more variables as shown below. \n",
    "```python\n",
    "   course = 'GIS Project'\n",
    "   semester = 'Spring 2025'\n",
    "```\n",
    "2. Print a sentence `[YOUR FIRST AND LAST NAME] is taking [COURSE] Course in [SEMESTER] Semester.`, by using f-string (formatted string literals). <br>\n",
    "Note that you should NOT type capital letters for course and semester, but make them with the methods of string. <br>\n",
    "<b>Expected result: </b><br>\n",
    "`Jinwoo Park is taking GIS Project Course in Spring 2025 Semester.`\n"
   ]
  },
  {
   "cell_type": "code",
   "execution_count": null,
   "id": "bc8f9ce7",
   "metadata": {},
   "outputs": [],
   "source": [
    "# Your code here\n",
    "\n"
   ]
  },
  {
   "cell_type": "markdown",
   "id": "2b3ac80b",
   "metadata": {},
   "source": [
    "### 1.2. Numeric types (i.e., Integer and Float)"
   ]
  },
  {
   "cell_type": "code",
   "execution_count": null,
   "id": "a1313ee8",
   "metadata": {},
   "outputs": [],
   "source": [
    "year = 2022  # if you assign INTEGER to a variable, the type will be an INTEGER\n",
    "pi = 3.141592  # if you assign FLOAT to a variable, the type will be an FLOAT. \n",
    "\n",
    "print(year, type(year))\n",
    "print(pi, type(pi))"
   ]
  },
  {
   "cell_type": "markdown",
   "id": "57e4a1ec",
   "metadata": {},
   "source": [
    "You can use the following arithmetic operator in Python. \n",
    "\n",
    "| Name | Operator | Example |\n",
    "| --- | --- | --- |\n",
    "| Addition | + | x + y |\n",
    "| Subtraction | - | x - y |\n",
    "| Multiplication | * | x * y |\n",
    "| Division | / | x / y |\n",
    "| Exponentiation | ** | x ** y |\n",
    "| Floor division | // | x // y |\n",
    "| Modulus | % | x % y |"
   ]
  },
  {
   "cell_type": "code",
   "execution_count": null,
   "id": "aedc3d4a",
   "metadata": {},
   "outputs": [],
   "source": [
    "aa = 25\n",
    "bb = 3\n",
    "\n",
    "print(f'Addition:        {aa} + {bb} = {aa + bb}') \n",
    "print(f'Subtraction:     {aa} - {bb} = {aa - bb}') \n",
    "print(f'Multiplication:  {aa} * {bb} = {aa * bb}') \n",
    "print(f'Division:        {aa} / {bb} = {aa / bb}') \n",
    "print(f'Exponentiation:  {aa} ** {bb} = {aa ** bb}') \n",
    "print(f'Floor division:  {aa} // {bb} = {aa // bb}') \n",
    "print(f'Modulus:         {aa} % {bb} = {aa % bb}') "
   ]
  },
  {
   "cell_type": "markdown",
   "id": "8faa85e2",
   "metadata": {},
   "source": [
    "If you sum an integer and a float, its type will be float, regardless of the result of the sum."
   ]
  },
  {
   "cell_type": "code",
   "execution_count": null,
   "id": "feb64506",
   "metadata": {},
   "outputs": [],
   "source": [
    "n1 = 1\n",
    "n2 = 1.0\n",
    "n3 = n1 + n2\n",
    "print(n3, type(n3))"
   ]
  },
  {
   "cell_type": "markdown",
   "id": "72c86c79",
   "metadata": {},
   "source": [
    "You can easily change the type of numerical variables with `int()` and `float()`. <br>\n",
    "Note that `int()` will only keep the integer part of float (e.g., 3.141592 -> 3). "
   ]
  },
  {
   "cell_type": "code",
   "execution_count": null,
   "id": "f9b4af01",
   "metadata": {},
   "outputs": [],
   "source": [
    "# From integer to float\n",
    "print(n1, type(n1))\n",
    "\n",
    "n4 = float(n1)\n",
    "print(n4, type(n4))\n",
    "\n",
    "# From float to integer\n",
    "print(pi, type(pi))\n",
    "\n",
    "n5 = int(pi)\n",
    "print(n5, type(n5))"
   ]
  },
  {
   "cell_type": "markdown",
   "id": "0d3b0a53",
   "metadata": {},
   "source": [
    "If you don't want to round the number, instead of just loosing decimal points, use function `round()`."
   ]
  },
  {
   "cell_type": "code",
   "execution_count": null,
   "id": "f7121788",
   "metadata": {
    "scrolled": true
   },
   "outputs": [],
   "source": [
    "# round(number, digit) takes two arguments. \n",
    "# The first is the number to be rounded, the second is the number of decimals (default is 0).\n",
    "print(round(pi, 1))  \n",
    "print(round(pi, 2))\n",
    "print(round(pi, 3))\n",
    "print(round(pi, 4))\n",
    "print(round(pi, 5))"
   ]
  },
  {
   "cell_type": "markdown",
   "id": "a25c4698",
   "metadata": {},
   "source": [
    "---\n",
    "### *Exercise*\n",
    "\n",
    "1. Calculate the perimeter and the area of a circle with a radius of 5 (You can use pi assigned in the previus cell). <br><br>\n",
    "$$ C = 2 \\pi r $$\n",
    "$$ A = \\pi r ^2 $$\n",
    "\n",
    "\n",
    "2. Assign the perimeter and the area to C and A, respectively. \n",
    "\n",
    "---"
   ]
  },
  {
   "cell_type": "code",
   "execution_count": null,
   "id": "b021d704",
   "metadata": {},
   "outputs": [],
   "source": [
    "# Your code here\n",
    "\n"
   ]
  },
  {
   "cell_type": "code",
   "execution_count": null,
   "id": "2f25e6eb",
   "metadata": {},
   "outputs": [],
   "source": [
    "\"\"\" Test code for the previous function. \n",
    "This cell should NOT give any errors when it is run.\"\"\"\n",
    "\n",
    "# Check your result here. \n",
    "print(f'Perimeter of a circle: {C}')\n",
    "print(f'Area of a circle: {A}')\n",
    "\n",
    "assert round(C, 2) == 31.42\n",
    "assert round(A, 2) == 78.54\n",
    "print(\"Success!\")"
   ]
  },
  {
   "cell_type": "markdown",
   "id": "3324ee88",
   "metadata": {},
   "source": [
    "### 1.3. Boolean \n",
    "\n",
    "A `Boolean` variable denotes ture or false values based on two case-sensitive keywords, `True` and `False`."
   ]
  },
  {
   "cell_type": "code",
   "execution_count": null,
   "id": "7889c179",
   "metadata": {},
   "outputs": [],
   "source": [
    "b1 = True\n",
    "b2 = False\n",
    "print(b1, b2)"
   ]
  },
  {
   "cell_type": "markdown",
   "id": "6c5ef262",
   "metadata": {},
   "source": [
    "Note that `True` is NOT equal to `'True'`. `'True'` is a string, not a boolean. "
   ]
  },
  {
   "cell_type": "code",
   "execution_count": null,
   "id": "ce08bf03",
   "metadata": {},
   "outputs": [],
   "source": [
    "print(f'Type of True: {type(True)}')\n",
    "print(f'Type of \"True\": {type(\"True\")}')"
   ]
  },
  {
   "cell_type": "markdown",
   "id": "653a2499",
   "metadata": {},
   "source": [
    "Each data type of Python has a representation of boolean. For example, numereical value 0 is `False`, but other numbers are `True`. In addition, empty string (e.g., `''`) is `False`, but nonempty string is `True`. "
   ]
  },
  {
   "cell_type": "code",
   "execution_count": null,
   "id": "971b8070",
   "metadata": {},
   "outputs": [],
   "source": [
    "# Integer / Float\n",
    "print(bool(0)) \n",
    "print(bool(1)) \n",
    "print(bool(-1.8))\n",
    "print(bool(100))"
   ]
  },
  {
   "cell_type": "code",
   "execution_count": null,
   "id": "17f48f9b",
   "metadata": {},
   "outputs": [],
   "source": [
    "# String\n",
    "print(bool(''))\n",
    "print(bool('Something'))\n",
    "print(bool('Words'))"
   ]
  },
  {
   "cell_type": "markdown",
   "id": "631ac647",
   "metadata": {},
   "source": [
    "The variable type, Boolean, is usually used for testing conditions, rather than storing True and False. \n",
    "<br><br>\n",
    "We can test the values of variables using different operators. These tests return a `Boolean` value. Either `True` or `False`. `False` is the same as zero, `True` is nonzero. Note that assignment `=` is different than a test of equality `==`."
   ]
  },
  {
   "cell_type": "code",
   "execution_count": null,
   "id": "c3565aaf",
   "metadata": {},
   "outputs": [],
   "source": [
    "a = 5"
   ]
  },
  {
   "cell_type": "code",
   "execution_count": null,
   "id": "12d6ad3c",
   "metadata": {},
   "outputs": [],
   "source": [
    "a < 99"
   ]
  },
  {
   "cell_type": "code",
   "execution_count": null,
   "id": "59746520",
   "metadata": {},
   "outputs": [],
   "source": [
    "a > 99"
   ]
  },
  {
   "cell_type": "code",
   "execution_count": null,
   "id": "0a4e9598",
   "metadata": {
    "scrolled": true
   },
   "outputs": [],
   "source": [
    "a == 5."
   ]
  },
  {
   "cell_type": "markdown",
   "id": "f1a5a503",
   "metadata": {},
   "source": [
    "These statements have returned \"booleans\", which are True and False only. These are commonly used to check for conditions within a script or function to determine the next course of action.\n",
    "\n",
    "NOTE: booleans are NOT equivalent to a string that says \"True\" or \"False\". We can test this:"
   ]
  },
  {
   "cell_type": "code",
   "execution_count": null,
   "id": "9b096c93",
   "metadata": {},
   "outputs": [],
   "source": [
    "True == 'True'"
   ]
  },
  {
   "cell_type": "markdown",
   "id": "2681a47b",
   "metadata": {},
   "source": [
    "There are other things that can be tested, not just mathematical equalities. For example, to test if an element is inside of a list or string (or any sequence, more on sequences below..), do"
   ]
  },
  {
   "cell_type": "code",
   "execution_count": null,
   "id": "709c9ebd",
   "metadata": {},
   "outputs": [],
   "source": [
    "foo = [1, 2, 3, 4, 5 ,6] # List\n",
    "5 in foo"
   ]
  },
  {
   "cell_type": "code",
   "execution_count": null,
   "id": "88b23285",
   "metadata": {},
   "outputs": [],
   "source": [
    "'this' in 'What is this?'"
   ]
  },
  {
   "cell_type": "code",
   "execution_count": null,
   "id": "1ddb6c3e",
   "metadata": {
    "scrolled": true
   },
   "outputs": [],
   "source": [
    "'that' in 'What is this?'"
   ]
  },
  {
   "cell_type": "markdown",
   "id": "25b2f350",
   "metadata": {},
   "source": [
    "## 2. Containers\n",
    "\n",
    "- List: list()\n",
    "    - [variable1, variable2, variable3...]\n",
    "- Tuple: tuple()\n",
    "    - (variable1, variable2, variable3...)\n",
    "- Dictionary: dict()\n",
    "    - {key1: value1, key2: value2, key3: value3 ...}\n",
    "\n",
    "Often you need lists or sequences of different values (e.g., a timeseries of temperature – a list of values representing the temperature on sequential days). There are three containers in the core python language. There are a few more specialized containers (e.g., numpy arrays and pandas dataframes) for use in scientific computing that we will learn much more about later; they are very similar to the containers we will learn about here."
   ]
  },
  {
   "cell_type": "markdown",
   "id": "df391315",
   "metadata": {},
   "source": [
    "### 2.1. List\n",
    "\n",
    "Lists are perhaps the most common container type. They are used for sequential data. Create them with square brackets with comma separated values within:"
   ]
  },
  {
   "cell_type": "code",
   "execution_count": 1,
   "id": "0a46efb8",
   "metadata": {
    "scrolled": true
   },
   "outputs": [
    {
     "data": {
      "text/plain": [
       "list"
      ]
     },
     "execution_count": 1,
     "metadata": {},
     "output_type": "execute_result"
    }
   ],
   "source": [
    "foo = [1., 2., 3, 'four', 'five', [6., 7., 8], 'nine']\n",
    "type(foo)"
   ]
  },
  {
   "cell_type": "markdown",
   "id": "4c95c15d",
   "metadata": {},
   "source": [
    "Note that lists (unlike arrays, as we will later learn) can be heterogeneous. That is, the elements in the list don't have to have the same kind of data type. Here we have a list with floats, ints, strings, and even another (nested) list!\n",
    "\n",
    "We can retrieve the individual elements of a list by 'indexing' the list. We do this with square brackets, using zero-based indexes – that is 0 is the first element – as such:"
   ]
  },
  {
   "cell_type": "code",
   "execution_count": 2,
   "id": "3032ee31",
   "metadata": {},
   "outputs": [
    {
     "data": {
      "text/plain": [
       "1.0"
      ]
     },
     "execution_count": 2,
     "metadata": {},
     "output_type": "execute_result"
    }
   ],
   "source": [
    "foo[0]"
   ]
  },
  {
   "cell_type": "code",
   "execution_count": 3,
   "id": "3fe60177",
   "metadata": {},
   "outputs": [
    {
     "data": {
      "text/plain": [
       "[6.0, 7.0, 8]"
      ]
     },
     "execution_count": 3,
     "metadata": {},
     "output_type": "execute_result"
    }
   ],
   "source": [
    "foo[5]  # Nested list (a list in a list)"
   ]
  },
  {
   "cell_type": "code",
   "execution_count": 4,
   "id": "7fd9aa43",
   "metadata": {},
   "outputs": [
    {
     "data": {
      "text/plain": [
       "7.0"
      ]
     },
     "execution_count": 4,
     "metadata": {},
     "output_type": "execute_result"
    }
   ],
   "source": [
    "foo[5][1]  # Python is sequential, we can access an element within an element using sequential indexing."
   ]
  },
  {
   "cell_type": "code",
   "execution_count": 5,
   "id": "78f60da3",
   "metadata": {},
   "outputs": [
    {
     "data": {
      "text/plain": [
       "'nine'"
      ]
     },
     "execution_count": 5,
     "metadata": {},
     "output_type": "execute_result"
    }
   ],
   "source": [
    "foo[-1]    # This is the way to access the last element."
   ]
  },
  {
   "cell_type": "code",
   "execution_count": 6,
   "id": "20f4ea46",
   "metadata": {},
   "outputs": [
    {
     "data": {
      "text/plain": [
       "'five'"
      ]
     },
     "execution_count": 6,
     "metadata": {},
     "output_type": "execute_result"
    }
   ],
   "source": [
    "foo[-3]    # ...and the third to last element"
   ]
  },
  {
   "cell_type": "code",
   "execution_count": 7,
   "id": "8146b057",
   "metadata": {},
   "outputs": [
    {
     "data": {
      "text/plain": [
       "'v'"
      ]
     },
     "execution_count": 7,
     "metadata": {},
     "output_type": "execute_result"
    }
   ],
   "source": [
    "foo[-3][2]   # we can also index strings."
   ]
  },
  {
   "cell_type": "markdown",
   "id": "aac08955",
   "metadata": {},
   "source": [
    "We can get a sub-sequence from the list by giving a range of the data to extract. This is done by using the format\n",
    "\n",
    "    start:stop:stride\n",
    "\n",
    "where `start` is the first element, up to but not including the element indexed by `stop`, taking every `stride` elements. The defaluts are start at the beginning, include through the end, and include every element. \n",
    "\n",
    "The up-to-but-not-including part is confusing to first time Python users, but makes sense given the zero-based indexing. For example, `foo[:10]` gives the first ten elements of a sequence."
   ]
  },
  {
   "cell_type": "code",
   "execution_count": 8,
   "id": "ed1edaf3",
   "metadata": {
    "scrolled": true
   },
   "outputs": [
    {
     "name": "stdout",
     "output_type": "stream",
     "text": [
      "[0, 1, 2, 3, 4, 5, 6, 7, 8, 9]\n",
      "[0, 1, 2, 3, 4, 5, 6, 7, 8, 9]\n"
     ]
    }
   ],
   "source": [
    "# create a sequence of 10 elements, starting with zero, up to but not including 10.\n",
    "bar = [0, 1, 2, 3, 4, 5, 6, 7, 8, 9]\n",
    "\n",
    "# or you can use function range(start, end, step) to create the same list\n",
    "bar_ = list(range(0, 10, 1))\n",
    "print(bar)\n",
    "print(bar_)"
   ]
  },
  {
   "cell_type": "code",
   "execution_count": 9,
   "id": "ed05fd37",
   "metadata": {},
   "outputs": [
    {
     "data": {
      "text/plain": [
       "[2, 3, 4]"
      ]
     },
     "execution_count": 9,
     "metadata": {},
     "output_type": "execute_result"
    }
   ],
   "source": [
    "bar[2:5]"
   ]
  },
  {
   "cell_type": "code",
   "execution_count": 10,
   "id": "66362506",
   "metadata": {},
   "outputs": [
    {
     "data": {
      "text/plain": [
       "[0, 1, 2, 3]"
      ]
     },
     "execution_count": 10,
     "metadata": {},
     "output_type": "execute_result"
    }
   ],
   "source": [
    "bar[:4]"
   ]
  },
  {
   "cell_type": "code",
   "execution_count": 11,
   "id": "66113284",
   "metadata": {},
   "outputs": [
    {
     "data": {
      "text/plain": [
       "[0, 1, 2, 3, 4, 5, 6, 7, 8, 9]"
      ]
     },
     "execution_count": 11,
     "metadata": {},
     "output_type": "execute_result"
    }
   ],
   "source": [
    "bar[:]"
   ]
  },
  {
   "cell_type": "code",
   "execution_count": 12,
   "id": "b8d4eb5c",
   "metadata": {},
   "outputs": [
    {
     "data": {
      "text/plain": [
       "[0, 2, 4, 6, 8]"
      ]
     },
     "execution_count": 12,
     "metadata": {},
     "output_type": "execute_result"
    }
   ],
   "source": [
    "bar[::2]"
   ]
  },
  {
   "cell_type": "code",
   "execution_count": 13,
   "id": "df2fea8a",
   "metadata": {},
   "outputs": [
    {
     "data": {
      "text/plain": [
       "[9, 8, 7, 6, 5, 4, 3, 2, 1, 0]"
      ]
     },
     "execution_count": 13,
     "metadata": {},
     "output_type": "execute_result"
    }
   ],
   "source": [
    "bar[::-1]"
   ]
  },
  {
   "cell_type": "markdown",
   "id": "08e7f7aa",
   "metadata": {},
   "source": [
    "---\n",
    "###  *Exercise*\n",
    "\n",
    "1. Create a list `list1` with the ragne from 0 to 9. BUT, DO NOT list off every variables (i.e., 0, 1, 2 ...)\n",
    "2. Use list indexing to obtain `[3, 4, 5]`, and save the result as `list2`. \n",
    "3. Use list indexing to obtain `[2, 5, 8]`, and save teh result as `list3`.\n",
    "---"
   ]
  },
  {
   "cell_type": "code",
   "execution_count": null,
   "id": "8218ecba",
   "metadata": {},
   "outputs": [],
   "source": [
    "# Your code here\n",
    "\n"
   ]
  },
  {
   "cell_type": "code",
   "execution_count": null,
   "id": "f27a3b6a",
   "metadata": {},
   "outputs": [],
   "source": [
    "\"\"\" Test code for the previous function. \n",
    "This cell should NOT give any errors when it is run.\"\"\"\n",
    "\n",
    "# Check your result here. \n",
    "assert list1 == [0, 1, 2, 3, 4, 5, 6, 7, 8, 9]\n",
    "assert list2 == [3, 4, 5]\n",
    "assert list3 == [2, 5, 8]\n",
    "\n",
    "print(\"Success!\")"
   ]
  },
  {
   "cell_type": "markdown",
   "id": "711f536f",
   "metadata": {},
   "source": [
    "---\n",
    "### *Exercise*\n",
    "\n",
    "What other methods are there? <br>\n",
    "Type the list name (e.g., `bar` or `list1`) and then add `.` after the list name and press `<TAB>`. <br>\n",
    "This will show the possible completions, which in this case is a list of the methods and attributes. You can get help on a method by typing, for example, `bar.pop?`.  The text in the help file is called a `docstring`; as we will see below, you can write these for your own functions.\n",
    "\n",
    "> See if you can use these four methods of the list instance `bar`:\n",
    "\n",
    "            1. append\n",
    "            2. pop\n",
    "            3. index\n",
    "            4. count\n",
    "\n",
    "\n",
    "---"
   ]
  },
  {
   "cell_type": "code",
   "execution_count": null,
   "id": "035d55f8",
   "metadata": {},
   "outputs": [],
   "source": [
    "# Your code here\n",
    "\n"
   ]
  },
  {
   "cell_type": "code",
   "execution_count": null,
   "id": "2b97b0ed",
   "metadata": {},
   "outputs": [],
   "source": [
    "# Append method will append varaible to the list\n",
    "print(bar)\n",
    "bar.append(10)\n",
    "print(bar)"
   ]
  },
  {
   "cell_type": "code",
   "execution_count": null,
   "id": "e50e439b",
   "metadata": {},
   "outputs": [],
   "source": [
    "# Pop method will pop up a value with an index, and the popped up value will be removed the list.\n",
    "print(bar)\n",
    "print(bar.pop(3))\n",
    "print(bar)"
   ]
  },
  {
   "cell_type": "code",
   "execution_count": null,
   "id": "24aa1b7f",
   "metadata": {},
   "outputs": [],
   "source": [
    "# Index method will return the index (location) of the value entered. \n",
    "print(bar)\n",
    "print(bar.index(4))\n",
    "print(bar.index(3))"
   ]
  },
  {
   "cell_type": "code",
   "execution_count": null,
   "id": "0a879518",
   "metadata": {},
   "outputs": [],
   "source": [
    "# Count method will count the value entered in the list. \n",
    "print(bar)\n",
    "print(bar.count(0))\n",
    "print(bar.count(3))"
   ]
  },
  {
   "cell_type": "markdown",
   "id": "a42c0248",
   "metadata": {},
   "source": [
    "### 2.2. Tuples\n",
    "\n",
    "Tuples (pronounced too'-puls) are sequences that can't be modified, and don't have methods. Thus, they are designed to be immutable sequences. They are created like lists, but with parentheses instead of square brackets."
   ]
  },
  {
   "cell_type": "code",
   "execution_count": null,
   "id": "1b60ac59",
   "metadata": {},
   "outputs": [],
   "source": [
    "bar = list(range(0, 10, 1))\n",
    "print(bar)\n",
    "bar[3] = -999\n",
    "print(bar)"
   ]
  },
  {
   "cell_type": "code",
   "execution_count": null,
   "id": "7c7ddc7d",
   "metadata": {},
   "outputs": [],
   "source": [
    "foo = (3, 5, 7, 9)\n",
    "foo[2] = -999  # gives an assignment error. Commented so that all cells run."
   ]
  },
  {
   "cell_type": "markdown",
   "id": "61da8911",
   "metadata": {},
   "source": [
    "### 2.3. Dictionaries\n",
    "\n",
    "Dictionaries are used for unordered sequences that are referenced by arbitrary 'keys' instead of by a (sequential) index. Dictionaries are created using curly braces with keys and values separated by a colon, and key:value pairs separated by commas, as"
   ]
  },
  {
   "cell_type": "code",
   "execution_count": null,
   "id": "cc0860ea",
   "metadata": {},
   "outputs": [],
   "source": [
    "dict_car = {\n",
    "    \"brand\" : \"Hyundai\",\n",
    "    \"model\" : \"Santa Fe\",\n",
    "    \"year\"  : 2024\n",
    "}\n",
    "print(dict_car)"
   ]
  },
  {
   "cell_type": "markdown",
   "id": "7b75aacd",
   "metadata": {},
   "source": [
    "Elements are referenced and assigned by keys:"
   ]
  },
  {
   "cell_type": "code",
   "execution_count": null,
   "id": "3391b95a",
   "metadata": {},
   "outputs": [],
   "source": [
    "dict_car['brand']"
   ]
  },
  {
   "cell_type": "code",
   "execution_count": null,
   "id": "bd26d7d4",
   "metadata": {},
   "outputs": [],
   "source": [
    "dict_car['model']"
   ]
  },
  {
   "cell_type": "markdown",
   "id": "25cc737b",
   "metadata": {},
   "source": [
    "The sets of a key and a value can be added or replaced as follows. "
   ]
  },
  {
   "cell_type": "code",
   "execution_count": null,
   "id": "49e4a9e1",
   "metadata": {},
   "outputs": [],
   "source": [
    "# Add value with a key\n",
    "dict_car['color'] = 'Grey'\n",
    "print(dict_car)"
   ]
  },
  {
   "cell_type": "code",
   "execution_count": null,
   "id": "a98c0a60",
   "metadata": {},
   "outputs": [],
   "source": [
    "# Replacing value with a key\n",
    "print(dict_car['year'])\n",
    "dict_car['year'] = list(range(2010, 2025, 1)) # [2010, 2011, 2012, 2013, ... ]\n",
    "print(dict_car['year'])"
   ]
  },
  {
   "cell_type": "markdown",
   "id": "c7f1a338",
   "metadata": {},
   "source": [
    "The keys and values can be extracted as lists using methods of the dictionary class."
   ]
  },
  {
   "cell_type": "code",
   "execution_count": null,
   "id": "e11a958e",
   "metadata": {},
   "outputs": [],
   "source": [
    "dict_car.keys()"
   ]
  },
  {
   "cell_type": "code",
   "execution_count": null,
   "id": "1049badb",
   "metadata": {},
   "outputs": [],
   "source": [
    "dict_car.values()"
   ]
  },
  {
   "cell_type": "markdown",
   "id": "e696c79b",
   "metadata": {},
   "source": [
    "---\n",
    "### *Exercise*\n",
    "\n",
    "1. Create a dictionary variable with at least 3 entries. <br>\n",
    "   The entry keys should be the first name of people around you in the class, \n",
    "   and the value should be their favorite food.\n",
    "\n",
    "2. Explore the methods of the dictionary object, as was done with the list instance in the previous exercise. <br>\n",
    "   Hint: add `.` at the end of dictionary and press `<TAB>`.\n",
    "\n",
    "\n",
    "---"
   ]
  },
  {
   "cell_type": "code",
   "execution_count": null,
   "id": "818c0483",
   "metadata": {},
   "outputs": [],
   "source": [
    "# Your code here\n",
    "\n"
   ]
  },
  {
   "cell_type": "markdown",
   "id": "9d2014ff-db27-47b9-9463-1e27fcfa61f7",
   "metadata": {},
   "source": [
    "# Done"
   ]
  }
 ],
 "metadata": {
  "kernelspec": {
   "display_name": "GIS_Project",
   "language": "python",
   "name": "python3"
  },
  "language_info": {
   "codemirror_mode": {
    "name": "ipython",
    "version": 3
   },
   "file_extension": ".py",
   "mimetype": "text/x-python",
   "name": "python",
   "nbconvert_exporter": "python",
   "pygments_lexer": "ipython3",
   "version": "3.13.1"
  }
 },
 "nbformat": 4,
 "nbformat_minor": 5
}
