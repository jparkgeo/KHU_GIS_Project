{
 "cells": [
  {
   "cell_type": "markdown",
   "id": "dee9a48c",
   "metadata": {},
   "source": [
    "# Aspatial data manipulation: Numpy and Pandas\n",
    "\n"
   ]
  },
  {
   "cell_type": "markdown",
   "id": "bda8ea19",
   "metadata": {},
   "source": [
    "## 1. Numpy\n",
    "\n",
    "NumPy is the fundamental package for scientific computing in Python. It is a Python library that provides a multidimensional array object, various derived objects (such as masked arrays and matrices), and an assortment of routines for fast operations on arrays, including mathematical, logical, shape manipulation, sorting, selecting, I/O, discrete Fourier transforms, basic linear algebra, basic statistical operations, random simulation and much more.\n",
    "<br><br>\n",
    "\n",
    "You can import the numpy library as shown below:\n",
    "```python\n",
    "import numpy as np\n",
    "```\n",
    "\n",
    "source: https://numpy.org/doc/stable/"
   ]
  },
  {
   "cell_type": "code",
   "execution_count": 1,
   "id": "40bb16e4",
   "metadata": {},
   "outputs": [],
   "source": [
    "import numpy as np"
   ]
  },
  {
   "cell_type": "markdown",
   "id": "333887f9",
   "metadata": {},
   "source": [
    "The core of the `numpy` package is the `array` class. Let's examine that first. We can make an array out of a sequence, like a list."
   ]
  },
  {
   "cell_type": "code",
   "execution_count": null,
   "id": "e715998e",
   "metadata": {},
   "outputs": [],
   "source": [
    "d = [1, 2, 3, 4, 5, 6]\n",
    "np.array(d)"
   ]
  },
  {
   "cell_type": "markdown",
   "id": "c0b1b2d4",
   "metadata": {},
   "source": [
    "Note that arrays must be \"homogeneous\", unlike `list`, in that the data types of each element must be the same. The data type of the array is upcast to be able to represent all of the data. So, if only one element is a float, all elements will be converted to floats."
   ]
  },
  {
   "cell_type": "code",
   "execution_count": null,
   "id": "a4fde07a",
   "metadata": {},
   "outputs": [],
   "source": [
    "d = [1, 2, 3.1415, 4, 5, 6]\n",
    "np.array(d)"
   ]
  },
  {
   "cell_type": "markdown",
   "id": "749582f6",
   "metadata": {},
   "source": [
    "Arrays are like multidimensional sequences. We can create a 2D array by supplying a list of lists as the argument."
   ]
  },
  {
   "cell_type": "code",
   "execution_count": null,
   "id": "6cf970c7",
   "metadata": {},
   "outputs": [],
   "source": [
    "arr = np.array([[1., 2., 3.,], [4., 5., 6.]])\n",
    "print(arr.shape)\n",
    "arr"
   ]
  },
  {
   "cell_type": "markdown",
   "id": "bc9b9490",
   "metadata": {},
   "source": [
    "You can set the `array.shape` attribute to change the shape of the array. This attribute does not change the elements of the array, or how it is stored in memory, just how it is seen."
   ]
  },
  {
   "cell_type": "code",
   "execution_count": null,
   "id": "7c3b4f63",
   "metadata": {},
   "outputs": [],
   "source": [
    "arr.shape = (3, 2)\n",
    "print(arr.shape)\n",
    "arr"
   ]
  },
  {
   "cell_type": "markdown",
   "id": "0cd921bb",
   "metadata": {},
   "source": [
    "---\n",
    "### *Exercise*\n",
    "\n",
    "1. Create an array, named `arr1`, that has value from 1 through 9. \n",
    "2. Assign `arr1` to `arr2` and resize the array into 3 by 3 (3 rows and 3 columns). \n",
    "\n",
    "---"
   ]
  },
  {
   "cell_type": "code",
   "execution_count": null,
   "id": "9d1924ff",
   "metadata": {},
   "outputs": [],
   "source": [
    "# Your code here\n",
    "arr1 =\n",
    "arr2 = \n"
   ]
  },
  {
   "cell_type": "code",
   "execution_count": null,
   "id": "71c73b44",
   "metadata": {},
   "outputs": [],
   "source": [
    "\"\"\" Test code for the previous function. This cell should NOT give any errors when it is run.\"\"\"\n",
    "\n",
    "# Check your result here. \n",
    "assert np.array_equiv(arr1, np.array(list(range(1, 10))))\n",
    "assert arr2.shape == (3,3)\n",
    "\n",
    "print(\"Success!\")"
   ]
  },
  {
   "cell_type": "markdown",
   "id": "26fe0cb6",
   "metadata": {},
   "source": [
    "## 2. Pandas\n",
    "\n",
    "`pandas` is a Python package providing fast, flexible, and expressive data structures designed to make working with “relational” or “labeled” data both easy and intuitive. It is built on top of `NumPy` and is intended to integrate well within a scientific computing environment with many other 3rd party libraries.\n",
    "<br><br>\n",
    "You can import the `pandas` library as shown below:\n",
    "```python\n",
    "import pandas as pd\n",
    "```\n",
    "### Data Structure\n",
    "\n",
    "| Diemensions | Name | Description | Usage |\n",
    "| :-: | :-: | :-: | :-: |\n",
    "| 1D | Series | 1D labeled homogeneously-typed array | pd.Series() |\n",
    "| 2D | DataFrame | General 2D labeled, size-mutable tabular structure <br> with potentially heterogeneously-typed column | pd.DataFrame() |\n",
    "\n",
    "\n",
    "source: https://pandas.pydata.org/docs/getting_started/overview.html"
   ]
  },
  {
   "cell_type": "markdown",
   "id": "c724aecb",
   "metadata": {},
   "source": [
    "### Difference between Numpy and Pandas\n",
    "| Comparision | Numpy | Pandas | \n",
    "| :-: | :-: | :-: |\n",
    "| Input data | Preferable for Numerical data | Prefereable for Tabular data |\n",
    "| Objects | Array | Data frame and Series |\n",
    "| Efficiency | Memory efficient | Comsume more memory |\n",
    "| Data size | Better performance for 50 K or less | Better performance for 500 K or more rows |\n",
    "| Indexing | Very fast indexing | Relatively slow indexing |\n",
    "| Data demension | Can represent up to 2D with DataFrame <br> Panel used to handle 3D data but deprecated in 0.24.0 | Multi-dimension data presentation <br> with multi-dimensional arrays (ndarray) |\n",
    "\n",
    "source: https://www.geeksforgeeks.org/difference-between-pandas-vs-numpy/"
   ]
  },
  {
   "cell_type": "code",
   "execution_count": null,
   "id": "352ebb35",
   "metadata": {},
   "outputs": [],
   "source": [
    "import pandas as pd\n",
    "pd.__version__ # Check your pandas version"
   ]
  },
  {
   "cell_type": "markdown",
   "id": "e3ec0308",
   "metadata": {},
   "source": [
    "### 2.1. Importing data\n",
    "You can import existing dataset with the various formats, such as excel, csv, tsv, or json, but not limited to. <br> Check out https://pandas.pydata.org/docs/reference/io.html. <br>\n",
    "\n",
    "#### Covered functions\n",
    "* <a href=https://pandas.pydata.org/docs/reference/api/pandas.read_excel.html> pd.read_excel() </a> <br>\n",
    "* <a href=https://pandas.pydata.org/docs/reference/api/pandas.read_csv.html> pd.read_csv() </a><br>\n",
    "* <a href=https://pandas.pydata.org/docs/reference/api/pandas.DataFrame.shape.html>df.shape</a><br>\n",
    "* <a href=https://pandas.pydata.org/docs/reference/api/pandas.DataFrame.head.html?> df.head() </a><br>\n",
    "\n",
    "#### Notes\n",
    "* Functions: Standalone blocks of code, called with parentheses (e.g., function_name()).\n",
    "* Methods: Functions associated with objects, also called with parentheses (e.g., object.method()).\n",
    "* Attributes: Data or properties of an object, accessed without parentheses (e.g., object.attribute).\n"
   ]
  },
  {
   "cell_type": "code",
   "execution_count": null,
   "id": "2f89575c",
   "metadata": {},
   "outputs": [],
   "source": [
    "# Load the data with pandas using .read_csv()\n",
    "# Source: https://data.seoul.go.kr/dataList/OA-15969/S/1/datasetView.do#\n",
    "df = pd.read_csv('./data/SDoT_DDM_20230102_20230108.csv')\n",
    "df"
   ]
  },
  {
   "cell_type": "code",
   "execution_count": null,
   "id": "d64c5604",
   "metadata": {},
   "outputs": [],
   "source": [
    "# shape returns the number of rows and columns in the dataframe\n",
    "# the first value is the number of rows, the second value is the number of columns\n",
    "df.shape"
   ]
  },
  {
   "cell_type": "code",
   "execution_count": null,
   "id": "94ccdda2",
   "metadata": {},
   "outputs": [],
   "source": [
    "# Checking the columns of the DataFrame\n",
    "df.columns"
   ]
  },
  {
   "cell_type": "code",
   "execution_count": null,
   "id": "1058cc65",
   "metadata": {},
   "outputs": [],
   "source": [
    "# Checking the first 5 rows of the dataframe\n",
    "df.head()"
   ]
  },
  {
   "cell_type": "code",
   "execution_count": null,
   "id": "2a3a1304",
   "metadata": {},
   "outputs": [],
   "source": [
    "# You can specify the number of rows you want to see\n",
    "df.head(3)"
   ]
  },
  {
   "cell_type": "code",
   "execution_count": null,
   "id": "a39cd101",
   "metadata": {},
   "outputs": [],
   "source": [
    "# Check the contents of a column\n",
    "df['Serial_Num']"
   ]
  },
  {
   "cell_type": "code",
   "execution_count": null,
   "id": "5610a0c8",
   "metadata": {},
   "outputs": [],
   "source": [
    "# Check the unique contents of a column\n",
    "df['Serial_Num'].unique()"
   ]
  },
  {
   "cell_type": "code",
   "execution_count": null,
   "id": "1a049510",
   "metadata": {},
   "outputs": [],
   "source": [
    "# Check the number of unique contents of a column\n",
    "df['Serial_Num'].nunique()"
   ]
  },
  {
   "cell_type": "code",
   "execution_count": null,
   "id": "7c696048",
   "metadata": {},
   "outputs": [],
   "source": [
    "# Check the number of times each unique content appears in a column\n",
    "df['Serial_Num'].value_counts()"
   ]
  },
  {
   "cell_type": "markdown",
   "id": "218289b0",
   "metadata": {},
   "source": [
    "### 2.2. Slicing dataframes\n",
    "* <a href=https://pandas.pydata.org/docs/reference/api/pandas.DataFrame.at.html?> df.at </a>: Access a single value for a row/column label pair.\n",
    "* <a href=https://pandas.pydata.org/docs/reference/api/pandas.DataFrame.loc.html> df.loc </a>: Access a group of rows and columns by label(s).\n",
    "* <a href=https://pandas.pydata.org/docs/reference/api/pandas.DataFrame.iat.html> df.iat </a>: Access a single value for a row/column pair by integer position.\n",
    "* <a href=https://pandas.pydata.org/docs/reference/api/pandas.DataFrame.iloc.html> df.iloc </a>: Access a group of rows and columns by integer position(s)."
   ]
  },
  {
   "cell_type": "code",
   "execution_count": null,
   "id": "b89dd955",
   "metadata": {},
   "outputs": [],
   "source": [
    "df.head()"
   ]
  },
  {
   "cell_type": "code",
   "execution_count": null,
   "id": "91e2697b",
   "metadata": {},
   "outputs": [],
   "source": [
    "df.iat[0, 1]"
   ]
  },
  {
   "cell_type": "code",
   "execution_count": null,
   "id": "d546ebed",
   "metadata": {},
   "outputs": [],
   "source": [
    "df.at[0, 'Serial_Num']"
   ]
  },
  {
   "cell_type": "code",
   "execution_count": null,
   "id": "cf0c27e8",
   "metadata": {},
   "outputs": [],
   "source": [
    "df.iloc[0, 1]"
   ]
  },
  {
   "cell_type": "code",
   "execution_count": null,
   "id": "dcedb2eb",
   "metadata": {},
   "outputs": [],
   "source": [
    "df.loc[0, 'Serial_Num']"
   ]
  },
  {
   "cell_type": "code",
   "execution_count": null,
   "id": "6484beaa",
   "metadata": {},
   "outputs": [],
   "source": [
    "df.iloc[0:3, 1:3]"
   ]
  },
  {
   "cell_type": "code",
   "execution_count": null,
   "id": "09117983",
   "metadata": {},
   "outputs": [],
   "source": [
    "df.loc[0:3, ['Serial_Num','Year', 'Month']]"
   ]
  },
  {
   "cell_type": "markdown",
   "id": "44415f5c",
   "metadata": {},
   "source": [
    "### 2.3. Selecting rows (records) based on a condition\n",
    "\n",
    "Pandas provides a method called `loc` to select rows based on a condition. \n",
    "The syntax is as shown below. \n",
    "\n",
    "```python\n",
    "DataFrame.loc[`row condition`, `column condition`] \n",
    "```\n",
    "\n",
    "If you leave the column condition empty, it will select all columns. "
   ]
  },
  {
   "cell_type": "code",
   "execution_count": null,
   "id": "b7272327",
   "metadata": {},
   "outputs": [],
   "source": [
    "df.loc[df['Serial_Num'] == 'OC3CL200195', 'Temp']"
   ]
  },
  {
   "cell_type": "code",
   "execution_count": null,
   "id": "222f3b0e",
   "metadata": {},
   "outputs": [],
   "source": [
    "# It is possible to compare the value within the Series (i.e., a column) to a list of values or a single value. \n",
    "# The result is a boolean Series.\n",
    "\n",
    "# Single value comparison\n",
    "df['Serial_Num'] == 'OC3CL200195'"
   ]
  },
  {
   "cell_type": "code",
   "execution_count": null,
   "id": "097f3b9a",
   "metadata": {},
   "outputs": [],
   "source": [
    "# .loc method is used to access a group of rows and columns by label(s) or a boolean array.\n",
    "df.loc[df['Serial_Num'] == 'OC3CL200195']"
   ]
  },
  {
   "cell_type": "code",
   "execution_count": null,
   "id": "2ccf2e4d",
   "metadata": {},
   "outputs": [],
   "source": [
    "# You can further select a specific column(s) from the filtered DataFrame\n",
    "df.loc[df['Serial_Num'] == 'OC3CL200195', 'Temp']"
   ]
  },
  {
   "cell_type": "code",
   "execution_count": null,
   "id": "cb26077f",
   "metadata": {},
   "outputs": [],
   "source": [
    "# Multiple values comparison\n",
    "df['Serial_Num'].isin(['OC3CL200195', 'V02Q1940785'])"
   ]
  },
  {
   "cell_type": "code",
   "execution_count": null,
   "id": "7ae6f156",
   "metadata": {},
   "outputs": [],
   "source": [
    "df.loc[df['Serial_Num'].isin(['OC3CL200195', 'V02Q1940785'])]"
   ]
  },
  {
   "cell_type": "code",
   "execution_count": null,
   "id": "3bf09056",
   "metadata": {},
   "outputs": [],
   "source": [
    "# You can plot the data using the .plot() method\n",
    "df.loc[df['Serial_Num'] == 'OC3CL200195', 'Temp'].plot()"
   ]
  },
  {
   "cell_type": "markdown",
   "id": "e39d6af4",
   "metadata": {},
   "source": [
    "---\n",
    "### *Exercise*\n",
    "\n",
    "1. In the DataFrame `df`, select the records from the 'Hoegi-dong' and assign it to a new DataFrame `hoegi_df`. \n",
    "2. How many records are from the 'Hoegi-dong'? You can use .shape attribute and return the number of rows to a variable `hoegi_record`.\n",
    "\n",
    "---"
   ]
  },
  {
   "cell_type": "code",
   "execution_count": null,
   "id": "93fa5e5e",
   "metadata": {},
   "outputs": [],
   "source": [
    "# Your code here\n",
    "hoegi_df = \n",
    "\n",
    "hoegi_record = \n"
   ]
  },
  {
   "cell_type": "code",
   "execution_count": null,
   "id": "276b3c9d",
   "metadata": {},
   "outputs": [],
   "source": [
    "\"\"\" Test code for the previous function. This cell should NOT give any errors when it is run.\"\"\"\n",
    "\n",
    "# Check your result here. \n",
    "assert type(hoegi_df) == pd.DataFrame\n",
    "assert hoegi_df.shape == (150, 10)\n",
    "assert hoegi_record == 150\n",
    "\n",
    "print(\"Success!\")"
   ]
  },
  {
   "cell_type": "markdown",
   "id": "95bc2ca7",
   "metadata": {},
   "source": [
    "## 3. Mockup Analysis\n",
    "\n",
    "We want to create a new DataFrame that contains the average temperature per day for each device(`Serial_Num`). The following is the steps for our mockup analysis.\n",
    "\n",
    "#### Steps\n",
    "* Create a new column named `Date` containing each date using YYYYMMDD format. \n",
    "* Calculate the average temperature per each Serial_Num and Date. \n",
    "* Create a new DataFrame that contains the average temperature per day for each device(`Serial_Num`).\n",
    "\n",
    "#### Covered functions\n",
    "* <a href=https://pandas.pydata.org/docs/reference/api/pandas.DataFrame.astype.html?> df.astype() </a><br>\n",
    "* <a href=https://pandas.pydata.org/docs/reference/api/pandas.Series.str.zfill.html> df.str.zfill() </a><br>\n",
    "* <a href=https://pandas.pydata.org/docs/reference/api/pandas.DataFrame.dtypes.html> df.dtypes </a><br>"
   ]
  },
  {
   "cell_type": "markdown",
   "id": "88a5428f",
   "metadata": {},
   "source": [
    "### 3.1. Create a new column named `Date` containing each date using YYYYMMDD format. "
   ]
  },
  {
   "cell_type": "code",
   "execution_count": null,
   "id": "c0bbb5a2",
   "metadata": {},
   "outputs": [],
   "source": [
    "# You can simply add the columns together to create a new column\n",
    "# However, you need to convert the columns to string before adding them together.\n",
    "# The following `Date` column does not show what we want. \n",
    "df['Date'] = df['Year'] + df['Month'] + df['Day']\n",
    "df"
   ]
  },
  {
   "cell_type": "code",
   "execution_count": null,
   "id": "3eb0df3f",
   "metadata": {},
   "outputs": [],
   "source": [
    "# Checking the data types of the columns\n",
    "# Year, Month, and Day are integers\n",
    "df.dtypes"
   ]
  },
  {
   "cell_type": "code",
   "execution_count": null,
   "id": "5c41a46a",
   "metadata": {},
   "outputs": [],
   "source": [
    "# Convert the Year, Month, and Day columns to string\n",
    "# But, hard to check if the conversion was successful\n",
    "df['Year'] = df['Year'].astype(str)\n",
    "df['Month'] = df['Month'].astype(str)\n",
    "df['Day'] = df['Day'].astype(str)\n",
    "df"
   ]
  },
  {
   "cell_type": "code",
   "execution_count": null,
   "id": "a85a5515",
   "metadata": {},
   "outputs": [],
   "source": [
    "# Checking the data types of the columns\n",
    "# Year, Month, and Day are strings\n",
    "df.dtypes"
   ]
  },
  {
   "cell_type": "markdown",
   "id": "c9d386fe",
   "metadata": {},
   "source": [
    "#### Create leading zeros for the Month and Day columns\n",
    "\n",
    "Leading zeros are zeros that appear at the beginning of a numerical value. For example, if you want to convert the number 1 to 01.\n",
    "\n",
    "```python\n",
    "df[`Column`] = df[`Column`].str.zfill(`The number of digits`)\n",
    "```\n",
    "\n",
    "Source: https://pandas.pydata.org/docs/reference/api/pandas.Series.str.zfill.html"
   ]
  },
  {
   "cell_type": "code",
   "execution_count": null,
   "id": "9839070a",
   "metadata": {},
   "outputs": [],
   "source": [
    "df['Month'].str.zfill(2)"
   ]
  },
  {
   "cell_type": "code",
   "execution_count": null,
   "id": "09cd9a05",
   "metadata": {},
   "outputs": [],
   "source": [
    "# Add the zero padding to the Month and Day columns\n",
    "df['Month'] = df['Month'].str.zfill(2)\n",
    "df['Day'] = df['Day'].str.zfill(2)\n",
    "df"
   ]
  },
  {
   "cell_type": "code",
   "execution_count": null,
   "id": "8a6e52b3",
   "metadata": {},
   "outputs": [],
   "source": [
    "# Now, you can add the columns together to create a new column\n",
    "# The `Date` column shows the correct date\n",
    "df['Date'] = df['Year'] + df['Month'] + df['Day']\n",
    "df"
   ]
  },
  {
   "cell_type": "markdown",
   "id": "896a2297",
   "metadata": {},
   "source": [
    "### 3.2. Calculate the average temperature per each Serial_Num and Date"
   ]
  },
  {
   "cell_type": "code",
   "execution_count": null,
   "id": "93af62e5",
   "metadata": {},
   "outputs": [],
   "source": [
    "# Select the rows with Serial_Num 'OC3CL200195' and Date '20230102'\n",
    "# It is important to use parentheses to separate the conditions \n",
    "df.loc[(df['Serial_Num'] == 'OC3CL200195') & \n",
    "       (df['Date'] == '20230102')\n",
    "       ]"
   ]
  },
  {
   "cell_type": "code",
   "execution_count": null,
   "id": "b7d25c02",
   "metadata": {},
   "outputs": [],
   "source": [
    "# You can further select a specific column(s) from the filtered DataFrame\n",
    "df.loc[(df['Serial_Num'] == 'OC3CL200195') & (df['Date'] == '20230102'), 'Temp']"
   ]
  },
  {
   "cell_type": "markdown",
   "id": "37dd07f4",
   "metadata": {},
   "source": [
    "If you want to use `or` condition, you can use the `|` operator. \n",
    "\n",
    "```python\n",
    "df.loc[(df[`Column1`] == `Value1`) | (df[`Column2`] == `Value2`)]\n",
    "```"
   ]
  },
  {
   "cell_type": "code",
   "execution_count": null,
   "id": "da3b60c6",
   "metadata": {},
   "outputs": [],
   "source": [
    "# Calculate the average temperature\n",
    "# You can also calculate the following statistics: .mean(), .median(), .std(), .min(), .max(), .sum()\n",
    "df.loc[(df['Serial_Num'] == 'OC3CL200195') & (df['Date'] == '20230102'), 'Temp'].mean()"
   ]
  },
  {
   "cell_type": "markdown",
   "id": "47604087",
   "metadata": {},
   "source": [
    "### 3.3. Create a new DataFrame that contains the average temperature per day for each device(`Serial_Num`).\n",
    "\n",
    "#### Covered functions\n",
    "* <a href=https://pandas.pydata.org/docs/reference/api/pandas.DataFrame.html> pd.DataFrame() </a><br>\n",
    "* <a href=https://pandas.pydata.org/docs/reference/api/pandas.DataFrame.iterrows.html> DataFrame.iterrows() </a><br>"
   ]
  },
  {
   "cell_type": "code",
   "execution_count": null,
   "id": "0a496004",
   "metadata": {},
   "outputs": [],
   "source": [
    "# Create a new DataFrame with the unique Serial_Num as the index and the unique Date as the columns\n",
    "daily_temp = pd.DataFrame(index=df['Serial_Num'].unique(), columns=df['Date'].unique())\n",
    "daily_temp"
   ]
  },
  {
   "cell_type": "code",
   "execution_count": null,
   "id": "0f6ae6bc",
   "metadata": {},
   "outputs": [],
   "source": [
    "# You can iterate over the rows of the DataFrame using the .iterrows() method\n",
    "# The .iterrows() method returns an iterator that yields pairs of (index, row) for each row in the DataFrame\n",
    "for idx, row in daily_temp.head(3).iterrows():\n",
    "    print(f\"Serial Number: {idx}\")\n",
    "    print(row)\n",
    "    print(\"-----------------\")"
   ]
  },
  {
   "cell_type": "code",
   "execution_count": null,
   "id": "d68caf4a",
   "metadata": {},
   "outputs": [],
   "source": [
    "row.index"
   ]
  },
  {
   "cell_type": "code",
   "execution_count": null,
   "id": "c6b81371",
   "metadata": {},
   "outputs": [],
   "source": [
    "# Iterate through the new DataFrame (empty)\n",
    "for idx, row in daily_temp.iterrows():\n",
    "\n",
    "    # Iterate through the columns of the row\n",
    "    for date in row.index:\n",
    "\n",
    "        # Filter the original DataFrame to get the temperature values\n",
    "        temp = df.loc[(df['Serial_Num'] == idx) & \n",
    "                      (df['Date'] == date), 'Temp'\n",
    "                      ]\n",
    "        \n",
    "        # Calculate the average temperature per Serial_Num and Date\n",
    "        daily_temp.loc[idx, date] = temp.mean()\n",
    "\n",
    "        # If you don't like the long decimals, you can round the values\n",
    "        # daily_temp.loc[idx, date] = round(temp.mean(), 3)\n",
    "\n",
    "daily_temp"
   ]
  },
  {
   "cell_type": "markdown",
   "id": "33916b3a",
   "metadata": {},
   "source": [
    "## 4. Alternative way of the Mockup Analysis\n",
    "\n",
    "By using the `groupby` function, we can simplify the process of calculating the average temperature per each Serial_Num and Date.\n",
    "\n",
    "#### Covered functions\n",
    "* <a href=https://pandas.pydata.org/docs/reference/api/pandas.DataFrame.groupby.html?> df.groupby() </a>\n",
    "* <a href=https://pandas.pydata.org/docs/reference/api/pandas.pivot_table.html> pd.pivot_table() </a>\n",
    "* <a href=https://pandas.pydata.org/docs/reference/api/pandas.DataFrame.melt.html#pandas.DataFrame.melt> DataFrame.melt() </a>"
   ]
  },
  {
   "cell_type": "code",
   "execution_count": null,
   "id": "898ee131",
   "metadata": {},
   "outputs": [],
   "source": [
    "# You can also use the .groupby() method to group the data by Serial_Num and Date\n",
    "df_gb_1 = df.groupby(['Serial_Num', 'Date'])['Temp'].mean()\n",
    "df_gb_1"
   ]
  },
  {
   "cell_type": "code",
   "execution_count": null,
   "id": "8f1cbe6c",
   "metadata": {},
   "outputs": [],
   "source": [
    "type(df_gb_1)"
   ]
  },
  {
   "cell_type": "code",
   "execution_count": null,
   "id": "dd17cc5c",
   "metadata": {},
   "outputs": [],
   "source": [
    "# You can convert the Series to a DataFrame using the .reset_index() method\n",
    "df_gb_1.reset_index()"
   ]
  },
  {
   "cell_type": "code",
   "execution_count": null,
   "id": "b9aeab10",
   "metadata": {},
   "outputs": [],
   "source": [
    "# If there are multiple columns, you can use the .agg() method to aggregate the data\n",
    "df_gb_2 = df.groupby(['Serial_Num', 'Date']).agg({'Temp': 'mean'})\n",
    "df_gb_2"
   ]
  },
  {
   "cell_type": "code",
   "execution_count": null,
   "id": "beccdaa7",
   "metadata": {},
   "outputs": [],
   "source": [
    "type(df_gb_2)"
   ]
  },
  {
   "cell_type": "code",
   "execution_count": null,
   "id": "e55ea4e4",
   "metadata": {},
   "outputs": [],
   "source": [
    "df_gb_2.reset_index()"
   ]
  },
  {
   "cell_type": "code",
   "execution_count": null,
   "id": "21bc923a",
   "metadata": {},
   "outputs": [],
   "source": [
    "# You can use .pivot_table() to convert a long form to a wide form\n",
    "pivot_test = df.groupby(['Serial_Num', 'Date']).agg({'Temp': 'mean'}).reset_index()\n",
    "\n",
    "pivot_test = pd.pivot_table(pivot_test, \n",
    "                            values='Temp', \n",
    "                            index='Serial_Num', \n",
    "                            columns='Date') \n",
    "pivot_test"
   ]
  },
  {
   "cell_type": "code",
   "execution_count": null,
   "id": "0419830c",
   "metadata": {},
   "outputs": [],
   "source": [
    "melt_test = daily_temp.copy()\n",
    "melt_test = melt_test.reset_index()\n",
    "melt_test"
   ]
  },
  {
   "cell_type": "code",
   "execution_count": null,
   "id": "c783326e",
   "metadata": {},
   "outputs": [],
   "source": [
    "# df.melt() is used to transform or reshape data. It is used to change the DataFrame format from wide to long.\n",
    "melt_result = melt_test.melt(id_vars='index', var_name='Date', value_name='Temp')\n",
    "melt_result"
   ]
  },
  {
   "cell_type": "code",
   "execution_count": null,
   "id": "a35941f7",
   "metadata": {},
   "outputs": [],
   "source": [
    "# Show results of daily temperature per Serial_Num\n",
    "\n",
    "import matplotlib.pyplot as plt\n",
    "\n",
    "fig, ax = plt.subplots(figsize=(12, 5))\n",
    "\n",
    "daily_temp.transpose().plot(ax=ax)\n",
    "ax.legend(bbox_to_anchor=(1, 1.05), fontsize='small')\n",
    "plt.tight_layout()\n",
    "plt.show()"
   ]
  },
  {
   "cell_type": "markdown",
   "id": "00bbea2e",
   "metadata": {},
   "source": [
    "# Done"
   ]
  }
 ],
 "metadata": {
  "kernelspec": {
   "display_name": "GIS_Project",
   "language": "python",
   "name": "python3"
  },
  "language_info": {
   "codemirror_mode": {
    "name": "ipython",
    "version": 3
   },
   "file_extension": ".py",
   "mimetype": "text/x-python",
   "name": "python",
   "nbconvert_exporter": "python",
   "pygments_lexer": "ipython3",
   "version": "3.13.1"
  }
 },
 "nbformat": 4,
 "nbformat_minor": 5
}
