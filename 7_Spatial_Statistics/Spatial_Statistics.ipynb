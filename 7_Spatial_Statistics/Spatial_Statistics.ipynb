{
 "cells": [
  {
   "cell_type": "code",
   "execution_count": null,
   "id": "a2906b80",
   "metadata": {},
   "outputs": [],
   "source": [
    "# conda install --channel conda-forge esda"
   ]
  },
  {
   "cell_type": "markdown",
   "id": "63f336ad",
   "metadata": {},
   "source": [
    "# Spatial Statistics: Spatial Autocorrelation\n",
    "\n",
    "## Overview\n",
    "In this lecture, we will learn spatial autocorrelation with two well-known methods: Moran's I and Local Indicator of Spatial Association (LISA). \n",
    "* **Global Moran's I** demonstrates how geographical phenomena are correlated over space, meaning whether closer things is more related than distant things. The method provides an index with the range -1 to 1; namely, -1 is a strong negative spatial autocorrelation and 1 is a strong positive spatial autocorrelation. \n",
    "* While Global Moran's I only provides one index to demonstrate spatial autocorrelation, **Local Indicator of Spatial Association (LISA)**, as known as Local Moran's I explains where high (i.e., HH Cluster) and low (LL Cluster) values are clustered. \n",
    "\n",
    "This document uses the following three new packages:\n",
    "* `PySAL` is the overarching project and it is a name of a Python library for spatial data science. \n",
    "* `libpysal` provides foundational algorithms and data structures that support the rest of the `PySAL` library. \n",
    "* `esda` provides exploratory spatial data analysis methods, including Moran's I and LISA, under the umbrella of `PySAL`.\n",
    "* `tqdm` is a library for progress bars and is used to show the progress of the loop in the code."
   ]
  },
  {
   "cell_type": "code",
   "execution_count": null,
   "id": "9361088c",
   "metadata": {},
   "outputs": [],
   "source": [
    "import esda\n",
    "import libpysal\n",
    "import geopandas as gpd\n",
    "import matplotlib.pyplot as plt\n",
    "import numpy as np\n",
    "from tqdm import tqdm\n",
    "# warnings.filterwarnings('ignore')"
   ]
  },
  {
   "cell_type": "markdown",
   "id": "9f4378b3",
   "metadata": {},
   "source": [
    "## Spatial Autocorrelation: Global Moran's I\n",
    "\n",
    "Spatial autocorrelation investigates how the geographical phenomena **are spatially related** to each other based on Tober's First Law of Geography; meaning that everything is usually related to all else but those which are near to each other are more related when compared to those that are further away. There are several indices that indicate the degree of spatial autocorrelation (e.g., Geary's C or Getis-Ord Gi*). Here, we study Moran's I, which is the most well-known method. \n",
    "\n",
    "$$I = \\frac{n}{W} \\frac{\\sum_{i=1}^{n}\\sum_{j=1}^{n} w_{ij}(x_i - \\overline{x})(x_j - \\overline{x})}{\\sum_{i=1}^{n}(x_i - \\overline{x})^2}$$\n",
    "\n",
    "where <br>\n",
    "$n$ - the number of objects in space, <br>\n",
    "$W$ - the sum of spatial weights, <br>\n",
    "$w$ - a spatial weight for a pair of objects, <br>\n",
    "$x_i, x_j$ - values of an attribute for objects i and j, <br>\n",
    "$\\overline{x}$ - a mean value of an attribute. <br>\n",
    "\n",
    "\n"
   ]
  },
  {
   "cell_type": "code",
   "execution_count": null,
   "id": "5cd02fce",
   "metadata": {},
   "outputs": [],
   "source": [
    "gdf = gpd.read_file('./data/sgg_income_ex_ratio.geojson')\n",
    "gdf"
   ]
  },
  {
   "cell_type": "code",
   "execution_count": null,
   "id": "ba7754d3",
   "metadata": {},
   "outputs": [],
   "source": [
    "# Geographical distribution of Extinction Ratio data\n",
    "fig, ax = plt.subplots(1, 1, figsize=(10, 15))\n",
    "\n",
    "gdf.plot(column='ex_ratio', scheme='NaturalBreaks', cmap='Blues', legend=True, ax=ax)"
   ]
  },
  {
   "cell_type": "markdown",
   "id": "18e93877",
   "metadata": {},
   "source": [
    "### Backbone of calculating Moran's I with Python\n",
    "\n",
    "```python\n",
    "import libpysal\n",
    "import esda\n",
    "\n",
    "## 1. Calculate weights (w) of geographical units\n",
    "w = libpysal.weights.Queen() # based on Queen's case contiguity\n",
    "w = libpysal.weights.DistanceBand() # based on a fixed distance\n",
    "\n",
    "## 2. Define value to calculate spatial autocorrelation\n",
    "y = df['Variable']\n",
    "\n",
    "## 3. Calculate the final index\n",
    "mi = esda.moran.Moran(y, w_queen)\n",
    "print(mi.I) # Moran's I value\n",
    "print(mi.p_norm) # p-value of the current Moran's I \n",
    "print(mi.z_norm) # Z Score of the current Moran's I \n",
    "\n",
    "```"
   ]
  },
  {
   "cell_type": "markdown",
   "id": "cc3b4177",
   "metadata": {},
   "source": [
    "### Compute weigts of a geographical unit over the other geographical units\n",
    "#### Based on contiguity: Queen's case\n",
    "\n",
    "For more information, visit <a href=https://pysal.org/libpysal/generated/libpysal.weights.Queen.html>libpysal.weights.Queen</a>."
   ]
  },
  {
   "cell_type": "code",
   "execution_count": null,
   "id": "e236ed18",
   "metadata": {},
   "outputs": [],
   "source": [
    "xmin, ymin, xmax, ymax = gdf.loc[gdf['ADM_NM'].str.startswith('서울')].union_all().bounds"
   ]
  },
  {
   "cell_type": "code",
   "execution_count": null,
   "id": "35947571",
   "metadata": {},
   "outputs": [],
   "source": [
    "w_queen = libpysal.weights.Queen.from_dataframe(gdf, use_index=True)\n",
    "\n",
    "fig, ax = plt.subplots(1, 1, figsize=(10,10))\n",
    "# Contiguity: Queen's case\n",
    "gdf.boundary.plot(ax=ax, ls=':', color='black')\n",
    "w_queen.plot(gdf, ax=ax, \n",
    "             edge_kws=dict(color='r', linestyle=':', linewidth=1),\n",
    "             node_kws=dict(marker=''))\n",
    "ax.set_xlim(xmin, xmax)\n",
    "ax.set_ylim(ymin, ymax)\n",
    "plt.show()"
   ]
  },
  {
   "cell_type": "markdown",
   "id": "e40cebd2",
   "metadata": {},
   "source": [
    "You can use `.neighbors` attribute to check the neighbor of each geographical unit and `.weights` attribute to check their weights. For contiguity, weights are automatically assigned to equal values. "
   ]
  },
  {
   "cell_type": "code",
   "execution_count": null,
   "id": "216bd119",
   "metadata": {},
   "outputs": [],
   "source": [
    "w_queen.weights"
   ]
  },
  {
   "cell_type": "code",
   "execution_count": null,
   "id": "28985c7e",
   "metadata": {},
   "outputs": [],
   "source": [
    "w_queen.neighbors"
   ]
  },
  {
   "cell_type": "code",
   "execution_count": null,
   "id": "ad572d89",
   "metadata": {},
   "outputs": [],
   "source": [
    "# Index of 강남구 is 124\n",
    "gdf.loc[gdf['ADM_NM'].str.contains('강남구')]"
   ]
  },
  {
   "cell_type": "code",
   "execution_count": null,
   "id": "e6ee3fc7",
   "metadata": {},
   "outputs": [],
   "source": [
    "# Neighbors of 강남구\n",
    "w_queen.neighbors[124]"
   ]
  },
  {
   "cell_type": "code",
   "execution_count": null,
   "id": "a4db2348",
   "metadata": {},
   "outputs": [],
   "source": [
    "# Neighbors of 강남구\n",
    "gdf.loc[w_queen.neighbors[124]]"
   ]
  },
  {
   "cell_type": "code",
   "execution_count": null,
   "id": "c9e51ad1",
   "metadata": {},
   "outputs": [],
   "source": [
    "temp_geom = gdf.loc[gdf['ADM_NM'].str.contains('강남구'), 'geometry'].values[0]\n",
    "\n",
    "gdf.loc[gdf['geometry'].intersects(temp_geom), 'ADM_NM'].values"
   ]
  },
  {
   "cell_type": "code",
   "execution_count": null,
   "id": "a5cf8f4d",
   "metadata": {},
   "outputs": [],
   "source": [
    "# Weights of 강남구's neighbors\n",
    "w_queen.weights[124]"
   ]
  },
  {
   "cell_type": "markdown",
   "id": "7f96e4ca",
   "metadata": {},
   "source": [
    "#### Calculate Moran's I\n",
    "\n",
    "To calculate Moran's I, you can simply enter the attribute of interest (i.e., `ex_ratio`) and weight matrix (i.e., `w_queen`) to <a href=https://pysal.org/esda/generated/esda.Moran.html>esda.moran.Moran()</a>."
   ]
  },
  {
   "cell_type": "code",
   "execution_count": null,
   "id": "46998177",
   "metadata": {},
   "outputs": [],
   "source": [
    "y = gdf['ex_ratio']\n",
    "\n",
    "mi_queen = esda.moran.Moran(y, w_queen)\n",
    "print(f\"Moran's I with Queen's case contiguity: {round(mi_queen.I, 3)}, p-value: {round(mi_queen.p_norm, 3)}\")"
   ]
  },
  {
   "cell_type": "markdown",
   "id": "a3d4ad4b",
   "metadata": {},
   "source": [
    "### Use of Fixed distance to calculate neighbors\n",
    "\n",
    "The drawback of contiguity based neighbors is that they do not consider the distance decay for calculating weights. Here, we examine a way to incorporate a distance decay functions. \n",
    "\n",
    "The distance decay function in this package is as shown below. Here, alpha value should be negative. If the alpha value decreases, the distance decay becomes strong.\n",
    "\n",
    "$$w_{ij} = d_{ij}^\\alpha$$"
   ]
  },
  {
   "cell_type": "code",
   "execution_count": null,
   "id": "d3ac149a",
   "metadata": {},
   "outputs": [],
   "source": [
    "# The effect of the power on distance decay\n",
    "x = np.linspace(1,100,100)\n",
    "y_05 = [val**-0.05 for val in x]\n",
    "y_1 = [val**-0.1 for val in x]\n",
    "y_15 = [val**-0.15 for val in x]\n",
    "\n",
    "plt.plot(x, y_05, label='alpha = -0.05')\n",
    "plt.plot(x, y_1, label='alpha = -0.1')\n",
    "plt.plot(x, y_15, label='alpha = -0.15')\n",
    "\n",
    "plt.legend(fontsize=15)\n",
    "plt.show()"
   ]
  },
  {
   "cell_type": "code",
   "execution_count": null,
   "id": "7ffd476b",
   "metadata": {},
   "outputs": [],
   "source": [
    "# The distance unit is in meters\n",
    "gdf.crs"
   ]
  },
  {
   "cell_type": "code",
   "execution_count": null,
   "id": "f6917df4",
   "metadata": {
    "scrolled": true
   },
   "outputs": [],
   "source": [
    "threshold_dist = 50000 # distance band (50km)\n",
    "alpha_val = -0.1 # the power of distance decay function, should be negative value. \n",
    "\n",
    "# Obtain coordinates of each geographical units\n",
    "coords = gdf.apply(lambda x:x.geometry.centroid.coords[0], axis=1).values\n",
    "\n",
    "# Calculate weights of each geographical units based on distance decay method. \n",
    "w = libpysal.weights.DistanceBand(data=list(coords), # coordinates of each geographical units\n",
    "                                  threshold=threshold_dist, # distance band\n",
    "                                  binary=False, # whether distance decay is employed or not. \n",
    "                                  alpha=alpha_val, # distance decay parameter for weight (default -1.0)\n",
    "                                #   silence_warnings=True\n",
    "                                 )\n",
    "print(w.weights[124])\n",
    "print(w.neighbors[124])"
   ]
  },
  {
   "cell_type": "code",
   "execution_count": null,
   "id": "8e678f89",
   "metadata": {},
   "outputs": [],
   "source": [
    "len(w.neighbors[124]) # number of neighbors|"
   ]
  },
  {
   "cell_type": "code",
   "execution_count": null,
   "id": "8536bb2e",
   "metadata": {},
   "outputs": [],
   "source": [
    "# Distribution of weights\n",
    "plt.hist(w.weights[124], bins=20)\n",
    "plt.show()"
   ]
  },
  {
   "cell_type": "code",
   "execution_count": null,
   "id": "194814fd",
   "metadata": {},
   "outputs": [],
   "source": [
    "# The average number of neighbors\n",
    "sum([len(n) for n in w.neighbors.values()]) / len(w.neighbors)"
   ]
  },
  {
   "cell_type": "code",
   "execution_count": null,
   "id": "15cb85bf",
   "metadata": {},
   "outputs": [],
   "source": [
    "# Example of 강릉\n",
    "gdf.head(3)"
   ]
  },
  {
   "cell_type": "code",
   "execution_count": null,
   "id": "027df6a4",
   "metadata": {},
   "outputs": [],
   "source": [
    "w.neighbors[0]"
   ]
  },
  {
   "cell_type": "code",
   "execution_count": null,
   "id": "f34ceb0c",
   "metadata": {},
   "outputs": [],
   "source": [
    "# The neighbors of 강릉\n",
    "gdf.loc[[2, 6, 10, 14]]"
   ]
  },
  {
   "cell_type": "code",
   "execution_count": null,
   "id": "f49c46b7",
   "metadata": {},
   "outputs": [],
   "source": [
    "# Distance between 강릉 and its neighbors\n",
    "gdf.loc[0,'geometry'].centroid.distance(gdf.loc[[2, 6, 10, 14]].centroid)"
   ]
  },
  {
   "cell_type": "code",
   "execution_count": null,
   "id": "dcc25ec8",
   "metadata": {},
   "outputs": [],
   "source": [
    "# Calculate Moran's I\n",
    "mi = esda.moran.Moran(y, w)\n",
    "\n",
    "# Print results\n",
    "print(mi.I) # Moran's I value\n",
    "print(mi.p_norm) # p-value of the current Moran's I \n",
    "print(mi.z_norm) # Z Score of the current Moran's I \n",
    "\n",
    "print(f\"Moran's I with {threshold_dist} meter radius: {round(mi.I, 3)}, p-value: {round(mi.p_norm, 3)}, z-score: {round(mi.z_norm, 3)}\")\n",
    "print(f\"Moran's I with Queen's case contiguity: {round(mi_queen.I, 3)}, p-value: {round(mi_queen.p_norm, 3)}, z-score: {round(mi_queen.z_norm, 3)}\")"
   ]
  },
  {
   "cell_type": "code",
   "execution_count": null,
   "id": "77daf535",
   "metadata": {},
   "outputs": [],
   "source": [
    "# Plot relationship between geographical units with a given distance band\n",
    "fig, ax = plt.subplots(figsize=(10, 10))\n",
    "gdf.boundary.plot(ax=ax, ls=':', color='black')\n",
    "w.plot(gdf, ax=ax, \n",
    "       edge_kws=dict(color='blue', linestyle=':', linewidth=1),\n",
    "       node_kws=dict(marker=''))\n",
    "\n",
    "plt.show()"
   ]
  },
  {
   "cell_type": "markdown",
   "id": "0eff3eda",
   "metadata": {},
   "source": [
    "## Local Indicators of Spatial Association (LISA): Local Moran's I\n",
    "\n",
    "Moran's I is a characteristic of the complete spatial pattern and does not provide an indication of the location of the clusters. The concept of a local indicator of spatial association, or LISA was suggested in Anselin (1995) to remedie this situation. A LISA is seen as having two important characteristics. \n",
    "1. It provides a statistic for each location with an assessment of significance. \n",
    "2. It establishes a proportional relationship between the sum of the local statistics and a corresponding global statistic.\n",
    "\n",
    "Source: https://geodacenter.github.io/workbook/6a_local_auto/lab6a.html <br>\n",
    "Anselin, Luc. 1995. “Local Indicators of Spatial Association — LISA.” Geographical Analysis 27: 93–115."
   ]
  },
  {
   "cell_type": "markdown",
   "id": "a1191a0e",
   "metadata": {},
   "source": [
    "<a href=https://pysal.org/esda/generated/esda.Moran_Local.html>esda.moran.Moran_Local</a> will help you calculate LISA. It returns two important information in `.q` attribute and `p_sim`. `.q` provides the indicator of each classification of LISA (1: 'HH', 2: 'LH', 3: 'LL', 4: 'HL'), and `p_sim` provide the p-value of each classification. "
   ]
  },
  {
   "cell_type": "code",
   "execution_count": null,
   "id": "6893c6c1",
   "metadata": {
    "scrolled": true
   },
   "outputs": [],
   "source": [
    "# https://pysal.org/esda/generated/esda.Moran_Local.html\n",
    "y = gdf['ex_ratio']  # Focused Variable\n",
    "w_queen = libpysal.weights.Queen.from_dataframe(gdf, use_index=True) # Contiguity weight\n",
    "\n",
    "lm_queen = esda.moran.Moran_Local(y, w_queen, seed=17)\n",
    "print(lm_queen.q) # Classification of LISA\n",
    "print(lm_queen.p_sim) # Significance of each classification"
   ]
  },
  {
   "cell_type": "code",
   "execution_count": null,
   "id": "3d63e4f2",
   "metadata": {},
   "outputs": [],
   "source": [
    "lm_dict = {1: 'HH', 2: 'LH', 3: 'LL', 4: 'HL'}\n",
    "\n",
    "lisa_queen = []\n",
    "for idx in range(len(lm_queen.q)):\n",
    "    if lm_queen.p_sim[idx] < 0.05:\n",
    "        lisa_queen.append(lm_dict[lm_queen.q[idx]])\n",
    "    else:\n",
    "        lisa_queen.append('Not_Sig')\n",
    "        \n",
    "gdf['lisa_queen'] = lisa_queen\n",
    "gdf"
   ]
  },
  {
   "cell_type": "code",
   "execution_count": null,
   "id": "6ed10f5e",
   "metadata": {},
   "outputs": [],
   "source": [
    "lisa_color = {'HH': 'red', 'LL': 'blue', 'HL': 'orange', 'LH': 'skyblue', 'Not_Sig': 'lightgrey'}\n",
    "\n",
    "fig, ax = plt.subplots(figsize=(10, 10))\n",
    "\n",
    "for key in lisa_color.keys():\n",
    "    gdf.loc[gdf['lisa_queen'] == key].plot(ax=ax, color=lisa_color[key], legend=True)\n",
    "\n",
    "plt.show()"
   ]
  },
  {
   "cell_type": "markdown",
   "id": "b419ba68",
   "metadata": {},
   "source": [
    "---\n",
    "### *Exercise*\n",
    "\n",
    "Let's investigate how the local indicators of spatial association (LISA) varies with different weight (i.e., the fixed bandwidth of 50000). Utilize the codes mentioned above and create a map of LISA. The following describes the steps you need to do.\n",
    "\n",
    "* Lisa with Fixed Band Width (50000 meters; 50 km)\n",
    "1. Extract points coordinates from the GeoDataFrame.\n",
    "2. Calculate weight with `libpysal.weights.DistanceBand()` method. \n",
    "3. Run `esda.moran.Moran_Local()` to obtain LISA with `.q` and `.p_sim` attribute. \n",
    "4. Select label (i.e., `.q`) with a certain significance in `.p_sim` attribute.\n",
    "5. Display the result\n",
    "\n",
    "Check out the following websites for more information.\n",
    "* https://pysal.org/esda/generated/esda.Moran_Local.html\n",
    "* https://pysal.org/libpysal/generated/libpysal.weights.Queen.html\n",
    "* https://pysal.org/libpysal/generated/libpysal.weights.DistanceBand.html\n"
   ]
  },
  {
   "cell_type": "code",
   "execution_count": null,
   "id": "097af166",
   "metadata": {},
   "outputs": [],
   "source": [
    "# Your code here \n",
    "\n",
    "gdf\n"
   ]
  },
  {
   "cell_type": "code",
   "execution_count": null,
   "id": "6696bcaa",
   "metadata": {},
   "outputs": [],
   "source": [
    "# Display your results here\n",
    "\n",
    "lisa_color = {'HH': 'red', 'LL': 'blue', 'HL': 'orange', 'LH': 'skyblue', 'Not_Sig': 'lightgrey'}\n",
    "\n",
    "fig, axes = plt.subplots(1,2, figsize=(15, 8))\n",
    "\n",
    "for key in lisa_color.keys():\n",
    "    gdf.loc[gdf['lisa_dist'] == key].plot(ax=axes[0], color=lisa_color[key], legend=True)\n",
    "    gdf.loc[gdf['lisa_queen'] == key].plot(ax=axes[1], color=lisa_color[key], legend=True)\n",
    "\n",
    "axes[1].set_title(\"Queen's case\", fontsize=15)\n",
    "axes[0].set_title(\"Fixed bandwidth\", fontsize=15)\n",
    "\n",
    "for ax in axes:\n",
    "    ax.get_xaxis().set_visible(False)  # Remove ticks and labels\n",
    "    ax.get_yaxis().set_visible(False)  # Remove ticks and labels\n",
    "\n",
    "plt.tight_layout()\n",
    "\n",
    "plt.show()"
   ]
  },
  {
   "cell_type": "markdown",
   "id": "31a5a394",
   "metadata": {},
   "source": [
    "## Challenge: manually write codes for Moran's I\n",
    "\n",
    "Here we want to challenge ourselves to write codes for calculating Moran's I. As mentioned earlier, the equation looks like the one below. \n",
    "\n",
    "$$I = \\frac{n}{W} \\frac{\\sum_{i=1}^{n}\\sum_{j=1}^{n} w_{ij}(x_i - \\overline{x})(x_j - \\overline{x})}{\\sum_{i=1}^{n}(x_i - \\overline{x})^2}$$\n",
    "\n",
    "where <br>\n",
    "$n$ - the number of objects in space, <br>\n",
    "$W$ - the sum of spatial weights, <br>\n",
    "$w$ - a spatial weight for a pair of objects, <br>\n",
    "$x_i, x_j$ - values of an attribute for objects i and j, <br>\n",
    "$\\overline{x}$ - a mean value of an attribute. <br>\n",
    "\n",
    "It may sound very challenging, but you can achieve it by following the steps below. \n",
    "1. $\\overline{x}$: Calculate the mean of the variable interested (Extinction Ratio in our case). <br><br>\n",
    "2. $(x_i - \\overline{x})$: Calculate for each object a difference between single value and a mean. <br><br>\n",
    "3. ${\\sum_{i=1}^{n}(x_i - \\overline{x})^2}$: Square each difference calculated at the previous step and to get a sum of these squares. <br><br>\n",
    "4. $w_{ij} = d_{ij}^\\alpha$: Calculate the distance decay of the pair locations based on the power of -1. <br><br>\n",
    "5. $W = \\sum_{i=1}^{n}\\sum_{j=1}^{n} w_{ij}$: Sum the spatial weights. <br><br>\n",
    "6. $\\frac{n}{W}$: Simply divide the number of objects ($n$) by the sum of spatial weights ($W$). <br><br>\n",
    "7. $\\sum_{i=1}^{n}\\sum_{j=1}^{n} w_{ij}(x_i - \\overline{x})(x_j - \\overline{x})$: Finalize the numerator <br><br>\n",
    "8. Combine all functions together. \n"
   ]
  },
  {
   "cell_type": "markdown",
   "id": "047d0423",
   "metadata": {},
   "source": [
    "### Step 1 — 3"
   ]
  },
  {
   "cell_type": "code",
   "execution_count": null,
   "id": "22ad6b63",
   "metadata": {},
   "outputs": [],
   "source": [
    "# Step 1\n",
    "mean_score = gdf['ex_ratio'].mean()\n",
    "print(mean_score)\n",
    "\n",
    "# Step 2\n",
    "print(gdf.at[0, 'ex_ratio'] - mean_score)\n",
    "\n",
    "# Step 3\n",
    "\n",
    "square_diff = 0\n",
    "for i in range(gdf.shape[0]):\n",
    "    temp_value = (gdf.at[i, 'ex_ratio'] - mean_score) ** 2\n",
    "    square_diff += temp_value\n",
    "    \n",
    "print(square_diff)"
   ]
  },
  {
   "cell_type": "markdown",
   "id": "4bf89237",
   "metadata": {},
   "source": [
    "### Step 4 | $w_{ij} = d_{ij}^\\alpha$\n",
    "\n",
    "Let's calculate the distance decay of each pair of locations i and j, if the distance between two places is less than a threshold bandwidth. Suppose we want to formulate the data structure as shown below. \n",
    "\n",
    "```python\n",
    "{i_1: {j_1: distance_decay_1,\n",
    "       j_2: distance_decay_2,\n",
    "       j_3: distance_decay_3,\n",
    "       ...\n",
    "     }\n",
    " ...\n",
    " i_87: {j_1: distance_decay_1,\n",
    "        j_2: distance_decay_2,\n",
    "        j_3: distance_decay_3,\n",
    "        ...\n",
    "       }\n",
    "}\n",
    "\n",
    "```"
   ]
  },
  {
   "cell_type": "code",
   "execution_count": null,
   "id": "585fcf7d",
   "metadata": {
    "scrolled": true
   },
   "outputs": [],
   "source": [
    "_w = {}\n",
    "threshold_dist = 50000\n",
    "alpha = -0.1\n",
    "\n",
    "for i in tqdm(range(gdf.shape[0])):\n",
    "    temp_dict = {}\n",
    "    for j in range(gdf.shape[0]):\n",
    "        if i != j:\n",
    "            temp_dist = gdf.at[i, 'geometry'].centroid.distance(gdf.at[j, 'geometry'].centroid)\n",
    "            if temp_dist <= threshold_dist:\n",
    "                temp_dict[j] = temp_dist ** alpha\n",
    "                \n",
    "    _w[i] = temp_dict\n",
    "    \n",
    "_w"
   ]
  },
  {
   "cell_type": "code",
   "execution_count": null,
   "id": "7be4999c",
   "metadata": {},
   "outputs": [],
   "source": [
    "# Validation\n",
    "coords = gdf.apply(lambda x:x.geometry.centroid.coords[0], axis=1).values\n",
    "\n",
    "# Calculate weights of each geographical units based on distance decay method. \n",
    "w = libpysal.weights.DistanceBand(data=list(coords), # coordinates of each geographical units\n",
    "                                  threshold=threshold_dist, # threshold bandwidth\n",
    "                                  binary=False, # whether distance decay is employed or not. \n",
    "                                  alpha=alpha, # distance decay parameter for weight (default -1.0)\n",
    "                                #   silence_warnings=True\n",
    "                                 )\n",
    "print(w.neighbors[0])\n",
    "print(w.weights[0])\n",
    "\n",
    "print(\"-------\")\n",
    "print(dict(zip(w.neighbors[0], w.weights[0])))\n",
    "print(_w[0])"
   ]
  },
  {
   "cell_type": "code",
   "execution_count": null,
   "id": "89451978",
   "metadata": {},
   "outputs": [],
   "source": [
    "from copy import deepcopy"
   ]
  },
  {
   "cell_type": "code",
   "execution_count": null,
   "id": "823f74ab",
   "metadata": {
    "scrolled": true
   },
   "outputs": [],
   "source": [
    "# Calculate the portion of each distance decay value over the entire distance decay value\n",
    "__w = deepcopy(_w)\n",
    "\n",
    "for i in tqdm(_w.keys()):\n",
    "    for j in _w[i].keys():\n",
    "        temp_sum = sum(list(_w[i].values()))\n",
    "        __w[i][j] = _w[i][j] / temp_sum\n",
    "#         print(i, j, w_[i][j], sum(w_[i].values()), w__[i][j])"
   ]
  },
  {
   "cell_type": "code",
   "execution_count": null,
   "id": "032932fb",
   "metadata": {},
   "outputs": [],
   "source": [
    "print(_w[0])\n",
    "print(\"-------\")\n",
    "print(sum(_w[0].values()))\n",
    "print(\"-------\")\n",
    "print(__w[0])\n",
    "print(\"-------\")\n",
    "print(sum(__w[0].values()))"
   ]
  },
  {
   "cell_type": "code",
   "execution_count": null,
   "id": "5997c095",
   "metadata": {},
   "outputs": [],
   "source": [
    "# Reassign the standardized weights of distance decay\n",
    "_w = __w"
   ]
  },
  {
   "cell_type": "markdown",
   "id": "168ca042",
   "metadata": {},
   "source": [
    "### Step 5 | $W = \\sum_{i=1}^{n}\\sum_{j=1}^{n} w_{ij}$"
   ]
  },
  {
   "cell_type": "code",
   "execution_count": null,
   "id": "a10262c5",
   "metadata": {},
   "outputs": [],
   "source": [
    "W = 0\n",
    "for i in range(gdf.shape[0]):\n",
    "    for j in _w[i].keys():\n",
    "        # print(i, j, _w[i][j])\n",
    "        W += _w[i][j]\n",
    "        \n",
    "print(W)"
   ]
  },
  {
   "cell_type": "markdown",
   "id": "859379ca",
   "metadata": {},
   "source": [
    "### Step 6 | $\\frac{n}{W}$"
   ]
  },
  {
   "cell_type": "code",
   "execution_count": null,
   "id": "2d6b140d",
   "metadata": {},
   "outputs": [],
   "source": [
    "n = gdf.shape[0]\n",
    "\n",
    "n/W"
   ]
  },
  {
   "cell_type": "markdown",
   "id": "b33eb92c",
   "metadata": {},
   "source": [
    "### Step 7 | $\\sum_{i=1}^{n}\\sum_{j=1}^{n} w_{ij}(x_i - \\overline{x})(x_j - \\overline{x})$"
   ]
  },
  {
   "cell_type": "code",
   "execution_count": null,
   "id": "c560cfa9",
   "metadata": {},
   "outputs": [],
   "source": [
    "numerator = 0\n",
    "\n",
    "for i in tqdm(range(gdf.shape[0])):\n",
    "    for j in _w[i].keys():\n",
    "        diff_1 = gdf.at[i, 'ex_ratio'] - mean_score\n",
    "        diff_2 = gdf.at[j, 'ex_ratio'] - mean_score\n",
    "        \n",
    "        numerator += _w[i][j] * diff_1 * diff_2\n",
    "        \n",
    "print(numerator)"
   ]
  },
  {
   "cell_type": "markdown",
   "id": "f4fba196",
   "metadata": {},
   "source": [
    "### Step 8: Finalize Moran's I \n",
    "$$I = \\frac{n}{W} \\frac{\\sum_{i=1}^{n}\\sum_{j=1}^{n} w_{ij}(x_i - \\overline{x})(x_j - \\overline{x})}{\\sum_{i=1}^{n}(x_i - \\overline{x})^2}$$"
   ]
  },
  {
   "cell_type": "code",
   "execution_count": null,
   "id": "62d3693b",
   "metadata": {},
   "outputs": [],
   "source": [
    "I = (n/W) * (numerator / square_diff)\n",
    "I"
   ]
  },
  {
   "cell_type": "code",
   "execution_count": null,
   "id": "4d40b01f",
   "metadata": {},
   "outputs": [],
   "source": [
    "# Validation\n",
    "\n",
    "# Obtain coordinates of each geographical units\n",
    "coords = gdf.apply(lambda x:x.geometry.centroid.coords[0], axis=1).values\n",
    "\n",
    "# Calculate weights of each geographical units based on distance decay method. \n",
    "w = libpysal.weights.DistanceBand(data=list(coords), # coordinates of each geographical units\n",
    "                                  threshold=threshold_dist, # threshold bandwidth\n",
    "                                  binary=False, # whether distance decay is employed or not. \n",
    "                                  alpha=alpha, # distance decay parameter for weight (default -1.0)\n",
    "                                #   silence_warnings=True\n",
    "                                 )\n",
    "# Focused variable\n",
    "y = gdf['ex_ratio']\n",
    "\n",
    "# Calculate Moran's I\n",
    "mi = esda.moran.Moran(y, w)\n",
    "\n",
    "# Print results\n",
    "print(mi.I) # Moran's I value\n",
    "print(mi.p_norm) # p-value of the current Moran's I \n",
    "print(mi.z_norm) # Z Score of the current Moran's I \n",
    "\n",
    "print(\"---------------\")\n",
    "print(f\"Moran's I with {threshold_dist} meter radius: {round(mi.I, 3)}, p-value: {round(mi.p_norm, 3)}, z-score: {round(mi.z_norm, 3)}\")\n",
    "print(\"---------------\")\n",
    "\n"
   ]
  }
 ],
 "metadata": {
  "kernelspec": {
   "display_name": "GIS_Project",
   "language": "python",
   "name": "python3"
  },
  "language_info": {
   "codemirror_mode": {
    "name": "ipython",
    "version": 3
   },
   "file_extension": ".py",
   "mimetype": "text/x-python",
   "name": "python",
   "nbconvert_exporter": "python",
   "pygments_lexer": "ipython3",
   "version": "3.13.1"
  }
 },
 "nbformat": 4,
 "nbformat_minor": 5
}
