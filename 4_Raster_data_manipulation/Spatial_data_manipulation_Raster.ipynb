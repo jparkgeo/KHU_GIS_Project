{
 "cells": [
  {
   "cell_type": "markdown",
   "id": "62dccc73",
   "metadata": {},
   "source": [
    "# Spatial Data Manipulation: Raster\n",
    "\n",
    "## Overview\n",
    "\n",
    "### Packages \n",
    "There are various packages supporting raster data manipulation. In our example, we take advantage of rasterio, numpy, and xarray. The following is the introduction of each Python package.\n",
    "\n",
    "<a href=https://rasterio.readthedocs.io/en/latest/index.html>`rasterio` </a>reads and writes gridded raster datasets such as satellite imagery and terrain models with formats (e.g., GeoTIFF; *.tiff) and provides a Python API based on Numpy N-dimensional arrays and GeoJSON. \n",
    "\n",
    "<a href=https://numpy.org/>`numpy` </a> provides numerous functionalities for scientific purposes. Among them, we utilize this package to calculate grid datasets once they were imported with rasterio, given that grid dataset has rows and columns to represent geographical phenomena.\n",
    "\n",
    "<a href=http://xarray.pydata.org/en/stable/>`xarray` </a> is a powerful and flexible package for handling multi-dimensional labeled datasets. It extends pandas-like data manipulation to N-dimensional arrays, making it particularly suitable for analyzing and visualizing complex gridded data, such as climate data, satellite imagery, and other forms of raster data. With support for labeled dimensions and coordinates, xarray facilitates operations on data arrays and datasets, providing advanced capabilities for slicing, arithmetic, and aggregation.\n",
    "\n",
    "This inclusion explains how xarray is leveraged for advanced data manipulation and analysis in the context of raster datasets, complementing the functionalities provided by rasterio and numpy.\n",
    "\n",
    "\n",
    "### Dataset\n",
    "In this lecture, we use Landsat 8 imagery, which was downloaded from <a href=https://earthexplorer.usgs.gov/>Earth Explorer</a>. The instructor acquired two major datasets, which were taken on ***June 22, 2021 (representing summer)*** and ***January 16, 2022 (representing winter)***. Given the size of the original dataset (~1GB), two datasets were clipped with the boundary of Champaign County and we only use ***4 bands (i.e., Near-infrared (NIR), Red, Green, and Blue)*** out of 11 bands of Landsat 8, which are below.\n",
    "\n",
    "<h3><center>Landsat-8 Operational Land Imager & Thermal Infrared Sensor</center></h3>\n",
    "\n",
    "| Band Number |\tDescription | Wavelength |\tResolution |\n",
    "| :-: | :-: | :-: | :-: |\n",
    "|Band 1\t|Coastal / Aerosol |\t0.433 to 0.453 µm |\t30 meter |\n",
    "| **Band 2**\t| **Visible blue** |\t**0.450 to 0.515 µm** |\t**30 meter**|\n",
    "|**Band 3**\t|**Visible green** |\t**0.525 to 0.600 µm** |\t**30 meter**|\n",
    "|**Band 4**\t|**Visible red** |\t**0.630 to 0.680 µm** |\t**30 meter** |\n",
    "|**Band 5**\t|**Near-infrared** |\t**0.845 to 0.885 µm** |\t**30 meter** |\n",
    "|Band 6\t|Short wavelength infrared |\t1.56 to 1.66 µm |\t30 meter |\n",
    "|Band 7\t|Short wavelength infrared |\t2.10 to 2.30 µm |\t60 meter |\n",
    "|Band 8\t|Panchromatic |\t0.50 to 0.68 µm |\t15 meter |\n",
    "|Band 9\t|Cirrus |\t1.36 to 1.39 µm |\t30 meter |\n",
    "|Band 10 | Long wavelength infrared |\t10.3 to 11.3 µm\t| 100 meter |\n",
    "|Band 11 |\tLong wavelength infrared |\t11.5 to 12.5 µm\t |100 meter |\n",
    "\n",
    "### Tasks\n",
    "1. Examine a single band of Landsat 8 imagery\n",
    "2. Comebine three bands (RGB) to represent TRUE color of the sattelite imagery\n",
    "3. Comebine three bands (NIR, R, G) to represent FALSE color of the sattelite imagery\n",
    "4. Calculate Normalized Difference Vegetation Index (NDVI) with NIR band and R band.\n",
    "5. Classify regions with the NDVI."
   ]
  },
  {
   "cell_type": "code",
   "execution_count": null,
   "id": "ff47ecd1",
   "metadata": {},
   "outputs": [],
   "source": [
    "# Import necessary packages\n",
    "import rasterio as rio\n",
    "import numpy as np\n",
    "import os\n",
    "import matplotlib.pyplot as plt"
   ]
  },
  {
   "cell_type": "code",
   "execution_count": null,
   "id": "afdfd157",
   "metadata": {},
   "outputs": [],
   "source": [
    "# Define relative paths for dataset\n",
    "summer_path = './data/landsat8_summer' # Stores Landsat 8 imagery was taken June 22, 2021\n",
    "winter_path = './data/landsat8_winter' # Stores Landsat 8 imagery was taken January 16, 2022"
   ]
  },
  {
   "cell_type": "markdown",
   "id": "fc703735",
   "metadata": {},
   "source": [
    "## 1. Import Raster Dataset with `rasterio`\n",
    "\n",
    "Here, we are importing the Blue band of Landsat 8 summer imagery (LC08_L1TP_023032_20210622_20210629_02_T1_B2.TIF), to see how the raster data is imported and presented in Python. \n",
    "\n",
    "One more thing, `os` module is an embedded module in Python, and it provides a portable way of using operating system dependent functionality. For example, we can easily set the file path and call it later with `os.path.join` function. "
   ]
  },
  {
   "cell_type": "code",
   "execution_count": null,
   "id": "aea7b4e9",
   "metadata": {},
   "outputs": [],
   "source": [
    "print(f'Summer Data path: {summer_path}')\n",
    "\n",
    "# You can append the path to the stirng (summer_path) with os.path.join method\n",
    "file_path = os.path.join(summer_path, f'LC08_L1TP_023032_20210622_20210629_02_T1_B2_Project_Clip.TIF')\n",
    "print(f'Joined Path: {file_path}')"
   ]
  },
  {
   "cell_type": "code",
   "execution_count": null,
   "id": "378ae8cd",
   "metadata": {},
   "outputs": [],
   "source": [
    "# Open a dataset for reading or writing with rasterio(rio).\n",
    "# Default permission mode is read(r)\n",
    "b_band_data = rio.open(file_path) \n",
    "print(type(b_band_data))\n",
    "b_band_data"
   ]
  },
  {
   "cell_type": "code",
   "execution_count": null,
   "id": "83ce020b",
   "metadata": {},
   "outputs": [],
   "source": [
    "# You need to use method, read(), to read a dataset’s raw pixels as an numpy N-d array\n",
    "b_band = b_band_data.read(1)\n",
    "print(type(b_band)) # Its type is NumPy ndarray (N-dimensional array)\n",
    "print(b_band.shape) # (M, N): M Rows and N Columns\n",
    "b_band"
   ]
  },
  {
   "cell_type": "markdown",
   "id": "4bb9a5ab",
   "metadata": {},
   "source": [
    "Let's display a single band with plt.imshow() method. "
   ]
  },
  {
   "cell_type": "code",
   "execution_count": null,
   "id": "ce5787f1",
   "metadata": {},
   "outputs": [],
   "source": [
    "plt.figure(figsize = (7,7))  # Set the size of figure\n",
    "plt.imshow(b_band, cmap='Greys_r')  # Display data as an image\n",
    "plt.colorbar() # Create legend \n",
    "plt.show() # Display the map and legend"
   ]
  },
  {
   "cell_type": "code",
   "execution_count": null,
   "id": "1c618feb",
   "metadata": {},
   "outputs": [],
   "source": [
    "# You want to use imshow() method to display an image. The below is to describe an accident if you use plot() method. \n",
    "plt.plot(b_band)\n",
    "plt.show()"
   ]
  },
  {
   "cell_type": "code",
   "execution_count": null,
   "id": "a435c940",
   "metadata": {},
   "outputs": [],
   "source": [
    "# Check the histogram of the imported image\n",
    "plt.hist(b_band.flatten(), bins=50)\n",
    "plt.show()"
   ]
  },
  {
   "cell_type": "markdown",
   "id": "bfa20d45",
   "metadata": {},
   "source": [
    "---\n",
    "### *Exercise*\n",
    "1. Import Blue band of Winter Landsat 8 imagery (filename: `LC08_L1TP_023032_20220116_20220123_02_T1_B2.TIF`) which located in `landsat8_winter` folder, and save it as `b_band_winter`.\n",
    "2. Display the imported image with `plt.imshow()` method. (**Note**: `plt` is `matplotlib` package. We will cover this next week)\n",
    "---"
   ]
  },
  {
   "cell_type": "code",
   "execution_count": null,
   "id": "d9aff14b",
   "metadata": {},
   "outputs": [],
   "source": [
    "# Your code here\n",
    "## Step 1\n",
    "\n",
    "## Step 2\n"
   ]
  },
  {
   "cell_type": "markdown",
   "id": "f2643af5",
   "metadata": {},
   "source": [
    "## 2. Creating a color image\n",
    "\n",
    "In the previous example, we rely on a band, so that it cannot be a color image. To display a color image here, we are importing four bands (i.e., Near-infrared (NIR), Red, Green, and Blue), and storing them into ONE NumPy array.\n",
    "\n",
    "* Blue band: LC08_L1TP_023032_20210622_20210629_02_T1_B2.TIF\n",
    "* Green band: LC08_L1TP_023032_20210622_20210629_02_T1_B3.TIF\n",
    "* Red band: LC08_L1TP_023032_20210622_20210629_02_T1_B4.TIF\n",
    "* NIR band: LC08_L1TP_023032_20210622_20210629_02_T1_B5.TIF"
   ]
  },
  {
   "cell_type": "markdown",
   "id": "17cf0629",
   "metadata": {},
   "source": [
    "![](https://xarray.dev/xarray-datastructure.png)"
   ]
  },
  {
   "cell_type": "code",
   "execution_count": null,
   "id": "aa885ddb",
   "metadata": {},
   "outputs": [],
   "source": [
    "# Import packages\n",
    "import xarray as xr\n",
    "import rioxarray as rioxr # rasterio extension for xarray"
   ]
  },
  {
   "cell_type": "code",
   "execution_count": null,
   "id": "5fd76bee",
   "metadata": {},
   "outputs": [],
   "source": [
    "# Stack bands into an xarray dataset\n",
    "def stack_bands(bands, path):\n",
    "    arrays = []\n",
    "\n",
    "    # Iterate through the bands\n",
    "    for band_num in bands.keys():\n",
    "        band_path = os.path.join(path, f'LC08_L1TP_023032_20210622_20210629_02_T1_B{band_num}.TIF') # Path to the image file\n",
    "        arr = rioxr.open_rasterio(band_path) # Open the band with rioxarray\n",
    "        arrays.append(arr) # Append the array to the list\n",
    "        print(f'Band {band_num} shape: {arr.shape}')\n",
    "\n",
    "    # Concatenate arrays and assign band labels\n",
    "    stacked = xr.concat(arrays, dim='band')\n",
    "    stacked = stacked.assign_coords(band=('band', \n",
    "                                          list(bands_dict.values()) # Assign band labels \n",
    "                                          )\n",
    "                                    )  \n",
    "    \n",
    "    return stacked\n",
    "\n",
    "# Define bands and their labels\n",
    "bands_dict = {2: 'Blue', 3: 'Green', 4: 'Red', 5: 'NIR'}  # Band labels\n",
    "summer_path = './data/landsat8_summer'  # Example path\n",
    "arr_summer = stack_bands(bands_dict, summer_path)\n",
    "\n",
    "arr_summer"
   ]
  },
  {
   "cell_type": "code",
   "execution_count": null,
   "id": "3f1e1781",
   "metadata": {},
   "outputs": [],
   "source": [
    "type(arr_summer)"
   ]
  },
  {
   "cell_type": "code",
   "execution_count": null,
   "id": "cf7828f3",
   "metadata": {},
   "outputs": [],
   "source": [
    "arr_summer.rio.crs"
   ]
  },
  {
   "cell_type": "code",
   "execution_count": null,
   "id": "cba3c9cf",
   "metadata": {},
   "outputs": [],
   "source": [
    "arr_summer.shape"
   ]
  },
  {
   "cell_type": "code",
   "execution_count": null,
   "id": "77d2ea75",
   "metadata": {},
   "outputs": [],
   "source": [
    "arr_summer.dtype"
   ]
  },
  {
   "cell_type": "code",
   "execution_count": null,
   "id": "858a7d2a",
   "metadata": {},
   "outputs": [],
   "source": [
    "# Selecting a specific band\n",
    "arr_summer.sel(band='Red')"
   ]
  },
  {
   "cell_type": "code",
   "execution_count": null,
   "id": "b2ea7b19",
   "metadata": {},
   "outputs": [],
   "source": [
    "# Selecting multiple bands\n",
    "arr_summer.sel(band=['Red', 'Green', 'Blue'])"
   ]
  },
  {
   "cell_type": "code",
   "execution_count": null,
   "id": "b55839f5",
   "metadata": {},
   "outputs": [],
   "source": [
    "# Plot image without setting value limits\n",
    "arr_summer.sel(band=['Red', 'Green', 'Blue']).plot.imshow(figsize=(7, 7))"
   ]
  },
  {
   "cell_type": "code",
   "execution_count": null,
   "id": "a5ab5023",
   "metadata": {},
   "outputs": [],
   "source": [
    "# Plot image with value limits (robust=True)\n",
    "# This will automatically set the limits based on the data range\n",
    "arr_summer.sel(band=['Red', 'Green', 'Blue']).plot.imshow(robust=True, figsize=(7, 7))"
   ]
  },
  {
   "cell_type": "code",
   "execution_count": null,
   "id": "0a204cd2",
   "metadata": {},
   "outputs": [],
   "source": [
    "# Plot a single band (Blue)\n",
    "arr_summer.sel(band='Blue').plot.imshow(cmap='Greys_r', figsize=(7, 7))"
   ]
  },
  {
   "cell_type": "code",
   "execution_count": null,
   "id": "8727c1ff",
   "metadata": {},
   "outputs": [],
   "source": [
    "# Check the histogram of the imported image\n",
    "plt.hist(arr_summer.sel(band='Blue').values.flatten(), bins=50)\n",
    "plt.show()"
   ]
  },
  {
   "cell_type": "code",
   "execution_count": null,
   "id": "0a902ab4",
   "metadata": {},
   "outputs": [],
   "source": [
    "# Plot a single band (Blue) with robust scaling\n",
    "# This will automatically set the limits based on the data range\n",
    "arr_summer.sel(band='Blue').plot.imshow(robust=True, cmap='Greys_r', figsize=(7, 7))"
   ]
  },
  {
   "cell_type": "markdown",
   "id": "4c578c00",
   "metadata": {},
   "source": [
    "---\n",
    "### *Exercise*\n",
    "1. Investigate the following code for `arr_summer`. Import FOUR BANDS of Winter Landsat 8 imagery (filename: `LC08_L1TP_023032_20220116_20220123_02_T1_B{band_num}.TIF`) which located in `landsat8_winter` folder, and save it as `arr_winter`.\n",
    "\n",
    "```python\n",
    "    # Stack bands into an xarray dataset\n",
    "        def stack_bands(bands, path):\n",
    "            arrays = []\n",
    "\n",
    "            # Iterate through the bands\n",
    "            for band_num in bands.keys():\n",
    "                band_path = os.path.join(path, f'LC08_L1TP_023032_20210622_20210629_02_T1_B{band_num}.TIF') # Path to the image file\n",
    "                arr = rioxr.open_rasterio(band_path) # Open the band with rioxarray\n",
    "                arrays.append(arr) # Append the array to the list\n",
    "                print(f'Band {band_num} shape: {arr.shape}')\n",
    "\n",
    "            # Concatenate arrays and assign band labels\n",
    "            stacked = xr.concat(arrays, dim='band')\n",
    "            stacked = stacked.assign_coords(band=('band', \n",
    "                                                list(bands_dict.values()) # Assign band labels \n",
    "                                                )\n",
    "                                            )  \n",
    "            \n",
    "            return stacked\n",
    "\n",
    "        # Define bands and their labels\n",
    "        bands_dict = {2: 'Blue', 3: 'Green', 4: 'Red', 5: 'NIR'}  # Band labels\n",
    "        summer_path = './data/landsat8_summer'  # Example path\n",
    "        arr_summer = stack_bands(bands_dict, summer_path)\n",
    "\n",
    "        arr_summer\n",
    "```\n",
    "---"
   ]
  },
  {
   "cell_type": "code",
   "execution_count": null,
   "id": "0c1d0291",
   "metadata": {},
   "outputs": [],
   "source": [
    "# Your code here (MODIFY THE CODE BELOW)\n",
    "\n",
    "# Stack bands into an xarray dataset\n",
    "def stack_bands(bands, path):\n",
    "    arrays = []\n",
    "\n",
    "    # Iterate through the bands\n",
    "    for band_num in bands.keys():\n",
    "        band_path = os.path.join(path, f'LC08_L1TP_023032_20210622_20210629_02_T1_B{band_num}.TIF') # Path to the image file\n",
    "        arr = rioxr.open_rasterio(band_path) # Open the band with rioxarray\n",
    "        arrays.append(arr) # Append the array to the list\n",
    "        print(f'Band {band_num} shape: {arr.shape}')\n",
    "\n",
    "    # Concatenate arrays and assign band labels\n",
    "    stacked = xr.concat(arrays, dim='band')\n",
    "    stacked = stacked.assign_coords(band=('band', \n",
    "                                        list(bands_dict.values()) # Assign band labels \n",
    "                                        )\n",
    "                                    )  \n",
    "    \n",
    "    return stacked\n",
    "\n",
    "# Define bands and their labels\n",
    "bands_dict = {2: 'Blue', 3: 'Green', 4: 'Red', 5: 'NIR'}  # Band labels\n",
    "summer_path = './data/landsat8_summer'  # Example path\n",
    "arr_summer = stack_bands(bands_dict, summer_path)\n",
    "\n",
    "arr_summer"
   ]
  },
  {
   "cell_type": "markdown",
   "id": "eaaabadb",
   "metadata": {},
   "source": [
    "Given that we have more than three bands (we have four bands in `arr_summer`), we now can assign them to RGB, respectively. In the domain of Remote Sensing, there are two well-known appraoches to display the color image. \n",
    "\n",
    "<h3><center> True and False Color representation of Satellite image </center></h3>\n",
    "\n",
    "| Method | Red Color | Green Color | Blue Color | Purpose |\n",
    "| :-: | :-: | :-: | :-: | :-: |\n",
    "| True Color | Red Band | Green Band | Blue Band | True color image |\n",
    "| False Color | NIR Band | Red Band | Green Band | Monitoring Vegitation |\n",
    "\n",
    "![True and False Color representation of Satellite image](./data/True_False_Color.png)\n",
    "\n",
    "Source: Garrard, Chris. (2016). *Geoprocessing with Python*. Manning. p.176"
   ]
  },
  {
   "cell_type": "code",
   "execution_count": null,
   "id": "7ed6bb8d",
   "metadata": {},
   "outputs": [],
   "source": [
    "# Plot multiple bands (NIR, Red, Green) with robust scaling\n",
    "# This is to visualize the RGB composite with NIR, Red, and Green bands (False color composite)\n",
    "arr_summer.sel(band=['NIR', 'Red', 'Green']).plot.imshow(robust=True, figsize=(7, 7))"
   ]
  },
  {
   "cell_type": "markdown",
   "id": "e12b1e13",
   "metadata": {},
   "source": [
    "---\n",
    "### *Exercise*\n",
    "1. Display TRUE color of the winter imagery with `xarray.plot.imshow()` method. You need to select 'Red', 'Green', and 'Blue' bands from `arr_winter`.\n",
    "2. Display FALSE color of the winter imagery with `xarray.plot.imshow()` method. You need to select 'NIR', 'Red', and 'Green' bands from `arr_winter`.\n",
    "---"
   ]
  },
  {
   "cell_type": "code",
   "execution_count": null,
   "id": "de4f611c",
   "metadata": {},
   "outputs": [],
   "source": [
    "# Your code here for task 1\n"
   ]
  },
  {
   "cell_type": "code",
   "execution_count": null,
   "id": "e0e22cae",
   "metadata": {},
   "outputs": [],
   "source": [
    "# Your code here for task 2\n"
   ]
  },
  {
   "cell_type": "markdown",
   "id": "45de3e9d",
   "metadata": {},
   "source": [
    "## 3. Map Algebra for NDVI\n",
    "\n",
    "Sometimes, it is challenging to quantify the temporal changes of vegetation with bare eyes. To overcome the issue, we often utilize NDVI (Normalized Difference Vegetation Index). The index quantifies vegetation by measuring the difference between near-infrared (which vegetation strongly reflects) and red light (which vegetation absorbs).\n",
    "\n",
    "\\begin{gather*}\n",
    "NDVI = \\frac{NIR - RED}{NIR + RED}\n",
    "\\end{gather*}"
   ]
  },
  {
   "cell_type": "markdown",
   "id": "72fe637c",
   "metadata": {},
   "source": [
    "First of all, you need to match the min and max values of the bands, which is called *normalization*. The values of the bands are between 0 and 1. "
   ]
  },
  {
   "cell_type": "code",
   "execution_count": null,
   "id": "fd9b1e28",
   "metadata": {},
   "outputs": [],
   "source": [
    "def normalize_xarray(data_array):\n",
    "    \"\"\"\n",
    "    Normalize the values in an xarray DataArray to the range [0, 1].\n",
    "\n",
    "    Parameters:\n",
    "    - data_array: xarray.DataArray to be normalized.\n",
    "\n",
    "    Returns:\n",
    "    - xarray.DataArray with normalized values.\n",
    "    \"\"\"\n",
    "    min_val = data_array.min()\n",
    "    max_val = data_array.max()\n",
    "    \n",
    "    # Normalize the DataArray\n",
    "    normalized = (data_array - min_val) / (max_val - min_val)\n",
    "    \n",
    "    return normalized\n"
   ]
  },
  {
   "cell_type": "code",
   "execution_count": null,
   "id": "5a4b55a2",
   "metadata": {},
   "outputs": [],
   "source": [
    "arr_summer_nir = normalize_xarray(arr_summer.sel(band='NIR'))\n",
    "arr_summer_nir"
   ]
  },
  {
   "cell_type": "code",
   "execution_count": null,
   "id": "842e6dbd",
   "metadata": {},
   "outputs": [],
   "source": [
    "arr_summer_red = normalize_xarray(arr_summer.sel(band='Red'))\n",
    "arr_summer_red"
   ]
  },
  {
   "cell_type": "code",
   "execution_count": null,
   "id": "63359348",
   "metadata": {},
   "outputs": [],
   "source": [
    "# Plot the normalized NIR and Red bands\n",
    "fig, ax = plt.subplots(1, 2, figsize=(10, 5))\n",
    "\n",
    "arr_summer_nir.plot.hist(bins=50, ax=ax[0], label='NIR')\n",
    "arr_summer_red.plot.hist(bins=50, ax=ax[1], label='Red')\n",
    "\n",
    "fig.tight_layout()\n",
    "plt.show()"
   ]
  },
  {
   "cell_type": "code",
   "execution_count": null,
   "id": "bef93829",
   "metadata": {},
   "outputs": [],
   "source": [
    "# Calculate NDVI\n",
    "# NDVI = (NIR - Red) / (NIR + Red)\n",
    "arr_summer_ndvi = (arr_summer_nir - arr_summer_red) / (arr_summer_nir + arr_summer_red)\n",
    "arr_summer_ndvi"
   ]
  },
  {
   "cell_type": "code",
   "execution_count": null,
   "id": "b826a786",
   "metadata": {},
   "outputs": [],
   "source": [
    "# Remove NaN values\n",
    "arr_summer_ndvi = arr_summer_ndvi.fillna(0)  # Fill NaN values with 0\n",
    "arr_summer_ndvi "
   ]
  },
  {
   "cell_type": "code",
   "execution_count": null,
   "id": "b687fe03",
   "metadata": {},
   "outputs": [],
   "source": [
    "# Visualize NDVI\n",
    "arr_summer_ndvi.plot.imshow(cmap='Greens', vmin=0, vmax=1, figsize=(7, 7))"
   ]
  },
  {
   "cell_type": "markdown",
   "id": "6ba69035",
   "metadata": {},
   "source": [
    "---\n",
    "### *Exercise*\n",
    "1. Create two xarray (`arr_winter_red` and `arr_winter_nir`) by slicing `arr_winter` with the bands of Red and NIR, respectively. \n",
    "2. Normalize the values of `arr_winter_red` and `arr_winter_nir` by using `normalize_xarray` function defined in the cell below.\n",
    "\n",
    "```python\n",
    "    def normalize_xarray(data_array):\n",
    "        min_val = data_array.min()\n",
    "        max_val = data_array.max()\n",
    "        \n",
    "        # Normalize the DataArray\n",
    "        normalized = (data_array - min_val) / (max_val - min_val)\n",
    "        \n",
    "        return normalized\n",
    "```\n",
    "\n",
    "3. Calculate NDVI with the normalized bands, save it as `arr_winter_ndvi`, and replace NaN value with 0.\n",
    "4. Display the NDVI with `xarray.plot.imshow()` method.\n",
    "---"
   ]
  },
  {
   "cell_type": "code",
   "execution_count": null,
   "id": "7c45ebac",
   "metadata": {},
   "outputs": [],
   "source": [
    "# Your code here\n",
    "\n",
    "# Slice the winter data to get the Red and NIR bands\n",
    "\n",
    "# Normalize the Red and NIR bands\n",
    "\n",
    "# Calculate NDVI\n",
    "\n",
    "# Visualize NDVI\n",
    "\n"
   ]
  },
  {
   "cell_type": "markdown",
   "id": "7d34850f",
   "metadata": {},
   "source": [
    "## 4. Classify Raster Image based on the NDVI\n",
    "\n",
    "Given that NDVI is an index (ranged -1 ~ +1), it helps us to determine the degree of vegetation of each cell. Here, we use NDVI to classify the image and check the area covered by vegetation. \n",
    "\n",
    "| NDVI Range | Meaning |\n",
    "| :-: | :-: |\n",
    "| ~ 0.1 | Barren rock, sand, or snow |\n",
    "| 0.2 ~ 0.5 | Sparse vegetation (e.g., shrub, grassland) |\n",
    "| 0.6 ~ | Dense vegetation (e.g., forest) |\n",
    "\n",
    "Source: https://www.usgs.gov/special-topics/remote-sensing-phenology/science/ndvi-foundation-remote-sensing-phenology\n",
    "\n",
    "\n",
    "With <a href=https://numpy.org/doc/stable/reference/generated/numpy.digitize.html>`np.digitize()`</a> function, we can classify the image with a given range (e.g., `bins` below)"
   ]
  },
  {
   "cell_type": "code",
   "execution_count": null,
   "id": "31be601d",
   "metadata": {},
   "outputs": [],
   "source": [
    "# Define classification bounds\n",
    "bounds = np.array([-1, 0.15, 0.5, 1])\n",
    "\n",
    "# Reclassify NDVI using np.digitize within xarray\n",
    "ndvi_class_summer = xr.apply_ufunc(\n",
    "    np.digitize,\n",
    "    arr_summer_ndvi,\n",
    "    kwargs={'bins': bounds}\n",
    ")\n",
    "\n",
    "ndvi_class_summer"
   ]
  },
  {
   "cell_type": "code",
   "execution_count": null,
   "id": "931bd1c1",
   "metadata": {},
   "outputs": [],
   "source": [
    "# Check the unique classes\n",
    "print(f'Classes in the NDVI image: {np.unique(ndvi_class_summer)}')"
   ]
  },
  {
   "cell_type": "markdown",
   "id": "133091d8",
   "metadata": {},
   "source": [
    "If we rely on `np.digitize()` function, we need to convert `xarray` to `numpy` array. The `np.digitize()` function is used to classify the NDVI values into discrete bins. \n"
   ]
  },
  {
   "cell_type": "code",
   "execution_count": null,
   "id": "e1e5f4d8",
   "metadata": {},
   "outputs": [],
   "source": [
    "arr_summer_ndvi_np = arr_summer_ndvi.to_numpy()\n",
    "arr_summer_ndvi_np"
   ]
  },
  {
   "cell_type": "code",
   "execution_count": null,
   "id": "06971ef5",
   "metadata": {},
   "outputs": [],
   "source": [
    "np.digitize(arr_summer_ndvi_np, bounds)"
   ]
  },
  {
   "cell_type": "markdown",
   "id": "482ff557",
   "metadata": {},
   "source": [
    "If you plot the result of `np.digitize()` directly, it doesn't mean anything. `np.digitize()` returns the index of the range that the value falls into. "
   ]
  },
  {
   "cell_type": "code",
   "execution_count": null,
   "id": "aa89e976",
   "metadata": {},
   "outputs": [],
   "source": [
    "ndvi_class_summer.plot.imshow(cmap='Greens', figsize=(7, 7))"
   ]
  },
  {
   "cell_type": "markdown",
   "id": "42b56e41",
   "metadata": {},
   "source": [
    "You can specify colors per class with `matplotlib.colors.ListedColormap`. "
   ]
  },
  {
   "cell_type": "code",
   "execution_count": null,
   "id": "1b55a403",
   "metadata": {},
   "outputs": [],
   "source": [
    "from matplotlib.colors import ListedColormap\n",
    "from matplotlib.patches import Patch\n",
    "\n",
    "ndvi_colors = [\"grey\", \"yellow\", \"green\"]\n",
    "ndvi_cmap = ListedColormap(ndvi_colors)\n",
    "\n",
    "# Define class names\n",
    "ndvi_names = [\n",
    "    \"Low Vegetation\",\n",
    "    \"Moderate Vegetation\",\n",
    "    \"High Vegetation\",\n",
    "]\n",
    "\n",
    "fig, ax = plt.subplots(figsize=(7, 7))\n",
    "ax.imshow(ndvi_class_summer, cmap=ndvi_cmap)\n",
    "\n",
    "# Create custom legend\n",
    "legend_patches = [Patch(color=ndvi_colors[i], label=ndvi_names[i]) for i in range(len(ndvi_names))]\n",
    "ax.legend(handles=legend_patches, loc='upper right', title='NDVI Classes')\n",
    "\n",
    "plt.show()"
   ]
  },
  {
   "cell_type": "markdown",
   "id": "0d8f112d",
   "metadata": {},
   "source": [
    "Let's calculate the area covered by vegetation and its percentage, for both summer and winter."
   ]
  },
  {
   "cell_type": "markdown",
   "id": "c2c82ba3",
   "metadata": {},
   "source": [
    "Reclassify NDVI result for the Winter"
   ]
  },
  {
   "cell_type": "code",
   "execution_count": null,
   "id": "b9ad75e1",
   "metadata": {},
   "outputs": [],
   "source": [
    "# Define classification bounds\n",
    "bounds = np.array([-1, 0.15, 0.5, 1])\n",
    "\n",
    "# Reclassify NDVI using np.digitize within xarray\n",
    "ndvi_class_winter = xr.apply_ufunc(\n",
    "    np.digitize,\n",
    "    arr_winter_ndvi,\n",
    "    kwargs={'bins': bounds}\n",
    ")\n",
    "ndvi_class_winter\n"
   ]
  },
  {
   "cell_type": "markdown",
   "id": "1b2d787f",
   "metadata": {},
   "source": [
    "Plot NDVI results for both summer and winter"
   ]
  },
  {
   "cell_type": "code",
   "execution_count": null,
   "id": "da36921b",
   "metadata": {},
   "outputs": [],
   "source": [
    "fig, axes = plt.subplots(1, 2, figsize=(10, 7))\n",
    "\n",
    "ndvi_colors_winter = [\"grey\", \"yellow\"]\n",
    "ndvi_cmap_winter = ListedColormap(ndvi_colors_winter)\n",
    "\n",
    "axes[0].imshow(ndvi_class_summer, cmap=ndvi_cmap)\n",
    "axes[1].imshow(ndvi_class_winter, cmap=ndvi_cmap_winter)\n",
    "\n",
    "# # Create custom legend\n",
    "legend_patches = [Patch(color=ndvi_colors[i], label=ndvi_names[i]) for i in range(len(ndvi_names))]\n",
    "axes[0].legend(handles=legend_patches, loc='upper right', title='NDVI Classes')\n",
    "axes[1].legend(handles=legend_patches, loc='upper right', title='NDVI Classes')\n",
    "\n",
    "plt.show()"
   ]
  },
  {
   "cell_type": "markdown",
   "id": "f208ebf6",
   "metadata": {},
   "source": [
    "`xr.where()` function is used to create a new xarray DataArray based on a condition. It returns an array of the same shape as the input, where each element is replaced by the corresponding value from the specified array if the condition is met, or by NaN otherwise.\n",
    "\n",
    "```python\n",
    "    xr.where(`condition`, \n",
    "             `true return value`, \n",
    "             `other`)\n",
    "             "
   ]
  },
  {
   "cell_type": "code",
   "execution_count": null,
   "id": "65e8d74f",
   "metadata": {},
   "outputs": [],
   "source": [
    "# Unique classes in the summer NDVI image\n",
    "np.unique(ndvi_class_summer)"
   ]
  },
  {
   "cell_type": "code",
   "execution_count": null,
   "id": "698f2ef1",
   "metadata": {},
   "outputs": [],
   "source": [
    "# Comparision\n",
    "ndvi_class_summer > 1"
   ]
  },
  {
   "cell_type": "code",
   "execution_count": null,
   "id": "db1e825e",
   "metadata": {},
   "outputs": [],
   "source": [
    "# Create a mask for NDVI values greater than 1\n",
    "vegi_summer = xr.where(ndvi_class_summer > 1, # Condition\n",
    "                       1, # Value if True\n",
    "                       0  # Value if False\n",
    "                       )\n",
    "\n",
    "vegi_summer"
   ]
  },
  {
   "cell_type": "code",
   "execution_count": null,
   "id": "93393bda",
   "metadata": {},
   "outputs": [],
   "source": [
    "vegi_summer.plot.imshow(cmap='Greens', figsize=(7, 7))"
   ]
  },
  {
   "cell_type": "markdown",
   "id": "6d71a535",
   "metadata": {},
   "source": [
    "Let's calculate the area covered by vegetation and its percentage, for both summer and winter."
   ]
  },
  {
   "cell_type": "code",
   "execution_count": null,
   "id": "b99fc6f0",
   "metadata": {},
   "outputs": [],
   "source": [
    "# Number of vegetation pixels in the summer image\n",
    "# .sum() method only counts the True values, therefore, we can check how many cells satisfy the criteria above.\n",
    "vegi_summer.sum()"
   ]
  },
  {
   "cell_type": "code",
   "execution_count": null,
   "id": "dc963efd",
   "metadata": {},
   "outputs": [],
   "source": [
    "# By multiplying rows and columns, we can get the total number of grids. \n",
    "total_grid = vegi_summer.shape[0] * vegi_summer.shape[1] # Total number of pixels in the image\n",
    "total_grid"
   ]
  },
  {
   "cell_type": "code",
   "execution_count": null,
   "id": "8d75aa85",
   "metadata": {},
   "outputs": [],
   "source": [
    "int(vegi_summer.sum())"
   ]
  },
  {
   "cell_type": "code",
   "execution_count": null,
   "id": "53e7ebb8",
   "metadata": {},
   "outputs": [],
   "source": [
    "print(f\"The number of cells covered by vegetation: {int(vegi_summer.sum())}\")\n",
    "print(f\"The percentage covered by vegetation: {round(int(vegi_summer.sum())/total_grid, 2)}%\")"
   ]
  },
  {
   "cell_type": "markdown",
   "id": "e674d94c",
   "metadata": {},
   "source": [
    "You can also find the cell size of the raster image with `xarray.rio.resolution()`. The cell size is 30m x 30m, so that we can calculate the area of each class."
   ]
  },
  {
   "cell_type": "code",
   "execution_count": null,
   "id": "7e6ffd02",
   "metadata": {},
   "outputs": [],
   "source": [
    "vegi_summer.rio.resolution()"
   ]
  },
  {
   "cell_type": "code",
   "execution_count": null,
   "id": "13d61cb6",
   "metadata": {},
   "outputs": [],
   "source": [
    "cell_size = abs(vegi_summer.rio.resolution()[0])\n",
    "cell_size"
   ]
  },
  {
   "cell_type": "code",
   "execution_count": null,
   "id": "a3fc8802",
   "metadata": {},
   "outputs": [],
   "source": [
    "# You can also take advantage of this appraoch to calculate the area covered by vegetation\n",
    "(int(vegi_summer.sum() * cell_size**2) / (1000 * 1000)) # Unit is km2"
   ]
  },
  {
   "cell_type": "markdown",
   "id": "fa7a2f96",
   "metadata": {},
   "source": [
    "## 5. Export Raster"
   ]
  },
  {
   "cell_type": "code",
   "execution_count": null,
   "id": "f24a2e71",
   "metadata": {},
   "outputs": [],
   "source": [
    "# Current data type is int64\n",
    "ndvi_class_summer.dtype"
   ]
  },
  {
   "cell_type": "code",
   "execution_count": null,
   "id": "41cc3ac9",
   "metadata": {},
   "outputs": [],
   "source": [
    "# Convert the data type to uint8\n",
    "ndvi_class_summer = ndvi_class_summer.astype(\"uint8\")\n",
    "ndvi_class_summer"
   ]
  },
  {
   "cell_type": "code",
   "execution_count": null,
   "id": "88e9dac9",
   "metadata": {},
   "outputs": [],
   "source": [
    "# Export to GeoTIFF\n",
    "ndvi_class_summer.rio.to_raster(\"./data/ndvi_summer.tif\")"
   ]
  },
  {
   "cell_type": "markdown",
   "id": "6cab7299",
   "metadata": {},
   "source": [
    "# Done"
   ]
  }
 ],
 "metadata": {
  "kernelspec": {
   "display_name": "GIS_Project",
   "language": "python",
   "name": "python3"
  },
  "language_info": {
   "codemirror_mode": {
    "name": "ipython",
    "version": 3
   },
   "file_extension": ".py",
   "mimetype": "text/x-python",
   "name": "python",
   "nbconvert_exporter": "python",
   "pygments_lexer": "ipython3",
   "version": "3.13.1"
  }
 },
 "nbformat": 4,
 "nbformat_minor": 5
}
